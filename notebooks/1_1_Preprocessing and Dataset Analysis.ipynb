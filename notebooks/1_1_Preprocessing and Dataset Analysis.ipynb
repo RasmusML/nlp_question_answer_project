{
 "cells": [
  {
   "cell_type": "code",
   "execution_count": 1,
   "id": "f6031dd8",
   "metadata": {
    "colab": {
     "base_uri": "https://localhost:8080/"
    },
    "id": "f6031dd8",
    "outputId": "55bb0ad8-65c6-49f5-dbf1-33ebe53ec6bd"
   },
   "outputs": [],
   "source": [
    "import sys\n",
    "sys.path.append(\"..\")\n",
    "\n",
    "is_in_colab = 'google.colab' in sys.modules\n",
    "\n",
    "if is_in_colab:\n",
    "  from google.colab import drive\n",
    "  drive.mount('/content/drive')\n",
    "  sys.path.insert(0,'/content/drive/MyDrive/nlp_question_answer_project')\n",
    "\n",
    "  %cd /content/drive/MyDrive/nlp_question_answer_project/notebooks"
   ]
  },
  {
   "cell_type": "code",
   "execution_count": 2,
   "id": "KW4oy4wnBksK",
   "metadata": {
    "colab": {
     "base_uri": "https://localhost:8080/"
    },
    "id": "KW4oy4wnBksK",
    "outputId": "b2e79556-870d-4afb-beb9-0c51f9f1656a"
   },
   "outputs": [],
   "source": [
    "%%capture\n",
    "!pip install -r ../requirements.txt"
   ]
  },
  {
   "cell_type": "markdown",
   "id": "5471612f",
   "metadata": {
    "id": "5471612f"
   },
   "source": [
    "# 1.1 Preprocessing and Dataset Analysis"
   ]
  },
  {
   "cell_type": "markdown",
   "id": "111793c5",
   "metadata": {
    "id": "111793c5"
   },
   "source": [
    "All the package imports."
   ]
  },
  {
   "cell_type": "code",
   "execution_count": 23,
   "id": "0d19b047",
   "metadata": {
    "id": "0d19b047"
   },
   "outputs": [],
   "source": [
    "from datasets import load_dataset\n",
    "import pandas as pd\n",
    "import re\n",
    "import spacy\n",
    "from spacy.lang.fi import Finnish\n",
    "from spacy.lang.en import English\n",
    "from spacy.lang.ja import Japanese\n",
    "from spacy.tokenizer import Tokenizer\n",
    "from spacy.util import compile_prefix_regex, compile_infix_regex, compile_suffix_regex\n",
    "\n",
    "import stanza\n",
    "\n",
    "import matplotlib.pyplot as plt\n",
    "import seaborn as sns\n",
    "\n",
    "import numpy as np"
   ]
  },
  {
   "cell_type": "code",
   "execution_count": null,
   "id": "cf54573b",
   "metadata": {
    "id": "cf54573b"
   },
   "outputs": [],
   "source": [
    "%reload_ext autoreload\n",
    "%autoreload 2\n",
    "%matplotlib inline"
   ]
  },
  {
   "cell_type": "markdown",
   "id": "153a5667",
   "metadata": {
    "id": "153a5667"
   },
   "source": [
    "## Pipelines\n"
   ]
  },
  {
   "cell_type": "markdown",
   "id": "34ce3321",
   "metadata": {
    "id": "34ce3321"
   },
   "source": [
    "Spacy pipelines"
   ]
  },
  {
   "cell_type": "code",
   "execution_count": 14,
   "id": "ba6a73ca",
   "metadata": {
    "colab": {
     "base_uri": "https://localhost:8080/"
    },
    "id": "ba6a73ca",
    "outputId": "5c4f9b56-98fa-41e1-b75b-49ed8f942e82"
   },
   "outputs": [
    {
     "name": "stdout",
     "output_type": "stream",
     "text": [
      "Collecting en-core-web-lg==3.4.0\n",
      "  Downloading https://github.com/explosion/spacy-models/releases/download/en_core_web_lg-3.4.0/en_core_web_lg-3.4.0-py3-none-any.whl (587.7 MB)\n",
      "     -------------------------------------- 587.7/587.7 MB 1.1 MB/s eta 0:00:00\n",
      "Requirement already satisfied: spacy<3.5.0,>=3.4.0 in c:\\programdata\\anaconda3\\envs\\nlp_qa\\lib\\site-packages (from en-core-web-lg==3.4.0) (3.4.1)\n",
      "Requirement already satisfied: pathy>=0.3.5 in c:\\programdata\\anaconda3\\envs\\nlp_qa\\lib\\site-packages (from spacy<3.5.0,>=3.4.0->en-core-web-lg==3.4.0) (0.6.2)\n",
      "Requirement already satisfied: thinc<8.2.0,>=8.1.0 in c:\\programdata\\anaconda3\\envs\\nlp_qa\\lib\\site-packages (from spacy<3.5.0,>=3.4.0->en-core-web-lg==3.4.0) (8.1.2)\n",
      "Requirement already satisfied: setuptools in c:\\programdata\\anaconda3\\envs\\nlp_qa\\lib\\site-packages (from spacy<3.5.0,>=3.4.0->en-core-web-lg==3.4.0) (65.3.0)\n",
      "Requirement already satisfied: langcodes<4.0.0,>=3.2.0 in c:\\programdata\\anaconda3\\envs\\nlp_qa\\lib\\site-packages (from spacy<3.5.0,>=3.4.0->en-core-web-lg==3.4.0) (3.3.0)\n",
      "Requirement already satisfied: spacy-legacy<3.1.0,>=3.0.9 in c:\\programdata\\anaconda3\\envs\\nlp_qa\\lib\\site-packages (from spacy<3.5.0,>=3.4.0->en-core-web-lg==3.4.0) (3.0.10)\n",
      "Requirement already satisfied: typer<0.5.0,>=0.3.0 in c:\\programdata\\anaconda3\\envs\\nlp_qa\\lib\\site-packages (from spacy<3.5.0,>=3.4.0->en-core-web-lg==3.4.0) (0.4.2)\n",
      "Requirement already satisfied: catalogue<2.1.0,>=2.0.6 in c:\\programdata\\anaconda3\\envs\\nlp_qa\\lib\\site-packages (from spacy<3.5.0,>=3.4.0->en-core-web-lg==3.4.0) (2.0.8)\n",
      "Requirement already satisfied: spacy-loggers<2.0.0,>=1.0.0 in c:\\programdata\\anaconda3\\envs\\nlp_qa\\lib\\site-packages (from spacy<3.5.0,>=3.4.0->en-core-web-lg==3.4.0) (1.0.3)\n",
      "Requirement already satisfied: jinja2 in c:\\programdata\\anaconda3\\envs\\nlp_qa\\lib\\site-packages (from spacy<3.5.0,>=3.4.0->en-core-web-lg==3.4.0) (3.1.2)\n",
      "Requirement already satisfied: pydantic!=1.8,!=1.8.1,<1.10.0,>=1.7.4 in c:\\programdata\\anaconda3\\envs\\nlp_qa\\lib\\site-packages (from spacy<3.5.0,>=3.4.0->en-core-web-lg==3.4.0) (1.9.2)\n",
      "Requirement already satisfied: srsly<3.0.0,>=2.4.3 in c:\\programdata\\anaconda3\\envs\\nlp_qa\\lib\\site-packages (from spacy<3.5.0,>=3.4.0->en-core-web-lg==3.4.0) (2.4.4)\n",
      "Requirement already satisfied: wasabi<1.1.0,>=0.9.1 in c:\\programdata\\anaconda3\\envs\\nlp_qa\\lib\\site-packages (from spacy<3.5.0,>=3.4.0->en-core-web-lg==3.4.0) (0.10.1)\n",
      "Requirement already satisfied: requests<3.0.0,>=2.13.0 in c:\\programdata\\anaconda3\\envs\\nlp_qa\\lib\\site-packages (from spacy<3.5.0,>=3.4.0->en-core-web-lg==3.4.0) (2.28.1)\n",
      "Requirement already satisfied: preshed<3.1.0,>=3.0.2 in c:\\programdata\\anaconda3\\envs\\nlp_qa\\lib\\site-packages (from spacy<3.5.0,>=3.4.0->en-core-web-lg==3.4.0) (3.0.7)\n",
      "Requirement already satisfied: packaging>=20.0 in c:\\programdata\\anaconda3\\envs\\nlp_qa\\lib\\site-packages (from spacy<3.5.0,>=3.4.0->en-core-web-lg==3.4.0) (21.3)\n",
      "Requirement already satisfied: cymem<2.1.0,>=2.0.2 in c:\\programdata\\anaconda3\\envs\\nlp_qa\\lib\\site-packages (from spacy<3.5.0,>=3.4.0->en-core-web-lg==3.4.0) (2.0.6)\n",
      "Requirement already satisfied: typing-extensions<4.2.0,>=3.7.4 in c:\\programdata\\anaconda3\\envs\\nlp_qa\\lib\\site-packages (from spacy<3.5.0,>=3.4.0->en-core-web-lg==3.4.0) (4.1.1)\n",
      "Requirement already satisfied: tqdm<5.0.0,>=4.38.0 in c:\\programdata\\anaconda3\\envs\\nlp_qa\\lib\\site-packages (from spacy<3.5.0,>=3.4.0->en-core-web-lg==3.4.0) (4.64.1)\n",
      "Requirement already satisfied: murmurhash<1.1.0,>=0.28.0 in c:\\programdata\\anaconda3\\envs\\nlp_qa\\lib\\site-packages (from spacy<3.5.0,>=3.4.0->en-core-web-lg==3.4.0) (1.0.8)\n",
      "Requirement already satisfied: numpy>=1.15.0 in c:\\programdata\\anaconda3\\envs\\nlp_qa\\lib\\site-packages (from spacy<3.5.0,>=3.4.0->en-core-web-lg==3.4.0) (1.21.6)\n",
      "Requirement already satisfied: zipp>=0.5 in c:\\programdata\\anaconda3\\envs\\nlp_qa\\lib\\site-packages (from catalogue<2.1.0,>=2.0.6->spacy<3.5.0,>=3.4.0->en-core-web-lg==3.4.0) (3.8.1)\n",
      "Requirement already satisfied: pyparsing!=3.0.5,>=2.0.2 in c:\\programdata\\anaconda3\\envs\\nlp_qa\\lib\\site-packages (from packaging>=20.0->spacy<3.5.0,>=3.4.0->en-core-web-lg==3.4.0) (3.0.9)\n",
      "Requirement already satisfied: smart-open<6.0.0,>=5.2.1 in c:\\programdata\\anaconda3\\envs\\nlp_qa\\lib\\site-packages (from pathy>=0.3.5->spacy<3.5.0,>=3.4.0->en-core-web-lg==3.4.0) (5.2.1)\n",
      "Requirement already satisfied: urllib3<1.27,>=1.21.1 in c:\\programdata\\anaconda3\\envs\\nlp_qa\\lib\\site-packages (from requests<3.0.0,>=2.13.0->spacy<3.5.0,>=3.4.0->en-core-web-lg==3.4.0) (1.26.12)\n",
      "Requirement already satisfied: certifi>=2017.4.17 in c:\\programdata\\anaconda3\\envs\\nlp_qa\\lib\\site-packages (from requests<3.0.0,>=2.13.0->spacy<3.5.0,>=3.4.0->en-core-web-lg==3.4.0) (2022.9.24)\n",
      "Requirement already satisfied: idna<4,>=2.5 in c:\\programdata\\anaconda3\\envs\\nlp_qa\\lib\\site-packages (from requests<3.0.0,>=2.13.0->spacy<3.5.0,>=3.4.0->en-core-web-lg==3.4.0) (3.4)\n",
      "Requirement already satisfied: charset-normalizer<3,>=2 in c:\\programdata\\anaconda3\\envs\\nlp_qa\\lib\\site-packages (from requests<3.0.0,>=2.13.0->spacy<3.5.0,>=3.4.0->en-core-web-lg==3.4.0) (2.1.1)\n",
      "Requirement already satisfied: blis<0.8.0,>=0.7.8 in c:\\programdata\\anaconda3\\envs\\nlp_qa\\lib\\site-packages (from thinc<8.2.0,>=8.1.0->spacy<3.5.0,>=3.4.0->en-core-web-lg==3.4.0) (0.7.8)\n",
      "Requirement already satisfied: confection<1.0.0,>=0.0.1 in c:\\programdata\\anaconda3\\envs\\nlp_qa\\lib\\site-packages (from thinc<8.2.0,>=8.1.0->spacy<3.5.0,>=3.4.0->en-core-web-lg==3.4.0) (0.0.2)\n",
      "Requirement already satisfied: colorama in c:\\programdata\\anaconda3\\envs\\nlp_qa\\lib\\site-packages (from tqdm<5.0.0,>=4.38.0->spacy<3.5.0,>=3.4.0->en-core-web-lg==3.4.0) (0.4.5)\n",
      "Requirement already satisfied: click<9.0.0,>=7.1.1 in c:\\programdata\\anaconda3\\envs\\nlp_qa\\lib\\site-packages (from typer<0.5.0,>=0.3.0->spacy<3.5.0,>=3.4.0->en-core-web-lg==3.4.0) (8.1.3)\n",
      "Requirement already satisfied: MarkupSafe>=2.0 in c:\\programdata\\anaconda3\\envs\\nlp_qa\\lib\\site-packages (from jinja2->spacy<3.5.0,>=3.4.0->en-core-web-lg==3.4.0) (2.1.1)\n",
      "Requirement already satisfied: importlib-metadata in c:\\programdata\\anaconda3\\envs\\nlp_qa\\lib\\site-packages (from click<9.0.0,>=7.1.1->typer<0.5.0,>=0.3.0->spacy<3.5.0,>=3.4.0->en-core-web-lg==3.4.0) (4.12.0)\n",
      "Installing collected packages: en-core-web-lg\n",
      "Successfully installed en-core-web-lg-3.4.0\n",
      "[+] Download and installation successful\n",
      "You can now load the package via spacy.load('en_core_web_lg')\n",
      "Collecting fi-core-news-lg==3.4.0\n",
      "  Downloading https://github.com/explosion/spacy-models/releases/download/fi_core_news_lg-3.4.0/fi_core_news_lg-3.4.0-py3-none-any.whl (230.8 MB)\n",
      "     -------------------------------------- 230.8/230.8 MB 2.6 MB/s eta 0:00:00\n",
      "Requirement already satisfied: spacy<3.5.0,>=3.4.0 in c:\\programdata\\anaconda3\\envs\\nlp_qa\\lib\\site-packages (from fi-core-news-lg==3.4.0) (3.4.1)\n",
      "Requirement already satisfied: pydantic!=1.8,!=1.8.1,<1.10.0,>=1.7.4 in c:\\programdata\\anaconda3\\envs\\nlp_qa\\lib\\site-packages (from spacy<3.5.0,>=3.4.0->fi-core-news-lg==3.4.0) (1.9.2)\n",
      "Requirement already satisfied: wasabi<1.1.0,>=0.9.1 in c:\\programdata\\anaconda3\\envs\\nlp_qa\\lib\\site-packages (from spacy<3.5.0,>=3.4.0->fi-core-news-lg==3.4.0) (0.10.1)\n",
      "Requirement already satisfied: numpy>=1.15.0 in c:\\programdata\\anaconda3\\envs\\nlp_qa\\lib\\site-packages (from spacy<3.5.0,>=3.4.0->fi-core-news-lg==3.4.0) (1.21.6)\n",
      "Requirement already satisfied: typing-extensions<4.2.0,>=3.7.4 in c:\\programdata\\anaconda3\\envs\\nlp_qa\\lib\\site-packages (from spacy<3.5.0,>=3.4.0->fi-core-news-lg==3.4.0) (4.1.1)\n",
      "Requirement already satisfied: cymem<2.1.0,>=2.0.2 in c:\\programdata\\anaconda3\\envs\\nlp_qa\\lib\\site-packages (from spacy<3.5.0,>=3.4.0->fi-core-news-lg==3.4.0) (2.0.6)\n",
      "Requirement already satisfied: srsly<3.0.0,>=2.4.3 in c:\\programdata\\anaconda3\\envs\\nlp_qa\\lib\\site-packages (from spacy<3.5.0,>=3.4.0->fi-core-news-lg==3.4.0) (2.4.4)\n",
      "Requirement already satisfied: setuptools in c:\\programdata\\anaconda3\\envs\\nlp_qa\\lib\\site-packages (from spacy<3.5.0,>=3.4.0->fi-core-news-lg==3.4.0) (65.3.0)\n",
      "Requirement already satisfied: langcodes<4.0.0,>=3.2.0 in c:\\programdata\\anaconda3\\envs\\nlp_qa\\lib\\site-packages (from spacy<3.5.0,>=3.4.0->fi-core-news-lg==3.4.0) (3.3.0)\n",
      "Requirement already satisfied: murmurhash<1.1.0,>=0.28.0 in c:\\programdata\\anaconda3\\envs\\nlp_qa\\lib\\site-packages (from spacy<3.5.0,>=3.4.0->fi-core-news-lg==3.4.0) (1.0.8)\n",
      "Requirement already satisfied: spacy-legacy<3.1.0,>=3.0.9 in c:\\programdata\\anaconda3\\envs\\nlp_qa\\lib\\site-packages (from spacy<3.5.0,>=3.4.0->fi-core-news-lg==3.4.0) (3.0.10)\n",
      "Requirement already satisfied: thinc<8.2.0,>=8.1.0 in c:\\programdata\\anaconda3\\envs\\nlp_qa\\lib\\site-packages (from spacy<3.5.0,>=3.4.0->fi-core-news-lg==3.4.0) (8.1.2)\n",
      "Requirement already satisfied: packaging>=20.0 in c:\\programdata\\anaconda3\\envs\\nlp_qa\\lib\\site-packages (from spacy<3.5.0,>=3.4.0->fi-core-news-lg==3.4.0) (21.3)\n",
      "Requirement already satisfied: tqdm<5.0.0,>=4.38.0 in c:\\programdata\\anaconda3\\envs\\nlp_qa\\lib\\site-packages (from spacy<3.5.0,>=3.4.0->fi-core-news-lg==3.4.0) (4.64.1)\n",
      "Requirement already satisfied: pathy>=0.3.5 in c:\\programdata\\anaconda3\\envs\\nlp_qa\\lib\\site-packages (from spacy<3.5.0,>=3.4.0->fi-core-news-lg==3.4.0) (0.6.2)\n",
      "Requirement already satisfied: typer<0.5.0,>=0.3.0 in c:\\programdata\\anaconda3\\envs\\nlp_qa\\lib\\site-packages (from spacy<3.5.0,>=3.4.0->fi-core-news-lg==3.4.0) (0.4.2)\n",
      "Requirement already satisfied: catalogue<2.1.0,>=2.0.6 in c:\\programdata\\anaconda3\\envs\\nlp_qa\\lib\\site-packages (from spacy<3.5.0,>=3.4.0->fi-core-news-lg==3.4.0) (2.0.8)\n",
      "Requirement already satisfied: jinja2 in c:\\programdata\\anaconda3\\envs\\nlp_qa\\lib\\site-packages (from spacy<3.5.0,>=3.4.0->fi-core-news-lg==3.4.0) (3.1.2)\n",
      "Requirement already satisfied: spacy-loggers<2.0.0,>=1.0.0 in c:\\programdata\\anaconda3\\envs\\nlp_qa\\lib\\site-packages (from spacy<3.5.0,>=3.4.0->fi-core-news-lg==3.4.0) (1.0.3)\n",
      "Requirement already satisfied: requests<3.0.0,>=2.13.0 in c:\\programdata\\anaconda3\\envs\\nlp_qa\\lib\\site-packages (from spacy<3.5.0,>=3.4.0->fi-core-news-lg==3.4.0) (2.28.1)\n",
      "Requirement already satisfied: preshed<3.1.0,>=3.0.2 in c:\\programdata\\anaconda3\\envs\\nlp_qa\\lib\\site-packages (from spacy<3.5.0,>=3.4.0->fi-core-news-lg==3.4.0) (3.0.7)\n",
      "Requirement already satisfied: zipp>=0.5 in c:\\programdata\\anaconda3\\envs\\nlp_qa\\lib\\site-packages (from catalogue<2.1.0,>=2.0.6->spacy<3.5.0,>=3.4.0->fi-core-news-lg==3.4.0) (3.8.1)\n",
      "Requirement already satisfied: pyparsing!=3.0.5,>=2.0.2 in c:\\programdata\\anaconda3\\envs\\nlp_qa\\lib\\site-packages (from packaging>=20.0->spacy<3.5.0,>=3.4.0->fi-core-news-lg==3.4.0) (3.0.9)\n",
      "Requirement already satisfied: smart-open<6.0.0,>=5.2.1 in c:\\programdata\\anaconda3\\envs\\nlp_qa\\lib\\site-packages (from pathy>=0.3.5->spacy<3.5.0,>=3.4.0->fi-core-news-lg==3.4.0) (5.2.1)\n",
      "Requirement already satisfied: certifi>=2017.4.17 in c:\\programdata\\anaconda3\\envs\\nlp_qa\\lib\\site-packages (from requests<3.0.0,>=2.13.0->spacy<3.5.0,>=3.4.0->fi-core-news-lg==3.4.0) (2022.9.24)\n",
      "Requirement already satisfied: charset-normalizer<3,>=2 in c:\\programdata\\anaconda3\\envs\\nlp_qa\\lib\\site-packages (from requests<3.0.0,>=2.13.0->spacy<3.5.0,>=3.4.0->fi-core-news-lg==3.4.0) (2.1.1)\n",
      "Requirement already satisfied: idna<4,>=2.5 in c:\\programdata\\anaconda3\\envs\\nlp_qa\\lib\\site-packages (from requests<3.0.0,>=2.13.0->spacy<3.5.0,>=3.4.0->fi-core-news-lg==3.4.0) (3.4)\n",
      "Requirement already satisfied: urllib3<1.27,>=1.21.1 in c:\\programdata\\anaconda3\\envs\\nlp_qa\\lib\\site-packages (from requests<3.0.0,>=2.13.0->spacy<3.5.0,>=3.4.0->fi-core-news-lg==3.4.0) (1.26.12)\n",
      "Requirement already satisfied: blis<0.8.0,>=0.7.8 in c:\\programdata\\anaconda3\\envs\\nlp_qa\\lib\\site-packages (from thinc<8.2.0,>=8.1.0->spacy<3.5.0,>=3.4.0->fi-core-news-lg==3.4.0) (0.7.8)\n",
      "Requirement already satisfied: confection<1.0.0,>=0.0.1 in c:\\programdata\\anaconda3\\envs\\nlp_qa\\lib\\site-packages (from thinc<8.2.0,>=8.1.0->spacy<3.5.0,>=3.4.0->fi-core-news-lg==3.4.0) (0.0.2)\n",
      "Requirement already satisfied: colorama in c:\\programdata\\anaconda3\\envs\\nlp_qa\\lib\\site-packages (from tqdm<5.0.0,>=4.38.0->spacy<3.5.0,>=3.4.0->fi-core-news-lg==3.4.0) (0.4.5)\n",
      "Requirement already satisfied: click<9.0.0,>=7.1.1 in c:\\programdata\\anaconda3\\envs\\nlp_qa\\lib\\site-packages (from typer<0.5.0,>=0.3.0->spacy<3.5.0,>=3.4.0->fi-core-news-lg==3.4.0) (8.1.3)\n",
      "Requirement already satisfied: MarkupSafe>=2.0 in c:\\programdata\\anaconda3\\envs\\nlp_qa\\lib\\site-packages (from jinja2->spacy<3.5.0,>=3.4.0->fi-core-news-lg==3.4.0) (2.1.1)\n",
      "Requirement already satisfied: importlib-metadata in c:\\programdata\\anaconda3\\envs\\nlp_qa\\lib\\site-packages (from click<9.0.0,>=7.1.1->typer<0.5.0,>=0.3.0->spacy<3.5.0,>=3.4.0->fi-core-news-lg==3.4.0) (4.12.0)\n",
      "Installing collected packages: fi-core-news-lg\n",
      "Successfully installed fi-core-news-lg-3.4.0\n",
      "[+] Download and installation successful\n",
      "You can now load the package via spacy.load('fi_core_news_lg')\n"
     ]
    },
    {
     "name": "stdout",
     "output_type": "stream",
     "text": [
      "Collecting ja-core-news-lg==3.4.0\n",
      "  Downloading https://github.com/explosion/spacy-models/releases/download/ja_core_news_lg-3.4.0/ja_core_news_lg-3.4.0-py3-none-any.whl (555.1 MB)\n",
      "     -------------------------------------- 555.1/555.1 MB 1.3 MB/s eta 0:00:00\n",
      "Requirement already satisfied: spacy<3.5.0,>=3.4.0 in c:\\programdata\\anaconda3\\envs\\nlp_qa\\lib\\site-packages (from ja-core-news-lg==3.4.0) (3.4.1)\n",
      "Collecting sudachidict-core>=20211220\n",
      "  Using cached SudachiDict-core-20220729.tar.gz (9.1 kB)\n",
      "  Preparing metadata (setup.py): started\n",
      "  Preparing metadata (setup.py): finished with status 'done'\n",
      "Collecting sudachipy!=0.6.1,>=0.5.2\n",
      "  Downloading SudachiPy-0.6.6-cp37-cp37m-win_amd64.whl (1.0 MB)\n",
      "     ---------------------------------------- 1.0/1.0 MB 2.8 MB/s eta 0:00:00\n",
      "Requirement already satisfied: numpy>=1.15.0 in c:\\programdata\\anaconda3\\envs\\nlp_qa\\lib\\site-packages (from spacy<3.5.0,>=3.4.0->ja-core-news-lg==3.4.0) (1.21.6)\n",
      "Requirement already satisfied: setuptools in c:\\programdata\\anaconda3\\envs\\nlp_qa\\lib\\site-packages (from spacy<3.5.0,>=3.4.0->ja-core-news-lg==3.4.0) (65.3.0)\n",
      "Requirement already satisfied: preshed<3.1.0,>=3.0.2 in c:\\programdata\\anaconda3\\envs\\nlp_qa\\lib\\site-packages (from spacy<3.5.0,>=3.4.0->ja-core-news-lg==3.4.0) (3.0.7)\n",
      "Requirement already satisfied: murmurhash<1.1.0,>=0.28.0 in c:\\programdata\\anaconda3\\envs\\nlp_qa\\lib\\site-packages (from spacy<3.5.0,>=3.4.0->ja-core-news-lg==3.4.0) (1.0.8)\n",
      "Requirement already satisfied: cymem<2.1.0,>=2.0.2 in c:\\programdata\\anaconda3\\envs\\nlp_qa\\lib\\site-packages (from spacy<3.5.0,>=3.4.0->ja-core-news-lg==3.4.0) (2.0.6)\n",
      "Requirement already satisfied: requests<3.0.0,>=2.13.0 in c:\\programdata\\anaconda3\\envs\\nlp_qa\\lib\\site-packages (from spacy<3.5.0,>=3.4.0->ja-core-news-lg==3.4.0) (2.28.1)\n",
      "Requirement already satisfied: spacy-loggers<2.0.0,>=1.0.0 in c:\\programdata\\anaconda3\\envs\\nlp_qa\\lib\\site-packages (from spacy<3.5.0,>=3.4.0->ja-core-news-lg==3.4.0) (1.0.3)\n",
      "Requirement already satisfied: langcodes<4.0.0,>=3.2.0 in c:\\programdata\\anaconda3\\envs\\nlp_qa\\lib\\site-packages (from spacy<3.5.0,>=3.4.0->ja-core-news-lg==3.4.0) (3.3.0)\n",
      "Requirement already satisfied: pathy>=0.3.5 in c:\\programdata\\anaconda3\\envs\\nlp_qa\\lib\\site-packages (from spacy<3.5.0,>=3.4.0->ja-core-news-lg==3.4.0) (0.6.2)\n",
      "Requirement already satisfied: spacy-legacy<3.1.0,>=3.0.9 in c:\\programdata\\anaconda3\\envs\\nlp_qa\\lib\\site-packages (from spacy<3.5.0,>=3.4.0->ja-core-news-lg==3.4.0) (3.0.10)\n",
      "Requirement already satisfied: packaging>=20.0 in c:\\programdata\\anaconda3\\envs\\nlp_qa\\lib\\site-packages (from spacy<3.5.0,>=3.4.0->ja-core-news-lg==3.4.0) (21.3)\n",
      "Requirement already satisfied: wasabi<1.1.0,>=0.9.1 in c:\\programdata\\anaconda3\\envs\\nlp_qa\\lib\\site-packages (from spacy<3.5.0,>=3.4.0->ja-core-news-lg==3.4.0) (0.10.1)\n",
      "Requirement already satisfied: pydantic!=1.8,!=1.8.1,<1.10.0,>=1.7.4 in c:\\programdata\\anaconda3\\envs\\nlp_qa\\lib\\site-packages (from spacy<3.5.0,>=3.4.0->ja-core-news-lg==3.4.0) (1.9.2)\n",
      "Requirement already satisfied: typer<0.5.0,>=0.3.0 in c:\\programdata\\anaconda3\\envs\\nlp_qa\\lib\\site-packages (from spacy<3.5.0,>=3.4.0->ja-core-news-lg==3.4.0) (0.4.2)\n",
      "Requirement already satisfied: srsly<3.0.0,>=2.4.3 in c:\\programdata\\anaconda3\\envs\\nlp_qa\\lib\\site-packages (from spacy<3.5.0,>=3.4.0->ja-core-news-lg==3.4.0) (2.4.4)\n",
      "Requirement already satisfied: jinja2 in c:\\programdata\\anaconda3\\envs\\nlp_qa\\lib\\site-packages (from spacy<3.5.0,>=3.4.0->ja-core-news-lg==3.4.0) (3.1.2)\n",
      "Requirement already satisfied: typing-extensions<4.2.0,>=3.7.4 in c:\\programdata\\anaconda3\\envs\\nlp_qa\\lib\\site-packages (from spacy<3.5.0,>=3.4.0->ja-core-news-lg==3.4.0) (4.1.1)\n",
      "Requirement already satisfied: catalogue<2.1.0,>=2.0.6 in c:\\programdata\\anaconda3\\envs\\nlp_qa\\lib\\site-packages (from spacy<3.5.0,>=3.4.0->ja-core-news-lg==3.4.0) (2.0.8)\n",
      "Requirement already satisfied: tqdm<5.0.0,>=4.38.0 in c:\\programdata\\anaconda3\\envs\\nlp_qa\\lib\\site-packages (from spacy<3.5.0,>=3.4.0->ja-core-news-lg==3.4.0) (4.64.1)\n",
      "Requirement already satisfied: thinc<8.2.0,>=8.1.0 in c:\\programdata\\anaconda3\\envs\\nlp_qa\\lib\\site-packages (from spacy<3.5.0,>=3.4.0->ja-core-news-lg==3.4.0) (8.1.2)\n",
      "Requirement already satisfied: zipp>=0.5 in c:\\programdata\\anaconda3\\envs\\nlp_qa\\lib\\site-packages (from catalogue<2.1.0,>=2.0.6->spacy<3.5.0,>=3.4.0->ja-core-news-lg==3.4.0) (3.8.1)\n",
      "Requirement already satisfied: pyparsing!=3.0.5,>=2.0.2 in c:\\programdata\\anaconda3\\envs\\nlp_qa\\lib\\site-packages (from packaging>=20.0->spacy<3.5.0,>=3.4.0->ja-core-news-lg==3.4.0) (3.0.9)\n",
      "Requirement already satisfied: smart-open<6.0.0,>=5.2.1 in c:\\programdata\\anaconda3\\envs\\nlp_qa\\lib\\site-packages (from pathy>=0.3.5->spacy<3.5.0,>=3.4.0->ja-core-news-lg==3.4.0) (5.2.1)\n",
      "Requirement already satisfied: urllib3<1.27,>=1.21.1 in c:\\programdata\\anaconda3\\envs\\nlp_qa\\lib\\site-packages (from requests<3.0.0,>=2.13.0->spacy<3.5.0,>=3.4.0->ja-core-news-lg==3.4.0) (1.26.12)\n",
      "Requirement already satisfied: certifi>=2017.4.17 in c:\\programdata\\anaconda3\\envs\\nlp_qa\\lib\\site-packages (from requests<3.0.0,>=2.13.0->spacy<3.5.0,>=3.4.0->ja-core-news-lg==3.4.0) (2022.9.24)\n",
      "Requirement already satisfied: charset-normalizer<3,>=2 in c:\\programdata\\anaconda3\\envs\\nlp_qa\\lib\\site-packages (from requests<3.0.0,>=2.13.0->spacy<3.5.0,>=3.4.0->ja-core-news-lg==3.4.0) (2.1.1)\n",
      "Requirement already satisfied: idna<4,>=2.5 in c:\\programdata\\anaconda3\\envs\\nlp_qa\\lib\\site-packages (from requests<3.0.0,>=2.13.0->spacy<3.5.0,>=3.4.0->ja-core-news-lg==3.4.0) (3.4)\n",
      "Requirement already satisfied: blis<0.8.0,>=0.7.8 in c:\\programdata\\anaconda3\\envs\\nlp_qa\\lib\\site-packages (from thinc<8.2.0,>=8.1.0->spacy<3.5.0,>=3.4.0->ja-core-news-lg==3.4.0) (0.7.8)\n",
      "Requirement already satisfied: confection<1.0.0,>=0.0.1 in c:\\programdata\\anaconda3\\envs\\nlp_qa\\lib\\site-packages (from thinc<8.2.0,>=8.1.0->spacy<3.5.0,>=3.4.0->ja-core-news-lg==3.4.0) (0.0.2)\n",
      "Requirement already satisfied: colorama in c:\\programdata\\anaconda3\\envs\\nlp_qa\\lib\\site-packages (from tqdm<5.0.0,>=4.38.0->spacy<3.5.0,>=3.4.0->ja-core-news-lg==3.4.0) (0.4.5)\n",
      "Requirement already satisfied: click<9.0.0,>=7.1.1 in c:\\programdata\\anaconda3\\envs\\nlp_qa\\lib\\site-packages (from typer<0.5.0,>=0.3.0->spacy<3.5.0,>=3.4.0->ja-core-news-lg==3.4.0) (8.1.3)\n",
      "Requirement already satisfied: MarkupSafe>=2.0 in c:\\programdata\\anaconda3\\envs\\nlp_qa\\lib\\site-packages (from jinja2->spacy<3.5.0,>=3.4.0->ja-core-news-lg==3.4.0) (2.1.1)\n",
      "Requirement already satisfied: importlib-metadata in c:\\programdata\\anaconda3\\envs\\nlp_qa\\lib\\site-packages (from click<9.0.0,>=7.1.1->typer<0.5.0,>=0.3.0->spacy<3.5.0,>=3.4.0->ja-core-news-lg==3.4.0) (4.12.0)\n",
      "Building wheels for collected packages: sudachidict-core\n",
      "  Building wheel for sudachidict-core (setup.py): started\n",
      "  Building wheel for sudachidict-core (setup.py): finished with status 'done'\n",
      "  Created wheel for sudachidict-core: filename=SudachiDict_core-20220729-py3-none-any.whl size=71570371 sha256=71df1696e0bf1f03470e8b07ad8c69b47d28b7903dc2d71bededbe8f2cbe6f5e\n",
      "  Stored in directory: c:\\users\\rasmu\\appdata\\local\\pip\\cache\\wheels\\ff\\47\\2b\\6dcb905d9086fc6f9b7af821f7145f785d36070b827b7f80b7\n",
      "Successfully built sudachidict-core\n",
      "Installing collected packages: sudachipy, sudachidict-core, ja-core-news-lg\n",
      "Successfully installed ja-core-news-lg-3.4.0 sudachidict-core-20220729 sudachipy-0.6.6\n",
      "[+] Download and installation successful\n",
      "You can now load the package via spacy.load('ja_core_news_lg')\n"
     ]
    },
    {
     "name": "stderr",
     "output_type": "stream",
     "text": [
      "WARNING: Error parsing requirements for matplotlib: [Errno 2] No such file or directory: 'c:\\\\programdata\\\\anaconda3\\\\envs\\\\nlp_qa\\\\lib\\\\site-packages\\\\matplotlib-3.2.2.dist-info\\\\METADATA'\n"
     ]
    }
   ],
   "source": [
    "%%capture\n",
    "!python -m spacy download en_core_web_lg\n",
    "!python -m spacy download fi_core_news_lg\n",
    "!python -m spacy download ja_core_news_lg"
   ]
  },
  {
   "cell_type": "markdown",
   "id": "5d6aa921",
   "metadata": {
    "id": "5d6aa921"
   },
   "source": [
    "Stanza pipelines"
   ]
  },
  {
   "cell_type": "code",
   "execution_count": 4,
   "id": "94f7252c",
   "metadata": {
    "colab": {
     "base_uri": "https://localhost:8080/",
     "height": 485
    },
    "id": "94f7252c",
    "outputId": "80377865-54e8-424a-e537-b1d745fbc984"
   },
   "outputs": [
    {
     "name": "stderr",
     "output_type": "stream",
     "text": [
      "2022-10-06 14:19:04 INFO: Downloading default packages for language: en (English) ...\n",
      "2022-10-06 14:19:16 INFO: Finished downloading models and saved to /home/sollertis/stanza_resources.\n",
      "2022-10-06 14:19:16 INFO: Downloading default packages for language: fi (Finnish) ...\n",
      "2022-10-06 14:19:30 INFO: Finished downloading models and saved to /home/sollertis/stanza_resources.\n",
      "2022-10-06 14:19:30 INFO: Downloading default packages for language: ja (Japanese) ...\n",
      "2022-10-06 14:19:45 INFO: Finished downloading models and saved to /home/sollertis/stanza_resources.\n"
     ]
    }
   ],
   "source": [
    "%%capture\n",
    "stanza.download('en')\n",
    "stanza.download('fi')\n",
    "stanza.download('ja')"
   ]
  },
  {
   "cell_type": "markdown",
   "id": "673703f9",
   "metadata": {
    "id": "673703f9"
   },
   "source": [
    "## Q1.1"
   ]
  },
  {
   "cell_type": "markdown",
   "id": "b4fd2df7",
   "metadata": {
    "id": "b4fd2df7"
   },
   "source": [
    "Here we define some globals which will be used in Q1.1."
   ]
  },
  {
   "cell_type": "markdown",
   "id": "2e851440",
   "metadata": {
    "id": "2e851440"
   },
   "source": [
    "First, lets define the path where the preprocessed data will be stored for later use.\n",
    "We could get issues if storing the data as CSV after tokenization, since the list of tokens:\n",
    "\"['a'], ['b']\", will automatically be converted to a string (since the list contains ',').\n",
    "So let's store it in pickle format."
   ]
  },
  {
   "cell_type": "code",
   "execution_count": 7,
   "id": "8f1e0cda",
   "metadata": {},
   "outputs": [],
   "source": [
    "path_train_set = \"../data/train_set_stanza.pkl\"\n",
    "path_validation_set = \"../data/validation_set_stanza.pkl\""
   ]
  },
  {
   "cell_type": "markdown",
   "id": "62946978",
   "metadata": {
    "id": "62946978"
   },
   "source": [
    "## Q1.1a"
   ]
  },
  {
   "cell_type": "markdown",
   "id": "e7c9b142",
   "metadata": {
    "id": "e7c9b142"
   },
   "source": [
    "Let's download the dataset from the web."
   ]
  },
  {
   "cell_type": "code",
   "execution_count": 6,
   "id": "47d229d9",
   "metadata": {
    "id": "47d229d9"
   },
   "outputs": [],
   "source": [
    "%%capture\n",
    "dataset_raw = load_dataset(\"copenlu/answerable_tydiqa\")"
   ]
  },
  {
   "cell_type": "code",
   "execution_count": 19,
   "id": "e17e7f4a",
   "metadata": {
    "id": "e17e7f4a"
   },
   "outputs": [],
   "source": [
    "train_set_raw = dataset_raw[\"train\"].to_pandas()\n",
    "validation_set_raw = dataset_raw[\"validation\"].to_pandas()"
   ]
  },
  {
   "cell_type": "markdown",
   "id": "a1230cf2",
   "metadata": {},
   "source": [
    "Let's also store the dataset for good measures"
   ]
  },
  {
   "cell_type": "code",
   "execution_count": 20,
   "id": "fbf35aa6",
   "metadata": {},
   "outputs": [],
   "source": [
    "raw_path_train_set = \"../data/raw_train_set.pkl\"\n",
    "raw_path_validation_set = \"../data/raw_validation_set.pkl\""
   ]
  },
  {
   "cell_type": "code",
   "execution_count": 21,
   "id": "9cb2419d",
   "metadata": {},
   "outputs": [],
   "source": [
    "train_set_raw = train_set_raw[train_set_raw['language'].isin([\"english\", \"finnish\", \"japanese\"])]\n",
    "validation_set_raw = validation_set_raw[validation_set_raw['language'].isin([\"english\", \"finnish\", \"japanese\"])]"
   ]
  },
  {
   "cell_type": "code",
   "execution_count": 22,
   "id": "b616b9dd",
   "metadata": {},
   "outputs": [],
   "source": [
    "train_set_raw.to_pickle(raw_path_train_set)\n",
    "validation_set_raw.to_pickle(raw_path_validation_set)"
   ]
  },
  {
   "cell_type": "code",
   "execution_count": null,
   "id": "ba9b6a41",
   "metadata": {
    "id": "ba9b6a41"
   },
   "outputs": [],
   "source": [
    "train_set_raw.head()"
   ]
  },
  {
   "cell_type": "code",
   "execution_count": null,
   "id": "c6a0c9a7",
   "metadata": {
    "id": "c6a0c9a7"
   },
   "outputs": [],
   "source": [
    "def print_preprocessing_summary(df):\n",
    "    num_unanswered = df[df['document_answer_region'] == Annotation_error.UNANSWERED].shape[0]\n",
    "    num_answered_but_failed = df[df['document_answer_region'] == Annotation_error.BAD_TOKENIZATION_OR_DATA].shape[0]\n",
    "    num_answered = df.shape[0] - num_answered_but_failed - num_unanswered\n",
    "\n",
    "    print(\"[Parsing Info] {} answered questions. {} unanswered questions. Failed to parse {} (answered) questions.\".format(num_answered, num_unanswered, num_answered_but_failed))"
   ]
  },
  {
   "cell_type": "markdown",
   "id": "15b87da3",
   "metadata": {
    "id": "15b87da3"
   },
   "source": [
    "### Preprocessing with Spacy"
   ]
  },
  {
   "cell_type": "markdown",
   "id": "1365d5e8",
   "metadata": {
    "id": "1365d5e8"
   },
   "source": [
    "Let's do some preprocessing!"
   ]
  },
  {
   "cell_type": "code",
   "execution_count": null,
   "id": "d40ea942",
   "metadata": {
    "id": "d40ea942"
   },
   "outputs": [],
   "source": [
    "def spacy_custom_tokenizer(nlp):\n",
    "    infixes = nlp.Defaults.infixes + [r\"[\\.\\,]?\\[\\S*\"]\n",
    "    infix_re = spacy.util.compile_infix_regex(infixes)\n",
    "    prefix_re = compile_prefix_regex(nlp.Defaults.prefixes)\n",
    "    suffix_re = compile_suffix_regex(nlp.Defaults.suffixes)\n",
    "\n",
    "    return Tokenizer(\n",
    "        nlp.vocab,\n",
    "        prefix_search=prefix_re.search,\n",
    "        suffix_search=suffix_re.search,\n",
    "        infix_finditer=infix_re.finditer,\n",
    "        #token_match=nlp.tokenizer.token_match,\n",
    "        rules=nlp.Defaults.tokenizer_exceptions)"
   ]
  },
  {
   "cell_type": "code",
   "execution_count": null,
   "id": "5f4fc44e",
   "metadata": {
    "id": "5f4fc44e"
   },
   "outputs": [],
   "source": [
    "def spacy_custom_nlp(pipeline_name: str):\n",
    "    nlp = spacy.load(pipeline_name)\n",
    "    nlp.tokenizer = spacy_custom_tokenizer(nlp)\n",
    "    return nlp"
   ]
  },
  {
   "cell_type": "code",
   "execution_count": null,
   "id": "9acd1b9a",
   "metadata": {
    "id": "9acd1b9a"
   },
   "outputs": [],
   "source": [
    "def preprocess_annotation(raw_sample, nlp):\n",
    "    document_doc = nlp(raw_sample['document_plaintext'])\n",
    "    annotations = raw_sample['annotations']\n",
    "\n",
    "    # extract answer annotations\n",
    "    start = annotations['answer_start'][0]\n",
    "    if start == -1: # unanswered question\n",
    "        region = Annotation_error.UNANSWERED\n",
    "    else:\n",
    "        length = len(annotations['answer_text'][0])\n",
    "        end = start + length\n",
    "\n",
    "        span = document_doc.char_span(start, end) # or None if the span is within a token\n",
    "\n",
    "        if span == None: # the answer region does not match token boundaries (either due to poor tokenzation or poor data labelling)\n",
    "            region = Annotation_error.BAD_TOKENIZATION_OR_DATA\n",
    "        else:\n",
    "            region = (span.start, span.end)\n",
    "\n",
    "    return region\n",
    "\n",
    "def preprocess_language(raw_df, nlp, preprocess_annotations: bool = False, num_max_rows=-1):\n",
    "    rows = len(raw_df)\n",
    "    \n",
    "    if num_max_rows > 0: # @Remove\n",
    "        rows = min(rows, num_max_rows)\n",
    "    \n",
    "    columns = ['language', 'question', 'document_title', 'document', 'document_answer_region']\n",
    "    df = pd.DataFrame(columns=columns, index=range(rows))\n",
    "    \n",
    "    df['language'] = raw_df['language'].iloc[0]\n",
    " \n",
    "    for i in range(rows):\n",
    "        raw_sample = raw_df.iloc[i]\n",
    "\n",
    "        df.at[i,'question'] = [t.text for t in nlp(raw_sample['question_text'])]\n",
    "        df.at[i,'document_title'] = [t.text for t in nlp(raw_sample['document_title'])]\n",
    "        df.at[i,'document'] = [t.text for t in nlp(raw_sample['document_plaintext'])]\n",
    "        \n",
    "        \n",
    "        if preprocess_annotations:\n",
    "            answer_region = preprocess_annotation(raw_sample, nlp)\n",
    "        else:\n",
    "            answer_region = Annotation_error.IGNORED    \n",
    "        \n",
    "        df.at[i,'document_answer_region'] = answer_region\n",
    "        \n",
    "        \n",
    "        if i % 1000  == 0:\n",
    "            print(\"sample {}/{}\".format(i, rows))\n",
    "            \n",
    "        if i == num_max_rows: # @Remove\n",
    "            break\n",
    "    \n",
    "    return df"
   ]
  },
  {
   "cell_type": "code",
   "execution_count": null,
   "id": "eb4f5f5b",
   "metadata": {
    "id": "eb4f5f5b"
   },
   "outputs": [],
   "source": [
    "def preprocess(raw_data, max_rows_per_language=-1):\n",
    "    # @Note: how pipelines work in spacy: https://spacy.io/usage/processing-pipelines\n",
    "    \n",
    "    # english\n",
    "    raw_data_en = raw_data[raw_data['language'] == 'english']\n",
    "    nlp_en = spacy_custom_nlp('en_core_web_lg')\n",
    "    data_en = preprocess_language(raw_data_en, nlp_en, num_max_rows=max_rows_per_language)\n",
    "    print_preprocessing_summary(data_en)\n",
    "    \n",
    "    # finnish\n",
    "    raw_data_fi = raw_data[raw_data['language'] == 'finnish']\n",
    "    nlp_fi = spacy_custom_nlp('fi_core_news_lg')\n",
    "    data_fi = preprocess_language(raw_data_fi, nlp_fi, num_max_rows=max_rows_per_language)\n",
    "    print_preprocessing_summary(data_fi)\n",
    "    \n",
    "    # japanese\n",
    "    # @Note: for some reason, the pretrained pipeline doesn't work well with finding the answer. Japenese() works a lot better. However, maybe it just tokenizes each symbol\n",
    "    raw_data_ja = raw_data[raw_data['language'] == 'japanese']\n",
    "    nlp_ja = spacy_custom_nlp('ja_core_news_lg')\n",
    "    data_ja = preprocess_language(raw_data_ja, nlp_ja, num_max_rows=max_rows_per_language) \n",
    "    print_preprocessing_summary(data_ja)\n",
    "    \n",
    "    # concat\n",
    "    data = pd.concat([data_en, data_fi, data_ja])\n",
    "    \n",
    "    return data\n"
   ]
  },
  {
   "cell_type": "markdown",
   "id": "355e6448",
   "metadata": {
    "id": "355e6448"
   },
   "source": [
    "### Preprocessing with Staza"
   ]
  },
  {
   "cell_type": "code",
   "execution_count": null,
   "id": "98381a5a",
   "metadata": {
    "id": "98381a5a"
   },
   "outputs": [],
   "source": [
    "def preprocess_annotation(raw_sample, nlp):\n",
    "    doc = nlp(raw_sample['document_plaintext'])\n",
    "    annotations = raw_sample['annotations']\n",
    "\n",
    "    # extract answer annotations\n",
    "    start = annotations['answer_start'][0]\n",
    "    if start == -1: # unanswered question\n",
    "        region = Annotation_error.UNANSWERED\n",
    "    else:\n",
    "        length = len(annotations['answer_text'][0])\n",
    "        end = start + length\n",
    "        \n",
    "        ids = np.array([token.id for sentence in doc.sentences for token in sentence.tokens])\n",
    "        start_chars = np.array([token.start_char for sentence in doc.sentences for token in sentence.tokens])\n",
    "        end_chars = np.array([token.end_char for sentence in doc.sentences for token in sentence.tokens])\n",
    "        \n",
    "        start_index = ids[start_chars == start]\n",
    "        end_index = ids[end_chars == end]\n",
    "        \n",
    "        if start_index.shape[0] == 0 or end_index.shape[0] == 0: # the answer region does not match token boundaries (either due to poor tokenzation or poor data labelling)\n",
    "            region = Annotation_error.BAD_TOKENIZATION_OR_DATA\n",
    "        else:\n",
    "            assert(start_index.shape[0] == 1)\n",
    "            assert(end_index.shape[0] == 1)\n",
    "            \n",
    "            region = (start_index[0][0], end_index[0][0])\n",
    "\n",
    "    return region\n",
    "\n",
    "def extract_tokens(doc):\n",
    "    return [token.text for sentence in doc.sentences for token in sentence.tokens]\n",
    "\n",
    "def preprocess_language(raw_df, nlp, preprocess_annotations: bool = True, num_max_rows=-1):\n",
    "    rows = len(raw_df)\n",
    "    \n",
    "    if num_max_rows > 0: # early terminate for testing\n",
    "        rows = min(rows, num_max_rows)\n",
    "    \n",
    "    columns = ['language', 'question', 'document_title', 'document', 'document_answer_region']\n",
    "    df = pd.DataFrame(columns=columns, index=range(rows))\n",
    "    \n",
    "    df['language'] = raw_df['language'].iloc[0]\n",
    " \n",
    "    for i in range(rows):\n",
    "        raw_sample = raw_df.iloc[i]\n",
    "\n",
    "        df.at[i,'question'] = extract_tokens(nlp(raw_sample['question_text']))\n",
    "        df.at[i,'document_title'] = extract_tokens(nlp(raw_sample['document_title']))\n",
    "        df.at[i,'document'] = extract_tokens(nlp(raw_sample['document_plaintext']))\n",
    "        \n",
    "        if preprocess_annotations:\n",
    "            answer_region = preprocess_annotation(raw_sample, nlp)\n",
    "        else:\n",
    "            answer_region = Annotation_error.IGNORED    \n",
    "        \n",
    "        df.at[i,'document_answer_region'] = answer_region\n",
    "        \n",
    "        \n",
    "        if i % 1000  == 0:\n",
    "            print(\"sample {}/{}\".format(i, rows))\n",
    "            \n",
    "        if i == num_max_rows:\n",
    "            print(\"early terminating...\")\n",
    "            break\n",
    "    \n",
    "    return df"
   ]
  },
  {
   "cell_type": "code",
   "execution_count": null,
   "id": "d9f030cc",
   "metadata": {
    "id": "d9f030cc"
   },
   "outputs": [],
   "source": [
    "def preprocess(raw_data, max_rows_per_language=-1):\n",
    "    # english\n",
    "    raw_data_en = raw_data[raw_data['language'] == 'english']\n",
    "    nlp_en = stanza.Pipeline(lang='en', processors='tokenize')\n",
    "    data_en = preprocess_language(raw_data_en, nlp_en, num_max_rows=max_rows_per_language)\n",
    "    print_preprocessing_summary(data_en)\n",
    "    \n",
    "    # finnish\n",
    "    raw_data_fi = raw_data[raw_data['language'] == 'finnish']\n",
    "    nlp_fi = stanza.Pipeline(lang='fi', processors='tokenize')\n",
    "    data_fi = preprocess_language(raw_data_fi, nlp_fi, num_max_rows=max_rows_per_language)\n",
    "    print_preprocessing_summary(data_fi)\n",
    "    \n",
    "    # japanese\n",
    "    raw_data_ja = raw_data[raw_data['language'] == 'japanese']\n",
    "    nlp_ja = stanza.Pipeline(lang='ja', processors='tokenize')\n",
    "    data_ja = preprocess_language(raw_data_ja, nlp_ja, num_max_rows=max_rows_per_language) \n",
    "    print_preprocessing_summary(data_ja)\n",
    "    \n",
    "    # concat\n",
    "    data = pd.concat([data_en, data_fi, data_ja])\n",
    "    \n",
    "    return data\n"
   ]
  },
  {
   "cell_type": "markdown",
   "id": "16b1dd99",
   "metadata": {
    "id": "16b1dd99"
   },
   "source": [
    "Let's preprocess the training data"
   ]
  },
  {
   "cell_type": "code",
   "execution_count": null,
   "id": "6c219fd3",
   "metadata": {
    "id": "6c219fd3"
   },
   "outputs": [],
   "source": [
    "train_set = preprocess(train_set_raw, max_rows_per_language = -1)"
   ]
  },
  {
   "cell_type": "code",
   "execution_count": null,
   "id": "23fad543",
   "metadata": {
    "id": "23fad543",
    "scrolled": true
   },
   "outputs": [],
   "source": [
    "train_set.head()"
   ]
  },
  {
   "cell_type": "markdown",
   "id": "35fd5cbf",
   "metadata": {
    "id": "35fd5cbf"
   },
   "source": [
    "Let's preprocess the validation data"
   ]
  },
  {
   "cell_type": "code",
   "execution_count": null,
   "id": "6575b48d",
   "metadata": {
    "id": "6575b48d",
    "scrolled": true
   },
   "outputs": [],
   "source": [
    "validation_set = preprocess(validation_set_raw, max_rows_per_language=-1)"
   ]
  },
  {
   "cell_type": "code",
   "execution_count": null,
   "id": "44dfe218",
   "metadata": {
    "id": "44dfe218"
   },
   "outputs": [],
   "source": [
    "validation_set.head()"
   ]
  },
  {
   "cell_type": "markdown",
   "id": "c69178ee",
   "metadata": {
    "id": "c69178ee"
   },
   "source": [
    "### Save pre-processed training and validation data"
   ]
  },
  {
   "cell_type": "code",
   "execution_count": null,
   "id": "f3ed6a15",
   "metadata": {
    "id": "f3ed6a15"
   },
   "outputs": [],
   "source": [
    "train_set.to_pickle(path_train_set)"
   ]
  },
  {
   "cell_type": "code",
   "execution_count": null,
   "id": "9346ea42",
   "metadata": {
    "id": "9346ea42"
   },
   "outputs": [],
   "source": [
    "validation_set.to_pickle(path_validation_set)"
   ]
  },
  {
   "cell_type": "markdown",
   "id": "6f611ff8",
   "metadata": {
    "id": "6f611ff8"
   },
   "source": [
    "### Load pre-processed training and validation data"
   ]
  },
  {
   "cell_type": "code",
   "execution_count": 8,
   "id": "c4f6fdb8",
   "metadata": {
    "id": "c4f6fdb8"
   },
   "outputs": [],
   "source": [
    "train_set = pd.read_pickle(path_train_set)\n",
    "validation_set = pd.read_pickle(path_validation_set)"
   ]
  },
  {
   "cell_type": "code",
   "execution_count": 9,
   "id": "c34e9b64",
   "metadata": {
    "colab": {
     "base_uri": "https://localhost:8080/",
     "height": 206
    },
    "id": "c34e9b64",
    "outputId": "eea18a39-0a45-4bc4-e4be-30755a1f7f4c"
   },
   "outputs": [
    {
     "data": {
      "text/html": [
       "\n",
       "  <div id=\"df-6659b32a-5ff6-41b8-aabf-47b34054dc53\">\n",
       "    <div class=\"colab-df-container\">\n",
       "      <div>\n",
       "<style scoped>\n",
       "    .dataframe tbody tr th:only-of-type {\n",
       "        vertical-align: middle;\n",
       "    }\n",
       "\n",
       "    .dataframe tbody tr th {\n",
       "        vertical-align: top;\n",
       "    }\n",
       "\n",
       "    .dataframe thead th {\n",
       "        text-align: right;\n",
       "    }\n",
       "</style>\n",
       "<table border=\"1\" class=\"dataframe\">\n",
       "  <thead>\n",
       "    <tr style=\"text-align: right;\">\n",
       "      <th></th>\n",
       "      <th>language</th>\n",
       "      <th>question</th>\n",
       "      <th>document_title</th>\n",
       "      <th>document</th>\n",
       "      <th>document_answer_region</th>\n",
       "    </tr>\n",
       "  </thead>\n",
       "  <tbody>\n",
       "    <tr>\n",
       "      <th>0</th>\n",
       "      <td>english</td>\n",
       "      <td>[When, was, quantum, field, theory, developed, ?]</td>\n",
       "      <td>[Quantum, field, theory]</td>\n",
       "      <td>[Quantum, field, theory, naturally, began, wit...</td>\n",
       "      <td>(26, 26)</td>\n",
       "    </tr>\n",
       "    <tr>\n",
       "      <th>1</th>\n",
       "      <td>english</td>\n",
       "      <td>[Who, was, the, first, Nobel, prize, winner, f...</td>\n",
       "      <td>[List, of, Nobel, laureates, in, Literature]</td>\n",
       "      <td>[The, Nobel, Prize, in, Literature, (, Swedish...</td>\n",
       "      <td>(12, 13)</td>\n",
       "    </tr>\n",
       "    <tr>\n",
       "      <th>2</th>\n",
       "      <td>english</td>\n",
       "      <td>[When, is, the, dialectical, method, used, ?]</td>\n",
       "      <td>[Dialectic]</td>\n",
       "      <td>[Dialectic, or, dialectics, (, Greek, :, διαλε...</td>\n",
       "      <td>(27, 49)</td>\n",
       "    </tr>\n",
       "    <tr>\n",
       "      <th>3</th>\n",
       "      <td>english</td>\n",
       "      <td>[Who, invented, Hangul, ?]</td>\n",
       "      <td>[Origin, of, Hangul]</td>\n",
       "      <td>[Hangul, was, personally, created, and, promul...</td>\n",
       "      <td>(16, 18)</td>\n",
       "    </tr>\n",
       "    <tr>\n",
       "      <th>4</th>\n",
       "      <td>english</td>\n",
       "      <td>[What, do, Grasshoppers, eat, ?]</td>\n",
       "      <td>[Grasshopper]</td>\n",
       "      <td>[Grasshoppers, are, plant, -, eaters, ,, with,...</td>\n",
       "      <td>(1, 37)</td>\n",
       "    </tr>\n",
       "  </tbody>\n",
       "</table>\n",
       "</div>\n",
       "      <button class=\"colab-df-convert\" onclick=\"convertToInteractive('df-6659b32a-5ff6-41b8-aabf-47b34054dc53')\"\n",
       "              title=\"Convert this dataframe to an interactive table.\"\n",
       "              style=\"display:none;\">\n",
       "        \n",
       "  <svg xmlns=\"http://www.w3.org/2000/svg\" height=\"24px\"viewBox=\"0 0 24 24\"\n",
       "       width=\"24px\">\n",
       "    <path d=\"M0 0h24v24H0V0z\" fill=\"none\"/>\n",
       "    <path d=\"M18.56 5.44l.94 2.06.94-2.06 2.06-.94-2.06-.94-.94-2.06-.94 2.06-2.06.94zm-11 1L8.5 8.5l.94-2.06 2.06-.94-2.06-.94L8.5 2.5l-.94 2.06-2.06.94zm10 10l.94 2.06.94-2.06 2.06-.94-2.06-.94-.94-2.06-.94 2.06-2.06.94z\"/><path d=\"M17.41 7.96l-1.37-1.37c-.4-.4-.92-.59-1.43-.59-.52 0-1.04.2-1.43.59L10.3 9.45l-7.72 7.72c-.78.78-.78 2.05 0 2.83L4 21.41c.39.39.9.59 1.41.59.51 0 1.02-.2 1.41-.59l7.78-7.78 2.81-2.81c.8-.78.8-2.07 0-2.86zM5.41 20L4 18.59l7.72-7.72 1.47 1.35L5.41 20z\"/>\n",
       "  </svg>\n",
       "      </button>\n",
       "      \n",
       "  <style>\n",
       "    .colab-df-container {\n",
       "      display:flex;\n",
       "      flex-wrap:wrap;\n",
       "      gap: 12px;\n",
       "    }\n",
       "\n",
       "    .colab-df-convert {\n",
       "      background-color: #E8F0FE;\n",
       "      border: none;\n",
       "      border-radius: 50%;\n",
       "      cursor: pointer;\n",
       "      display: none;\n",
       "      fill: #1967D2;\n",
       "      height: 32px;\n",
       "      padding: 0 0 0 0;\n",
       "      width: 32px;\n",
       "    }\n",
       "\n",
       "    .colab-df-convert:hover {\n",
       "      background-color: #E2EBFA;\n",
       "      box-shadow: 0px 1px 2px rgba(60, 64, 67, 0.3), 0px 1px 3px 1px rgba(60, 64, 67, 0.15);\n",
       "      fill: #174EA6;\n",
       "    }\n",
       "\n",
       "    [theme=dark] .colab-df-convert {\n",
       "      background-color: #3B4455;\n",
       "      fill: #D2E3FC;\n",
       "    }\n",
       "\n",
       "    [theme=dark] .colab-df-convert:hover {\n",
       "      background-color: #434B5C;\n",
       "      box-shadow: 0px 1px 3px 1px rgba(0, 0, 0, 0.15);\n",
       "      filter: drop-shadow(0px 1px 2px rgba(0, 0, 0, 0.3));\n",
       "      fill: #FFFFFF;\n",
       "    }\n",
       "  </style>\n",
       "\n",
       "      <script>\n",
       "        const buttonEl =\n",
       "          document.querySelector('#df-6659b32a-5ff6-41b8-aabf-47b34054dc53 button.colab-df-convert');\n",
       "        buttonEl.style.display =\n",
       "          google.colab.kernel.accessAllowed ? 'block' : 'none';\n",
       "\n",
       "        async function convertToInteractive(key) {\n",
       "          const element = document.querySelector('#df-6659b32a-5ff6-41b8-aabf-47b34054dc53');\n",
       "          const dataTable =\n",
       "            await google.colab.kernel.invokeFunction('convertToInteractive',\n",
       "                                                     [key], {});\n",
       "          if (!dataTable) return;\n",
       "\n",
       "          const docLinkHtml = 'Like what you see? Visit the ' +\n",
       "            '<a target=\"_blank\" href=https://colab.research.google.com/notebooks/data_table.ipynb>data table notebook</a>'\n",
       "            + ' to learn more about interactive tables.';\n",
       "          element.innerHTML = '';\n",
       "          dataTable['output_type'] = 'display_data';\n",
       "          await google.colab.output.renderOutput(dataTable, element);\n",
       "          const docLink = document.createElement('div');\n",
       "          docLink.innerHTML = docLinkHtml;\n",
       "          element.appendChild(docLink);\n",
       "        }\n",
       "      </script>\n",
       "    </div>\n",
       "  </div>\n",
       "  "
      ],
      "text/plain": [
       "  language                                           question  \\\n",
       "0  english  [When, was, quantum, field, theory, developed, ?]   \n",
       "1  english  [Who, was, the, first, Nobel, prize, winner, f...   \n",
       "2  english      [When, is, the, dialectical, method, used, ?]   \n",
       "3  english                         [Who, invented, Hangul, ?]   \n",
       "4  english                   [What, do, Grasshoppers, eat, ?]   \n",
       "\n",
       "                                 document_title  \\\n",
       "0                      [Quantum, field, theory]   \n",
       "1  [List, of, Nobel, laureates, in, Literature]   \n",
       "2                                   [Dialectic]   \n",
       "3                          [Origin, of, Hangul]   \n",
       "4                                 [Grasshopper]   \n",
       "\n",
       "                                            document document_answer_region  \n",
       "0  [Quantum, field, theory, naturally, began, wit...               (26, 26)  \n",
       "1  [The, Nobel, Prize, in, Literature, (, Swedish...               (12, 13)  \n",
       "2  [Dialectic, or, dialectics, (, Greek, :, διαλε...               (27, 49)  \n",
       "3  [Hangul, was, personally, created, and, promul...               (16, 18)  \n",
       "4  [Grasshoppers, are, plant, -, eaters, ,, with,...                (1, 37)  "
      ]
     },
     "execution_count": 9,
     "metadata": {},
     "output_type": "execute_result"
    }
   ],
   "source": [
    "train_set.head()"
   ]
  },
  {
   "cell_type": "code",
   "execution_count": 10,
   "id": "84dbb9ae",
   "metadata": {
    "colab": {
     "base_uri": "https://localhost:8080/",
     "height": 206
    },
    "id": "84dbb9ae",
    "outputId": "d0a6c2af-e5a0-45e2-882d-be1f3b7f038c"
   },
   "outputs": [
    {
     "data": {
      "text/html": [
       "\n",
       "  <div id=\"df-cbb3158c-51e7-482d-ba45-4cd5fdc42456\">\n",
       "    <div class=\"colab-df-container\">\n",
       "      <div>\n",
       "<style scoped>\n",
       "    .dataframe tbody tr th:only-of-type {\n",
       "        vertical-align: middle;\n",
       "    }\n",
       "\n",
       "    .dataframe tbody tr th {\n",
       "        vertical-align: top;\n",
       "    }\n",
       "\n",
       "    .dataframe thead th {\n",
       "        text-align: right;\n",
       "    }\n",
       "</style>\n",
       "<table border=\"1\" class=\"dataframe\">\n",
       "  <thead>\n",
       "    <tr style=\"text-align: right;\">\n",
       "      <th></th>\n",
       "      <th>language</th>\n",
       "      <th>question</th>\n",
       "      <th>document_title</th>\n",
       "      <th>document</th>\n",
       "      <th>document_answer_region</th>\n",
       "    </tr>\n",
       "  </thead>\n",
       "  <tbody>\n",
       "    <tr>\n",
       "      <th>0</th>\n",
       "      <td>english</td>\n",
       "      <td>[What, is, a, way, to, increase, your, wound, ...</td>\n",
       "      <td>[Wound, healing]</td>\n",
       "      <td>[Wound, care, encourages, and, speeds, wound, ...</td>\n",
       "      <td>(9, 15)</td>\n",
       "    </tr>\n",
       "    <tr>\n",
       "      <th>1</th>\n",
       "      <td>english</td>\n",
       "      <td>[Who, founded, the, Burntisland, Shipbuilding,...</td>\n",
       "      <td>[Burntisland, Shipbuilding, Company]</td>\n",
       "      <td>[Brothers, Amos, and, Wilfrid, Ayre, founded, ...</td>\n",
       "      <td>(1, 5)</td>\n",
       "    </tr>\n",
       "    <tr>\n",
       "      <th>2</th>\n",
       "      <td>english</td>\n",
       "      <td>[What, is, the, surface, area, of, the, human,...</td>\n",
       "      <td>[Cerebral, cortex]</td>\n",
       "      <td>[For, species, of, mammals, ,, larger, brains,...</td>\n",
       "      <td>(35, 38)</td>\n",
       "    </tr>\n",
       "    <tr>\n",
       "      <th>3</th>\n",
       "      <td>english</td>\n",
       "      <td>[When, did, the, case, of, R, (, Factortame, L...</td>\n",
       "      <td>[R, (, Factortame, Ltd, ), v, Secretary, of, S...</td>\n",
       "      <td>[As, from, 31, March, 1989, ,, fishing, vessel...</td>\n",
       "      <td>(37, 38)</td>\n",
       "    </tr>\n",
       "    <tr>\n",
       "      <th>4</th>\n",
       "      <td>english</td>\n",
       "      <td>[When, was, Quezon, City, founded, ?]</td>\n",
       "      <td>[Quezon, City]</td>\n",
       "      <td>[When, Quezon, City, was, created, in, 1939, ,...</td>\n",
       "      <td>(7, 7)</td>\n",
       "    </tr>\n",
       "  </tbody>\n",
       "</table>\n",
       "</div>\n",
       "      <button class=\"colab-df-convert\" onclick=\"convertToInteractive('df-cbb3158c-51e7-482d-ba45-4cd5fdc42456')\"\n",
       "              title=\"Convert this dataframe to an interactive table.\"\n",
       "              style=\"display:none;\">\n",
       "        \n",
       "  <svg xmlns=\"http://www.w3.org/2000/svg\" height=\"24px\"viewBox=\"0 0 24 24\"\n",
       "       width=\"24px\">\n",
       "    <path d=\"M0 0h24v24H0V0z\" fill=\"none\"/>\n",
       "    <path d=\"M18.56 5.44l.94 2.06.94-2.06 2.06-.94-2.06-.94-.94-2.06-.94 2.06-2.06.94zm-11 1L8.5 8.5l.94-2.06 2.06-.94-2.06-.94L8.5 2.5l-.94 2.06-2.06.94zm10 10l.94 2.06.94-2.06 2.06-.94-2.06-.94-.94-2.06-.94 2.06-2.06.94z\"/><path d=\"M17.41 7.96l-1.37-1.37c-.4-.4-.92-.59-1.43-.59-.52 0-1.04.2-1.43.59L10.3 9.45l-7.72 7.72c-.78.78-.78 2.05 0 2.83L4 21.41c.39.39.9.59 1.41.59.51 0 1.02-.2 1.41-.59l7.78-7.78 2.81-2.81c.8-.78.8-2.07 0-2.86zM5.41 20L4 18.59l7.72-7.72 1.47 1.35L5.41 20z\"/>\n",
       "  </svg>\n",
       "      </button>\n",
       "      \n",
       "  <style>\n",
       "    .colab-df-container {\n",
       "      display:flex;\n",
       "      flex-wrap:wrap;\n",
       "      gap: 12px;\n",
       "    }\n",
       "\n",
       "    .colab-df-convert {\n",
       "      background-color: #E8F0FE;\n",
       "      border: none;\n",
       "      border-radius: 50%;\n",
       "      cursor: pointer;\n",
       "      display: none;\n",
       "      fill: #1967D2;\n",
       "      height: 32px;\n",
       "      padding: 0 0 0 0;\n",
       "      width: 32px;\n",
       "    }\n",
       "\n",
       "    .colab-df-convert:hover {\n",
       "      background-color: #E2EBFA;\n",
       "      box-shadow: 0px 1px 2px rgba(60, 64, 67, 0.3), 0px 1px 3px 1px rgba(60, 64, 67, 0.15);\n",
       "      fill: #174EA6;\n",
       "    }\n",
       "\n",
       "    [theme=dark] .colab-df-convert {\n",
       "      background-color: #3B4455;\n",
       "      fill: #D2E3FC;\n",
       "    }\n",
       "\n",
       "    [theme=dark] .colab-df-convert:hover {\n",
       "      background-color: #434B5C;\n",
       "      box-shadow: 0px 1px 3px 1px rgba(0, 0, 0, 0.15);\n",
       "      filter: drop-shadow(0px 1px 2px rgba(0, 0, 0, 0.3));\n",
       "      fill: #FFFFFF;\n",
       "    }\n",
       "  </style>\n",
       "\n",
       "      <script>\n",
       "        const buttonEl =\n",
       "          document.querySelector('#df-cbb3158c-51e7-482d-ba45-4cd5fdc42456 button.colab-df-convert');\n",
       "        buttonEl.style.display =\n",
       "          google.colab.kernel.accessAllowed ? 'block' : 'none';\n",
       "\n",
       "        async function convertToInteractive(key) {\n",
       "          const element = document.querySelector('#df-cbb3158c-51e7-482d-ba45-4cd5fdc42456');\n",
       "          const dataTable =\n",
       "            await google.colab.kernel.invokeFunction('convertToInteractive',\n",
       "                                                     [key], {});\n",
       "          if (!dataTable) return;\n",
       "\n",
       "          const docLinkHtml = 'Like what you see? Visit the ' +\n",
       "            '<a target=\"_blank\" href=https://colab.research.google.com/notebooks/data_table.ipynb>data table notebook</a>'\n",
       "            + ' to learn more about interactive tables.';\n",
       "          element.innerHTML = '';\n",
       "          dataTable['output_type'] = 'display_data';\n",
       "          await google.colab.output.renderOutput(dataTable, element);\n",
       "          const docLink = document.createElement('div');\n",
       "          docLink.innerHTML = docLinkHtml;\n",
       "          element.appendChild(docLink);\n",
       "        }\n",
       "      </script>\n",
       "    </div>\n",
       "  </div>\n",
       "  "
      ],
      "text/plain": [
       "  language                                           question  \\\n",
       "0  english  [What, is, a, way, to, increase, your, wound, ...   \n",
       "1  english  [Who, founded, the, Burntisland, Shipbuilding,...   \n",
       "2  english  [What, is, the, surface, area, of, the, human,...   \n",
       "3  english  [When, did, the, case, of, R, (, Factortame, L...   \n",
       "4  english              [When, was, Quezon, City, founded, ?]   \n",
       "\n",
       "                                      document_title  \\\n",
       "0                                   [Wound, healing]   \n",
       "1               [Burntisland, Shipbuilding, Company]   \n",
       "2                                 [Cerebral, cortex]   \n",
       "3  [R, (, Factortame, Ltd, ), v, Secretary, of, S...   \n",
       "4                                     [Quezon, City]   \n",
       "\n",
       "                                            document document_answer_region  \n",
       "0  [Wound, care, encourages, and, speeds, wound, ...                (9, 15)  \n",
       "1  [Brothers, Amos, and, Wilfrid, Ayre, founded, ...                 (1, 5)  \n",
       "2  [For, species, of, mammals, ,, larger, brains,...               (35, 38)  \n",
       "3  [As, from, 31, March, 1989, ,, fishing, vessel...               (37, 38)  \n",
       "4  [When, Quezon, City, was, created, in, 1939, ,...                 (7, 7)  "
      ]
     },
     "execution_count": 10,
     "metadata": {},
     "output_type": "execute_result"
    }
   ],
   "source": [
    "validation_set.head()"
   ]
  },
  {
   "cell_type": "markdown",
   "id": "b4aa405c",
   "metadata": {
    "id": "b4aa405c"
   },
   "source": [
    "Just to make it easier to reference the training data onwards."
   ]
  },
  {
   "cell_type": "code",
   "execution_count": 11,
   "id": "df4c8936",
   "metadata": {
    "id": "df4c8936"
   },
   "outputs": [],
   "source": [
    "train_en = train_set[train_set[\"language\"] == \"english\"]\n",
    "train_fi = train_set[train_set[\"language\"] == \"finnish\"]\n",
    "train_ja = train_set[train_set[\"language\"] == \"japanese\"]"
   ]
  },
  {
   "cell_type": "code",
   "execution_count": 12,
   "id": "882ddb25",
   "metadata": {
    "id": "882ddb25"
   },
   "outputs": [],
   "source": [
    "validation_en = validation_set[validation_set[\"language\"] == \"english\"]\n",
    "validation_fi = validation_set[validation_set[\"language\"] == \"finnish\"]\n",
    "validation_ja = validation_set[validation_set[\"language\"] == \"japanese\"]"
   ]
  },
  {
   "cell_type": "markdown",
   "id": "01ab6a9d",
   "metadata": {
    "id": "01ab6a9d"
   },
   "source": [
    "## Q1.1b"
   ]
  },
  {
   "cell_type": "markdown",
   "id": "5c4c7a1d",
   "metadata": {
    "id": "5c4c7a1d"
   },
   "source": [
    "Let's plot the most common start and end words of each question."
   ]
  },
  {
   "cell_type": "code",
   "execution_count": 35,
   "id": "a0210023",
   "metadata": {
    "id": "a0210023"
   },
   "outputs": [],
   "source": [
    "def plot_most_common_words(words, title, top=-1, font_prop=None, rotation=45):\n",
    "    # @TODO: add subtitle/translation for x-axis (zip)\n",
    "    uniques, uniques_counts = np.unique(words, return_counts=True)\n",
    "    index_sorted = np.argsort(uniques_counts, axis=None)[::-1]\n",
    "    \n",
    "    if top > 0:\n",
    "        index_sorted = index_sorted[:top]\n",
    "    \n",
    "    uniques_counts_percentage = uniques_counts / np.sum(uniques_counts) * 100\n",
    "    \n",
    "    fig, ax = plt.subplots(figsize=(15,6))\n",
    "    ax.grid(linestyle=\"--\")\n",
    "    ax.set_title(title)\n",
    "    ax.set_ylabel(\"Percentage (%)\")\n",
    "    \n",
    "    ticks = range(len(index_sorted))\n",
    "    ax.bar(ticks, uniques_counts_percentage[index_sorted])\n",
    "    ax.set_xticks(ticks, uniques[index_sorted], rotation=rotation, fontproperties=font_prop)    "
   ]
  },
  {
   "cell_type": "code",
   "execution_count": 24,
   "id": "9ca6fd6b",
   "metadata": {
    "id": "9ca6fd6b"
   },
   "outputs": [],
   "source": [
    "def get_all_Nth_tokens(df_tokens, n):\n",
    "    return df_tokens.map(lambda tokens: tokens[n])\n",
    "\n",
    "def get_firsts(df_tokens):\n",
    "    return get_all_Nth_tokens(df_tokens, 0)\n",
    "\n",
    "def get_lasts(df_tokens):\n",
    "    return get_all_Nth_tokens(df_tokens, -1)"
   ]
  },
  {
   "cell_type": "markdown",
   "id": "453e7d9c",
   "metadata": {
    "id": "453e7d9c"
   },
   "source": [
    "### English trainset summary "
   ]
  },
  {
   "cell_type": "code",
   "execution_count": 25,
   "id": "a672b370",
   "metadata": {
    "id": "a672b370",
    "scrolled": true
   },
   "outputs": [],
   "source": [
    "df_question = train_en[\"question\"]\n",
    "\n",
    "firsts = get_firsts(df_question)\n",
    "lasts = get_lasts(df_question)"
   ]
  },
  {
   "cell_type": "code",
   "execution_count": 26,
   "id": "7de9c4a4",
   "metadata": {
    "colab": {
     "base_uri": "https://localhost:8080/",
     "height": 410
    },
    "id": "7de9c4a4",
    "outputId": "37092535-6324-481e-ce79-79b756524bb3"
   },
   "outputs": [
    {
     "data": {
      "image/png": "[encoded data removed]",
      "text/plain": [
       "<Figure size 1080x432 with 1 Axes>"
      ]
     },
     "metadata": {
      "needs_background": "light"
     },
     "output_type": "display_data"
    }
   ],
   "source": [
    "plot_most_common_words(firsts, \"Most common first words (token) - English\", top=25)"
   ]
  },
  {
   "cell_type": "code",
   "execution_count": 27,
   "id": "ff5cac14",
   "metadata": {
    "colab": {
     "base_uri": "https://localhost:8080/",
     "height": 425
    },
    "id": "ff5cac14",
    "outputId": "34aea9e4-bcba-42d6-b102-2e62e9a8bcaf"
   },
   "outputs": [
    {
     "data": {
      "image/png": "[encoded data removed]",
      "text/plain": [
       "<Figure size 1080x432 with 1 Axes>"
      ]
     },
     "metadata": {
      "needs_background": "light"
     },
     "output_type": "display_data"
    }
   ],
   "source": [
    "plot_most_common_words(lasts, \"Most common last words (token) - English\", top=25)"
   ]
  },
  {
   "cell_type": "markdown",
   "id": "633261ea",
   "metadata": {
    "id": "633261ea"
   },
   "source": [
    "### Finnish trainset summary "
   ]
  },
  {
   "cell_type": "code",
   "execution_count": 28,
   "id": "2e39f7dc",
   "metadata": {
    "id": "2e39f7dc"
   },
   "outputs": [],
   "source": [
    "df_question = train_fi[\"question\"]\n",
    "\n",
    "firsts = get_firsts(df_question)\n",
    "lasts = get_lasts(df_question)"
   ]
  },
  {
   "cell_type": "code",
   "execution_count": 29,
   "id": "b821eeb4",
   "metadata": {
    "colab": {
     "base_uri": "https://localhost:8080/",
     "height": 430
    },
    "id": "b821eeb4",
    "outputId": "3750213c-74ce-487b-c26e-ca32f0f7ac19"
   },
   "outputs": [
    {
     "data": {
      "image/png": "[encoded data removed]",
      "text/plain": [
       "<Figure size 1080x432 with 1 Axes>"
      ]
     },
     "metadata": {
      "needs_background": "light"
     },
     "output_type": "display_data"
    }
   ],
   "source": [
    "plot_most_common_words(firsts, \"Most common first words (token) - Finnish\", top=25)"
   ]
  },
  {
   "cell_type": "code",
   "execution_count": 30,
   "id": "c7774097",
   "metadata": {
    "colab": {
     "base_uri": "https://localhost:8080/",
     "height": 437
    },
    "id": "c7774097",
    "outputId": "634f2005-ce9c-4231-8a75-633d79fc5b02"
   },
   "outputs": [
    {
     "data": {
      "image/png": "[encoded data removed]",
      "text/plain": [
       "<Figure size 1080x432 with 1 Axes>"
      ]
     },
     "metadata": {
      "needs_background": "light"
     },
     "output_type": "display_data"
    }
   ],
   "source": [
    "plot_most_common_words(lasts, \"Most common last words (token) - Finnish\", top=25)"
   ]
  },
  {
   "cell_type": "markdown",
   "id": "f95134b2",
   "metadata": {
    "id": "f95134b2"
   },
   "source": [
    "### Japanese trainset summary "
   ]
  },
  {
   "cell_type": "markdown",
   "id": "0f524d14",
   "metadata": {
    "id": "0f524d14"
   },
   "source": [
    "Use a font which supports japanese characters."
   ]
  },
  {
   "cell_type": "code",
   "execution_count": 31,
   "id": "050bf903",
   "metadata": {
    "id": "050bf903"
   },
   "outputs": [],
   "source": [
    "import matplotlib.font_manager as fm\n",
    "fprop = fm.FontProperties(fname='../resources/Osaka.ttc')"
   ]
  },
  {
   "cell_type": "code",
   "execution_count": 32,
   "id": "dc25ed4d",
   "metadata": {
    "id": "dc25ed4d"
   },
   "outputs": [],
   "source": [
    "df_question = train_ja[\"question\"]\n",
    "\n",
    "firsts = get_firsts(df_question)\n",
    "lasts = get_lasts(df_question)"
   ]
  },
  {
   "cell_type": "code",
   "execution_count": 33,
   "id": "c62245de",
   "metadata": {
    "colab": {
     "base_uri": "https://localhost:8080/",
     "height": 440
    },
    "id": "c62245de",
    "outputId": "c3fe43d6-eb37-4568-f5e6-86e907239fa0"
   },
   "outputs": [
    {
     "data": {
      "image/png": "[encoded data removed]",
      "text/plain": [
       "<Figure size 1080x432 with 1 Axes>"
      ]
     },
     "metadata": {
      "needs_background": "light"
     },
     "output_type": "display_data"
    }
   ],
   "source": [
    "plot_most_common_words(firsts, \"Most common first words (token) - Japanese\", top=25, font_prop=fprop, rotation=90)"
   ]
  },
  {
   "cell_type": "code",
   "execution_count": 34,
   "id": "1ccc87a6",
   "metadata": {
    "colab": {
     "base_uri": "https://localhost:8080/",
     "height": 410
    },
    "id": "1ccc87a6",
    "outputId": "b5b68231-280d-43a3-fbf4-a1f9fb36547a"
   },
   "outputs": [
    {
     "data": {
      "image/png": "[encoded data removed]",
      "text/plain": [
       "<Figure size 1080x432 with 1 Axes>"
      ]
     },
     "metadata": {
      "needs_background": "light"
     },
     "output_type": "display_data"
    }
   ],
   "source": [
    "plot_most_common_words(lasts, \"Most common last words (token) - Japanese\", top=25, font_prop=fprop, rotation=90)"
   ]
  },
  {
   "cell_type": "code",
   "execution_count": 34,
   "id": "DF3ARX7OLV2t",
   "metadata": {
    "id": "DF3ARX7OLV2t"
   },
   "outputs": [],
   "source": []
  }
 ],
 "metadata": {
  "colab": {
   "collapsed_sections": [
    "15b87da3",
    "355e6448",
    "c69178ee"
   ],
   "provenance": []
  },
  "kernelspec": {
   "display_name": "Python 3 (ipykernel)",
   "language": "python",
   "name": "python3"
  },
  "language_info": {
   "codemirror_mode": {
    "name": "ipython",
    "version": 3
   },
   "file_extension": ".py",
   "mimetype": "text/x-python",
   "name": "python",
   "nbconvert_exporter": "python",
   "pygments_lexer": "ipython3",
   "version": "3.7.13"
  }
 },
 "nbformat": 4,
 "nbformat_minor": 5
}
