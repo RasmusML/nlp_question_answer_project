{
 "cells": [
  {
   "cell_type": "code",
   "execution_count": 1,
   "id": "1619bc01",
   "metadata": {
    "colab": {
     "base_uri": "https://localhost:8080/"
    },
    "id": "1619bc01",
    "outputId": "7c4c1583-d81d-4cca-dd93-eb1010a4458a"
   },
   "outputs": [],
   "source": [
    "import sys\n",
    "sys.path.append(\"..\")\n",
    "\n",
    "is_in_colab = 'google.colab' in sys.modules\n",
    "\n",
    "if is_in_colab:\n",
    "    from google.colab import drive\n",
    "    drive.mount('/content/drive')\n",
    "    sys.path.insert(0,'/content/drive/MyDrive/nlp_question_answer_project')\n",
    "\n",
    "    %cd /content/drive/MyDrive/nlp_question_answer_project/notebooks"
   ]
  },
  {
   "cell_type": "code",
   "execution_count": 2,
   "id": "eaa2c166",
   "metadata": {
    "colab": {
     "base_uri": "https://localhost:8080/"
    },
    "id": "eaa2c166",
    "outputId": "75706a42-d5ff-42dd-fd2b-62a5e9339553"
   },
   "outputs": [],
   "source": [
    "%%capture\n",
    "!pip install -r ../requirements.txt"
   ]
  },
  {
   "cell_type": "markdown",
   "id": "1dce2009",
   "metadata": {
    "id": "1dce2009"
   },
   "source": [
    "# 1.2 Binary Question Classification"
   ]
  },
  {
   "cell_type": "code",
   "execution_count": 92,
   "id": "e0b782b7",
   "metadata": {
    "id": "e0b782b7"
   },
   "outputs": [],
   "source": [
    "import pandas as pd\n",
    "import numpy as np\n",
    "\n",
    "import matplotlib.pyplot as plt\n",
    "import seaborn as sns\n",
    "\n",
    "from sklearn.metrics import classification_report, confusion_matrix, ConfusionMatrixDisplay\n",
    "from sklearn.ensemble import RandomForestClassifier\n",
    "from sklearn.feature_extraction.text import TfidfTransformer\n",
    "\n",
    "from enum import Enum\n",
    "\n",
    "import fasttext\n",
    "import fasttext.util\n",
    "\n",
    "import torch\n",
    "from torch import nn\n",
    "import torch.optim as optim\n",
    "\n",
    "import torchnlp\n",
    "import torchnlp.nn\n",
    "\n",
    "from sklearn.metrics import accuracy_score\n",
    "import compress_fasttext\n",
    "from torch.utils.data import Dataset, DataLoader\n",
    "from tqdm import tqdm"
   ]
  },
  {
   "cell_type": "code",
   "execution_count": 93,
   "id": "f276ced5",
   "metadata": {},
   "outputs": [],
   "source": [
    "class Annotation_error(Enum):\n",
    "    UNANSWERED = -1\n",
    "    BAD_TOKENIZATION_OR_DATA = -2\n",
    "    IGNORED = -3\n",
    "    # Or the span e.g. (4,9)"
   ]
  },
  {
   "cell_type": "code",
   "execution_count": 94,
   "id": "b3cfdc51",
   "metadata": {
    "id": "b3cfdc51"
   },
   "outputs": [],
   "source": [
    "%reload_ext autoreload\n",
    "%autoreload 2\n",
    "%matplotlib inline"
   ]
  },
  {
   "cell_type": "markdown",
   "id": "f6e6c9ae",
   "metadata": {
    "id": "f6e6c9ae"
   },
   "source": [
    "Load pre-processed data from memory."
   ]
  },
  {
   "cell_type": "code",
   "execution_count": 95,
   "id": "65ac65e3",
   "metadata": {},
   "outputs": [],
   "source": [
    "path_train_set = \"../data/train_set_stanza.pkl\"\n",
    "path_validation_set = \"../data/validation_set_stanza.pkl\""
   ]
  },
  {
   "cell_type": "code",
   "execution_count": 96,
   "id": "4b416fe9",
   "metadata": {
    "id": "4b416fe9"
   },
   "outputs": [],
   "source": [
    "train_set = pd.read_pickle(path_train_set)\n",
    "validation_set = pd.read_pickle(path_validation_set)"
   ]
  },
  {
   "cell_type": "code",
   "execution_count": 131,
   "id": "9f4531f9",
   "metadata": {},
   "outputs": [],
   "source": [
    "def extract_language(dataset, language):\n",
    "    return dataset[dataset[\"language\"] == language]"
   ]
  },
  {
   "cell_type": "code",
   "execution_count": 132,
   "id": "93042c89",
   "metadata": {
    "id": "93042c89"
   },
   "outputs": [],
   "source": [
    "train_en = extract_language(train_set, \"english\")\n",
    "train_fi = extract_language(train_set, \"finnish\")\n",
    "train_ja = extract_language(train_set, \"japanese\")\n",
    "\n",
    "validation_en = extract_language(validation_set, \"english\")\n",
    "validation_fi = extract_language(validation_set, \"finnish\")\n",
    "validation_ja = extract_language(validation_set, \"japanese\")"
   ]
  },
  {
   "cell_type": "code",
   "execution_count": 133,
   "id": "5f2f2aca",
   "metadata": {},
   "outputs": [
    {
     "data": {
      "text/html": [
       "<div>\n",
       "<style scoped>\n",
       "    .dataframe tbody tr th:only-of-type {\n",
       "        vertical-align: middle;\n",
       "    }\n",
       "\n",
       "    .dataframe tbody tr th {\n",
       "        vertical-align: top;\n",
       "    }\n",
       "\n",
       "    .dataframe thead th {\n",
       "        text-align: right;\n",
       "    }\n",
       "</style>\n",
       "<table border=\"1\" class=\"dataframe\">\n",
       "  <thead>\n",
       "    <tr style=\"text-align: right;\">\n",
       "      <th></th>\n",
       "      <th>language</th>\n",
       "      <th>question</th>\n",
       "      <th>document_title</th>\n",
       "      <th>document</th>\n",
       "      <th>document_answer_region</th>\n",
       "    </tr>\n",
       "  </thead>\n",
       "  <tbody>\n",
       "    <tr>\n",
       "      <th>0</th>\n",
       "      <td>english</td>\n",
       "      <td>[When, was, quantum, field, theory, developed, ?]</td>\n",
       "      <td>[Quantum, field, theory]</td>\n",
       "      <td>[Quantum, field, theory, naturally, began, wit...</td>\n",
       "      <td>(26, 26)</td>\n",
       "    </tr>\n",
       "    <tr>\n",
       "      <th>1</th>\n",
       "      <td>english</td>\n",
       "      <td>[Who, was, the, first, Nobel, prize, winner, f...</td>\n",
       "      <td>[List, of, Nobel, laureates, in, Literature]</td>\n",
       "      <td>[The, Nobel, Prize, in, Literature, (, Swedish...</td>\n",
       "      <td>(12, 13)</td>\n",
       "    </tr>\n",
       "    <tr>\n",
       "      <th>2</th>\n",
       "      <td>english</td>\n",
       "      <td>[When, is, the, dialectical, method, used, ?]</td>\n",
       "      <td>[Dialectic]</td>\n",
       "      <td>[Dialectic, or, dialectics, (, Greek, :, διαλε...</td>\n",
       "      <td>(27, 49)</td>\n",
       "    </tr>\n",
       "    <tr>\n",
       "      <th>3</th>\n",
       "      <td>english</td>\n",
       "      <td>[Who, invented, Hangul, ?]</td>\n",
       "      <td>[Origin, of, Hangul]</td>\n",
       "      <td>[Hangul, was, personally, created, and, promul...</td>\n",
       "      <td>(16, 18)</td>\n",
       "    </tr>\n",
       "    <tr>\n",
       "      <th>4</th>\n",
       "      <td>english</td>\n",
       "      <td>[What, do, Grasshoppers, eat, ?]</td>\n",
       "      <td>[Grasshopper]</td>\n",
       "      <td>[Grasshoppers, are, plant, -, eaters, ,, with,...</td>\n",
       "      <td>(1, 37)</td>\n",
       "    </tr>\n",
       "    <tr>\n",
       "      <th>...</th>\n",
       "      <td>...</td>\n",
       "      <td>...</td>\n",
       "      <td>...</td>\n",
       "      <td>...</td>\n",
       "      <td>...</td>\n",
       "    </tr>\n",
       "    <tr>\n",
       "      <th>7384</th>\n",
       "      <td>english</td>\n",
       "      <td>[What, was, Neil, Brooks, ', fastest, recorded...</td>\n",
       "      <td>[Swimming, at, the, 1980, Summer, Olympics, –,...</td>\n",
       "      <td>[The, medley, relay, was, scheduled, in, the, ...</td>\n",
       "      <td>Annotation_error.UNANSWERED</td>\n",
       "    </tr>\n",
       "    <tr>\n",
       "      <th>7385</th>\n",
       "      <td>english</td>\n",
       "      <td>[Who, are, the, three, most, important, easter...</td>\n",
       "      <td>[Eastern, philosophy]</td>\n",
       "      <td>[Sāmkhya, is, a, dualist, philosophical, tradi...</td>\n",
       "      <td>Annotation_error.UNANSWERED</td>\n",
       "    </tr>\n",
       "    <tr>\n",
       "      <th>7386</th>\n",
       "      <td>english</td>\n",
       "      <td>[Who, was, costume, designer, for, the, first,...</td>\n",
       "      <td>[John, Mollo]</td>\n",
       "      <td>[Mollo, was, surprised, by, the, success, of, ...</td>\n",
       "      <td>Annotation_error.UNANSWERED</td>\n",
       "    </tr>\n",
       "    <tr>\n",
       "      <th>7387</th>\n",
       "      <td>english</td>\n",
       "      <td>[Who, developed, the, first, thermonuclear, we...</td>\n",
       "      <td>[History, of, nuclear, weapons]</td>\n",
       "      <td>[In, the, end, ,, President, Truman, made, the...</td>\n",
       "      <td>Annotation_error.UNANSWERED</td>\n",
       "    </tr>\n",
       "    <tr>\n",
       "      <th>7388</th>\n",
       "      <td>english</td>\n",
       "      <td>[What, is, the, population, of, Mahwah, ,, NJ, ?]</td>\n",
       "      <td>[Mahwah, ,, New, Jersey]</td>\n",
       "      <td>[The, previous, mayor, ,, Bill, Laforet, faced...</td>\n",
       "      <td>Annotation_error.UNANSWERED</td>\n",
       "    </tr>\n",
       "  </tbody>\n",
       "</table>\n",
       "<p>7389 rows × 5 columns</p>\n",
       "</div>"
      ],
      "text/plain": [
       "     language                                           question  \\\n",
       "0     english  [When, was, quantum, field, theory, developed, ?]   \n",
       "1     english  [Who, was, the, first, Nobel, prize, winner, f...   \n",
       "2     english      [When, is, the, dialectical, method, used, ?]   \n",
       "3     english                         [Who, invented, Hangul, ?]   \n",
       "4     english                   [What, do, Grasshoppers, eat, ?]   \n",
       "...       ...                                                ...   \n",
       "7384  english  [What, was, Neil, Brooks, ', fastest, recorded...   \n",
       "7385  english  [Who, are, the, three, most, important, easter...   \n",
       "7386  english  [Who, was, costume, designer, for, the, first,...   \n",
       "7387  english  [Who, developed, the, first, thermonuclear, we...   \n",
       "7388  english  [What, is, the, population, of, Mahwah, ,, NJ, ?]   \n",
       "\n",
       "                                         document_title  \\\n",
       "0                              [Quantum, field, theory]   \n",
       "1          [List, of, Nobel, laureates, in, Literature]   \n",
       "2                                           [Dialectic]   \n",
       "3                                  [Origin, of, Hangul]   \n",
       "4                                         [Grasshopper]   \n",
       "...                                                 ...   \n",
       "7384  [Swimming, at, the, 1980, Summer, Olympics, –,...   \n",
       "7385                              [Eastern, philosophy]   \n",
       "7386                                      [John, Mollo]   \n",
       "7387                    [History, of, nuclear, weapons]   \n",
       "7388                           [Mahwah, ,, New, Jersey]   \n",
       "\n",
       "                                               document  \\\n",
       "0     [Quantum, field, theory, naturally, began, wit...   \n",
       "1     [The, Nobel, Prize, in, Literature, (, Swedish...   \n",
       "2     [Dialectic, or, dialectics, (, Greek, :, διαλε...   \n",
       "3     [Hangul, was, personally, created, and, promul...   \n",
       "4     [Grasshoppers, are, plant, -, eaters, ,, with,...   \n",
       "...                                                 ...   \n",
       "7384  [The, medley, relay, was, scheduled, in, the, ...   \n",
       "7385  [Sāmkhya, is, a, dualist, philosophical, tradi...   \n",
       "7386  [Mollo, was, surprised, by, the, success, of, ...   \n",
       "7387  [In, the, end, ,, President, Truman, made, the...   \n",
       "7388  [The, previous, mayor, ,, Bill, Laforet, faced...   \n",
       "\n",
       "           document_answer_region  \n",
       "0                        (26, 26)  \n",
       "1                        (12, 13)  \n",
       "2                        (27, 49)  \n",
       "3                        (16, 18)  \n",
       "4                         (1, 37)  \n",
       "...                           ...  \n",
       "7384  Annotation_error.UNANSWERED  \n",
       "7385  Annotation_error.UNANSWERED  \n",
       "7386  Annotation_error.UNANSWERED  \n",
       "7387  Annotation_error.UNANSWERED  \n",
       "7388  Annotation_error.UNANSWERED  \n",
       "\n",
       "[7389 rows x 5 columns]"
      ]
     },
     "execution_count": 133,
     "metadata": {},
     "output_type": "execute_result"
    }
   ],
   "source": [
    "train_en"
   ]
  },
  {
   "cell_type": "code",
   "execution_count": 99,
   "id": "baa4d93e",
   "metadata": {},
   "outputs": [],
   "source": [
    "OOV_token = \"[OOV]\""
   ]
  },
  {
   "cell_type": "code",
   "execution_count": 100,
   "id": "ead86122",
   "metadata": {},
   "outputs": [],
   "source": [
    "def create_words_to_ids(word_lists):\n",
    "    word_to_ix = {}\n",
    "    for words in word_lists:\n",
    "        for word in words:\n",
    "            if word not in word_to_ix:\n",
    "                word_to_ix[word] = len(word_to_ix)\n",
    "    \n",
    "    if OOV_token not in word_to_ix:\n",
    "        word_to_ix[OOV_token] = len(word_to_ix)\n",
    "    \n",
    "    return word_to_ix"
   ]
  },
  {
   "cell_type": "code",
   "execution_count": 101,
   "id": "0e0a2495",
   "metadata": {},
   "outputs": [],
   "source": [
    "def get_word_id(word: str, word_to_ix):\n",
    "    return word_to_ix[word] if word in word_to_ix.keys() else len(word_to_ix) ## OOV token id"
   ]
  },
  {
   "cell_type": "code",
   "execution_count": 102,
   "id": "0f576b6c",
   "metadata": {},
   "outputs": [],
   "source": [
    "def make_bow_vector(sentence, word_to_ix):\n",
    "    vec = np.zeros(len(word_to_ix))\n",
    "    for word in sentence:\n",
    "        if word in word_to_ix.keys():\n",
    "            vec[word_to_ix[word]] += 1\n",
    "        else:\n",
    "            vec[word_to_ix[OOV_token]] += 1\n",
    "    return vec"
   ]
  },
  {
   "cell_type": "code",
   "execution_count": 103,
   "id": "eba1e9ba",
   "metadata": {},
   "outputs": [],
   "source": [
    "def get_bag_of_words(data_feature, word_ids):\n",
    "    X = np.empty((len(data_feature), len(word_ids)))\n",
    "    for i, _ in enumerate(data_feature):\n",
    "        X[i] = make_bow_vector(data_feature.iloc[i], word_ids)\n",
    "    return X"
   ]
  },
  {
   "cell_type": "code",
   "execution_count": 104,
   "id": "5d677ed3",
   "metadata": {},
   "outputs": [],
   "source": [
    "def get_lengths(data_feature):\n",
    "    return np.array([len(words) for words in data_feature])"
   ]
  },
  {
   "cell_type": "code",
   "execution_count": 105,
   "id": "813fdef7",
   "metadata": {},
   "outputs": [],
   "source": [
    "def count_word_overlaps(data_feature, reference_data_feature, normalize:bool = True): \n",
    "    assert(data_feature.shape[0] == reference_data_feature.shape[0])\n",
    "    \n",
    "    X = np.empty(data_feature.shape[0])\n",
    "    for i in range(data_feature.shape[0]):\n",
    "        word_ids = create_words_to_ids([reference_data_feature.iloc[i]])\n",
    "        X[i] = np.sum([token in word_ids.keys() for token in data_feature.iloc[i]]) # @TODO: skip first word and last word?\n",
    "        \n",
    "        if normalize:\n",
    "            size = len(data_feature.iloc[i])\n",
    "            X[i] /= size\n",
    "        \n",
    "    return X"
   ]
  },
  {
   "cell_type": "code",
   "execution_count": 106,
   "id": "69d546ea",
   "metadata": {},
   "outputs": [
    {
     "data": {
      "text/plain": [
       "array([0.42857143, 0.7       , 0.57142857, ..., 0.45454545, 0.28571429,\n",
       "       0.33333333])"
      ]
     },
     "execution_count": 106,
     "metadata": {},
     "output_type": "execute_result"
    }
   ],
   "source": [
    "count_word_overlaps(train_en['question'], train_en['document'])"
   ]
  },
  {
   "cell_type": "markdown",
   "id": "8d630b38",
   "metadata": {
    "id": "8d630b38"
   },
   "source": [
    "## Feature Exploration\n",
    "### Distributions over the number of words"
   ]
  },
  {
   "cell_type": "code",
   "execution_count": 107,
   "id": "f6b2864f",
   "metadata": {
    "id": "f6b2864f"
   },
   "outputs": [],
   "source": [
    "def plot_document_length_dist(dataset, title):\n",
    "    lengths = get_lengths(dataset['document'])\n",
    "\n",
    "    fig, ax = plt.subplots(figsize=(15,6))\n",
    "    ax.grid(linestyle=\"--\")\n",
    "    ax.set_title(title)\n",
    "    ax.set_ylabel(\"Percentage (%)\")\n",
    "    ax.set_xlabel(\"Number of tokens\")\n",
    "\n",
    "    ax.hist(lengths, bins=300, density=True) # let's use an histogram instead with fixed bins, since there is much variability.\n",
    "    \n",
    "    #ticks = np.linspace(min(uniques), max(uniques)+1, 10)\n",
    "    #ax.set_xticks(ticks)"
   ]
  },
  {
   "cell_type": "code",
   "execution_count": 108,
   "id": "26928e05",
   "metadata": {
    "id": "26928e05"
   },
   "outputs": [],
   "source": [
    "def plot_question_length_dist(dataset, title):\n",
    "    question_lengths = get_lengths(dataset['question'])\n",
    "\n",
    "    uniques, uniques_counts = np.unique(question_lengths, return_counts=True)\n",
    "    index_sorted = np.argsort(uniques, axis=None)\n",
    "\n",
    "    uniques_counts_percentage = uniques_counts / np.sum(uniques_counts) * 100\n",
    "\n",
    "    fig, ax = plt.subplots(figsize=(15,6))\n",
    "    ax.grid(linestyle=\"--\")\n",
    "    ax.set_title(title)\n",
    "    ax.set_ylabel(\"Percentage (%)\")\n",
    "    ax.set_xlabel(\"Number of tokens\")\n",
    "\n",
    "    x = uniques[index_sorted]\n",
    "    ax.bar(x, uniques_counts_percentage[index_sorted])\n",
    "    ticks = np.arange(min(uniques), max(uniques)+1, 1)\n",
    "    ax.set_xticks(ticks)"
   ]
  },
  {
   "cell_type": "markdown",
   "id": "4b798850",
   "metadata": {
    "id": "4b798850"
   },
   "source": [
    "#### English"
   ]
  },
  {
   "cell_type": "code",
   "execution_count": 109,
   "id": "a7f7a688",
   "metadata": {
    "colab": {
     "base_uri": "https://localhost:8080/",
     "height": 404
    },
    "id": "a7f7a688",
    "outputId": "2429bdae-795f-4277-f82f-7d5d88d1e0d5"
   },
   "outputs": [
    {
     "data": {
      "image/png": "[encoded data removed]",
      "text/plain": [
       "<Figure size 1500x600 with 1 Axes>"
      ]
     },
     "metadata": {},
     "output_type": "display_data"
    }
   ],
   "source": [
    "plot_question_length_dist(train_en, \"Question Lengths - English\")"
   ]
  },
  {
   "cell_type": "code",
   "execution_count": 110,
   "id": "b3ba631d",
   "metadata": {
    "colab": {
     "base_uri": "https://localhost:8080/",
     "height": 404
    },
    "id": "b3ba631d",
    "outputId": "eff2ebbe-2c39-4608-a007-5ffea4b0a2bd"
   },
   "outputs": [
    {
     "data": {
      "image/png": "[encoded data removed]",
      "text/plain": [
       "<Figure size 1500x600 with 1 Axes>"
      ]
     },
     "metadata": {},
     "output_type": "display_data"
    }
   ],
   "source": [
    "plot_document_length_dist(train_en, \"Document Lengths - English\")"
   ]
  },
  {
   "cell_type": "markdown",
   "id": "9f284adf",
   "metadata": {
    "id": "9f284adf"
   },
   "source": [
    "#### Finnish"
   ]
  },
  {
   "cell_type": "code",
   "execution_count": 111,
   "id": "49316827",
   "metadata": {
    "colab": {
     "base_uri": "https://localhost:8080/",
     "height": 404
    },
    "id": "49316827",
    "outputId": "472ecee0-7037-41ca-8461-78539fa5d29c"
   },
   "outputs": [
    {
     "data": {
      "image/png": "[encoded data removed]",
      "text/plain": [
       "<Figure size 1500x600 with 1 Axes>"
      ]
     },
     "metadata": {},
     "output_type": "display_data"
    }
   ],
   "source": [
    "plot_question_length_dist(train_fi, \"Question Lengths - Finnish\")"
   ]
  },
  {
   "cell_type": "code",
   "execution_count": 112,
   "id": "f93c5455",
   "metadata": {
    "colab": {
     "base_uri": "https://localhost:8080/",
     "height": 404
    },
    "id": "f93c5455",
    "outputId": "a830d870-8e40-4f2e-d2ea-bf3bec69c89d"
   },
   "outputs": [
    {
     "data": {
      "image/png": "[encoded data removed]",
      "text/plain": [
       "<Figure size 1500x600 with 1 Axes>"
      ]
     },
     "metadata": {},
     "output_type": "display_data"
    }
   ],
   "source": [
    "plot_document_length_dist(train_fi, \"Document Lengths - Finnish\")"
   ]
  },
  {
   "cell_type": "markdown",
   "id": "1e5acc50",
   "metadata": {
    "id": "1e5acc50"
   },
   "source": [
    "#### Japenese"
   ]
  },
  {
   "cell_type": "code",
   "execution_count": 113,
   "id": "fb8e6602",
   "metadata": {
    "colab": {
     "base_uri": "https://localhost:8080/",
     "height": 404
    },
    "id": "fb8e6602",
    "outputId": "596da800-740b-45db-ad4d-736327c789cb"
   },
   "outputs": [
    {
     "data": {
      "image/png": "[encoded data removed]",
      "text/plain": [
       "<Figure size 1500x600 with 1 Axes>"
      ]
     },
     "metadata": {},
     "output_type": "display_data"
    }
   ],
   "source": [
    "plot_question_length_dist(train_ja, \"Question Lengths - Japanese\")"
   ]
  },
  {
   "cell_type": "code",
   "execution_count": 114,
   "id": "312aafb3",
   "metadata": {
    "colab": {
     "base_uri": "https://localhost:8080/",
     "height": 404
    },
    "id": "312aafb3",
    "outputId": "2aed522a-ad92-47b2-e8ec-82735bfefdc8",
    "scrolled": true
   },
   "outputs": [
    {
     "data": {
      "image/png": "[encoded data removed]",
      "text/plain": [
       "<Figure size 1500x600 with 1 Axes>"
      ]
     },
     "metadata": {},
     "output_type": "display_data"
    }
   ],
   "source": [
    "plot_document_length_dist(train_ja, \"Document Lengths - Japenese\")"
   ]
  },
  {
   "cell_type": "markdown",
   "id": "be2640d4",
   "metadata": {
    "id": "be2640d4"
   },
   "source": [
    "### Features \n",
    "\n",
    "@TODO: plot distribution of whether question are answered based on the start word, \"How, when, Why\" etc\n",
    "\n",
    "#### Reason\n",
    "OK:\n",
    "- Bag of Words for Question tokens (some words are easier to answer, e.g. When vs How) (also with TF-IDF extension. however, no noticeable change! Actually a bit worse accuracy)\n",
    "- Number of tokens in document (A longer document is more likely to have the correct answer than a short document)\n",
    "- Number of tokens in question (A longer answer looks for a very specific answer)\n",
    "- (Proposed in project description) Answer overlap between document and text\n",
    "-----------------\n",
    "Ignored:\n",
    "- BoW for the document was not included as part of the features as 1. the memory was on exhausted both on a local machine and cloud machine. 2. BoW is likely a poor feature for question-answer classifiction problems, since this problem needs sentence context, in order to determine whether the question has been answered or not."
   ]
  },
  {
   "cell_type": "markdown",
   "id": "cf6f000c",
   "metadata": {
    "id": "cf6f000c"
   },
   "source": [
    "--------------------\n",
    "#### Memory getting exhausted"
   ]
  },
  {
   "cell_type": "code",
   "execution_count": 115,
   "id": "b21d364a",
   "metadata": {
    "id": "b21d364a"
   },
   "outputs": [],
   "source": [
    "# @Note: Too slow. This corresponds to the overlap between the two features and taking into account which words overlap\n",
    "# A simpler version is to give a single numeric value for the fractions of words overlapping.\n",
    "def get_bag_of_words_overlaps(data_feature_1, data_feature_2, word_ids):\n",
    "    bow_1 = get_bag_of_words(data_feature_1, word_ids)\n",
    "    bow_2 = get_bag_of_words(data_feature_2, word_ids)\n",
    "    return bow_1 * bow_2"
   ]
  },
  {
   "cell_type": "code",
   "execution_count": 116,
   "id": "76f38135",
   "metadata": {
    "id": "76f38135"
   },
   "outputs": [],
   "source": [
    "#word_ids_all = create_words_to_ids(pd.concat([train_en['question'], train_en['document'], validation_en['question'], validation_en['document']]))\n",
    "#print(\"{} unique words\".format(len(word_ids_all)))"
   ]
  },
  {
   "cell_type": "markdown",
   "id": "4aca113f",
   "metadata": {
    "id": "4aca113f"
   },
   "source": [
    "-----------------------\n"
   ]
  },
  {
   "cell_type": "markdown",
   "id": "6ecb7cfc",
   "metadata": {
    "id": "6ecb7cfc"
   },
   "source": [
    "## Q1.2a"
   ]
  },
  {
   "cell_type": "code",
   "execution_count": 117,
   "id": "a54ca306",
   "metadata": {
    "id": "a54ca306"
   },
   "outputs": [],
   "source": [
    "def get_X(dataset, training_word_ids):\n",
    "    q_bow = get_bag_of_words(dataset['question'], training_word_ids) # @Note: tokens not in the training dataset, meaning some tokens for the validation dataset, are not in this BOW vector.\n",
    "    document_lengths = get_lengths(dataset['document']).reshape((-1,1))\n",
    "    question_lengths = get_lengths(dataset['question']).reshape((-1,1))\n",
    "    word_overlap = count_word_overlaps(dataset['question'], dataset['document']).reshape((-1,1))\n",
    "\n",
    "    vectorizer = TfidfTransformer()\n",
    "    q_tf_idf = vectorizer.fit_transform(q_bow).toarray() # BoW -> TF-IDF\n",
    "\n",
    "    X = np.concatenate((q_tf_idf, document_lengths, question_lengths, word_overlap), axis=1)\n",
    "\n",
    "    return X"
   ]
  },
  {
   "cell_type": "code",
   "execution_count": 118,
   "id": "b536c321",
   "metadata": {},
   "outputs": [],
   "source": [
    "# If the question is answered, then predict \"1\". Otherwise predict \"0\".\n",
    "def get_target(dataset):\n",
    "    answer_set = dataset['document_answer_region']\n",
    "    y = np.empty(answer_set.shape[0], dtype=np.int32)\n",
    "\n",
    "    for i, answer in enumerate(answer_set):\n",
    "        if type(answer) == Annotation_error and answer == Annotation_error.UNANSWERED: # @TODO: if we don't do the annotation stuff, then we can check for -1 here\n",
    "            y[i] = 0\n",
    "        else:\n",
    "            y[i] = 1\n",
    "    return y"
   ]
  },
  {
   "cell_type": "code",
   "execution_count": 119,
   "id": "b93d4046",
   "metadata": {
    "id": "b93d4046"
   },
   "outputs": [],
   "source": [
    "def str_target_summary(y):\n",
    "    num_answered = np.sum(y == 1)\n",
    "    num_unanswered = np.sum(y == 0)\n",
    "    return \"Questions answered: {}, unanswered: {}.\".format(num_answered, num_unanswered)"
   ]
  },
  {
   "cell_type": "markdown",
   "id": "3a58263f",
   "metadata": {
    "id": "3a58263f"
   },
   "source": [
    "## Q1.2b+c"
   ]
  },
  {
   "cell_type": "code",
   "execution_count": 120,
   "id": "a9a48f5e",
   "metadata": {
    "id": "a9a48f5e"
   },
   "outputs": [],
   "source": [
    "def evaluate(y_pred, y_true):\n",
    "    report = classification_report(y_true, y_pred)\n",
    "    print(report)\n",
    "    \n",
    "    cm = confusion_matrix(y_true, y_pred) / len(y_pred) # normalize the confusion matrix\n",
    "    disp = ConfusionMatrixDisplay(confusion_matrix=cm)\n",
    "    disp.plot()\n",
    "    plt.title(\"Confusion Matrix\")\n",
    "    plt.show()"
   ]
  },
  {
   "cell_type": "code",
   "execution_count": 121,
   "id": "a1b7c094",
   "metadata": {
    "id": "a1b7c094"
   },
   "outputs": [],
   "source": [
    "def run_model(model, train, validation):\n",
    "    word_ids = create_words_to_ids(pd.concat([train['question']])) # , validation['question']\n",
    "    print(\"{} unique words\".format(len(word_ids)))\n",
    "    \n",
    "    X_train = get_X(train, word_ids)\n",
    "    y_train = get_target(train)\n",
    "\n",
    "    X_validation = get_X(validation, word_ids)\n",
    "    y_validation = get_target(validation)\n",
    "\n",
    "    print(\"train: \" + str_target_summary(y_train))\n",
    "    print(\"validation: \" + str_target_summary(y_validation))\n",
    "\n",
    "    model.fit(X_train, y_train)\n",
    "    \n",
    "    preds = model.predict(X_validation)\n",
    "    \n",
    "    evaluate(preds, y_validation)\n",
    "    \n",
    "    #return preds, y_validation\n",
    "    "
   ]
  },
  {
   "cell_type": "markdown",
   "id": "1241070b",
   "metadata": {
    "id": "1241070b"
   },
   "source": [
    "## English"
   ]
  },
  {
   "cell_type": "markdown",
   "id": "8bc178d8",
   "metadata": {
    "id": "8bc178d8"
   },
   "source": [
    "Let's do prediction on the validation set for each language and compute the accuracy."
   ]
  },
  {
   "cell_type": "code",
   "execution_count": 122,
   "id": "771ec4da",
   "metadata": {
    "colab": {
     "base_uri": "https://localhost:8080/",
     "height": 513
    },
    "id": "771ec4da",
    "outputId": "a3a32888-8b57-4a8f-a86d-4817d1bf0b3e"
   },
   "outputs": [
    {
     "name": "stdout",
     "output_type": "stream",
     "text": [
      "5046 unique words\n",
      "train: Questions answered: 3696, unanswered: 3693.\n",
      "validation: Questions answered: 495, unanswered: 495.\n",
      "              precision    recall  f1-score   support\n",
      "\n",
      "           0       0.73      0.71      0.72       495\n",
      "           1       0.71      0.73      0.72       495\n",
      "\n",
      "    accuracy                           0.72       990\n",
      "   macro avg       0.72      0.72      0.72       990\n",
      "weighted avg       0.72      0.72      0.72       990\n",
      "\n"
     ]
    },
    {
     "data": {
      "image/png": "[encoded data removed]",
      "text/plain": [
       "<Figure size 640x480 with 2 Axes>"
      ]
     },
     "metadata": {},
     "output_type": "display_data"
    }
   ],
   "source": [
    "model_en = RandomForestClassifier()\n",
    "run_model(model_en, train_en, validation_en) "
   ]
  },
  {
   "cell_type": "markdown",
   "id": "71868539",
   "metadata": {
    "id": "71868539"
   },
   "source": [
    "## Finnish"
   ]
  },
  {
   "cell_type": "code",
   "execution_count": 126,
   "id": "aa6b7a44",
   "metadata": {
    "colab": {
     "base_uri": "https://localhost:8080/",
     "height": 513
    },
    "id": "aa6b7a44",
    "outputId": "d4cb0654-c82e-4e12-8f8b-0c02ccaa6ae3"
   },
   "outputs": [
    {
     "name": "stdout",
     "output_type": "stream",
     "text": [
      "9941 unique words\n",
      "train: Questions answered: 6855, unanswered: 6846.\n",
      "validation: Questions answered: 843, unanswered: 843.\n",
      "              precision    recall  f1-score   support\n",
      "\n",
      "           0       0.71      0.80      0.75       843\n",
      "           1       0.77      0.67      0.71       843\n",
      "\n",
      "    accuracy                           0.73      1686\n",
      "   macro avg       0.74      0.73      0.73      1686\n",
      "weighted avg       0.74      0.73      0.73      1686\n",
      "\n"
     ]
    },
    {
     "data": {
      "image/png": "[encoded data removed]",
      "text/plain": [
       "<Figure size 640x480 with 2 Axes>"
      ]
     },
     "metadata": {},
     "output_type": "display_data"
    }
   ],
   "source": [
    "model_fi = RandomForestClassifier()\n",
    "run_model(model_fi, train_fi, validation_fi)"
   ]
  },
  {
   "cell_type": "markdown",
   "id": "04d2d533",
   "metadata": {
    "id": "04d2d533"
   },
   "source": [
    "## Japanese"
   ]
  },
  {
   "cell_type": "code",
   "execution_count": 127,
   "id": "3e78a29b",
   "metadata": {
    "colab": {
     "base_uri": "https://localhost:8080/",
     "height": 513
    },
    "id": "3e78a29b",
    "outputId": "78b764be-0370-46d6-85f4-87b6b9480c81"
   },
   "outputs": [
    {
     "name": "stdout",
     "output_type": "stream",
     "text": [
      "6100 unique words\n",
      "train: Questions answered: 4389, unanswered: 4389.\n",
      "validation: Questions answered: 518, unanswered: 518.\n",
      "              precision    recall  f1-score   support\n",
      "\n",
      "           0       0.67      0.67      0.67       518\n",
      "           1       0.67      0.67      0.67       518\n",
      "\n",
      "    accuracy                           0.67      1036\n",
      "   macro avg       0.67      0.67      0.67      1036\n",
      "weighted avg       0.67      0.67      0.67      1036\n",
      "\n"
     ]
    },
    {
     "data": {
      "image/png": "[encoded data removed]",
      "text/plain": [
       "<Figure size 640x480 with 2 Axes>"
      ]
     },
     "metadata": {},
     "output_type": "display_data"
    }
   ],
   "source": [
    "model_ja = RandomForestClassifier()\n",
    "run_model(model_ja, train_ja, validation_ja)"
   ]
  },
  {
   "cell_type": "markdown",
   "id": "974f3929",
   "metadata": {
    "id": "55d139f9"
   },
   "source": [
    "# 2. Representation Learning"
   ]
  },
  {
   "cell_type": "code",
   "execution_count": null,
   "id": "9d2e6336",
   "metadata": {
    "id": "9d2e6336"
   },
   "outputs": [],
   "source": [
    "def token_to_id(token, tok2vec):\n",
    "    assert OOV_id != None\n",
    "\n",
    "    try:\n",
    "        id = tok2vec.get_index(token)\n",
    "    except:\n",
    "        id = OOV_id # OOV\n",
    "    return id"
   ]
  },
  {
   "cell_type": "code",
   "execution_count": null,
   "id": "4153ddf2",
   "metadata": {
    "id": "4153ddf2"
   },
   "outputs": [],
   "source": [
    "def prepare_sample(question_tokens, document_tokens, tok2vec, question_max_length=512, document_max_length=1024):\n",
    "    question_ids = [token_to_id(token, tok2vec) for token in question_tokens[:question_max_length]]\n",
    "    document_ids = [token_to_id(token, tok2vec) for token in document_tokens[:document_max_length]]\n",
    "    return question_ids, len(question_ids), document_ids, len(document_ids)"
   ]
  },
  {
   "cell_type": "code",
   "execution_count": 61,
   "id": "51160c6a",
   "metadata": {
    "id": "51160c6a"
   },
   "outputs": [],
   "source": [
    "def pad_tokens(token_ids, token_lengths): # in a batch\n",
    "    assert pad_id != None\n",
    "    \n",
    "    max_length = max(token_lengths)\n",
    "    padded_ids = [(ids + [pad_id] * (max_length - len(ids))) for ids in token_ids]\n",
    "    \n",
    "    assert (all(len(padded) == max_length for padded in padded_ids))\n",
    "    \n",
    "    return padded_ids\n",
    "\n",
    "def collate_into_batch(raw_batch):\n",
    "    print(raw_batch)\n",
    "    question_tokens = [sample[0] for sample in raw_batch]\n",
    "    question_lengths = [sample[1] for sample in raw_batch]\n",
    "    question_ids = pad_tokens(question_tokens, question_lengths)\n",
    "    \n",
    "    document_tokens = [sample[2] for sample in raw_batch]\n",
    "    document_lengths = [sample[3] for sample in raw_batch]\n",
    "    document_ids = pad_tokens(document_tokens, document_lengths)\n",
    "    \n",
    "    targets = [sample[4] for sample in raw_batch]\n",
    "\n",
    "    return torch.tensor(question_ids), torch.tensor(question_lengths, dtype=torch.long), torch.tensor(document_ids), torch.tensor(document_lengths, dtype=torch.long), torch.tensor(targets, dtype=torch.long)"
   ]
  },
  {
   "cell_type": "code",
   "execution_count": null,
   "id": "a738580a",
   "metadata": {},
   "outputs": [],
   "source": []
  },
  {
   "cell_type": "markdown",
   "id": "b348c71f",
   "metadata": {},
   "source": [
    "## Q2A"
   ]
  },
  {
   "cell_type": "markdown",
   "id": "7c89d624",
   "metadata": {},
   "source": [
    "## Q2b"
   ]
  },
  {
   "cell_type": "code",
   "execution_count": 125,
   "id": "10bbee8c",
   "metadata": {
    "id": "10bbee8c"
   },
   "outputs": [],
   "source": [
    "class QuestionAnsweredDataset(Dataset):\n",
    "    \n",
    "    def __init__(self, df, tok2vec):\n",
    "        self.df = df\n",
    "        self.tok2vec = tok2vec\n",
    "        self.targets = get_target(df)\n",
    "        \n",
    "    def __len__(self):\n",
    "        return len(self.df)\n",
    "\n",
    "    def __getitem__(self, idx):\n",
    "        row = self.df.values[idx]\n",
    "        question_tokens = row[1]\n",
    "        document_tokens = row[3]\n",
    "        target = self.targets[idx]\n",
    "        \n",
    "        question_ids, question_lengths, document_ids, document_lengths = prepare_sample(question_tokens, document_tokens, self.tok2vec)\n",
    "        \n",
    "        return question_ids, question_lengths, document_ids, document_lengths, target"
   ]
  },
  {
   "cell_type": "code",
   "execution_count": 37,
   "id": "ef5df6d1",
   "metadata": {
    "id": "ef5df6d1"
   },
   "outputs": [],
   "source": [
    "class LSTM_Network(nn.Module):\n",
    "\n",
    "    def __init__(self, pretrained_embeddings: torch.tensor, lstm_dim: int = 100, n_classes: int = 2):\n",
    "        super(LSTM_Network, self).__init__()\n",
    "        \n",
    "        self.word_embeddings = nn.Embedding.from_pretrained(pretrained_embeddings)\n",
    "        self.lstm = nn.LSTM(pretrained_embeddings.shape[1], lstm_dim, batch_first=True)\n",
    "        self.linear = nn.Linear(2*lstm_dim, 72)\n",
    "        self.relu = nn.ReLU()\n",
    "        self.linear_out = nn.Linear(72, n_classes)\n",
    "\n",
    "    def forward(self, q_ids, q_lengths, d_ids, d_lengths):\n",
    "        q_embeds = self.word_embeddings(q_ids)\n",
    "        lstm_out, _ = self.lstm(q_embeds)\n",
    "        #q_ff_in = torch.max(lstm_out, 1)[0]\n",
    "        q_ff_in = lstm_out[range(lstm_out.shape[0]), (q_lengths-1).long(), :] # last unit\n",
    "        \n",
    "        d_embeds = self.word_embeddings(d_ids)\n",
    "        lstm_out, _ = self.lstm(d_embeds)\n",
    "        d_ff_in = torch.max(lstm_out, 1)[0]\n",
    "        \n",
    "        ff_in = torch.cat((q_ff_in, d_ff_in), dim=-1)\n",
    "        \n",
    "        x = self.linear(ff_in)\n",
    "        x = self.relu(x)\n",
    "        logits = self.linear_out(x)\n",
    "\n",
    "        return logits\n"
   ]
  },
  {
   "cell_type": "code",
   "execution_count": 38,
   "id": "7888de0e",
   "metadata": {
    "id": "7888de0e"
   },
   "outputs": [],
   "source": [
    "class BiLSTM_Network(nn.Module):\n",
    "\n",
    "    def __init__(self, pretrained_embeddings: torch.tensor, lstm_dim: int = 100, n_classes: int = 2):\n",
    "        super(BiLSTM_Network, self).__init__()\n",
    "\n",
    "        self.lstm_dim = lstm_dim\n",
    "        self.n_classes = n_classes\n",
    "        \n",
    "        self.embedding = nn.Embedding.from_pretrained(pretrained_embeddings, padding_idx=pretrained_embeddings.shape[0] - 1)\n",
    "        self.biLSTM = nn.LSTM(pretrained_embeddings.shape[1], lstm_dim, 1, batch_first=True, bidirectional=True)\n",
    "        self.linear = nn.Linear(2*2*lstm_dim, n_classes)\n",
    "        \n",
    "    def forward(self, q_ids, q_lengths, d_ids, d_lengths):\n",
    "        q_embeds = self.embedding(q_ids)\n",
    "        lstm_in = nn.utils.rnn.pack_padded_sequence(q_embeds, q_lengths.cpu(), batch_first=True, enforce_sorted=False)\n",
    "        lstm_out, _hidden = self.biLSTM(lstm_in)\n",
    "        lstm_out, _ = nn.utils.rnn.pad_packed_sequence(lstm_out, batch_first=True)\n",
    "        q_ff_in = torch.max(lstm_out, 1)[0]\n",
    "\n",
    "        d_embeds = self.embedding(d_ids)\n",
    "        lstm_in = nn.utils.rnn.pack_padded_sequence(d_embeds, d_lengths.cpu(), batch_first=True, enforce_sorted=False)\n",
    "        lstm_out, _hidden = self.biLSTM(lstm_in)\n",
    "        lstm_out, _ = nn.utils.rnn.pad_packed_sequence(lstm_out, batch_first=True)\n",
    "        d_ff_in = torch.max(lstm_out, 1)[0]\n",
    "\n",
    "        ff_in = torch.cat((q_ff_in, d_ff_in), dim=-1)\n",
    "        logits = self.linear(ff_in)\n",
    "        \n",
    "        return logits"
   ]
  },
  {
   "cell_type": "code",
   "execution_count": 39,
   "id": "aJwVfo2FPjfi",
   "metadata": {
    "id": "aJwVfo2FPjfi"
   },
   "outputs": [],
   "source": [
    "class Attentive_LSTM_Network(nn.Module):\n",
    "\n",
    "    # @TODO Bi!\n",
    "    def __init__(self, pretrained_embeddings: torch.tensor, n_classes: int = 2):\n",
    "        super(Attentive_LSTM_Network, self).__init__()\n",
    "\n",
    "        self.lstm_and_attention_dim = pretrained_embeddings.shape[1]\n",
    "        self.n_classes = n_classes\n",
    "\n",
    "        self.embedding = nn.Embedding.from_pretrained(pretrained_embeddings, padding_idx=pretrained_embeddings.shape[0] - 1)\n",
    "        self.q_biLSTM = nn.LSTM(pretrained_embeddings.shape[1], self.lstm_and_attention_dim, 1, batch_first=True, bidirectional=False)\n",
    "        self.doc_biLSTM = nn.LSTM(pretrained_embeddings.shape[1], self.lstm_and_attention_dim, 1, batch_first=True, bidirectional=False)\n",
    "        self.doc_attention = torchnlp.nn.Attention(self.lstm_and_attention_dim)\n",
    "        self.linear = nn.Linear(2*self.lstm_and_attention_dim, n_classes)\n",
    "        \n",
    "    def forward(self, q_ids, q_lengths, d_ids, d_lengths):\n",
    "        q_embeds = self.embedding(q_ids)\n",
    "        lstm_in = nn.utils.rnn.pack_padded_sequence(q_embeds, q_lengths.cpu(), batch_first=True, enforce_sorted=False)\n",
    "        lstm_out, _hidden = self.q_biLSTM(lstm_in)\n",
    "        lstm_out, _ = nn.utils.rnn.pad_packed_sequence(lstm_out, batch_first=True)\n",
    "        #q_ff_in = torch.max(lstm_out, 1)[0] # hidden unit with max value\n",
    "        q_ff_in = lstm_out[range(lstm_out.shape[0]), (q_lengths-1).long(), :] # last unit\n",
    "\n",
    "        d_embeds = self.embedding(d_ids)\n",
    "        lstm_in = nn.utils.rnn.pack_padded_sequence(d_embeds, d_lengths.cpu(), batch_first=True, enforce_sorted=False)\n",
    "        lstm_out, _hidden = self.doc_biLSTM(lstm_in)\n",
    "        lstm_out, _ = nn.utils.rnn.pad_packed_sequence(lstm_out, batch_first=True)\n",
    "\n",
    "        d_ff_in, weights = self.doc_attention(q_ff_in[:, None, :], lstm_out)\n",
    "        d_ff_in = d_ff_in[:,0,:] # only 1 query so extract that\n",
    "\n",
    "        ff_in = torch.cat((q_ff_in, d_ff_in), dim=-1)\n",
    "        logits = self.linear(ff_in)\n",
    "        \n",
    "        return logits"
   ]
  },
  {
   "cell_type": "code",
   "execution_count": 40,
   "id": "985c1223",
   "metadata": {
    "id": "985c1223"
   },
   "outputs": [],
   "source": [
    "def prepare_embedding_matrix(embed_matrix):\n",
    "    embed_dim = embed_matrix.shape[1]\n",
    "    pad = torch.zeros(embed_dim, dtype=torch.float32)\n",
    "    OOV = torch.zeros(embed_dim, dtype=torch.float32)\n",
    "    embed_pre = torch.tensor(embed_matrix, dtype=torch.float32)\n",
    "    \n",
    "    OOV_id = embed_pre.shape[0]           \n",
    "    pad_id = embed_pre.shape[0] + 1\n",
    "                 \n",
    "    return torch.vstack((embed_pre, pad, OOV)), pad_id, OOV_id"
   ]
  },
  {
   "cell_type": "code",
   "execution_count": 41,
   "id": "04081f93",
   "metadata": {
    "id": "04081f93"
   },
   "outputs": [],
   "source": [
    "def test_forward_pass(model: nn.Module):\n",
    "    \"\"\"\n",
    "    A simple function to quickly debug the net\n",
    "    \"\"\"\n",
    "    # Test the forward pass with dummy data\n",
    "    q = torch.tensor([[42, 1, 8, 0]], dtype=torch.int).to(device)\n",
    "    q_lengths = torch.tensor([3], dtype=torch.int).to(device)\n",
    "    d = torch.tensor([[42, 1, 8, 0]], dtype=torch.int).to(device)\n",
    "    d_lengths = torch.tensor([3], dtype=torch.int).to(device)\n",
    "\n",
    "    out = model.forward(q, q_lengths, d, d_lengths)\n",
    "\n",
    "    print(\"Output shape:\", out.size())\n",
    "    print(f\"Output logits:\\n{out.cpu().detach().numpy()}\")"
   ]
  },
  {
   "cell_type": "code",
   "execution_count": 42,
   "id": "f939ab75",
   "metadata": {
    "id": "f939ab75"
   },
   "outputs": [],
   "source": [
    "def summarize_batch(q_ids, q_lengths, d_ids, d_lengths):\n",
    "    assert pad_id != None\n",
    "\n",
    "    ### question\n",
    "    actual_length = torch.sum(q_lengths)\n",
    "    total_length = np.sum([len(question) for question in q_ids])\n",
    "    \n",
    "    print(\"### Question ###\")\n",
    "\n",
    "    OOV_count = np.sum([torch.sum(question == OOV_id) for question in q_ids])\n",
    "    print(\"OOV: {}/{} {:.2f}%\".format(OOV_count, total_length, OOV_count / total_length * 100.))\n",
    "    \n",
    "    pad_count = np.sum([torch.sum(question == pad_id) for question in q_ids])\n",
    "    print(\"PAD: {}/{} {:.2f}%\".format(pad_count, total_length, pad_count / total_length * 100.))\n",
    "\n",
    "    ## document\n",
    "    actual_length = torch.sum(d_lengths)\n",
    "    total_length = np.sum([len(question) for question in d_ids])\n",
    "    \n",
    "    print(\"\\n### Document ###\")\n",
    "\n",
    "    OOV_count = np.sum([torch.sum(ids == OOV_id) for ids in d_ids])\n",
    "    print(\"OOV: {}/{} {:.2f}%\".format(OOV_count, total_length, OOV_count / total_length * 100.))\n",
    "    \n",
    "    pad_count = np.sum([torch.sum(ids == pad_id) for ids in d_ids])\n",
    "    print(\"PAD: {}/{} {:.2f}%\".format(pad_count, total_length, pad_count / total_length * 100.))   \n",
    "    "
   ]
  },
  {
   "cell_type": "code",
   "execution_count": 128,
   "id": "46Mk3W-gRKaz",
   "metadata": {
    "id": "46Mk3W-gRKaz"
   },
   "outputs": [],
   "source": [
    "tok2vec = compress_fasttext.models.CompressedFastTextKeyedVectors.load(\"../resources/fasttext-en-mini\")\n",
    "pretrained_embeddings, pad_id, OOV_id = prepare_embedding_matrix(tok2vec.get_normed_vectors())\n",
    "train_dataset = QuestionAnsweredDataset(train_en, tok2vec)"
   ]
  },
  {
   "cell_type": "code",
   "execution_count": 161,
   "id": "ccc64cfa",
   "metadata": {},
   "outputs": [
    {
     "name": "stdout",
     "output_type": "stream",
     "text": [
      "[[array([1, 2, 3]) 1]\n",
      " [array([1, 2, 3]) 1]\n",
      " [array([1, 2, 3]) 1]\n",
      " ...\n",
      " [array([1, 2, 3]) 0]\n",
      " [array([1, 2, 3]) 0]\n",
      " [array([1, 2, 3]) 0]]\n"
     ]
    },
    {
     "name": "stderr",
     "output_type": "stream",
     "text": [
      "C:\\ProgramData\\Anaconda3\\envs\\nlp_qa\\lib\\site-packages\\ipykernel_launcher.py:6: VisibleDeprecationWarning: Creating an ndarray from ragged nested sequences (which is a list-or-tuple of lists-or-tuples-or ndarrays with different lengths or shapes) is deprecated. If you meant to do this, you must specify 'dtype=object' when creating the ndarray.\n",
      "  \n"
     ]
    }
   ],
   "source": [
    "\n",
    "concatted = []\n",
    "for _, l, _, _, t in train_dataset:\n",
    "    a = np.array([1,2,3])\n",
    "    concatted.append((a,t))\n",
    "\n",
    "print(np.array(concatted))\n",
    "#torch.tensor(concatted[])"
   ]
  },
  {
   "cell_type": "code",
   "execution_count": 68,
   "id": "51Mg0x3tVAyO",
   "metadata": {
    "id": "51Mg0x3tVAyO"
   },
   "outputs": [],
   "source": [
    "def batchify(dataset):\n",
    "    \"\"\"Turns a list of samples into a tensor of samples\"\"\"\n",
    "    assert pad_id != None\n",
    "    assert OOV_id != None\n",
    "\n",
    "    samples = []\n",
    "    for sample in dataset:\n",
    "        samples.append(sample)\n",
    "\n",
    "    return collate_into_batch(samples)"
   ]
  },
  {
   "cell_type": "code",
   "execution_count": 69,
   "id": "1Bslloc9RXVe",
   "metadata": {
    "id": "1Bslloc9RXVe"
   },
   "outputs": [
    {
     "name": "stdout",
     "output_type": "stream",
     "text": [
      "[ 0.1544919   0.15757444  0.56107866 ... 30.          7.\n",
      "  0.42857143]\n",
      "[0.00000000e+00 1.30804527e-01 0.00000000e+00 ... 1.88000000e+02\n",
      " 1.00000000e+01 7.00000000e-01]\n",
      "[  0.16326708   0.           0.         ... 112.           7.\n",
      "   0.57142857]\n",
      "[ 0.    0.    0.   ... 69.    4.    0.25]\n",
      "[  0.    0.    0.  ... 131.    5.    0.2]\n",
      "[  0.    0.    0.  ... 115.   10.    0.6]\n",
      "[ 0.13406945  0.13674451  0.         ... 84.          8.\n",
      "  0.625     ]\n",
      "[ 0.12137986  0.          0.         ... 67.         10.\n",
      "  0.5       ]\n",
      "[  0.           0.           0.         ... 143.           6.\n",
      "   0.33333333]\n",
      "[ 0.17009096  0.17348474  0.         ... 67.          7.\n",
      "  0.42857143]\n",
      "[  0.           0.           0.         ... 103.           9.\n",
      "   0.33333333]\n",
      "[ 0.11133861  0.          0.         ... 78.         12.\n",
      "  0.58333333]\n",
      "[  0.           0.           0.         ... 156.           9.\n",
      "   0.55555556]\n",
      "[ 0.15541595  0.15851693  0.         ... 65.          9.\n",
      "  0.55555556]\n",
      "[ 0.   0.   0.  ... 97.  10.   0.7]\n",
      "[ 0.11359707  0.11586364  0.         ... 79.         12.\n",
      "  0.58333333]\n",
      "[1.16914465e-01 1.19247233e-01 0.00000000e+00 ... 1.98000000e+02\n",
      " 1.00000000e+01 8.00000000e-01]\n",
      "[ 0.          0.12931933  0.         ... 41.          9.\n",
      "  0.44444444]\n",
      "[ 0.     0.     0.    ... 63.     8.     0.375]\n",
      "[  0.           0.           0.         ... 152.          13.\n",
      "   0.69230769]\n",
      "[  0.           0.           0.         ... 137.           7.\n",
      "   0.57142857]\n",
      "[  0.      0.      0.    ... 152.      8.      0.375]\n",
      "[ 0.17024922  0.17364616  0.         ... 44.          6.\n",
      "  0.33333333]\n",
      "[ 0.19923791  0.          0.         ... 47.          5.\n",
      "  0.2       ]\n",
      "[ 0.   0.   0.  ... 65.   8.   0.5]\n",
      "[ 0.          0.          0.         ... 99.          6.\n",
      "  0.33333333]\n",
      "[ 0.          0.13024246  0.         ... 76.         10.\n",
      "  0.5       ]\n",
      "[ 0.          0.14640415  0.         ... 54.          8.\n",
      "  0.625     ]\n",
      "[ 0.          0.          0.         ... 52.          9.\n",
      "  0.66666667]\n",
      "[ 0.          0.15318285  0.         ... 69.         10.\n",
      "  0.7       ]\n",
      "[  0.15250472   0.15554761   0.         ... 110.           8.\n",
      "   0.625     ]\n",
      "[ 0.11421666  0.          0.         ... 76.          9.\n",
      "  0.33333333]\n",
      "[ 0.  0.  0. ... 43.  7.  0.]\n",
      "[ 0.   0.   0.  ... 99.  10.   0.5]\n",
      "[0.00000000e+00 1.61205994e-01 0.00000000e+00 ... 2.28000000e+02\n",
      " 9.00000000e+00 6.66666667e-01]\n",
      "[  0.           0.           0.         ... 402.          11.\n",
      "   0.54545455]\n",
      "[  0.           0.           0.         ... 155.           9.\n",
      "   0.77777778]\n",
      "[  0.    0.    0.  ... 198.   10.    0.4]\n",
      "[ 0.14641164  0.          0.         ... 68.          8.\n",
      "  0.5       ]\n",
      "[  0.           0.           0.         ... 116.           7.\n",
      "   0.57142857]\n",
      "[  0.    0.    0.  ... 140.    5.    0.4]\n",
      "[ 0.16275353  0.16600091  0.         ... 47.          8.\n",
      "  0.75      ]\n",
      "[ 0.   0.   0.  ... 76.   8.   0.5]\n",
      "[  0.19216312   0.           0.         ... 155.           5.\n",
      "   0.2       ]\n",
      "[ 0.21049797  0.          0.         ... 97.          5.\n",
      "  0.2       ]\n",
      "[ 0.          0.          0.         ... 52.          6.\n",
      "  0.16666667]\n",
      "[  0.1735049    0.           0.         ... 137.           6.\n",
      "   0.66666667]\n",
      "[  0.           0.           0.         ... 208.           9.\n",
      "   0.77777778]\n",
      "[1.67786939e-01 0.00000000e+00 0.00000000e+00 ... 2.32000000e+02\n",
      " 7.00000000e+00 5.71428571e-01]\n",
      "[1.76557352e-01 1.80080161e-01 0.00000000e+00 ... 3.76000000e+02\n",
      " 7.00000000e+00 5.71428571e-01]\n",
      "[ 0.          0.          0.         ... 42.          7.\n",
      "  0.28571429]\n",
      "[9.95523514e-02 0.00000000e+00 0.00000000e+00 ... 1.19000000e+02\n",
      " 1.40000000e+01 6.42857143e-01]\n",
      "[  0.           0.           0.         ... 107.           7.\n",
      "   0.14285714]\n",
      "[ 0.14931242  0.15229162  0.         ... 28.          9.\n",
      "  0.55555556]\n",
      "[1.14420946e-01 0.00000000e+00 0.00000000e+00 ... 1.32000000e+02\n",
      " 1.00000000e+01 5.00000000e-01]\n",
      "[ 0.          0.          0.         ... 76.          9.\n",
      "  0.77777778]\n",
      "[ 0.   0.   0.  ... 57.   5.   0.6]\n",
      "[ 0.          0.          0.         ... 79.          6.\n",
      "  0.66666667]\n",
      "[ 0.16080517  0.          0.         ... 82.          7.\n",
      "  0.42857143]\n",
      "[ 0.          0.          0.         ... 84.          6.\n",
      "  0.33333333]\n",
      "[  0.    0.    0.  ... 142.   12.    0.5]\n",
      "[ 0.   0.   0.  ... 98.   5.   0.4]\n",
      "[  0.     0.     0.   ... 174.     8.     0.75]\n",
      "[ 0.13463807  0.13732448  0.         ... 99.          8.\n",
      "  0.625     ]\n",
      "[  0.           0.           0.         ... 115.          11.\n",
      "   0.54545455]\n",
      "[ 0.13870402  0.14147155  0.         ... 52.          7.\n",
      "  0.42857143]\n",
      "[ 0.   0.   0.  ... 76.   5.   0.4]\n",
      "[ 0.    0.    0.   ... 92.    4.    0.25]\n",
      "[ 0.          0.          0.         ... 39.         12.\n",
      "  0.66666667]\n",
      "[9.39385156e-02 0.00000000e+00 0.00000000e+00 ... 1.04000000e+02\n",
      " 1.10000000e+01 3.63636364e-01]\n",
      "[ 0.   0.   0.  ... 85.   8.   0.5]\n",
      "[  0.    0.    0.  ... 232.   10.    0.5]\n",
      "[ 0.12519912  0.          0.         ... 54.          9.\n",
      "  0.44444444]\n",
      "[ 0.          0.13642633  0.         ... 86.          9.\n",
      "  0.55555556]\n",
      "[  0.1683237    0.           0.         ... 134.           7.\n",
      "   0.42857143]\n",
      "[  0.           0.           0.         ... 170.          11.\n",
      "   0.36363636]\n",
      "[  0.           0.           0.         ... 169.           6.\n",
      "   0.33333333]\n",
      "[ 0.14544958  0.1483517   0.         ... 83.         10.\n",
      "  0.5       ]\n",
      "[  0.           0.           0.         ... 159.           6.\n",
      "   0.33333333]\n",
      "[ 0.    0.    0.   ... 69.    8.    0.75]\n",
      "[  0.    0.    0.  ... 104.    8.    0.5]\n",
      "[  0.17809701   0.18165054   0.         ... 121.           6.\n",
      "   0.5       ]\n",
      "[ 0.          0.10181654  0.         ... 29.         12.\n",
      "  0.75      ]\n",
      "[  0.           0.           0.         ... 115.           7.\n",
      "   0.71428571]\n",
      "[  0.           0.           0.         ... 216.          14.\n",
      "   0.64285714]\n",
      "[ 0.          0.          0.         ... 71.          7.\n",
      "  0.57142857]\n",
      "[ 0.          0.          0.         ... 63.          7.\n",
      "  0.14285714]\n",
      "[1.36974585e-01 0.00000000e+00 0.00000000e+00 ... 2.19000000e+02\n",
      " 9.00000000e+00 3.33333333e-01]\n",
      "[  0.           0.           0.         ... 177.           9.\n",
      "   0.33333333]\n",
      "[1.02008273e-01 1.04043622e-01 0.00000000e+00 ... 1.77000000e+02\n",
      " 1.00000000e+01 7.00000000e-01]\n",
      "[  0.    0.    0.  ... 124.   10.    0.2]\n",
      "[ 0.          0.          0.         ... 75.          7.\n",
      "  0.57142857]\n",
      "[  0.      0.      0.    ... 219.      8.      0.625]\n",
      "[  0.    0.    0.  ... 312.   10.    0.5]\n",
      "[  0.    0.    0.  ... 116.    8.    0.5]\n",
      "[  0.12945907   0.           0.         ... 123.          10.\n",
      "   0.5       ]\n",
      "[ 0.12126376  0.12368331  0.         ... 69.          9.\n",
      "  0.55555556]\n",
      "[ 0.          0.          0.         ... 27.          7.\n",
      "  0.42857143]\n",
      "[  0.14168988   0.14451699   0.         ... 131.           8.\n",
      "   0.75      ]\n",
      "[ 0.  0.  0. ... 73.  5.  0.]\n",
      "[ 0.          0.          0.         ... 51.          7.\n",
      "  0.71428571]\n",
      "[1.28216621e-01 1.30774898e-01 0.00000000e+00 ... 1.39000000e+02\n",
      " 1.00000000e+01 6.00000000e-01]\n",
      "[ 0.          0.          0.         ... 16.          9.\n",
      "  0.44444444]\n",
      "[  0.           0.16562144   0.         ... 135.          10.\n",
      "   0.4       ]\n",
      "[  0.      0.      0.    ... 132.      8.      0.375]\n",
      "[ 0.          0.          0.         ... 83.         11.\n",
      "  0.81818182]\n",
      "[  0.           0.           0.         ... 126.           7.\n",
      "   0.57142857]\n",
      "[ 0.          0.          0.         ... 69.          9.\n",
      "  0.66666667]\n",
      "[1.56096108e-01 0.00000000e+00 0.00000000e+00 ... 2.01000000e+02\n",
      " 9.00000000e+00 3.33333333e-01]\n",
      "[1.16823498e-01 0.00000000e+00 0.00000000e+00 ... 1.65000000e+02\n",
      " 9.00000000e+00 5.55555556e-01]\n",
      "[  0.           0.           0.         ... 117.          11.\n",
      "   0.36363636]\n",
      "[ 0.          0.12278917  0.         ... 72.         11.\n",
      "  0.63636364]\n",
      "[  0.15485845   0.           0.         ... 122.           8.\n",
      "   0.375     ]\n",
      "[ 0.  0.  0. ... 87.  8.  0.]\n",
      "[  0.15004997   0.15304388   0.         ... 115.           8.\n",
      "   0.75      ]\n",
      "[  0.           0.           0.         ... 154.           9.\n",
      "   0.55555556]\n",
      "[1.48543352e-01 1.51507204e-01 0.00000000e+00 ... 1.70000000e+02\n",
      " 7.00000000e+00 5.71428571e-01]\n",
      "[  0.           0.           0.         ... 167.           6.\n",
      "   0.66666667]\n",
      "[ 0.16107005  0.16428384  0.         ... 48.          7.\n",
      "  0.14285714]\n",
      "[  0.           0.           0.         ... 153.          11.\n",
      "   0.54545455]\n",
      "[  0.    0.    0.  ... 171.   10.    0.2]\n",
      "[ 0.12703216  0.1295668   0.         ... 84.         10.\n",
      "  0.5       ]\n",
      "[ 0.   0.   0.  ... 87.   6.   0.5]\n",
      "[ 0.          0.          0.         ... 76.          9.\n",
      "  0.11111111]\n",
      "[  0.     0.     0.   ... 203.     4.     0.25]\n",
      "[  0.14675025   0.14967833   0.         ... 144.           8.\n",
      "   0.625     ]\n",
      "[  0.      0.      0.    ... 113.      8.      0.625]\n",
      "[ 0.   0.   0.  ... 52.   6.   0.5]\n",
      "[  0.           0.           0.         ... 104.           6.\n",
      "   0.66666667]\n",
      "[ 0.   0.   0.  ... 99.  10.   0.3]\n",
      "[ 0.          0.          0.         ... 74.          9.\n",
      "  0.55555556]\n",
      "[6.66003272e-02 6.79291885e-02 0.00000000e+00 ... 1.29000000e+02\n",
      " 1.50000000e+01 7.33333333e-01]\n",
      "[ 0.          0.15123924  0.         ... 52.          7.\n",
      "  0.71428571]\n",
      "[0.00e+00 0.00e+00 0.00e+00 ... 8.46e+02 1.00e+01 6.00e-01]\n",
      "[ 0.19877062  0.          0.         ... 60.          6.\n",
      "  0.33333333]\n",
      "[ 0.   0.   0.  ... 54.   5.   0.4]\n",
      "[  0.15795331   0.16110491   0.         ... 107.           8.\n",
      "   0.25      ]\n",
      "[ 0.          0.          0.         ... 75.          7.\n",
      "  0.71428571]\n",
      "[  0.           0.           0.         ... 135.           9.\n",
      "   0.33333333]\n",
      "[ 0.          0.          0.         ... 83.         11.\n",
      "  0.45454545]\n",
      "[  0.1523657    0.15540582   0.         ... 107.           8.\n",
      "   0.375     ]\n",
      "[ 0.17031122  0.          0.         ... 84.          6.\n",
      "  0.33333333]\n",
      "[  0.           0.           0.         ... 147.           7.\n",
      "   0.57142857]\n",
      "[ 0.          0.          0.         ... 91.          7.\n",
      "  0.42857143]\n",
      "[1.86943239e-01 1.90673275e-01 0.00000000e+00 ... 2.75000000e+02\n",
      " 6.00000000e+00 3.33333333e-01]\n",
      "[  0.           0.           0.         ... 179.           6.\n",
      "   0.33333333]\n",
      "[  0.           0.           0.         ... 172.          12.\n",
      "   0.83333333]\n",
      "[ 0.          0.          0.         ... 77.          7.\n",
      "  0.42857143]\n",
      "[ 0.          0.          0.         ... 66.          7.\n",
      "  0.28571429]\n",
      "[ 0.     0.     0.    ... 54.     8.     0.125]\n",
      "[ 0.   0.   0.  ... 79.  10.   0.8]\n",
      "[  0.           0.           0.         ... 128.           6.\n",
      "   0.66666667]\n",
      "[ 0.   0.   0.  ... 60.  10.   0.6]\n",
      "[  0.           0.           0.         ... 199.           6.\n",
      "   0.33333333]\n",
      "[  0.     0.     0.   ... 115.     4.     0.25]\n",
      "[ 0.          0.17819989  0.         ... 54.          8.\n",
      "  0.75      ]\n",
      "[ 0.  0.  0. ... 84. 10.  0.]\n",
      "[1.38228994e-01 1.40987046e-01 0.00000000e+00 ... 1.60000000e+02\n",
      " 8.00000000e+00 3.75000000e-01]\n",
      "[6.18877372e-02 0.00000000e+00 0.00000000e+00 ... 7.00000000e+01\n",
      " 2.30000000e+01 7.82608696e-01]\n",
      "[0.00000000e+00 1.34352753e-01 0.00000000e+00 ... 2.15000000e+02\n",
      " 1.10000000e+01 8.18181818e-01]\n",
      "[  0.16880508   0.17217321   0.         ... 147.           6.\n",
      "   0.66666667]\n",
      "[  0.17171385   0.           0.         ... 134.           7.\n",
      "   0.28571429]\n",
      "[ 0.          0.          0.         ... 41.          7.\n",
      "  0.71428571]\n",
      "[1.41223864e-01 1.44041671e-01 0.00000000e+00 ... 2.48000000e+02\n",
      " 8.00000000e+00 6.25000000e-01]\n",
      "[  0.14673856   0.           0.         ... 123.           7.\n",
      "   0.28571429]\n",
      "[  0.     0.     0.   ... 113.     8.     0.75]\n",
      "[8.96003519e-02 0.00000000e+00 0.00000000e+00 ... 1.29000000e+02\n",
      " 1.40000000e+01 7.85714286e-01]\n",
      "[ 0.          0.17260978  0.         ... 71.          7.\n",
      "  0.57142857]\n",
      "[  0.   0.   0. ... 107.   5.   0.]\n",
      "[  0.    0.    0.  ... 268.    6.    0.5]\n",
      "[  0.    0.    0.  ... 103.   10.    0.2]\n",
      "[0.00000000e+00 1.35049004e-01 0.00000000e+00 ... 3.26000000e+02\n",
      " 1.00000000e+01 0.00000000e+00]\n",
      "[  0.           0.           0.         ... 183.           9.\n",
      "   0.44444444]\n",
      "[  0.           0.           0.         ... 107.           7.\n",
      "   0.42857143]\n",
      "[ 0.   0.   0.  ... 61.   5.   0.6]\n",
      "[ 0.15545301  0.15855473  0.         ... 69.          6.\n",
      "  0.66666667]\n",
      "[  0.           0.13480022   0.         ... 103.          10.\n",
      "   0.4       ]\n",
      "[  0.           0.           0.         ... 158.          11.\n",
      "   0.54545455]\n",
      "[ 0.   0.   0.  ... 45.  10.   0.4]\n",
      "[ 0.  0.  0. ... 12.  6.  0.]\n",
      "[  0.14844755   0.           0.         ... 144.           8.\n",
      "   0.5       ]\n",
      "[ 0.          0.10426324  0.         ... 67.         11.\n",
      "  0.81818182]\n",
      "[ 0.17534161  0.17884016  0.         ... 51.          7.\n",
      "  0.57142857]\n",
      "[  0.    0.    0.  ... 131.    8.    0.5]\n",
      "[  0.17117608   0.17459152   0.         ... 110.           8.\n",
      "   0.375     ]\n",
      "[  0.20556443   0.20966601   0.         ... 132.           5.\n",
      "   0.6       ]\n",
      "[ 0.          0.          0.         ... 30.          7.\n",
      "  0.14285714]\n",
      "[  0.    0.    0.  ... 109.   10.    0.8]\n",
      "[1.16209689e-01 0.00000000e+00 0.00000000e+00 ... 2.54000000e+02\n",
      " 1.10000000e+01 5.45454545e-01]\n",
      "[ 0.          0.13808754  0.         ... 84.         10.\n",
      "  0.5       ]\n",
      "[  0.           0.           0.         ... 149.           7.\n",
      "   0.57142857]\n",
      "[  0.15144273   0.15446443   0.         ... 102.           8.\n",
      "   0.75      ]\n",
      "[  0.11902259   0.12139742   0.         ... 102.           9.\n",
      "   0.66666667]\n",
      "[9.17500335e-02 0.00000000e+00 0.00000000e+00 ... 1.18000000e+02\n",
      " 1.60000000e+01 6.87500000e-01]\n",
      "[0.00000000e+00 0.00000000e+00 0.00000000e+00 ... 1.56000000e+02\n",
      " 9.00000000e+00 1.11111111e-01]\n",
      "[  0.           0.           0.         ... 138.           7.\n",
      "   0.14285714]\n",
      "[ 0.         0.1725782  0.        ... 86.         6.         0.5      ]\n",
      "[  0.           0.           0.         ... 121.           9.\n",
      "   0.66666667]\n",
      "[ 0.          0.          0.         ... 63.         13.\n",
      "  0.53846154]\n",
      "[ 0.19221737  0.19605264  0.         ... 83.          7.\n",
      "  0.57142857]\n",
      "[  0.16477567   0.1680634    0.         ... 147.           7.\n",
      "   0.85714286]\n",
      "[0.00000000e+00 1.56767646e-01 0.00000000e+00 ... 1.62000000e+02\n",
      " 7.00000000e+00 5.71428571e-01]\n",
      "[  0.           0.           0.         ... 270.          13.\n",
      "   0.61538462]\n",
      "[ 0.13630613  0.          0.         ... 87.          9.\n",
      "  0.33333333]\n",
      "[9.73709863e-02 9.93138076e-02 0.00000000e+00 ... 1.26000000e+02\n",
      " 1.30000000e+01 6.15384615e-01]\n",
      "[ 0.          0.14485721  0.         ... 84.          8.\n",
      "  0.375     ]\n",
      "[  0.     0.     0.   ... 204.    16.     0.75]\n",
      "[1.04892386e-01 0.00000000e+00 0.00000000e+00 ... 1.86000000e+02\n",
      " 1.10000000e+01 4.54545455e-01]\n",
      "[  0.      0.      0.    ... 275.      8.      0.625]\n",
      "[  0.    0.    0.  ... 101.    8.    0.5]\n",
      "[ 0.          0.          0.         ... 34.         14.\n",
      "  0.14285714]\n",
      "[ 0.          0.17204979  0.         ... 79.          7.\n",
      "  0.42857143]\n",
      "[ 0.   0.   0.  ... 50.   4.   0.5]\n",
      "[ 0.          0.          0.         ... 71.         11.\n",
      "  0.36363636]\n",
      "[  0.           0.           0.         ... 159.           7.\n",
      "   0.42857143]\n",
      "[1.93134350e-01 0.00000000e+00 0.00000000e+00 ... 2.06000000e+02\n",
      " 7.00000000e+00 5.71428571e-01]\n",
      "[ 0.          0.          0.         ... 46.          6.\n",
      "  0.16666667]\n",
      "[1.50143386e-01 1.53139164e-01 0.00000000e+00 ... 1.80000000e+02\n",
      " 7.00000000e+00 5.71428571e-01]\n",
      "[  0.    0.    0.  ... 170.    5.    0.2]\n",
      "[ 0.          0.          0.         ... 88.          9.\n",
      "  0.33333333]\n",
      "[  0.           0.20406983   0.         ... 102.           7.\n",
      "   0.71428571]\n",
      "[  0.    0.    0.  ... 162.    4.    0.5]\n",
      "[ 0.   0.   0.  ... 84.   5.   0.2]\n",
      "[  0.      0.      0.    ... 133.      8.      0.625]\n",
      "[  0.           0.           0.         ... 178.          11.\n",
      "   0.18181818]\n",
      "[ 0.   0.   0.  ... 95.  10.   0.3]\n",
      "[ 0.  0.  0. ... 20.  6.  0.]\n",
      "[  0.           0.           0.         ... 121.           9.\n",
      "   0.55555556]\n",
      "[ 0.1304703  0.         0.        ... 78.         8.         0.625    ]\n",
      "[  0.    0.    0.  ... 130.    8.    0.5]\n",
      "[ 0.          0.          0.         ... 65.          7.\n",
      "  0.71428571]\n",
      "[ 0.12713362  0.12967029  0.         ... 77.          8.\n",
      "  0.625     ]\n",
      "[ 0.     0.     0.    ... 75.     8.     0.625]\n",
      "[0.00000000e+00 1.14425550e-01 0.00000000e+00 ... 2.38000000e+02\n",
      " 1.50000000e+01 3.33333333e-01]\n",
      "[  0.           0.15761179   0.         ... 128.           8.\n",
      "   0.375     ]\n",
      "[ 0.    0.    0.   ... 51.   12.    0.25]\n",
      "[  0.16008974   0.16328398   0.         ... 152.           7.\n",
      "   0.57142857]\n",
      "[  0.           0.           0.         ... 135.           7.\n",
      "   0.57142857]\n",
      "[ 0.          0.          0.         ... 85.         14.\n",
      "  0.64285714]\n",
      "[  0.   0.   0. ... 104.   6.   0.]\n",
      "[  0.     0.     0.   ... 202.     8.     0.75]\n",
      "[  0.           0.22432172   0.         ... 193.           7.\n",
      "   0.57142857]\n",
      "[ 0.   0.   0.  ... 86.  10.   0.3]\n",
      "[  0.10053455   0.1025405    0.         ... 100.          12.\n",
      "   0.66666667]\n",
      "[ 0.   0.   0.  ... 75.   6.   0.5]\n",
      "[ 0.   0.   0.  ... 89.   5.   0.6]\n",
      "[  0.16226758   0.16550527   0.         ... 106.           6.\n",
      "   0.66666667]\n",
      "[ 0.    0.    0.   ... 91.    4.    0.25]\n",
      "[ 0.          0.          0.         ... 92.          7.\n",
      "  0.28571429]\n",
      "[ 0.     0.     0.    ... 95.     8.     0.625]\n",
      "[ 0.          0.12784131  0.         ... 64.          9.\n",
      "  0.55555556]\n",
      "[  0.           0.           0.         ... 141.           7.\n",
      "   0.42857143]\n",
      "[  0.           0.           0.         ... 125.          12.\n",
      "   0.66666667]\n",
      "[  0.           0.           0.         ... 163.           6.\n",
      "   0.33333333]\n",
      "[ 0.          0.          0.         ... 48.          9.\n",
      "  0.66666667]\n",
      "[  0.           0.           0.         ... 194.          11.\n",
      "   0.45454545]\n",
      "[ 0.21053755  0.21473836  0.         ... 83.          5.\n",
      "  0.6       ]\n",
      "[ 0.   0.   0.  ... 29.  10.   0.5]\n",
      "[  0.           0.           0.         ... 109.           7.\n",
      "   0.42857143]\n",
      "[  0.16226758   0.16550527   0.         ... 118.           6.\n",
      "   0.5       ]\n",
      "[ 0.10414427  0.          0.         ... 93.         12.\n",
      "  0.66666667]\n",
      "[1.52536968e-01 1.55580503e-01 0.00000000e+00 ... 2.04000000e+02\n",
      " 9.00000000e+00 6.66666667e-01]\n",
      "[  0.           0.23742019   0.         ... 106.           4.\n",
      "   0.25      ]\n",
      "[  0.           0.           0.         ... 110.           7.\n",
      "   0.42857143]\n",
      "[ 0.12848823  0.          0.         ... 79.         11.\n",
      "  0.63636364]\n",
      "[  0.   0.   0. ... 145.   6.   0.]\n",
      "[  0.1467611    0.14968939   0.         ... 111.           8.\n",
      "   0.625     ]\n",
      "[  0.      0.      0.    ... 111.      8.      0.625]\n",
      "[  0.    0.    0.  ... 115.    6.    0.5]\n",
      "[  0.    0.    0.  ... 125.   10.    0.7]\n",
      "[  0.           0.           0.         ... 130.           7.\n",
      "   0.57142857]\n",
      "[  0.      0.      0.    ... 109.      8.      0.625]\n",
      "[  0.     0.     0.   ... 152.     8.     0.75]\n",
      "[  0.    0.    0.  ... 150.   10.    0.4]\n",
      "[ 0.10789946  0.          0.         ... 77.          9.\n",
      "  0.33333333]\n",
      "[  0.    0.    0.  ... 144.    4.    0.5]\n",
      "[ 0.          0.          0.         ... 71.          9.\n",
      "  0.22222222]\n",
      "[ 0.   0.   0.  ... 78.  10.   0.5]\n",
      "[ 0.16197814  0.          0.         ... 64.          7.\n",
      "  0.42857143]\n",
      "[ 0.          0.13411066  0.         ... 66.         10.\n",
      "  0.6       ]\n",
      "[0.00000000e+00 1.99927873e-01 0.00000000e+00 ... 2.55000000e+02\n",
      " 5.00000000e+00 4.00000000e-01]\n",
      "[  0.           0.           0.         ... 130.           7.\n",
      "   0.57142857]\n",
      "[  0.           0.           0.         ... 200.           6.\n",
      "   0.66666667]\n",
      "[1.51632002e-01 1.54657481e-01 0.00000000e+00 ... 1.67000000e+02\n",
      " 9.00000000e+00 4.44444444e-01]\n",
      "[  0.14952118   0.15250454   0.         ... 145.           9.\n",
      "   0.66666667]\n",
      "[0.00000000e+00 1.48430173e-01 0.00000000e+00 ... 2.17000000e+02\n",
      " 9.00000000e+00 7.77777778e-01]\n",
      "[1.62267583e-01 1.65505271e-01 0.00000000e+00 ... 1.81000000e+02\n",
      " 6.00000000e+00 5.00000000e-01]\n",
      "[ 0.  0.  0. ... 96.  5.  0.]\n",
      "[1.42610227e-01 0.00000000e+00 0.00000000e+00 ... 2.09000000e+02\n",
      " 1.00000000e+01 4.00000000e-01]\n",
      "[0.00e+00 0.00e+00 0.00e+00 ... 2.28e+02 8.00e+00 1.25e-01]\n",
      "[ 0.          0.          0.         ... 90.          7.\n",
      "  0.42857143]\n",
      "[  0.13503613   0.           0.         ... 127.           7.\n",
      "   0.14285714]\n",
      "[  0.13642672   0.13914881   0.         ... 113.           8.\n",
      "   0.75      ]\n",
      "[ 0.   0.   0.  ... 58.  10.   0.7]\n",
      "[  0.           0.           0.         ... 297.           9.\n",
      "   0.66666667]\n",
      "[1.67627252e-01 1.70971881e-01 0.00000000e+00 ... 7.29000000e+02\n",
      " 7.00000000e+00 5.71428571e-01]\n",
      "[  0.18206591   0.           0.         ... 182.           7.\n",
      "   0.57142857]\n",
      "[  0.19098131   0.           0.         ... 115.           6.\n",
      "   0.16666667]\n",
      "[ 0.          0.          0.         ... 98.          7.\n",
      "  0.71428571]\n",
      "[  0.16132122   0.16454002   0.         ... 121.           6.\n",
      "   0.16666667]\n",
      "[ 0.   0.   0.  ... 72.   5.   0.2]\n",
      "[2.04897978e-01 2.08986261e-01 0.00000000e+00 ... 2.30000000e+02\n",
      " 7.00000000e+00 7.14285714e-01]\n",
      "[ 0.          0.          0.         ... 89.          7.\n",
      "  0.71428571]\n",
      "[ 0.11761562  0.          0.         ... 72.          8.\n",
      "  0.375     ]\n",
      "[ 0.          0.          0.         ... 46.          6.\n",
      "  0.16666667]\n",
      "[  0.    0.    0.  ... 128.    5.    0.4]\n",
      "[  0.           0.           0.         ... 207.           9.\n",
      "   0.44444444]\n",
      "[  0.           0.           0.         ... 117.           7.\n",
      "   0.42857143]\n",
      "[2.13419567e-01 2.17677879e-01 0.00000000e+00 ... 2.14000000e+02\n",
      " 6.00000000e+00 6.66666667e-01]\n",
      "[ 0.15109971  0.15411456  0.         ... 83.          8.\n",
      "  0.625     ]\n",
      "[ 0.     0.     0.    ... 67.     8.     0.625]\n",
      "[ 0.          0.          0.         ... 85.          9.\n",
      "  0.55555556]\n",
      "[  0.           0.           0.         ... 112.           7.\n",
      "   0.57142857]\n",
      "[  0.12773924   0.13028799   0.         ... 103.           8.\n",
      "   0.625     ]\n",
      "[ 0.   0.   0.  ... 59.   6.   0.5]\n",
      "[ 0.     0.     0.    ... 68.     8.     0.625]\n",
      "[  0.           0.           0.         ... 136.           9.\n",
      "   0.33333333]\n",
      "[ 0.   0.   0.  ... 74.  10.   0.6]\n",
      "[  0.      0.      0.    ... 135.      8.      0.375]\n",
      "[  0.           0.           0.         ... 125.           7.\n",
      "   0.42857143]\n",
      "[ 0.   0.   0.  ... 37.   5.   0.6]\n",
      "[ 0.14211174  0.          0.         ... 78.          8.\n",
      "  0.5       ]\n",
      "[  0.           0.           0.         ... 104.           7.\n",
      "   0.42857143]\n",
      "[0.00000000e+00 8.09387768e-02 0.00000000e+00 ... 1.94000000e+02\n",
      " 2.10000000e+01 8.09523810e-01]\n",
      "[ 0.          0.          0.         ... 67.          7.\n",
      "  0.71428571]\n",
      "[  0.           0.           0.         ... 183.           7.\n",
      "   0.71428571]\n",
      "[  0.10837342   0.           0.         ... 108.          13.\n",
      "   0.61538462]\n",
      "[  0.           0.           0.         ... 132.           6.\n",
      "   0.33333333]\n",
      "[  0.           0.           0.         ... 163.          11.\n",
      "   0.54545455]\n",
      "[ 0.    0.    0.   ... 22.   12.    0.25]\n",
      "[  0.           0.           0.         ... 403.           6.\n",
      "   0.66666667]\n",
      "[  0.           0.10928267   0.         ... 101.          14.\n",
      "   0.64285714]\n",
      "[ 0.1579568  0.         0.        ... 16.         8.         0.25     ]\n",
      "[ 0.          0.          0.         ... 97.         11.\n",
      "  0.63636364]\n",
      "[  0.           0.           0.         ... 115.           9.\n",
      "   0.66666667]\n",
      "[  0.           0.           0.         ... 103.           6.\n",
      "   0.66666667]\n",
      "[ 0.          0.          0.         ... 45.         13.\n",
      "  0.23076923]\n",
      "[0.00000000e+00 0.00000000e+00 0.00000000e+00 ... 1.89000000e+02\n",
      " 6.00000000e+00 1.66666667e-01]\n",
      "[  0.      0.      0.    ... 149.      8.      0.375]\n",
      "[1.67365565e-01 0.00000000e+00 0.00000000e+00 ... 3.03000000e+02\n",
      " 8.00000000e+00 5.00000000e-01]\n",
      "[9.48924866e-02 0.00000000e+00 0.00000000e+00 ... 1.04000000e+02\n",
      " 1.40000000e+01 5.71428571e-01]\n",
      "[0.00e+00 0.00e+00 0.00e+00 ... 3.01e+02 5.00e+00 2.00e-01]\n",
      "[  0.           0.           0.         ... 108.           6.\n",
      "   0.33333333]\n",
      "[ 0.  0.  0. ... 34.  5.  0.]\n",
      "[ 0.          0.          0.         ... 29.          7.\n",
      "  0.14285714]\n",
      "[0.00000000e+00 1.41906550e-01 0.00000000e+00 ... 2.00000000e+02\n",
      " 1.10000000e+01 6.36363636e-01]\n",
      "[  0.22226949   0.22670438   0.         ... 210.           5.\n",
      "   0.4       ]\n",
      "[  0.13493688   0.13762924   0.         ... 113.           8.\n",
      "   0.5       ]\n",
      "[  0.           0.           0.         ... 104.           7.\n",
      "   0.57142857]\n",
      "[  0.      0.      0.    ... 158.      8.      0.625]\n",
      "[ 0.     0.     0.    ... 57.     8.     0.375]\n",
      "[ 0.   0.   0.  ... 72.  10.   0.6]\n",
      "[  0.           0.14747276   0.         ... 119.           9.\n",
      "   0.44444444]\n",
      "[  0.      0.      0.    ... 219.      8.      0.375]\n",
      "[ 0.15222666  0.15526401  0.         ... 89.          9.\n",
      "  0.44444444]\n",
      "[ 0.          0.          0.         ... 18.          6.\n",
      "  0.16666667]\n",
      "[  0.    0.    0.  ... 123.    6.    0.5]\n",
      "[ 0.  0.  0. ... 19.  8.  0.]\n",
      "[ 0.16110049  0.1643149   0.         ... 34.          7.\n",
      "  0.42857143]\n",
      "[ 0.          0.          0.         ... 51.          9.\n",
      "  0.44444444]\n",
      "[ 0.11371512  0.11598405  0.         ... 88.         12.\n",
      "  0.75      ]\n",
      "[ 0.   0.   0.  ... 80.   6.   0.5]\n",
      "[ 0.          0.          0.         ... 61.          9.\n",
      "  0.33333333]\n",
      "[ 0.14445456  0.          0.         ... 56.          8.\n",
      "  0.5       ]\n",
      "[ 0.          0.          0.         ... 85.          9.\n",
      "  0.55555556]\n",
      "[ 0.   0.   0.  ... 98.  10.   0.5]\n",
      "[ 0.          0.          0.         ... 83.          6.\n",
      "  0.33333333]\n",
      "[1.00052057e-01 1.02048374e-01 0.00000000e+00 ... 2.50000000e+02\n",
      " 1.30000000e+01 5.38461538e-01]\n",
      "[ 0.          0.          0.         ... 36.         11.\n",
      "  0.18181818]\n",
      "[  0.           0.           0.         ... 164.           7.\n",
      "   0.42857143]\n",
      "[  0.           0.           0.         ... 123.           7.\n",
      "   0.71428571]\n",
      "[  0.           0.14393691   0.         ... 140.          10.\n",
      "   0.6       ]\n",
      "[  0.           0.           0.         ... 197.           9.\n",
      "   0.66666667]\n",
      "[  0.           0.15947621   0.         ... 117.           9.\n",
      "   0.55555556]\n",
      "[  0.21957182   0.22395288   0.         ... 132.           5.\n",
      "   0.6       ]\n",
      "[  0.           0.           0.         ... 161.          11.\n",
      "   0.45454545]\n",
      "[ 0.   0.   0.  ... 99.   5.   0.2]\n",
      "[1.46639287e-01 1.49565148e-01 0.00000000e+00 ... 2.10000000e+02\n",
      " 9.00000000e+00 7.77777778e-01]\n",
      "[ 0.   0.   0.  ... 52.   5.   0.2]\n",
      "[ 0.17006924  0.17346259  0.         ... 75.          6.\n",
      "  0.        ]\n",
      "[  0.    0.    0.  ... 299.   14.    0.5]\n",
      "[  0.    0.    0.  ... 167.   10.    0.5]\n",
      "[  0.           0.           0.         ... 131.           6.\n",
      "   0.66666667]\n",
      "[ 0.   0.   0.  ... 42.   5.   0.2]\n",
      "[ 0.1579223  0.         0.        ... 49.         8.         0.5      ]\n",
      "[ 0.          0.          0.         ... 47.          7.\n",
      "  0.28571429]\n",
      "[  0.    0.    0.  ... 152.    8.    0.5]\n",
      "[0.00000000e+00 1.16863303e-01 0.00000000e+00 ... 1.55000000e+02\n",
      " 1.00000000e+01 5.00000000e-01]\n",
      "[ 0.    0.    0.   ... 48.    8.    0.25]\n",
      "[9.57441483e-02 0.00000000e+00 0.00000000e+00 ... 1.12000000e+02\n",
      " 1.10000000e+01 6.36363636e-01]\n",
      "[1.11202776e-01 0.00000000e+00 0.00000000e+00 ... 2.68000000e+02\n",
      " 1.20000000e+01 6.66666667e-01]\n",
      "[0.00000000e+00 0.00000000e+00 0.00000000e+00 ... 1.87000000e+02\n",
      " 6.00000000e+00 1.66666667e-01]\n",
      "[ 0.15557044  0.15867451  0.         ... 83.          6.\n",
      "  0.66666667]\n",
      "[1.07715561e-01 0.00000000e+00 0.00000000e+00 ... 1.97000000e+02\n",
      " 1.10000000e+01 6.36363636e-01]\n",
      "[  0.14792031   0.15087173   0.         ... 118.           7.\n",
      "   0.57142857]\n",
      "[  0.22584302   0.23034922   0.         ... 182.           5.\n",
      "   0.4       ]\n",
      "[  0.1654211    0.16872171   0.         ... 134.           7.\n",
      "   0.57142857]\n",
      "[ 0.          0.          0.         ... 98.          9.\n",
      "  0.44444444]\n",
      "[ 0.          0.          0.         ... 50.          6.\n",
      "  0.16666667]\n",
      "[ 0.          0.          0.         ... 35.         11.\n",
      "  0.54545455]\n",
      "[ 0.          0.          0.         ... 84.          7.\n",
      "  0.57142857]\n",
      "[  0.    0.    0.  ... 254.    5.    0.6]\n",
      "[ 0.          0.          0.         ... 82.          9.\n",
      "  0.33333333]\n",
      "[  0.           0.14723428   0.         ... 129.           8.\n",
      "   0.75      ]\n",
      "[0.00000000e+00 1.09834000e-01 0.00000000e+00 ... 1.64000000e+02\n",
      " 1.10000000e+01 4.54545455e-01]\n",
      "[  0.13796782   0.14072066   0.         ... 107.           9.\n",
      "   0.66666667]\n",
      "[ 0.16223647  0.16547354  0.         ... 35.          6.\n",
      "  0.5       ]\n",
      "[ 0.          0.          0.         ... 73.         11.\n",
      "  0.63636364]\n",
      "[  0.           0.           0.         ... 102.           7.\n",
      "   0.57142857]\n",
      "[  0.15616572   0.15928166   0.         ... 124.           7.\n",
      "   0.28571429]\n",
      "[  0.           0.           0.         ... 105.           7.\n",
      "   0.14285714]\n",
      "[  0.14840415   0.           0.         ... 135.           7.\n",
      "   0.42857143]\n",
      "[ 0.21957182  0.22395288  0.         ... 39.          5.\n",
      "  0.2       ]\n",
      "[ 0.12076068  0.12317019  0.         ... 51.         10.\n",
      "  0.7       ]\n",
      "[1.01478408e-01 1.03503183e-01 0.00000000e+00 ... 2.68000000e+02\n",
      " 1.00000000e+01 7.00000000e-01]\n",
      "[ 0.11929208  0.12167229  0.         ... 70.          8.\n",
      "  0.625     ]\n",
      "[  0.           0.           0.         ... 122.           7.\n",
      "   0.28571429]\n",
      "[ 0.17064291  0.17404771  0.         ... 99.          6.\n",
      "  0.5       ]\n",
      "[  0.           0.           0.         ... 131.           7.\n",
      "   0.57142857]\n",
      "[  0.           0.           0.         ... 171.           7.\n",
      "   0.57142857]\n",
      "[0.00000000e+00 1.75065196e-01 0.00000000e+00 ... 2.08000000e+02\n",
      " 6.00000000e+00 5.00000000e-01]\n",
      "[  0.           0.           0.         ... 135.          13.\n",
      "   0.23076923]\n",
      "[ 0.          0.          0.         ... 90.          6.\n",
      "  0.33333333]\n",
      "[ 0.          0.          0.         ... 46.          9.\n",
      "  0.44444444]\n",
      "[ 0.     0.     0.    ... 44.     8.     0.625]\n",
      "[  0.           0.           0.         ... 222.           7.\n",
      "   0.57142857]\n",
      "[  0.    0.    0.  ... 138.    4.    0.5]\n",
      "[ 0.          0.          0.         ... 61.          9.\n",
      "  0.44444444]\n",
      "[  0.           0.           0.         ... 139.           7.\n",
      "   0.42857143]\n",
      "[  0.15877148   0.           0.         ... 152.           8.\n",
      "   0.625     ]\n",
      "[1.52588031e-01 1.55632586e-01 0.00000000e+00 ... 2.79000000e+02\n",
      " 8.00000000e+00 6.25000000e-01]\n",
      "[ 0.          0.          0.         ... 84.          7.\n",
      "  0.57142857]\n",
      "[ 0.   0.   0.  ... 25.   4.   0.5]\n",
      "[1.52393634e-01 0.00000000e+00 0.00000000e+00 ... 1.59000000e+02\n",
      " 6.00000000e+00 3.33333333e-01]\n",
      "[  0.           0.           0.         ... 176.           6.\n",
      "   0.66666667]\n",
      "[ 0.     0.     0.    ... 93.     8.     0.625]\n",
      "[ 0.   0.   0.  ... 48.   8.   0.5]\n",
      "[ 0.   0.   0.  ... 65.  10.   0.7]\n",
      "[ 0.15535889  0.          0.         ... 91.          7.\n",
      "  0.42857143]\n",
      "[  0.           0.           0.         ... 177.           7.\n",
      "   0.28571429]\n",
      "[  0.           0.           0.         ... 175.           7.\n",
      "   0.57142857]\n",
      "[ 0.1743103   0.17778827  0.         ... 55.          8.\n",
      "  0.375     ]\n",
      "[ 0.     0.     0.    ... 71.     8.     0.375]\n",
      "[0.00000000e+00 0.00000000e+00 0.00000000e+00 ... 1.87000000e+02\n",
      " 6.00000000e+00 1.66666667e-01]\n",
      "[  0.           0.           0.         ... 198.          11.\n",
      "   0.63636364]\n",
      "[ 0.    0.    0.   ... 79.    8.    0.25]\n",
      "[ 0.15226693  0.          0.         ... 22.          7.\n",
      "  0.42857143]\n",
      "[ 0.10077249  0.10278319  0.         ... 30.         12.\n",
      "  0.58333333]\n",
      "[  0.           0.           0.         ... 130.           9.\n",
      "   0.55555556]\n",
      "[1.08656476e-01 0.00000000e+00 0.00000000e+00 ... 1.50000000e+02\n",
      " 1.10000000e+01 6.36363636e-01]\n",
      "[ 0.14236315  0.14520369  0.         ... 45.          9.\n",
      "  0.55555556]\n",
      "[ 0.  0.  0. ... 41.  7.  0.]\n",
      "[  0.14354675   0.1464109    0.         ... 101.           7.\n",
      "   0.57142857]\n",
      "[ 0.          0.          0.         ... 94.          7.\n",
      "  0.57142857]\n",
      "[ 0.   0.   0.  ... 43.  10.   0.6]\n",
      "[  0.           0.           0.         ... 138.           7.\n",
      "   0.28571429]\n",
      "[  0.           0.           0.         ... 173.           7.\n",
      "   0.42857143]\n",
      "[0.00000000e+00 1.69473903e-01 0.00000000e+00 ... 1.84000000e+02\n",
      " 6.00000000e+00 3.33333333e-01]\n",
      "[  0.13102824   0.           0.         ... 108.           7.\n",
      "   0.42857143]\n",
      "[  0.           0.           0.         ... 154.          11.\n",
      "   0.63636364]\n",
      "[  0.13940117   0.           0.         ... 117.           8.\n",
      "   0.25      ]\n",
      "[ 0.          0.          0.         ... 80.          9.\n",
      "  0.44444444]\n",
      "[  0.           0.           0.         ... 124.           9.\n",
      "   0.33333333]\n",
      "[ 0.13551614  0.13822006  0.         ... 92.         10.\n",
      "  0.5       ]\n",
      "[ 0.          0.18851938  0.         ... 92.          7.\n",
      "  0.57142857]\n",
      "[0.00e+00 0.00e+00 0.00e+00 ... 1.88e+02 8.00e+00 1.25e-01]\n",
      "[  0.17596577   0.17947677   0.         ... 149.           6.\n",
      "   0.5       ]\n",
      "[ 0.          0.127061    0.         ... 97.         11.\n",
      "  0.72727273]\n",
      "[ 0.          0.14049156  0.         ... 92.         10.\n",
      "  0.5       ]\n",
      "[1.41454881e-01 0.00000000e+00 0.00000000e+00 ... 2.18000000e+02\n",
      " 8.00000000e+00 3.75000000e-01]\n",
      "[ 0.  0.  0. ... 39.  5.  0.]\n",
      "[ 0.16500901  0.16830139  0.         ... 93.          7.\n",
      "  0.14285714]\n",
      "[  0.15184084   0.15487049   0.         ... 113.           8.\n",
      "   0.375     ]\n",
      "[  0.    0.    0.  ... 123.   10.    0.5]\n",
      "[ 0.     0.     0.    ... 26.     8.     0.125]\n",
      "[ 0.          0.          0.         ... 23.          7.\n",
      "  0.28571429]\n",
      "[ 0.   0.   0.  ... 43.  10.   0.2]\n",
      "[  0.    0.    0.  ... 213.    5.    0.4]\n",
      "[  0.16247159   0.16571335   0.         ... 136.           7.\n",
      "   0.71428571]\n",
      "[  0.           0.           0.         ... 132.          11.\n",
      "   0.45454545]\n",
      "[ 0.          0.13847454  0.         ... 33.         10.\n",
      "  0.2       ]\n",
      "[  0.22160893   0.22603064   0.         ... 169.           5.\n",
      "   0.2       ]\n",
      "[  0.    0.    0.  ... 135.    6.    0.5]\n",
      "[ 0.17610173  0.17961545  0.         ... 56.          6.\n",
      "  0.66666667]\n",
      "[  0.     0.     0.   ... 157.     8.     0.25]\n",
      "[ 0.          0.          0.         ... 53.          7.\n",
      "  0.28571429]\n",
      "[ 0.13425395  0.          0.         ... 56.          8.\n",
      "  0.125     ]\n",
      "[1.26526862e-01 0.00000000e+00 0.00000000e+00 ... 1.44000000e+02\n",
      " 1.40000000e+01 6.42857143e-01]\n",
      "[ 0.12697464  0.          0.         ... 92.          9.\n",
      "  0.22222222]\n",
      "[ 0.          0.          0.         ... 35.          7.\n",
      "  0.14285714]\n",
      "[  0.      0.      0.    ... 185.      8.      0.625]\n",
      "[ 0.   0.   0.  ... 43.   8.   0.5]\n",
      "[  0.      0.      0.    ... 138.      8.      0.625]\n",
      "[  0.    0.    0.  ... 159.    8.    0.5]\n",
      "[ 0.15142567  0.          0.         ... 45.          7.\n",
      "  0.28571429]\n",
      "[  0.      0.      0.    ... 164.      8.      0.375]\n",
      "[ 0.          0.          0.         ... 67.          7.\n",
      "  0.14285714]\n",
      "[1.58598799e-01 0.00000000e+00 0.00000000e+00 ... 2.73000000e+02\n",
      " 8.00000000e+00 5.00000000e-01]\n",
      "[  0.1262958    0.           0.         ... 102.           9.\n",
      "   0.33333333]\n",
      "[0.00000000e+00 0.00000000e+00 0.00000000e+00 ... 1.88000000e+02\n",
      " 6.00000000e+00 1.66666667e-01]\n",
      "[  0.21053755   0.21473836   0.         ... 154.           5.\n",
      "   0.6       ]\n",
      "[ 0.   0.   0.  ... 93.   5.   0.6]\n",
      "[  0.    0.    0.  ... 221.    8.    0.5]\n",
      "[  0.    0.    0.  ... 345.    6.    0.5]\n",
      "[0.00000000e+00 1.12640035e-01 0.00000000e+00 ... 1.36000000e+02\n",
      " 1.00000000e+01 3.00000000e-01]\n",
      "[  0.           0.           0.         ... 188.           9.\n",
      "   0.55555556]\n",
      "[ 0.          0.13756026  0.         ... 64.          7.\n",
      "  0.42857143]\n",
      "[ 0.10010983  0.1021073   0.         ... 75.         11.\n",
      "  0.27272727]\n",
      "[  0.13663816   0.           0.         ... 107.           8.\n",
      "   0.375     ]\n",
      "[ 0.17064291  0.17404771  0.         ... 51.          6.\n",
      "  0.5       ]\n",
      "[ 0.22352998  0.22799002  0.         ... 68.          5.\n",
      "  0.4       ]\n",
      "[  0.     0.     0.   ... 106.     4.     0.75]\n",
      "[1.13204115e-01 0.00000000e+00 0.00000000e+00 ... 1.33000000e+02\n",
      " 1.00000000e+01 6.00000000e-01]\n",
      "[1.54977996e-01 1.58070237e-01 0.00000000e+00 ... 2.26000000e+02\n",
      " 9.00000000e+00 7.77777778e-01]\n",
      "[  0.           0.           0.         ... 241.          15.\n",
      "   0.53333333]\n",
      "[  0.           0.           0.         ... 266.           7.\n",
      "   0.42857143]\n",
      "[  0.      0.      0.    ... 127.      8.      0.375]\n",
      "[  0.    0.    0.  ... 215.    6.    0.5]\n",
      "[1.27500721e-01 1.30044714e-01 0.00000000e+00 ... 1.57000000e+02\n",
      " 1.00000000e+01 6.00000000e-01]\n",
      "[ 0.          0.          0.         ... 73.          9.\n",
      "  0.55555556]\n",
      "[ 0.09825848  0.10021901  0.         ... 86.         11.\n",
      "  0.72727273]\n",
      "[  0.    0.    0.  ... 136.    5.    0.2]\n",
      "[ 0.    0.    0.   ... 39.    8.    0.25]\n",
      "[ 0.     0.     0.    ... 59.     8.     0.125]\n",
      "[1.80160123e-01 1.83754818e-01 0.00000000e+00 ... 2.05000000e+02\n",
      " 7.00000000e+00 4.28571429e-01]\n",
      "[ 0.          0.          0.         ... 96.          7.\n",
      "  0.42857143]\n",
      "[  0.    0.    0.  ... 323.   10.    0.4]\n",
      "[0.00000000e+00 0.00000000e+00 0.00000000e+00 ... 4.87000000e+02\n",
      " 1.10000000e+01 3.63636364e-01]\n",
      "[  0.1731664    0.           0.         ... 133.           7.\n",
      "   0.28571429]\n",
      "[  0.           0.13299088   0.         ... 108.          11.\n",
      "   0.54545455]\n",
      "[ 0.    0.    0.   ... 85.    8.    0.25]\n",
      "[ 0.          0.          0.         ... 69.          9.\n",
      "  0.66666667]\n",
      "[ 0.          0.          0.         ... 71.         13.\n",
      "  0.38461538]\n",
      "[  0.      0.      0.    ... 156.      8.      0.375]\n",
      "[ 0.          0.21143028  0.         ... 64.          6.\n",
      "  0.5       ]\n",
      "[  0.           0.           0.         ... 207.           7.\n",
      "   0.42857143]\n",
      "[0.00000000e+00 0.00000000e+00 0.00000000e+00 ... 3.26000000e+02\n",
      " 6.00000000e+00 1.66666667e-01]\n",
      "[ 0.14073772  0.14354583  0.         ... 75.          9.\n",
      "  0.44444444]\n",
      "[ 0.13053075  0.1331352   0.         ... 97.         12.\n",
      "  0.58333333]\n",
      "[ 0.          0.          0.         ... 54.          7.\n",
      "  0.57142857]\n",
      "[1.28420808e-01 1.30983160e-01 0.00000000e+00 ... 1.54000000e+02\n",
      " 9.00000000e+00 5.55555556e-01]\n",
      "[  0.21053755   0.21473836   0.         ... 107.           5.\n",
      "   0.4       ]\n",
      "[ 0.     0.     0.    ... 43.     8.     0.125]\n",
      "[1.27103307e-01 1.29639370e-01 0.00000000e+00 ... 1.29000000e+02\n",
      " 9.00000000e+00 6.66666667e-01]\n",
      "[  0.      0.      0.    ... 112.      8.      0.125]\n",
      "[ 0.          0.13192163  0.         ... 62.         10.\n",
      "  0.8       ]\n",
      "[  0.           0.           0.         ... 105.           9.\n",
      "   0.44444444]\n",
      "[ 0.13901463  0.14178836  0.         ... 56.          9.\n",
      "  0.77777778]\n",
      "[  0.           0.           0.         ... 102.           7.\n",
      "   0.71428571]\n",
      "[ 0.          0.          0.         ... 40.          7.\n",
      "  0.14285714]\n",
      "[ 0.   0.   0.  ... 58.   5.   0.4]\n",
      "[1.39488613e-01 1.42271798e-01 0.00000000e+00 ... 1.43000000e+02\n",
      " 9.00000000e+00 6.66666667e-01]\n",
      "[ 0.11571165  0.          0.         ... 45.         11.\n",
      "  0.54545455]\n",
      "[1.18725124e-01 0.00000000e+00 0.00000000e+00 ... 1.98000000e+02\n",
      " 1.00000000e+01 5.00000000e-01]\n",
      "[ 0.          0.          0.         ... 43.          7.\n",
      "  0.42857143]\n",
      "[ 0.   0.   0.  ... 47.   6.   0.5]\n",
      "[ 0.          0.          0.         ... 61.          7.\n",
      "  0.57142857]\n",
      "[ 0.          0.          0.44655184 ... 16.          9.\n",
      "  0.11111111]\n",
      "[  0.           0.           0.         ... 136.          11.\n",
      "   0.27272727]\n",
      "[0.00000000e+00 1.39643468e-01 0.00000000e+00 ... 1.70000000e+02\n",
      " 9.00000000e+00 5.55555556e-01]\n",
      "[  0.           0.           0.         ... 183.           9.\n",
      "   0.55555556]\n",
      "[  0.14792031   0.15087173   0.         ... 115.           7.\n",
      "   0.57142857]\n",
      "[ 0.13264857  0.13529528  0.         ... 52.          9.\n",
      "  0.44444444]\n",
      "[  0.           0.           0.         ... 101.           7.\n",
      "   0.57142857]\n",
      "[ 0.   0.   0.  ... 92.  10.   0.5]\n",
      "[ 0.   0.   0.  ... 74.  10.   0.4]\n",
      "[ 0.   0.   0.  ... 59.  10.   0.2]\n",
      "[ 0.          0.          0.         ... 76.          9.\n",
      "  0.66666667]\n",
      "[ 0.          0.          0.         ... 62.          7.\n",
      "  0.71428571]\n",
      "[ 0.16359686  0.          0.         ... 67.          7.\n",
      "  0.42857143]\n",
      "[0.00000000e+00 0.00000000e+00 0.00000000e+00 ... 1.52000000e+02\n",
      " 7.00000000e+00 1.42857143e-01]\n",
      "[ 0.   0.   0.  ... 43.   8.   0.5]\n",
      "[  0.      0.      0.    ... 296.      8.      0.375]\n",
      "[  0.    0.    0.  ... 148.    4.    0.5]\n",
      "[1.44391309e-01 0.00000000e+00 0.00000000e+00 ... 9.89000000e+02\n",
      " 8.00000000e+00 6.25000000e-01]\n",
      "[1.65107422e-01 1.68401773e-01 0.00000000e+00 ... 2.07000000e+02\n",
      " 6.00000000e+00 3.33333333e-01]\n",
      "[ 0.15409486  0.15716949  0.         ... 85.          8.\n",
      "  0.75      ]\n",
      "[1.18843921e-01 0.00000000e+00 0.00000000e+00 ... 1.36000000e+02\n",
      " 9.00000000e+00 5.55555556e-01]\n",
      "[  0.           0.18015309   0.         ... 158.           6.\n",
      "   0.5       ]\n",
      "[1.40131269e-01 1.42927276e-01 0.00000000e+00 ... 2.52000000e+02\n",
      " 1.00000000e+01 5.00000000e-01]\n",
      "[  0.    0.    0.  ... 107.   10.    0.5]\n",
      "[ 0.          0.          0.         ... 68.          6.\n",
      "  0.33333333]\n",
      "[ 0.   0.   0.  ... 70.   5.   0.2]\n",
      "[  0.     0.     0.   ... 115.     4.     0.25]\n",
      "[  0.           0.           0.         ... 132.           6.\n",
      "   0.33333333]\n",
      "[  0.      0.      0.    ... 109.      8.      0.375]\n",
      "[ 0.225857    0.23036347  0.         ... 84.          5.\n",
      "  0.6       ]\n",
      "[  0.     0.     0.   ... 121.     8.     0.25]\n",
      "[9.24555024e-02 0.00000000e+00 0.00000000e+00 ... 1.42000000e+02\n",
      " 1.10000000e+01 2.72727273e-01]\n",
      "[ 0.          0.          0.         ... 91.          6.\n",
      "  0.66666667]\n",
      "[ 0.14769258  0.15063946  0.         ... 85.          9.\n",
      "  0.55555556]\n",
      "[  0.    0.    0.  ... 166.   10.    0.5]\n",
      "[ 0.          0.          0.         ... 88.          7.\n",
      "  0.57142857]\n",
      "[  0.    0.    0.  ... 149.    8.    0.5]\n",
      "[  0.           0.           0.         ... 348.           6.\n",
      "   0.66666667]\n",
      "[ 0.12103988  0.12345496  0.         ... 75.         11.\n",
      "  0.54545455]\n",
      "[ 0.13805798  0.14081262  0.         ... 72.          8.\n",
      "  0.5       ]\n",
      "[  0.    0.    0.  ... 127.    6.    0.5]\n",
      "[  0.    0.    0.  ... 194.   10.    0.4]\n",
      "[ 0.15531978  0.15841884  0.         ... 62.          8.\n",
      "  0.5       ]\n",
      "[1.15944843e-01 1.18258264e-01 0.00000000e+00 ... 1.68000000e+02\n",
      " 1.10000000e+01 7.27272727e-01]\n",
      "[ 0.          0.          0.         ... 54.          7.\n",
      "  0.57142857]\n",
      "[ 0.          0.          0.         ... 47.          9.\n",
      "  0.77777778]\n",
      "[ 0.09788659  0.          0.         ... 97.         14.\n",
      "  0.57142857]\n",
      "[  0.    0.    0.  ... 169.   10.    0.5]\n",
      "[  0.12687408   0.12940557   0.         ... 107.          11.\n",
      "   0.63636364]\n",
      "[ 0.          0.          0.         ... 19.          6.\n",
      "  0.66666667]\n",
      "[  0.    0.    0.  ... 132.    5.    0.6]\n",
      "[ 0.          0.          0.         ... 60.          6.\n",
      "  0.16666667]\n",
      "[  0.   0.   0. ... 108.   9.   0.]\n",
      "[ 0.15148145  0.          0.         ... 55.          7.\n",
      "  0.14285714]\n",
      "[ 0.17852907  0.18209122  0.         ... 83.          6.\n",
      "  0.5       ]\n",
      "[  0.           0.           0.         ... 173.           6.\n",
      "   0.33333333]\n",
      "[  0.14480765   0.           0.         ... 101.           7.\n",
      "   0.28571429]\n",
      "[  0.           0.           0.         ... 118.           9.\n",
      "   0.66666667]\n",
      "[ 0.18294915  0.          0.         ... 41.          6.\n",
      "  0.5       ]\n",
      "[  0.           0.           0.         ... 138.           7.\n",
      "   0.57142857]\n",
      "[ 0.          0.          0.         ... 38.          7.\n",
      "  0.71428571]\n",
      "[ 0.16991939  0.17330976  0.         ... 83.          6.\n",
      "  0.5       ]\n",
      "[  0.    0.    0.  ... 171.    8.    0.5]\n",
      "[  0.17819815   0.18175369   0.         ... 178.           6.\n",
      "   0.66666667]\n",
      "[  0.           0.           0.         ... 135.           7.\n",
      "   0.28571429]\n",
      "[  0.           0.           0.         ... 234.           7.\n",
      "   0.57142857]\n",
      "[ 0.          0.          0.         ... 17.          9.\n",
      "  0.44444444]\n",
      "[ 0.          0.          0.         ... 76.          9.\n",
      "  0.55555556]\n",
      "[ 0.          0.          0.         ... 68.          9.\n",
      "  0.22222222]\n",
      "[0.00000000e+00 1.41375684e-01 0.00000000e+00 ... 2.47000000e+02\n",
      " 8.00000000e+00 3.75000000e-01]\n",
      "[1.28605126e-01 0.00000000e+00 0.00000000e+00 ... 4.09000000e+02\n",
      " 8.00000000e+00 5.00000000e-01]\n",
      "[  0.           0.23810265   0.         ... 148.           5.\n",
      "   0.6       ]\n",
      "[  0.      0.      0.    ... 101.      8.      0.625]\n",
      "[0.00000000e+00 1.54603510e-01 0.00000000e+00 ... 1.64000000e+02\n",
      " 7.00000000e+00 4.28571429e-01]\n",
      "[ 0.09847968  0.          0.         ... 55.         13.\n",
      "  0.69230769]\n",
      "[  0.           0.16155763   0.         ... 127.           6.\n",
      "   0.66666667]\n",
      "[  0.    0.    0.  ... 115.    6.    0.5]\n",
      "[ 0.          0.          0.         ... 86.          9.\n",
      "  0.11111111]\n",
      "[  0.15961239   0.           0.         ... 157.           7.\n",
      "   0.42857143]\n",
      "[  0.           0.           0.         ... 102.           7.\n",
      "   0.42857143]\n",
      "[  0.15740034   0.16054091   0.         ... 137.           7.\n",
      "   0.57142857]\n",
      "[ 0.   0.   0.  ... 78.  10.   0.3]\n",
      "[1.18029719e-01 0.00000000e+00 0.00000000e+00 ... 1.22000000e+02\n",
      " 9.00000000e+00 3.33333333e-01]\n",
      "[ 0.13220546  0.          0.         ... 94.         11.\n",
      "  0.45454545]\n",
      "[ 0.10876959  0.          0.         ... 59.         13.\n",
      "  0.69230769]\n",
      "[ 0.          0.          0.         ... 47.          7.\n",
      "  0.14285714]\n",
      "[0.00000000e+00 1.20326279e-01 0.00000000e+00 ... 1.37000000e+02\n",
      " 1.20000000e+01 6.66666667e-01]\n",
      "[  0.21401933   0.21828961   0.         ... 145.           5.\n",
      "   0.4       ]\n",
      "[ 0.          0.15998868  0.         ... 33.          8.\n",
      "  0.5       ]\n",
      "[ 0.          0.          0.         ... 34.          9.\n",
      "  0.33333333]\n",
      "[  0.      0.      0.    ... 102.      8.      0.375]\n",
      "[  0.      0.      0.    ... 157.      8.      0.375]\n",
      "[  0.225857     0.23036347   0.         ... 160.           5.\n",
      "   0.4       ]\n",
      "[  0.13856928   0.14133412   0.         ... 109.          10.\n",
      "   0.6       ]\n",
      "[  0.     0.     0.   ... 124.     4.     0.25]\n",
      "[0.00000000e+00 1.21844568e-01 0.00000000e+00 ... 4.26000000e+02\n",
      " 8.00000000e+00 6.25000000e-01]\n",
      "[  0.    0.    0.  ... 335.   10.    0.8]\n",
      "[  0.     0.     0.   ... 116.     4.     0.25]\n",
      "[ 0.          0.          0.         ... 89.         12.\n",
      "  0.66666667]\n",
      "[ 0.   0.   0.  ... 95.  10.   0.5]\n",
      "[  0.    0.    0.  ... 179.    5.    0.4]\n",
      "[  0.           0.           0.         ... 166.           7.\n",
      "   0.28571429]\n",
      "[ 0.  0.  0. ... 79.  5.  0.]\n",
      "[  0.1493255    0.           0.         ... 149.           7.\n",
      "   0.42857143]\n",
      "[ 0.18557954  0.18928237  0.         ... 75.          6.\n",
      "  0.33333333]\n",
      "[ 0.   0.   0.  ... 37.   5.   0.4]\n",
      "[ 0.          0.          0.         ... 88.          7.\n",
      "  0.42857143]\n",
      "[0.00000000e+00 1.65684498e-01 0.00000000e+00 ... 2.26000000e+02\n",
      " 6.00000000e+00 5.00000000e-01]\n",
      "[1.38932428e-01 0.00000000e+00 0.00000000e+00 ... 8.45000000e+02\n",
      " 1.00000000e+01 6.00000000e-01]\n",
      "[1.27982874e-01 0.00000000e+00 0.00000000e+00 ... 2.02000000e+02\n",
      " 1.10000000e+01 5.45454545e-01]\n",
      "[ 0.20023896  0.20423428  0.         ... 45.          7.\n",
      "  0.57142857]\n",
      "[ 0.    0.    0.   ... 64.    8.    0.25]\n",
      "[  0.    0.    0.  ... 142.   10.    0.7]\n",
      "[0.00000000e+00 1.21826719e-01 0.00000000e+00 ... 1.34000000e+02\n",
      " 1.00000000e+01 1.00000000e-01]\n",
      "[  0.           0.           0.         ... 190.           7.\n",
      "   0.71428571]\n",
      "[ 0.          0.          0.         ... 69.          7.\n",
      "  0.71428571]\n",
      "[  0.           0.           0.         ... 101.           7.\n",
      "   0.42857143]\n",
      "[ 0.15745156  0.          0.         ... 34.          6.\n",
      "  0.        ]\n",
      "[1.10875143e-01 0.00000000e+00 0.00000000e+00 ... 1.19000000e+02\n",
      " 9.00000000e+00 5.55555556e-01]\n",
      "[  0.     0.     0.   ... 176.     8.     0.75]\n",
      "[ 0.          0.19145528  0.         ... 62.          9.\n",
      "  0.66666667]\n",
      "[ 0.21053755  0.21473836  0.         ... 92.          5.\n",
      "  0.2       ]\n",
      "[ 0.   0.   0.  ... 97.  16.   0.5]\n",
      "[1.50129707e-01 1.53125212e-01 0.00000000e+00 ... 2.22000000e+02\n",
      " 8.00000000e+00 6.25000000e-01]\n",
      "[ 0.          0.          0.         ... 55.          7.\n",
      "  0.14285714]\n",
      "[ 0.     0.     0.    ... 12.     8.     0.125]\n",
      "[ 0.         0.1641201  0.        ... 43.         8.         0.625    ]\n",
      "[  0.           0.           0.         ... 147.          13.\n",
      "   0.46153846]\n",
      "[ 0.          0.          0.         ... 56.         13.\n",
      "  0.53846154]\n",
      "[  0.           0.           0.         ... 255.           7.\n",
      "   0.57142857]\n",
      "[  0.     0.     0.   ... 138.     8.     0.25]\n",
      "[0.00000000e+00 1.34423291e-01 0.00000000e+00 ... 1.97000000e+02\n",
      " 1.10000000e+01 4.54545455e-01]\n",
      "[  0.16873996   0.17210679   0.         ... 127.           8.\n",
      "   0.75      ]\n",
      "[1.30963152e-01 0.00000000e+00 0.00000000e+00 ... 3.11000000e+02\n",
      " 7.00000000e+00 2.85714286e-01]\n",
      "[  0.19131089   0.           0.         ... 106.           5.\n",
      "   0.2       ]\n",
      "[ 0.          0.          0.         ... 68.          9.\n",
      "  0.33333333]\n",
      "[ 0.    0.    0.   ... 67.    8.    0.25]\n",
      "[ 0.          0.10394246  0.         ... 45.         10.\n",
      "  0.5       ]\n",
      "[ 0.          0.          0.         ... 68.          7.\n",
      "  0.28571429]\n",
      "[  0.    0.    0.  ... 178.    5.    0.4]\n",
      "[  0.           0.           0.         ... 130.           9.\n",
      "   0.77777778]\n",
      "[ 0.          0.          0.         ... 55.         11.\n",
      "  0.63636364]\n",
      "[ 0.          0.          0.         ... 57.          9.\n",
      "  0.33333333]\n",
      "[1.83744596e-01 0.00000000e+00 0.00000000e+00 ... 2.23000000e+02\n",
      " 7.00000000e+00 4.28571429e-01]\n",
      "[  0.      0.      0.    ... 167.      8.      0.375]\n",
      "[ 0.          0.13291147  0.         ... 77.          9.\n",
      "  0.44444444]\n",
      "[ 0.          0.          0.         ... 40.          9.\n",
      "  0.55555556]\n",
      "[ 0.   0.   0.  ... 51.   5.   0.6]\n",
      "[  0.   0.   0. ... 150.   6.   0.]\n",
      "[ 0.    0.    0.   ... 27.    4.    0.25]\n",
      "[ 0.          0.          0.         ... 47.          7.\n",
      "  0.57142857]\n",
      "[  0.12710619   0.           0.         ... 100.           7.\n",
      "   0.28571429]\n",
      "[  0.           0.           0.         ... 136.           9.\n",
      "   0.66666667]\n",
      "[  0.           0.           0.         ... 109.          11.\n",
      "   0.72727273]\n",
      "[  0.           0.14740958   0.         ... 113.           9.\n",
      "   0.66666667]\n",
      "[ 0.          0.          0.         ... 70.          7.\n",
      "  0.42857143]\n",
      "[ 0.21053755  0.21473836  0.         ... 95.          5.\n",
      "  0.4       ]\n",
      "[ 0.   0.   0.  ... 40.  14.   0.5]\n",
      "[  0.           0.           0.         ... 102.           6.\n",
      "   0.66666667]\n",
      "[  0.           0.           0.         ... 109.           7.\n",
      "   0.57142857]\n",
      "[  0.13740432   0.           0.         ... 100.           9.\n",
      "   0.44444444]\n",
      "[ 0.   0.   0.  ... 69.   5.   0.4]\n",
      "[ 0.          0.          0.         ... 74.          7.\n",
      "  0.28571429]\n",
      "[  0.           0.           0.         ... 210.           9.\n",
      "   0.33333333]\n",
      "[ 0.15431217  0.          0.         ... 92.          8.\n",
      "  0.625     ]\n",
      "[ 0.16174285  0.16497007  0.         ... 44.          7.\n",
      "  0.57142857]\n",
      "[1.56520279e-01 1.59643292e-01 0.00000000e+00 ... 1.79000000e+02\n",
      " 8.00000000e+00 5.00000000e-01]\n",
      "[1.07621892e-01 1.09769247e-01 0.00000000e+00 ... 1.41000000e+02\n",
      " 1.20000000e+01 5.00000000e-01]\n",
      "[  0.           0.12615975   0.         ... 104.          11.\n",
      "   0.72727273]\n",
      "[ 0.16971781  0.17310415  0.         ... 79.          8.\n",
      "  0.375     ]\n",
      "[  0.    0.    0.  ... 238.    6.    0.5]\n",
      "[0.000000e+00 1.477414e-01 0.000000e+00 ... 2.300000e+02 8.000000e+00\n",
      " 1.250000e-01]\n",
      "[ 0.   0.   0.  ... 40.   5.   0.4]\n",
      "[0.00000000e+00 0.00000000e+00 0.00000000e+00 ... 2.33000000e+02\n",
      " 6.00000000e+00 1.66666667e-01]\n",
      "[ 0.    0.    0.   ... 64.    8.    0.75]\n",
      "[  0.19331608   0.19717327   0.         ... 132.           7.\n",
      "   0.42857143]\n",
      "[  0.           0.           0.         ... 121.           9.\n",
      "   0.66666667]\n",
      "[1.12684083e-01 0.00000000e+00 0.00000000e+00 ... 2.42000000e+02\n",
      " 1.00000000e+01 6.00000000e-01]\n",
      "[  0.17354343   0.1770061    0.         ... 128.           6.\n",
      "   0.66666667]\n",
      "[  0.21401933   0.21828961   0.         ... 135.           5.\n",
      "   0.4       ]\n",
      "[  0.           0.           0.         ... 148.          11.\n",
      "   0.63636364]\n",
      "[  0.    0.    0.  ... 119.   10.    0.5]\n",
      "[  0.           0.           0.         ... 114.           7.\n",
      "   0.42857143]\n",
      "[  0.    0.    0.  ... 101.   10.    0.5]\n",
      "[ 0.          0.          0.         ... 99.          6.\n",
      "  0.33333333]\n",
      "[  0.           0.           0.         ... 149.           7.\n",
      "   0.42857143]\n",
      "[ 0.          0.          0.         ... 18.          9.\n",
      "  0.55555556]\n",
      "[ 0.          0.          0.         ... 42.         12.\n",
      "  0.41666667]\n",
      "[  0.      0.      0.    ... 122.      8.      0.375]\n",
      "[  0.    0.    0.  ... 154.   10.    0.5]\n",
      "[  0.           0.           0.         ... 123.           9.\n",
      "   0.22222222]\n",
      "[  0.           0.           0.         ... 140.           7.\n",
      "   0.57142857]\n",
      "[1.39617023e-01 1.42402770e-01 0.00000000e+00 ... 2.19000000e+02\n",
      " 9.00000000e+00 6.66666667e-01]\n",
      "[  0.           0.17280635   0.         ... 141.           9.\n",
      "   0.55555556]\n",
      "[  0.           0.           0.         ... 128.           9.\n",
      "   0.66666667]\n",
      "[0.00000000e+00 1.45998457e-01 0.00000000e+00 ... 3.01000000e+02\n",
      " 9.00000000e+00 4.44444444e-01]\n",
      "[  0.    0.    0.  ... 140.    8.    0.5]\n",
      "[1.30806036e-01 1.33415979e-01 0.00000000e+00 ... 4.09000000e+02\n",
      " 8.00000000e+00 6.25000000e-01]\n",
      "[ 0.          0.          0.         ... 54.         12.\n",
      "  0.33333333]\n",
      "[  0.           0.           0.         ... 148.          11.\n",
      "   0.27272727]\n",
      "[  0.     0.     0.   ... 193.     8.     0.75]\n",
      "[ 0.          0.          0.         ... 83.          9.\n",
      "  0.55555556]\n",
      "[ 0.          0.16155763  0.         ... 67.          6.\n",
      "  0.66666667]\n",
      "[ 0.          0.          0.         ... 72.          7.\n",
      "  0.42857143]\n",
      "[ 0.  0.  0. ... 64.  4.  0.]\n",
      "[ 0.          0.          0.         ... 96.         13.\n",
      "  0.53846154]\n",
      "[  0.15242715   0.           0.         ... 145.           8.\n",
      "   0.375     ]\n",
      "[  0.           0.           0.         ... 137.           7.\n",
      "   0.71428571]\n",
      "[ 0.     0.     0.    ... 44.     8.     0.375]\n",
      "[  0.     0.     0.   ... 123.    12.     0.25]\n",
      "[1.58671177e-01 0.00000000e+00 0.00000000e+00 ... 1.71000000e+02\n",
      " 7.00000000e+00 1.42857143e-01]\n",
      "[ 0.          0.          0.         ... 70.         13.\n",
      "  0.38461538]\n",
      "[  0.           0.           0.         ... 124.           7.\n",
      "   0.57142857]\n",
      "[  0.12014438   0.           0.         ... 114.           7.\n",
      "   0.28571429]\n",
      "[ 0.12900904  0.          0.         ... 69.         11.\n",
      "  0.45454545]\n",
      "[  0.    0.    0.  ... 109.   10.    0.7]\n",
      "[ 0.15486088  0.          0.         ... 97.          7.\n",
      "  0.28571429]\n",
      "[ 0.17103703  0.17444969  0.         ... 58.          7.\n",
      "  0.28571429]\n",
      "[ 0.          0.          0.         ... 88.          9.\n",
      "  0.22222222]\n",
      "[0.00000000e+00 8.60628610e-02 0.00000000e+00 ... 2.01000000e+02\n",
      " 1.90000000e+01 6.31578947e-01]\n",
      "[0.0000000e+00 1.4691649e-01 0.0000000e+00 ... 1.5600000e+02 8.0000000e+00\n",
      " 3.7500000e-01]\n",
      "[0.00e+00 0.00e+00 0.00e+00 ... 1.75e+02 8.00e+00 1.25e-01]\n",
      "[0.00000000e+00 1.72201507e-01 0.00000000e+00 ... 2.89000000e+02\n",
      " 6.00000000e+00 6.66666667e-01]\n",
      "[ 0.   0.   0.  ... 35.   8.   0.5]\n",
      "[  0.           0.           0.         ... 127.           9.\n",
      "   0.66666667]\n",
      "[  0.    0.    0.  ... 159.   10.    0.4]\n",
      "[  0.15740034   0.16054091   0.         ... 101.           7.\n",
      "   0.57142857]\n",
      "[ 0.          0.          0.         ... 63.         15.\n",
      "  0.33333333]\n",
      "[  0.           0.           0.         ... 147.           7.\n",
      "   0.42857143]\n",
      "[ 0.          0.17743303  0.         ... 71.          8.\n",
      "  0.625     ]\n",
      "[  0.           0.           0.         ... 147.           6.\n",
      "   0.33333333]\n",
      "[ 0.          0.          0.         ... 74.          7.\n",
      "  0.42857143]\n",
      "[  0.           0.           0.         ... 129.           7.\n",
      "   0.14285714]\n",
      "[  0.    0.    0.  ... 134.    8.    0.5]\n",
      "[  0.           0.           0.         ... 126.           7.\n",
      "   0.57142857]\n",
      "[  0.    0.    0.  ... 106.   10.    0.3]\n",
      "[ 0.11771033  0.          0.         ... 34.         11.\n",
      "  0.36363636]\n",
      "[  0.15369976   0.           0.         ... 120.           6.\n",
      "   0.16666667]\n",
      "[ 0.     0.     0.    ... 81.     8.     0.375]\n",
      "[  0.           0.           0.         ... 112.           6.\n",
      "   0.16666667]\n",
      "[ 0.16897833  0.17234992  0.         ... 58.          6.\n",
      "  0.5       ]\n",
      "[  0.13311081   0.           0.         ... 109.          11.\n",
      "   0.45454545]\n",
      "[ 0.          0.          0.         ... 86.          7.\n",
      "  0.42857143]\n",
      "[  0.    0.    0.  ... 100.    6.    0.5]\n",
      "[ 0.     0.     0.    ... 67.     8.     0.625]\n",
      "[  0.           0.           0.         ... 105.           6.\n",
      "   0.66666667]\n",
      "[ 0.     0.     0.    ... 58.     8.     0.125]\n",
      "[ 0.   0.   0.  ... 75.  10.   0.6]\n",
      "[ 0.          0.          0.         ... 33.         11.\n",
      "  0.18181818]\n",
      "[ 0.18590055  0.18960978  0.         ... 47.          6.\n",
      "  0.66666667]\n",
      "[1.71756836e-01 1.75183862e-01 0.00000000e+00 ... 2.40000000e+02\n",
      " 7.00000000e+00 5.71428571e-01]\n",
      "[  0.    0.    0.  ... 132.   10.    0.3]\n",
      "[  0.           0.           0.         ... 116.           6.\n",
      "   0.33333333]\n",
      "[  0.    0.    0.  ... 175.    5.    0.2]\n",
      "[ 0.     0.     0.    ... 87.     8.     0.375]\n",
      "[ 0.   0.   0.  ... 49.   8.   0.5]\n",
      "[  0.           0.           0.         ... 133.          11.\n",
      "   0.27272727]\n",
      "[  0.           0.           0.         ... 139.           7.\n",
      "   0.57142857]\n",
      "[ 0.    0.    0.   ... 74.    8.    0.75]\n",
      "[ 0.    0.    0.   ... 46.    4.    0.25]\n",
      "[ 0.   0.   0.  ... 96.  10.   0.3]\n",
      "[ 0.11969518  0.          0.         ... 70.          8.\n",
      "  0.5       ]\n",
      "[0.00000000e+00 1.59874986e-01 0.00000000e+00 ... 1.60000000e+02\n",
      " 8.00000000e+00 6.25000000e-01]\n",
      "[  0.           0.           0.         ... 229.           9.\n",
      "   0.44444444]\n",
      "[  0.           0.14053835   0.         ... 108.           8.\n",
      "   0.625     ]\n",
      "[ 0.         0.1694739  0.        ... 69.         6.         0.5      ]\n",
      "[1.10292052e-01 1.12492685e-01 0.00000000e+00 ... 1.18000000e+02\n",
      " 1.10000000e+01 7.27272727e-01]\n",
      "[  0.    0.    0.  ... 132.    6.    0.5]\n",
      "[1.23675936e-01 0.00000000e+00 0.00000000e+00 ... 1.92000000e+02\n",
      " 8.00000000e+00 2.50000000e-01]\n",
      "[  0.1852504    0.18894666   0.         ... 141.           7.\n",
      "   0.57142857]\n",
      "[ 0.          0.1694739   0.         ... 44.          6.\n",
      "  0.66666667]\n",
      "[  0.14144478   0.           0.         ... 132.           9.\n",
      "   0.55555556]\n",
      "[  0.    0.    0.  ... 159.    5.    0.6]\n",
      "[  0.     0.     0.   ... 260.     8.     0.75]\n",
      "[  0.20188728   0.20591549   0.         ... 109.           5.\n",
      "   0.4       ]\n",
      "[  0.           0.           0.         ... 184.           7.\n",
      "   0.42857143]\n",
      "[ 0.13308089  0.          0.         ... 79.         10.\n",
      "  0.3       ]\n",
      "[  0.    0.    0.  ... 143.   10.    0.4]\n",
      "[ 0.          0.          0.         ... 79.          7.\n",
      "  0.28571429]\n",
      "[ 0.    0.    0.   ... 42.    4.    0.25]\n",
      "[  0.15576399   0.           0.         ... 120.           8.\n",
      "   0.375     ]\n",
      "[  0.21678514   0.22111061   0.         ... 127.           6.\n",
      "   0.5       ]\n",
      "[ 0.2347362   0.23941984  0.         ... 69.          5.\n",
      "  0.2       ]\n",
      "[ 0.          0.          0.         ... 70.          9.\n",
      "  0.33333333]\n",
      "[  0.17304306   0.17649575   0.         ... 122.           7.\n",
      "   0.42857143]\n",
      "[ 0.          0.          0.         ... 68.          7.\n",
      "  0.14285714]\n",
      "[  0.           0.           0.         ... 179.           7.\n",
      "   0.71428571]\n",
      "[  0.           0.           0.         ... 102.           9.\n",
      "   0.44444444]\n",
      "[  0.           0.           0.         ... 144.           9.\n",
      "   0.66666667]\n",
      "[0.00000000e+00 2.07495243e-01 0.00000000e+00 ... 2.10000000e+02\n",
      " 6.00000000e+00 5.00000000e-01]\n",
      "[ 0.          0.          0.         ... 60.          6.\n",
      "  0.33333333]\n",
      "[ 0.          0.          0.         ... 50.          6.\n",
      "  0.16666667]\n",
      "[ 0.          0.          0.         ... 88.          9.\n",
      "  0.22222222]\n",
      "[1.09162402e-01 1.11340494e-01 0.00000000e+00 ... 1.14000000e+02\n",
      " 9.00000000e+00 6.66666667e-01]\n",
      "[ 0.12181621  0.          0.         ... 55.         10.\n",
      "  0.6       ]\n",
      "[ 0.          0.          0.         ... 73.          7.\n",
      "  0.28571429]\n",
      "[  0.      0.      0.    ... 141.      8.      0.625]\n",
      "[ 0.          0.          0.         ... 73.         14.\n",
      "  0.78571429]\n",
      "[ 0.          0.          0.         ... 89.          7.\n",
      "  0.57142857]\n",
      "[ 0.19590374  0.          0.         ... 54.          5.\n",
      "  0.4       ]\n",
      "[  0.    0.    0.  ... 133.   10.    0.4]\n",
      "[  0.           0.           0.         ... 187.           7.\n",
      "   0.71428571]\n",
      "[  0.    0.    0.  ... 117.   10.    0.2]\n",
      "[ 0.21939208  0.22376956  0.         ... 23.          7.\n",
      "  0.42857143]\n",
      "[1.57109003e-01 1.60243763e-01 0.00000000e+00 ... 2.02000000e+02\n",
      " 8.00000000e+00 3.75000000e-01]\n",
      "[  0.           0.           0.         ... 149.           7.\n",
      "   0.42857143]\n",
      "[ 0.12404213  0.12651711  0.         ... 56.          9.\n",
      "  0.55555556]\n",
      "[0.00000000e+00 1.43937437e-01 0.00000000e+00 ... 1.91000000e+02\n",
      " 9.00000000e+00 3.33333333e-01]\n",
      "[1.31695106e-01 1.34322789e-01 0.00000000e+00 ... 1.61000000e+02\n",
      " 1.00000000e+01 5.00000000e-01]\n",
      "[  0.           0.           0.         ... 136.           6.\n",
      "   0.66666667]\n",
      "[1.29977832e-01 1.32571251e-01 0.00000000e+00 ... 1.34000000e+02\n",
      " 8.00000000e+00 5.00000000e-01]\n",
      "[ 0.12197684  0.12441062  0.         ... 77.         10.\n",
      "  0.6       ]\n",
      "[9.80598951e-02 1.00016462e-01 0.00000000e+00 ... 9.90000000e+01\n",
      " 1.10000000e+01 5.45454545e-01]\n",
      "[ 0.16880508  0.17217321  0.         ... 98.          6.\n",
      "  0.66666667]\n",
      "[  0.      0.      0.    ... 118.      8.      0.625]\n",
      "[  0.           0.           0.         ... 211.           7.\n",
      "   0.57142857]\n",
      "[ 0.19065372  0.          0.         ... 72.          7.\n",
      "  0.28571429]\n",
      "[ 0.    0.    0.   ... 94.    8.    0.75]\n",
      "[  0.    0.    0.  ... 188.   12.    0.5]\n",
      "[ 0.          0.          0.         ... 71.          7.\n",
      "  0.57142857]\n",
      "[ 0.16052435  0.16372725  0.         ... 71.          7.\n",
      "  0.42857143]\n",
      "[ 0.          0.          0.         ... 76.          9.\n",
      "  0.44444444]\n",
      "[1.63572140e-01 1.66835858e-01 0.00000000e+00 ... 1.97000000e+02\n",
      " 7.00000000e+00 4.28571429e-01]\n",
      "[  0.           0.           0.         ... 412.           9.\n",
      "   0.66666667]\n",
      "[0.00000000e+00 1.14605229e-01 0.00000000e+00 ... 1.46000000e+02\n",
      " 9.00000000e+00 6.66666667e-01]\n",
      "[  0.15244024   0.15548185   0.         ... 127.           9.\n",
      "   0.77777778]\n",
      "[  0.           0.           0.         ... 145.           9.\n",
      "   0.55555556]\n",
      "[1.72991501e-01 1.76443161e-01 0.00000000e+00 ... 1.82000000e+02\n",
      " 8.00000000e+00 6.25000000e-01]\n",
      "[ 0.          0.          0.         ... 50.          6.\n",
      "  0.33333333]\n",
      "[9.04078520e-02 9.22117395e-02 0.00000000e+00 ... 9.70000000e+01\n",
      " 1.30000000e+01 7.69230769e-01]\n",
      "[  0.           0.           0.         ... 117.           7.\n",
      "   0.71428571]\n",
      "[ 0.          0.          0.         ... 37.          9.\n",
      "  0.44444444]\n",
      "[  0.           0.           0.         ... 134.           6.\n",
      "   0.66666667]\n",
      "[1.40181886e-01 0.00000000e+00 0.00000000e+00 ... 2.02000000e+02\n",
      " 7.00000000e+00 1.42857143e-01]\n",
      "[  0.           0.15230705   0.         ... 134.           7.\n",
      "   0.71428571]\n",
      "[ 0.    0.    0.   ... 75.    8.    0.75]\n",
      "[ 0.   0.   0.  ... 35.   4.   0.5]\n",
      "[  0.     0.     0.   ... 106.     8.     0.25]\n",
      "[  0.16079021   0.           0.         ... 148.           7.\n",
      "   0.42857143]\n",
      "[1.13885834e-01 0.00000000e+00 0.00000000e+00 ... 1.70000000e+02\n",
      " 1.00000000e+01 4.00000000e-01]\n",
      "[ 0.          0.          0.         ... 78.          9.\n",
      "  0.55555556]\n",
      "[ 0.16016035  0.16335599  0.         ... 90.          7.\n",
      "  0.57142857]\n",
      "[ 0.20738654  0.          0.         ... 72.          7.\n",
      "  0.28571429]\n",
      "[ 0.   0.   0.  ... 21.  10.   0.6]\n",
      "[  0.           0.           0.         ... 157.           7.\n",
      "   0.71428571]\n",
      "[  0.18262116   0.           0.         ... 111.           6.\n",
      "   0.33333333]\n",
      "[ 0.13371983  0.          0.         ... 63.         10.\n",
      "  0.5       ]\n",
      "[0.00000000e+00 1.35589961e-01 0.00000000e+00 ... 1.82000000e+02\n",
      " 1.00000000e+01 5.00000000e-01]\n",
      "[ 0.          0.          0.         ... 67.          7.\n",
      "  0.57142857]\n",
      "[  0.16210429   0.16533872   0.         ... 114.           7.\n",
      "   0.57142857]\n",
      "[  0.           0.12037272   0.         ... 113.          10.\n",
      "   0.5       ]\n",
      "[ 0.   0.   0.  ... 69.   5.   0.6]\n",
      "[  0.16561687   0.           0.         ... 157.           7.\n",
      "   0.28571429]\n",
      "[ 0.   0.   0.  ... 76.   5.   0.4]\n",
      "[1.26917621e-01 0.00000000e+00 0.00000000e+00 ... 1.94000000e+02\n",
      " 1.10000000e+01 6.36363636e-01]\n",
      "[  0.    0.    0.  ... 168.    5.    0.4]\n",
      "[  0.           0.           0.         ... 103.           7.\n",
      "   0.57142857]\n",
      "[  0.         0.159339   0.       ... 118.         8.         0.625   ]\n",
      "[ 0.          0.12815208  0.         ... 26.          9.\n",
      "  0.22222222]\n",
      "[  0.      0.      0.    ... 273.      8.      0.375]\n",
      "[  0.225857     0.23036347   0.         ... 124.           5.\n",
      "   0.4       ]\n",
      "[ 0.     0.     0.    ... 76.     8.     0.625]\n",
      "[  0.15970501   0.16289157   0.         ... 100.           8.\n",
      "   0.375     ]\n",
      "[ 0.   0.   0.  ... 44.   5.   0.4]\n",
      "[ 0.          0.          0.         ... 34.          6.\n",
      "  0.16666667]\n",
      "[  0.           0.           0.         ... 122.           9.\n",
      "   0.55555556]\n",
      "[  0.           0.           0.         ... 140.          11.\n",
      "   0.54545455]\n",
      "[ 0.          0.          0.         ... 55.          7.\n",
      "  0.42857143]\n",
      "[  0.16226758   0.16550527   0.         ... 113.           6.\n",
      "   0.5       ]\n",
      "[  0.    0.    0.  ... 278.    6.    0.5]\n",
      "[1.41483104e-01 1.44306085e-01 0.00000000e+00 ... 1.43000000e+02\n",
      " 9.00000000e+00 7.77777778e-01]\n",
      "[ 0.    0.    0.   ... 82.    8.    0.25]\n",
      "[ 0.          0.          0.         ... 56.          9.\n",
      "  0.66666667]\n",
      "[ 0.          0.16034671  0.         ... 79.          7.\n",
      "  0.14285714]\n",
      "[ 0.16637988  0.          0.         ... 88.          7.\n",
      "  0.42857143]\n",
      "[  0.           0.           0.         ... 143.           9.\n",
      "   0.44444444]\n",
      "[ 0.   0.   0.  ... 39.   8.   0.5]\n",
      "[ 0.          0.11261725  0.         ... 71.         10.\n",
      "  0.5       ]\n",
      "[  0.    0.    0.  ... 240.   20.    0.4]\n",
      "[ 0.10036052  0.          0.         ... 53.         15.\n",
      "  0.66666667]\n",
      "[ 0.     0.     0.    ... 49.     8.     0.125]\n",
      "[  0.21053755   0.21473836   0.         ... 159.           5.\n",
      "   0.6       ]\n",
      "[ 0.          0.13626972  0.         ... 52.          9.\n",
      "  0.33333333]\n",
      "[ 0.          0.          0.         ... 79.          9.\n",
      "  0.66666667]\n",
      "[  0.           0.           0.         ... 109.           7.\n",
      "   0.42857143]\n",
      "[ 0.          0.13435412  0.         ... 93.         11.\n",
      "  0.72727273]\n",
      "[0.         0.         0.         ... 8.         9.         0.44444444]\n",
      "[ 0.          0.          0.         ... 51.          9.\n",
      "  0.33333333]\n",
      "[ 0.   0.   0.  ... 40.  10.   0.2]\n",
      "[ 0.          0.          0.         ... 47.          9.\n",
      "  0.33333333]\n",
      "[  0.           0.           0.         ... 152.          11.\n",
      "   0.45454545]\n",
      "[ 0.     0.     0.    ... 86.     8.     0.375]\n",
      "[  0.      0.      0.    ... 125.      8.      0.625]\n",
      "[ 0.13959316  0.          0.         ... 25.          8.\n",
      "  0.125     ]\n",
      "[  0.16110049   0.1643149    0.         ... 156.           7.\n",
      "   0.57142857]\n",
      "[  0.15159704   0.           0.         ... 118.           7.\n",
      "   0.42857143]\n",
      "[  0.           0.           0.         ... 157.           7.\n",
      "   0.42857143]\n",
      "[ 0.20556443  0.20966601  0.         ... 92.          5.\n",
      "  0.4       ]\n",
      "[ 0.          0.          0.         ... 99.         12.\n",
      "  0.41666667]\n",
      "[  0.           0.12885887   0.         ... 110.           9.\n",
      "   0.55555556]\n",
      "[  0.           0.           0.         ... 151.           7.\n",
      "   0.42857143]\n",
      "[9.37733488e-02 9.56443873e-02 0.00000000e+00 ... 1.89000000e+02\n",
      " 1.50000000e+01 6.66666667e-01]\n",
      "[ 0.   0.   0.  ... 40.   5.   0.2]\n",
      "[ 0.    0.    0.   ... 97.    4.    0.25]\n",
      "[ 0.   0.   0.  ... 65.   5.   0.2]\n",
      "[8.70459850e-02 8.87827939e-02 0.00000000e+00 ... 2.26000000e+02\n",
      " 1.70000000e+01 7.64705882e-01]\n",
      "[ 0.14517768  0.14807438  0.         ... 29.          8.\n",
      "  0.625     ]\n",
      "[ 0.  0.  0. ... 80.  5.  0.]\n",
      "[  0.    0.    0.  ... 130.    8.    0.5]\n",
      "[  0.19463017   0.19851358   0.         ... 100.           6.\n",
      "   0.5       ]\n",
      "[ 0.10583577  0.10794749  0.         ... 78.         10.\n",
      "  0.2       ]\n",
      "[0.00000000e+00 1.55240457e-01 0.00000000e+00 ... 1.94000000e+02\n",
      " 7.00000000e+00 7.14285714e-01]\n",
      "[ 0.13965693  0.          0.         ... 48.         12.\n",
      "  0.33333333]\n",
      "[  0.16596622   0.1692777    0.         ... 115.           7.\n",
      "   0.42857143]\n",
      "[ 0.12365914  0.          0.         ... 85.         13.\n",
      "  0.53846154]\n",
      "[  0.           0.           0.         ... 134.           7.\n",
      "   0.71428571]\n",
      "[ 0.   0.   0.  ... 40.  10.   0.5]\n",
      "[ 0.   0.   0.  ... 22.   8.   0.5]\n",
      "[2.08227761e-01 2.12382483e-01 0.00000000e+00 ... 2.69000000e+02\n",
      " 6.00000000e+00 6.66666667e-01]\n",
      "[  0.13587519   0.           0.         ... 128.           9.\n",
      "   0.33333333]\n",
      "[ 0.14236322  0.          0.         ... 72.          9.\n",
      "  0.77777778]\n",
      "[ 0.   0.   0.  ... 75.   8.   0.5]\n",
      "[  0.           0.           0.         ... 129.           7.\n",
      "   0.28571429]\n",
      "[  0.           0.           0.         ... 163.           7.\n",
      "   0.71428571]\n",
      "[ 0.          0.          0.         ... 58.          7.\n",
      "  0.42857143]\n",
      "[ 0.1142379   0.11651726  0.         ... 55.          9.\n",
      "  0.55555556]\n",
      "[1.32595782e-01 1.35241436e-01 0.00000000e+00 ... 1.47000000e+02\n",
      " 8.00000000e+00 6.25000000e-01]\n",
      "[  0.      0.      0.    ... 219.      8.      0.375]\n",
      "[ 0.          0.16037506  0.         ... 62.          8.\n",
      "  0.5       ]\n",
      "[ 0.17171     0.17513609  0.         ... 57.          7.\n",
      "  0.28571429]\n",
      "[1.23826433e-01 0.00000000e+00 0.00000000e+00 ... 1.80000000e+02\n",
      " 9.00000000e+00 5.55555556e-01]\n",
      "[1.79664832e-01 1.83249644e-01 0.00000000e+00 ... 1.84000000e+02\n",
      " 8.00000000e+00 7.50000000e-01]\n",
      "[0.00000000e+00 1.41751084e-01 0.00000000e+00 ... 1.46000000e+02\n",
      " 1.00000000e+01 6.00000000e-01]\n",
      "[  0.17064291   0.17404771   0.         ... 106.           6.\n",
      "   0.5       ]\n",
      "[1.05037276e-01 0.00000000e+00 0.00000000e+00 ... 1.39000000e+02\n",
      " 1.10000000e+01 6.36363636e-01]\n",
      "[ 0.   0.   0.  ... 77.   5.   0.2]\n",
      "[1.39535830e-01 1.42319956e-01 0.00000000e+00 ... 1.59000000e+02\n",
      " 8.00000000e+00 6.25000000e-01]\n",
      "[ 0.          0.          0.         ... 39.          6.\n",
      "  0.33333333]\n",
      "[  0.1622231    0.           0.         ... 123.           7.\n",
      "   0.42857143]\n",
      "[ 0.     0.     0.    ... 79.     8.     0.625]\n",
      "[ 0.          0.          0.         ... 69.          7.\n",
      "  0.28571429]\n",
      "[ 0.          0.          0.         ... 56.          7.\n",
      "  0.71428571]\n",
      "[ 0.          0.          0.         ... 57.          7.\n",
      "  0.57142857]\n",
      "[  0.           0.           0.         ... 135.           7.\n",
      "   0.42857143]\n",
      "[ 0.1441649   0.14704139  0.         ... 67.          8.\n",
      "  0.625     ]\n",
      "[ 0.          0.          0.         ... 84.          7.\n",
      "  0.57142857]\n",
      "[1.43761193e-01 1.46629627e-01 0.00000000e+00 ... 1.48000000e+02\n",
      " 8.00000000e+00 7.50000000e-01]\n",
      "[ 0.          0.          0.         ... 96.          9.\n",
      "  0.22222222]\n",
      "[  0.           0.13814497   0.         ... 108.          10.\n",
      "   0.7       ]\n",
      "[  0.15481017   0.           0.         ... 118.           8.\n",
      "   0.625     ]\n",
      "[0.00000000e+00 1.10992207e-01 0.00000000e+00 ... 1.66000000e+02\n",
      " 1.40000000e+01 7.85714286e-01]\n",
      "[  0.21053755   0.21473836   0.         ... 176.           5.\n",
      "   0.2       ]\n",
      "[  0.           0.           0.         ... 183.           7.\n",
      "   0.42857143]\n",
      "[  0.           0.           0.         ... 145.           9.\n",
      "   0.33333333]\n",
      "[  0.    0.    0.  ... 146.   10.    0.6]\n",
      "[1.77386186e-01 1.80925533e-01 0.00000000e+00 ... 1.89000000e+02\n",
      " 6.00000000e+00 6.66666667e-01]\n",
      "[ 0.          0.          0.         ... 40.          7.\n",
      "  0.28571429]\n",
      "[  0.17972657   0.           0.         ... 178.           7.\n",
      "   0.71428571]\n",
      "[ 0.   0.   0.  ... 70.   8.   0.5]\n",
      "[1.23120018e-01 0.00000000e+00 0.00000000e+00 ... 1.83000000e+02\n",
      " 9.00000000e+00 5.55555556e-01]\n",
      "[  0.           0.           0.         ... 123.          11.\n",
      "   0.72727273]\n",
      "[  0.    0.    0.  ... 110.    8.    0.5]\n",
      "[  0.13750644   0.           0.         ... 115.           9.\n",
      "   0.55555556]\n",
      "[ 0.          0.          0.         ... 53.          7.\n",
      "  0.71428571]\n",
      "[ 0.17457985  0.17806321  0.         ... 58.          7.\n",
      "  0.71428571]\n",
      "[  0.      0.      0.    ... 128.      8.      0.625]\n",
      "[1.45301635e-01 0.00000000e+00 0.00000000e+00 ... 1.48000000e+02\n",
      " 8.00000000e+00 3.75000000e-01]\n",
      "[  0.16009015   0.           0.         ... 109.           9.\n",
      "   0.33333333]\n",
      "[1.73701330e-01 1.77167154e-01 0.00000000e+00 ... 2.33000000e+02\n",
      " 8.00000000e+00 6.25000000e-01]\n",
      "[ 0.          0.          0.         ... 69.          9.\n",
      "  0.44444444]\n",
      "[ 0.   0.   0.  ... 87.   6.   0.5]\n",
      "[ 0.          0.          0.         ... 40.          7.\n",
      "  0.28571429]\n",
      "[ 0.   0.   0.  ... 52.  10.   0.5]\n",
      "[  0.           0.           0.         ... 126.          11.\n",
      "   0.54545455]\n",
      "[  0.           0.           0.         ... 157.           7.\n",
      "   0.42857143]\n",
      "[ 0.   0.   0.  ... 52.  10.   0.6]\n",
      "[ 0.17054553  0.17394839  0.         ... 62.          7.\n",
      "  0.57142857]\n",
      "[  0.    0.    0.  ... 170.   10.    0.8]\n",
      "[ 0.15088855  0.15389919  0.         ... 67.          7.\n",
      "  0.57142857]\n",
      "[ 0.          0.13387789  0.         ... 46.         12.\n",
      "  0.5       ]\n",
      "[ 0.         0.1694739  0.        ... 93.         6.         0.5      ]\n",
      "[  0.           0.           0.         ... 133.           7.\n",
      "   0.57142857]\n",
      "[  0.           0.           0.         ... 107.           9.\n",
      "   0.55555556]\n",
      "[ 0.          0.          0.         ... 47.          9.\n",
      "  0.44444444]\n",
      "[ 0.    0.    0.   ... 87.    4.    0.25]\n",
      "[0.00000000e+00 1.37149472e-01 0.00000000e+00 ... 1.69000000e+02\n",
      " 9.00000000e+00 6.66666667e-01]\n",
      "[  0.17014919   0.17354414   0.         ... 127.           5.\n",
      "   0.6       ]\n",
      "[0.00000000e+00 1.07866420e-01 0.00000000e+00 ... 1.63000000e+02\n",
      " 1.30000000e+01 2.30769231e-01]\n",
      "[ 0.     0.     0.    ... 77.     8.     0.625]\n",
      "[ 0.          0.          0.         ... 31.          7.\n",
      "  0.14285714]\n",
      "[ 0.          0.          0.         ... 51.          7.\n",
      "  0.57142857]\n",
      "[0.00000000e+00 1.50330388e-01 0.00000000e+00 ... 1.68000000e+02\n",
      " 7.00000000e+00 2.85714286e-01]\n",
      "[0.00000000e+00 1.57994237e-01 0.00000000e+00 ... 2.81000000e+02\n",
      " 8.00000000e+00 6.25000000e-01]\n",
      "[  0.17419716   0.17767287   0.         ... 153.           6.\n",
      "   0.66666667]\n",
      "[ 0.          0.          0.         ... 45.         12.\n",
      "  0.41666667]\n",
      "[0.00000000e+00 1.45225907e-01 0.00000000e+00 ... 2.18000000e+02\n",
      " 8.00000000e+00 6.25000000e-01]\n",
      "[  0.    0.    0.  ... 108.   10.    0.5]\n",
      "[  0.    0.    0.  ... 104.    4.    0.5]\n",
      "[  0.           0.16537383   0.         ... 132.           6.\n",
      "   0.66666667]\n",
      "[1.18992195e-01 1.21366419e-01 0.00000000e+00 ... 1.32000000e+02\n",
      " 1.10000000e+01 6.36363636e-01]\n",
      "[1.42825580e-01 1.45675346e-01 0.00000000e+00 ... 1.49000000e+02\n",
      " 7.00000000e+00 5.71428571e-01]\n",
      "[1.54849716e-01 0.00000000e+00 0.00000000e+00 ... 1.54000000e+02\n",
      " 7.00000000e+00 1.42857143e-01]\n",
      "[  0.    0.    0.  ... 109.   10.    0.5]\n",
      "[ 0.          0.14876274  0.         ... 82.          8.\n",
      "  0.5       ]\n",
      "[ 0.12671067  0.          0.         ... 73.          9.\n",
      "  0.44444444]\n",
      "[ 0.          0.          0.         ... 26.          6.\n",
      "  0.33333333]\n",
      "[ 0.   0.   0.  ... 39.  10.   0.6]\n",
      "[  0.    0.    0.  ... 109.   10.    0.7]\n",
      "[ 0.14851234  0.          0.         ... 67.          8.\n",
      "  0.5       ]\n",
      "[  0.           0.           0.         ... 116.           7.\n",
      "   0.28571429]\n",
      "[ 0.          0.          0.         ... 73.          9.\n",
      "  0.44444444]\n",
      "[ 0.1351861   0.13788344  0.         ... 96.         10.\n",
      "  0.4       ]\n",
      "[  0.1627695    0.16601721   0.         ... 159.           6.\n",
      "   0.5       ]\n",
      "[  0.21957182   0.22395288   0.         ... 121.           5.\n",
      "   0.2       ]\n",
      "[  0.    0.    0.  ... 144.   10.    0.5]\n",
      "[  0.      0.      0.    ... 137.      8.      0.375]\n",
      "[  0.    0.    0.  ... 310.   12.    0.5]\n",
      "[ 0.  0.  0. ... 31.  7.  0.]\n",
      "[  0.12277039   0.           0.         ... 109.           8.\n",
      "   0.25      ]\n",
      "[ 0.   0.   0.  ... 93.   6.   0.5]\n",
      "[ 0.13259543  0.          0.         ... 61.          7.\n",
      "  0.14285714]\n",
      "[  0.20404967   0.20812103   0.         ... 167.           5.\n",
      "   0.2       ]\n",
      "[1.06861960e-01 0.00000000e+00 0.00000000e+00 ... 1.08000000e+02\n",
      " 1.10000000e+01 3.63636364e-01]\n",
      "[  0.           0.           0.         ... 114.           7.\n",
      "   0.57142857]\n",
      "[  0.           0.           0.         ... 147.           6.\n",
      "   0.16666667]\n",
      "[ 0.15707045  0.          0.         ... 72.          6.\n",
      "  0.33333333]\n",
      "[  0.           0.21906064   0.         ... 140.           6.\n",
      "   0.33333333]\n",
      "[1.57361522e-01 1.60501321e-01 0.00000000e+00 ... 2.10000000e+02\n",
      " 8.00000000e+00 6.25000000e-01]\n",
      "[  0.    0.    0.  ... 208.   10.    0.6]\n",
      "[ 0.          0.16155763  0.         ... 99.          6.\n",
      "  0.5       ]\n",
      "[ 0.    0.    0.   ... 68.    8.    0.75]\n",
      "[  0.           0.           0.         ... 251.          11.\n",
      "   0.54545455]\n",
      "[  0.           0.14548548   0.         ... 125.           9.\n",
      "   0.55555556]\n",
      "[  0.    0.    0.  ... 275.    8.    0.5]\n",
      "[ 0.     0.     0.    ... 96.     8.     0.375]\n",
      "[ 0.14488194  0.14777273  0.         ... 78.          8.\n",
      "  0.5       ]\n",
      "[ 0.13785352  0.14060408  0.         ... 38.          8.\n",
      "  0.5       ]\n",
      "[  0.           0.           0.         ... 178.           9.\n",
      "   0.77777778]\n",
      "[  0.           0.           0.         ... 103.           7.\n",
      "   0.28571429]\n",
      "[ 0.          0.          0.         ... 49.          9.\n",
      "  0.44444444]\n",
      "[ 0.          0.          0.         ... 71.          6.\n",
      "  0.33333333]\n",
      "[  0.15600484   0.           0.         ... 103.           7.\n",
      "   0.42857143]\n",
      "[  0.           0.           0.         ... 105.          11.\n",
      "   0.63636364]\n",
      "[  0.    0.    0.  ... 100.   10.    0.8]\n",
      "[  0.           0.           0.         ... 188.          11.\n",
      "   0.63636364]\n",
      "[ 0.          0.1191158   0.         ... 67.         13.\n",
      "  0.61538462]\n",
      "[ 0.15427246  0.          0.         ... 49.          9.\n",
      "  0.55555556]\n",
      "[  0.    0.    0.  ... 193.   12.    0.5]\n",
      "[  0.           0.17114745   0.         ... 105.          10.\n",
      "   0.6       ]\n",
      "[  0.           0.           0.         ... 229.          13.\n",
      "   0.76923077]\n",
      "[  0.           0.           0.         ... 105.           7.\n",
      "   0.28571429]\n",
      "[ 0.          0.14083301  0.         ... 70.          9.\n",
      "  0.66666667]\n",
      "[ 0.          0.          0.         ... 95.         12.\n",
      "  0.58333333]\n",
      "[  0.           0.           0.         ... 114.           7.\n",
      "   0.71428571]\n",
      "[ 0.          0.          0.         ... 58.          9.\n",
      "  0.66666667]\n",
      "[ 0.          0.          0.         ... 28.          7.\n",
      "  0.42857143]\n",
      "[ 0.    0.    0.   ... 89.    4.    0.25]\n",
      "[1.67363505e-01 1.70702871e-01 0.00000000e+00 ... 2.50000000e+02\n",
      " 6.00000000e+00 3.33333333e-01]\n",
      "[  0.12833037   0.13089092   0.         ... 109.           8.\n",
      "   0.625     ]\n",
      "[  0.           0.           0.         ... 102.          11.\n",
      "   0.72727273]\n",
      "[  0.13178115   0.13441055   0.         ... 107.           8.\n",
      "   0.625     ]\n"
     ]
    },
    {
     "name": "stderr",
     "output_type": "stream",
     "text": [
      "IOPub data rate exceeded.\n",
      "The notebook server will temporarily stop sending output\n",
      "to the client in order to avoid crashing it.\n",
      "To change this limit, set the config variable\n",
      "`--NotebookApp.iopub_data_rate_limit`.\n",
      "\n",
      "Current values:\n",
      "NotebookApp.iopub_data_rate_limit=1000000.0 (bytes/sec)\n",
      "NotebookApp.rate_limit_window=3.0 (secs)\n",
      "\n"
     ]
    },
    {
     "ename": "TypeError",
     "evalue": "unsupported operand type(s) for -: 'list' and 'int'",
     "output_type": "error",
     "traceback": [
      "\u001b[1;31m---------------------------------------------------------------------------\u001b[0m",
      "\u001b[1;31mTypeError\u001b[0m                                 Traceback (most recent call last)",
      "\u001b[1;32m~\\AppData\\Local\\Temp\\ipykernel_13552\\614302075.py\u001b[0m in \u001b[0;36m<module>\u001b[1;34m\u001b[0m\n\u001b[1;32m----> 1\u001b[1;33m \u001b[0mcollated\u001b[0m \u001b[1;33m=\u001b[0m \u001b[0mbatchify\u001b[0m\u001b[1;33m(\u001b[0m\u001b[0mtrain_dataset\u001b[0m\u001b[1;33m)\u001b[0m\u001b[1;33m\u001b[0m\u001b[1;33m\u001b[0m\u001b[0m\n\u001b[0m\u001b[0;32m      2\u001b[0m \u001b[0mq_ids\u001b[0m\u001b[1;33m,\u001b[0m \u001b[0mq_lengths\u001b[0m\u001b[1;33m,\u001b[0m \u001b[0md_ids\u001b[0m\u001b[1;33m,\u001b[0m \u001b[0md_lengths\u001b[0m\u001b[1;33m,\u001b[0m \u001b[0m_\u001b[0m \u001b[1;33m=\u001b[0m \u001b[0mcollated\u001b[0m\u001b[1;33m\u001b[0m\u001b[1;33m\u001b[0m\u001b[0m\n",
      "\u001b[1;32m~\\AppData\\Local\\Temp\\ipykernel_13552\\3311245180.py\u001b[0m in \u001b[0;36mbatchify\u001b[1;34m(dataset)\u001b[0m\n\u001b[0;32m      8\u001b[0m         \u001b[0msamples\u001b[0m\u001b[1;33m.\u001b[0m\u001b[0mappend\u001b[0m\u001b[1;33m(\u001b[0m\u001b[0msample\u001b[0m\u001b[1;33m)\u001b[0m\u001b[1;33m\u001b[0m\u001b[1;33m\u001b[0m\u001b[0m\n\u001b[0;32m      9\u001b[0m \u001b[1;33m\u001b[0m\u001b[0m\n\u001b[1;32m---> 10\u001b[1;33m     \u001b[1;32mreturn\u001b[0m \u001b[0mcollate_into_batch\u001b[0m\u001b[1;33m(\u001b[0m\u001b[0msamples\u001b[0m\u001b[1;33m)\u001b[0m\u001b[1;33m\u001b[0m\u001b[1;33m\u001b[0m\u001b[0m\n\u001b[0m",
      "\u001b[1;32m~\\AppData\\Local\\Temp\\ipykernel_13552\\3044454471.py\u001b[0m in \u001b[0;36mcollate_into_batch\u001b[1;34m(raw_batch)\u001b[0m\n\u001b[0;32m     13\u001b[0m     \u001b[0mquestion_tokens\u001b[0m \u001b[1;33m=\u001b[0m \u001b[1;33m[\u001b[0m\u001b[0msample\u001b[0m\u001b[1;33m[\u001b[0m\u001b[1;36m0\u001b[0m\u001b[1;33m]\u001b[0m \u001b[1;32mfor\u001b[0m \u001b[0msample\u001b[0m \u001b[1;32min\u001b[0m \u001b[0mraw_batch\u001b[0m\u001b[1;33m]\u001b[0m\u001b[1;33m\u001b[0m\u001b[1;33m\u001b[0m\u001b[0m\n\u001b[0;32m     14\u001b[0m     \u001b[0mquestion_lengths\u001b[0m \u001b[1;33m=\u001b[0m \u001b[1;33m[\u001b[0m\u001b[0msample\u001b[0m\u001b[1;33m[\u001b[0m\u001b[1;36m1\u001b[0m\u001b[1;33m]\u001b[0m \u001b[1;32mfor\u001b[0m \u001b[0msample\u001b[0m \u001b[1;32min\u001b[0m \u001b[0mraw_batch\u001b[0m\u001b[1;33m]\u001b[0m\u001b[1;33m\u001b[0m\u001b[1;33m\u001b[0m\u001b[0m\n\u001b[1;32m---> 15\u001b[1;33m     \u001b[0mquestion_ids\u001b[0m \u001b[1;33m=\u001b[0m \u001b[0mpad_tokens\u001b[0m\u001b[1;33m(\u001b[0m\u001b[0mquestion_tokens\u001b[0m\u001b[1;33m,\u001b[0m \u001b[0mquestion_lengths\u001b[0m\u001b[1;33m)\u001b[0m\u001b[1;33m\u001b[0m\u001b[1;33m\u001b[0m\u001b[0m\n\u001b[0m\u001b[0;32m     16\u001b[0m \u001b[1;33m\u001b[0m\u001b[0m\n\u001b[0;32m     17\u001b[0m     \u001b[0mdocument_tokens\u001b[0m \u001b[1;33m=\u001b[0m \u001b[1;33m[\u001b[0m\u001b[0msample\u001b[0m\u001b[1;33m[\u001b[0m\u001b[1;36m2\u001b[0m\u001b[1;33m]\u001b[0m \u001b[1;32mfor\u001b[0m \u001b[0msample\u001b[0m \u001b[1;32min\u001b[0m \u001b[0mraw_batch\u001b[0m\u001b[1;33m]\u001b[0m\u001b[1;33m\u001b[0m\u001b[1;33m\u001b[0m\u001b[0m\n",
      "\u001b[1;32m~\\AppData\\Local\\Temp\\ipykernel_13552\\3044454471.py\u001b[0m in \u001b[0;36mpad_tokens\u001b[1;34m(token_ids, token_lengths)\u001b[0m\n\u001b[0;32m      3\u001b[0m \u001b[1;33m\u001b[0m\u001b[0m\n\u001b[0;32m      4\u001b[0m     \u001b[0mmax_length\u001b[0m \u001b[1;33m=\u001b[0m \u001b[0mmax\u001b[0m\u001b[1;33m(\u001b[0m\u001b[0mtoken_lengths\u001b[0m\u001b[1;33m)\u001b[0m\u001b[1;33m\u001b[0m\u001b[1;33m\u001b[0m\u001b[0m\n\u001b[1;32m----> 5\u001b[1;33m     \u001b[0mpadded_ids\u001b[0m \u001b[1;33m=\u001b[0m \u001b[1;33m[\u001b[0m\u001b[1;33m(\u001b[0m\u001b[0mids\u001b[0m \u001b[1;33m+\u001b[0m \u001b[1;33m[\u001b[0m\u001b[0mpad_id\u001b[0m\u001b[1;33m]\u001b[0m \u001b[1;33m*\u001b[0m \u001b[1;33m(\u001b[0m\u001b[0mmax_length\u001b[0m \u001b[1;33m-\u001b[0m \u001b[0mlen\u001b[0m\u001b[1;33m(\u001b[0m\u001b[0mids\u001b[0m\u001b[1;33m)\u001b[0m\u001b[1;33m)\u001b[0m\u001b[1;33m)\u001b[0m \u001b[1;32mfor\u001b[0m \u001b[0mids\u001b[0m \u001b[1;32min\u001b[0m \u001b[0mtoken_ids\u001b[0m\u001b[1;33m]\u001b[0m\u001b[1;33m\u001b[0m\u001b[1;33m\u001b[0m\u001b[0m\n\u001b[0m\u001b[0;32m      6\u001b[0m \u001b[1;33m\u001b[0m\u001b[0m\n\u001b[0;32m      7\u001b[0m     \u001b[1;32massert\u001b[0m \u001b[1;33m(\u001b[0m\u001b[0mall\u001b[0m\u001b[1;33m(\u001b[0m\u001b[0mlen\u001b[0m\u001b[1;33m(\u001b[0m\u001b[0mpadded\u001b[0m\u001b[1;33m)\u001b[0m \u001b[1;33m==\u001b[0m \u001b[0mmax_length\u001b[0m \u001b[1;32mfor\u001b[0m \u001b[0mpadded\u001b[0m \u001b[1;32min\u001b[0m \u001b[0mpadded_ids\u001b[0m\u001b[1;33m)\u001b[0m\u001b[1;33m)\u001b[0m\u001b[1;33m\u001b[0m\u001b[1;33m\u001b[0m\u001b[0m\n",
      "\u001b[1;32m~\\AppData\\Local\\Temp\\ipykernel_13552\\3044454471.py\u001b[0m in \u001b[0;36m<listcomp>\u001b[1;34m(.0)\u001b[0m\n\u001b[0;32m      3\u001b[0m \u001b[1;33m\u001b[0m\u001b[0m\n\u001b[0;32m      4\u001b[0m     \u001b[0mmax_length\u001b[0m \u001b[1;33m=\u001b[0m \u001b[0mmax\u001b[0m\u001b[1;33m(\u001b[0m\u001b[0mtoken_lengths\u001b[0m\u001b[1;33m)\u001b[0m\u001b[1;33m\u001b[0m\u001b[1;33m\u001b[0m\u001b[0m\n\u001b[1;32m----> 5\u001b[1;33m     \u001b[0mpadded_ids\u001b[0m \u001b[1;33m=\u001b[0m \u001b[1;33m[\u001b[0m\u001b[1;33m(\u001b[0m\u001b[0mids\u001b[0m \u001b[1;33m+\u001b[0m \u001b[1;33m[\u001b[0m\u001b[0mpad_id\u001b[0m\u001b[1;33m]\u001b[0m \u001b[1;33m*\u001b[0m \u001b[1;33m(\u001b[0m\u001b[0mmax_length\u001b[0m \u001b[1;33m-\u001b[0m \u001b[0mlen\u001b[0m\u001b[1;33m(\u001b[0m\u001b[0mids\u001b[0m\u001b[1;33m)\u001b[0m\u001b[1;33m)\u001b[0m\u001b[1;33m)\u001b[0m \u001b[1;32mfor\u001b[0m \u001b[0mids\u001b[0m \u001b[1;32min\u001b[0m \u001b[0mtoken_ids\u001b[0m\u001b[1;33m]\u001b[0m\u001b[1;33m\u001b[0m\u001b[1;33m\u001b[0m\u001b[0m\n\u001b[0m\u001b[0;32m      6\u001b[0m \u001b[1;33m\u001b[0m\u001b[0m\n\u001b[0;32m      7\u001b[0m     \u001b[1;32massert\u001b[0m \u001b[1;33m(\u001b[0m\u001b[0mall\u001b[0m\u001b[1;33m(\u001b[0m\u001b[0mlen\u001b[0m\u001b[1;33m(\u001b[0m\u001b[0mpadded\u001b[0m\u001b[1;33m)\u001b[0m \u001b[1;33m==\u001b[0m \u001b[0mmax_length\u001b[0m \u001b[1;32mfor\u001b[0m \u001b[0mpadded\u001b[0m \u001b[1;32min\u001b[0m \u001b[0mpadded_ids\u001b[0m\u001b[1;33m)\u001b[0m\u001b[1;33m)\u001b[0m\u001b[1;33m\u001b[0m\u001b[1;33m\u001b[0m\u001b[0m\n",
      "\u001b[1;31mTypeError\u001b[0m: unsupported operand type(s) for -: 'list' and 'int'"
     ]
    }
   ],
   "source": [
    "collated = batchify(train_dataset)\n",
    "q_ids, q_lengths, d_ids, d_lengths, _ = collated"
   ]
  },
  {
   "cell_type": "code",
   "execution_count": null,
   "id": "RckVTHTESVY7",
   "metadata": {
    "colab": {
     "base_uri": "https://localhost:8080/"
    },
    "id": "RckVTHTESVY7",
    "outputId": "0ad549d3-04de-4065-ef09-5d640bd19a83"
   },
   "outputs": [],
   "source": [
    "summarize_batch(q_ids, q_lengths, d_ids, d_lengths)"
   ]
  },
  {
   "cell_type": "code",
   "execution_count": null,
   "id": "aFZbJkbSON6L",
   "metadata": {
    "id": "aFZbJkbSON6L"
   },
   "outputs": [],
   "source": [
    "def transfer_batch(q_ids, q_lengths, d_ids, d_lengths, targets, device):\n",
    "    q_ids = q_ids.to(device)\n",
    "    q_lengths = q_lengths.to(device)\n",
    "    d_ids = d_ids.to(device)\n",
    "    d_lengths = d_lengths.to(device)\n",
    "    targets = targets.to(device)\n",
    "    return q_ids, q_lengths, d_ids, d_lengths, targets     "
   ]
  },
  {
   "cell_type": "code",
   "execution_count": null,
   "id": "43eea9e6",
   "metadata": {
    "id": "43eea9e6"
   },
   "outputs": [],
   "source": [
    "def train(model: nn.Module, tok2vec, train_data, validation_data, n_epochs = 15, batch_size = 64, weight_decay=0):\n",
    "    loss_fn = nn.CrossEntropyLoss()\n",
    "    optimizer = optim.Adam(model.parameters(), weight_decay=weight_decay)\n",
    "\n",
    "    # Load dataset\n",
    "    train_dataset = QuestionAnsweredDataset(train_data, tok2vec)\n",
    "    train_dataloader = DataLoader(train_dataset, batch_size=batch_size, shuffle=True, collate_fn=collate_into_batch)\n",
    "\n",
    "    val_dataset = QuestionAnsweredDataset(validation_data, tok2vec)\n",
    "    val_dataloader = DataLoader(val_dataset, batch_size=batch_size, shuffle=False, collate_fn=collate_into_batch)\n",
    "\n",
    "    # store improvement per epoch\n",
    "    train_losses = []\n",
    "    train_accuracies = []\n",
    "    test_accuracies = []\n",
    "\n",
    "    for epoch in range(n_epochs):\n",
    "\n",
    "        ### Training\n",
    "        model.train()\n",
    "\n",
    "        # Store batch loss and accuracy\n",
    "        loss_epoch = []\n",
    "        accuracy_epoch = []\n",
    "\n",
    "        batch_pbar = tqdm(train_dataloader)\n",
    "        for q_ids, q_lengths, d_ids, d_lengths, targets in batch_pbar:\n",
    "            q_ids, q_lengths, d_ids, d_lengths, targets = transfer_batch(q_ids, q_lengths, d_ids, d_lengths, targets, device)\n",
    "            \n",
    "            # training\n",
    "            outputs = model(q_ids, q_lengths, d_ids, d_lengths)\n",
    "            loss = loss_fn(outputs, targets)\n",
    "\n",
    "            optimizer.zero_grad()\n",
    "            loss.backward()\n",
    "            optimizer.step()\n",
    "\n",
    "            # prediction\n",
    "            predictions = outputs.max(1)[1]\n",
    "            accuracy = accuracy_score(targets.cpu(), predictions.cpu())\n",
    "\n",
    "            loss_epoch.append(loss.detach().cpu().item())\n",
    "            accuracy_epoch.append(accuracy)\n",
    "\n",
    "            batch_pbar.set_description(f\"epoch={epoch+1}/{n_epochs} | loss={loss.item():.2f}, accuracy={accuracy:.2f}\")\n",
    "\n",
    "        train_loss = np.mean(loss_epoch)\n",
    "        train_losses.append(train_loss)\n",
    "\n",
    "        train_acc = np.mean(accuracy_epoch)\n",
    "        train_accuracies.append(train_acc)\n",
    "\n",
    "        ### Evaluation\n",
    "        test_acc = evaluate(model, val_dataloader)\n",
    "        test_accuracies.append(test_acc)\n",
    "\n",
    "        print(f\"epoch={epoch+1}/{n_epochs} | loss={train_loss:.2f}, train_accuracy={train_acc:.2f}, test_accuracy={test_acc:.2f}\")\n",
    "\n",
    "    print(\"Finished training.\")\n",
    "    \n",
    "    return train_losses, train_accuracies, test_accuracies"
   ]
  },
  {
   "cell_type": "code",
   "execution_count": 44,
   "id": "1e3c8881",
   "metadata": {
    "id": "1e3c8881"
   },
   "outputs": [],
   "source": [
    "def evaluate(model: nn.Module, valid_dl: DataLoader):\n",
    "    model.eval()\n",
    "\n",
    "    logits_all = []\n",
    "    targets_all = []\n",
    "\n",
    "    with torch.no_grad():\n",
    "        for q_ids, q_lengths, d_ids, d_lengths, targets in valid_dl:\n",
    "            q_ids, q_lengths, d_ids, d_lengths, targets = transfer_batch(q_ids, q_lengths, d_ids, d_lengths, targets, device)\n",
    "\n",
    "            logits = model(q_ids, q_lengths, d_ids, d_lengths)\n",
    "\n",
    "            targets_all.extend(targets.detach().cpu().numpy())\n",
    "\n",
    "            predictions = logits.max(1)[1].cpu()\n",
    "            logits_all.extend(predictions)\n",
    "            \n",
    "        acc = accuracy_score(logits_all, targets_all)\n",
    "\n",
    "    return acc"
   ]
  },
  {
   "cell_type": "code",
   "execution_count": 45,
   "id": "f0278d8a",
   "metadata": {
    "id": "f0278d8a"
   },
   "outputs": [],
   "source": [
    "def plot_network_learning(model_name, train_accuracies, test_accuracies, train_losses=None):\n",
    "    fig, ax = plt.subplots(figsize=(6,6))\n",
    "    \n",
    "    ax.grid(linestyle=\"--\")\n",
    "    ax.set_title(model_name)\n",
    "    ax.set_ylabel(\"Accuracy\")\n",
    "    ax.set_xlabel(\"Epoch\")\n",
    "\n",
    "    epoch_range = np.arange(len(train_accuracies), step=1)\n",
    "    ax.plot(epoch_range, train_accuracies)\n",
    "    ax.plot(epoch_range, test_accuracies)\n",
    "    ax.legend([\"Train Accuracy\", \"Validation Accuracy\"], loc=\"upper left\")\n",
    "    \n",
    "    ax.set_yticks(np.linspace(0.5, 1, 11))\n",
    "    ax.set_xticks(epoch_range)\n",
    "    \n",
    "    if train_losses != None:\n",
    "        ax2 = ax.twinx()\n",
    "        ax2.plot(epoch_range, train_losses, c=\"g\")\n",
    "        ax2.set_yticks(np.linspace(0, 1, 11))\n",
    "        ax2.set_ylabel(\"Loss\")\n",
    "        ax2.legend([\"Train Loss\"], loc=\"upper right\")"
   ]
  },
  {
   "cell_type": "code",
   "execution_count": 46,
   "id": "721fe0cd",
   "metadata": {
    "id": "721fe0cd"
   },
   "outputs": [],
   "source": [
    "device = torch.device(\"cuda\") if torch.cuda.is_available() else torch.device(\"cpu\")"
   ]
  },
  {
   "cell_type": "code",
   "execution_count": 145,
   "id": "cd5d9bd9",
   "metadata": {
    "colab": {
     "base_uri": "https://localhost:8080/"
    },
    "id": "cd5d9bd9",
    "outputId": "e2eeda76-da75-49b4-89d8-1485e91f1711"
   },
   "outputs": [
    {
     "data": {
      "text/plain": [
       "device(type='cpu')"
      ]
     },
     "execution_count": 145,
     "metadata": {},
     "output_type": "execute_result"
    }
   ],
   "source": [
    "device"
   ]
  },
  {
   "cell_type": "markdown",
   "id": "5f68638f",
   "metadata": {
    "id": "5f68638f"
   },
   "source": [
    "## English"
   ]
  },
  {
   "cell_type": "code",
   "execution_count": 147,
   "id": "fcfbc72b",
   "metadata": {
    "colab": {
     "base_uri": "https://localhost:8080/"
    },
    "id": "fcfbc72b",
    "outputId": "548f8cff-77cd-43e5-a429-ed506728f94c"
   },
   "outputs": [
    {
     "name": "stdout",
     "output_type": "stream",
     "text": [
      "LSTM_Network(\n",
      "  (word_embeddings): Embedding(20002, 300)\n",
      "  (lstm): LSTM(300, 100, batch_first=True)\n",
      "  (linear): Linear(in_features=200, out_features=72, bias=True)\n",
      "  (relu): ReLU()\n",
      "  (linear_out): Linear(in_features=72, out_features=2, bias=True)\n",
      ")\n"
     ]
    }
   ],
   "source": [
    "# Setup Model\n",
    "tok2vec = compress_fasttext.models.CompressedFastTextKeyedVectors.load(\"../resources/fasttext-en-mini\")\n",
    "pretrained_embeddings, pad_id, OOV_id = prepare_embedding_matrix(tok2vec.get_normed_vectors())\n",
    "\n",
    "model = LSTM_Network(pretrained_embeddings)\n",
    "model.to(device)\n",
    "\n",
    "print(model)"
   ]
  },
  {
   "cell_type": "code",
   "execution_count": 148,
   "id": "433ccaff",
   "metadata": {
    "colab": {
     "base_uri": "https://localhost:8080/"
    },
    "id": "433ccaff",
    "outputId": "ac5006c0-4e39-4216-f1c8-cfeb6be2513e"
   },
   "outputs": [
    {
     "name": "stdout",
     "output_type": "stream",
     "text": [
      "Output shape: torch.Size([1, 2])\n",
      "Output logits:\n",
      "[[-0.06810887  0.0298737 ]]\n"
     ]
    }
   ],
   "source": [
    "test_forward_pass(model)"
   ]
  },
  {
   "cell_type": "code",
   "execution_count": null,
   "id": "397e2d2d",
   "metadata": {
    "colab": {
     "base_uri": "https://localhost:8080/"
    },
    "id": "397e2d2d",
    "outputId": "7fcfbeb5-d61a-458d-8457-42b5cc00a216"
   },
   "outputs": [
    {
     "name": "stderr",
     "output_type": "stream",
     "text": [
      "epoch=1/15 | loss=0.47, accuracy=0.76: 100%|██████████| 116/116 [00:03<00:00, 35.58it/s]\n"
     ]
    },
    {
     "name": "stdout",
     "output_type": "stream",
     "text": [
      "epoch=1/15 | loss=0.66, train_accuracy=0.60, test_accuracy=0.71\n"
     ]
    },
    {
     "name": "stderr",
     "output_type": "stream",
     "text": [
      "epoch=2/15 | loss=0.49, accuracy=0.83: 100%|██████████| 116/116 [00:03<00:00, 37.95it/s]\n"
     ]
    },
    {
     "name": "stdout",
     "output_type": "stream",
     "text": [
      "epoch=2/15 | loss=0.53, train_accuracy=0.74, test_accuracy=0.76\n"
     ]
    },
    {
     "name": "stderr",
     "output_type": "stream",
     "text": [
      "epoch=3/15 | loss=0.55, accuracy=0.69: 100%|██████████| 116/116 [00:03<00:00, 37.53it/s]\n"
     ]
    },
    {
     "name": "stdout",
     "output_type": "stream",
     "text": [
      "epoch=3/15 | loss=0.48, train_accuracy=0.77, test_accuracy=0.79\n"
     ]
    },
    {
     "name": "stderr",
     "output_type": "stream",
     "text": [
      "epoch=4/15 | loss=0.31, accuracy=0.90: 100%|██████████| 116/116 [00:03<00:00, 36.93it/s]\n"
     ]
    },
    {
     "name": "stdout",
     "output_type": "stream",
     "text": [
      "epoch=4/15 | loss=0.45, train_accuracy=0.79, test_accuracy=0.80\n"
     ]
    },
    {
     "name": "stderr",
     "output_type": "stream",
     "text": [
      "epoch=5/15 | loss=0.31, accuracy=0.86: 100%|██████████| 116/116 [00:03<00:00, 38.20it/s]\n"
     ]
    },
    {
     "name": "stdout",
     "output_type": "stream",
     "text": [
      "epoch=5/15 | loss=0.43, train_accuracy=0.81, test_accuracy=0.80\n"
     ]
    },
    {
     "name": "stderr",
     "output_type": "stream",
     "text": [
      "epoch=6/15 | loss=0.41, accuracy=0.76: 100%|██████████| 116/116 [00:03<00:00, 37.10it/s]\n"
     ]
    },
    {
     "name": "stdout",
     "output_type": "stream",
     "text": [
      "epoch=6/15 | loss=0.41, train_accuracy=0.82, test_accuracy=0.80\n"
     ]
    },
    {
     "name": "stderr",
     "output_type": "stream",
     "text": [
      "epoch=7/15 | loss=0.40, accuracy=0.72: 100%|██████████| 116/116 [00:03<00:00, 37.43it/s]\n"
     ]
    },
    {
     "name": "stdout",
     "output_type": "stream",
     "text": [
      "epoch=7/15 | loss=0.39, train_accuracy=0.83, test_accuracy=0.80\n"
     ]
    },
    {
     "name": "stderr",
     "output_type": "stream",
     "text": [
      "epoch=8/15 | loss=0.32, accuracy=0.90: 100%|██████████| 116/116 [00:03<00:00, 37.83it/s]\n"
     ]
    },
    {
     "name": "stdout",
     "output_type": "stream",
     "text": [
      "epoch=8/15 | loss=0.36, train_accuracy=0.84, test_accuracy=0.79\n"
     ]
    },
    {
     "name": "stderr",
     "output_type": "stream",
     "text": [
      "epoch=9/15 | loss=0.18, accuracy=0.90: 100%|██████████| 116/116 [00:03<00:00, 37.54it/s]\n"
     ]
    },
    {
     "name": "stdout",
     "output_type": "stream",
     "text": [
      "epoch=9/15 | loss=0.33, train_accuracy=0.86, test_accuracy=0.81\n"
     ]
    },
    {
     "name": "stderr",
     "output_type": "stream",
     "text": [
      "epoch=10/15 | loss=0.40, accuracy=0.79: 100%|██████████| 116/116 [00:03<00:00, 36.65it/s]\n"
     ]
    },
    {
     "name": "stdout",
     "output_type": "stream",
     "text": [
      "epoch=10/15 | loss=0.30, train_accuracy=0.87, test_accuracy=0.80\n"
     ]
    },
    {
     "name": "stderr",
     "output_type": "stream",
     "text": [
      "epoch=11/15 | loss=0.22, accuracy=0.93: 100%|██████████| 116/116 [00:03<00:00, 37.76it/s]\n"
     ]
    },
    {
     "name": "stdout",
     "output_type": "stream",
     "text": [
      "epoch=11/15 | loss=0.26, train_accuracy=0.90, test_accuracy=0.81\n"
     ]
    },
    {
     "name": "stderr",
     "output_type": "stream",
     "text": [
      "epoch=12/15 | loss=0.23, accuracy=0.93: 100%|██████████| 116/116 [00:03<00:00, 36.92it/s]\n"
     ]
    },
    {
     "name": "stdout",
     "output_type": "stream",
     "text": [
      "epoch=12/15 | loss=0.22, train_accuracy=0.92, test_accuracy=0.79\n"
     ]
    },
    {
     "name": "stderr",
     "output_type": "stream",
     "text": [
      "epoch=13/15 | loss=0.15, accuracy=0.90: 100%|██████████| 116/116 [00:03<00:00, 36.71it/s]\n"
     ]
    },
    {
     "name": "stdout",
     "output_type": "stream",
     "text": [
      "epoch=13/15 | loss=0.17, train_accuracy=0.94, test_accuracy=0.77\n"
     ]
    },
    {
     "name": "stderr",
     "output_type": "stream",
     "text": [
      "epoch=14/15 | loss=0.07, accuracy=1.00: 100%|██████████| 116/116 [00:03<00:00, 35.70it/s]\n"
     ]
    },
    {
     "name": "stdout",
     "output_type": "stream",
     "text": [
      "epoch=14/15 | loss=0.13, train_accuracy=0.96, test_accuracy=0.80\n"
     ]
    },
    {
     "name": "stderr",
     "output_type": "stream",
     "text": [
      "epoch=15/15 | loss=0.12, accuracy=0.97: 100%|██████████| 116/116 [00:03<00:00, 37.52it/s]\n"
     ]
    },
    {
     "name": "stdout",
     "output_type": "stream",
     "text": [
      "epoch=15/15 | loss=0.10, train_accuracy=0.97, test_accuracy=0.78\n",
      "Finished training.\n"
     ]
    }
   ],
   "source": [
    "train_result_en = train(model, tok2vec, train_en, validation_en, weight_decay=1e-6)"
   ]
  },
  {
   "cell_type": "code",
   "execution_count": null,
   "id": "55a0e9d2",
   "metadata": {
    "colab": {
     "base_uri": "https://localhost:8080/",
     "height": 404
    },
    "id": "55a0e9d2",
    "outputId": "d6023500-c1e1-4ff9-d1c1-5f152123dfc1"
   },
   "outputs": [
    {
     "data": {
      "image/png": "[encoded data removed]",
      "text/plain": [
       "<Figure size 432x432 with 2 Axes>"
      ]
     },
     "metadata": {
      "needs_background": "light"
     },
     "output_type": "display_data"
    }
   ],
   "source": [
    "train_losses, train_accuracies, test_accuracies = train_result_en\n",
    "plot_network_learning(\"attentive LSTM model\", train_accuracies, test_accuracies, train_losses)"
   ]
  },
  {
   "cell_type": "markdown",
   "id": "605bbe32",
   "metadata": {
    "id": "605bbe32"
   },
   "source": [
    "## Finnish"
   ]
  },
  {
   "cell_type": "code",
   "execution_count": null,
   "id": "899c715b",
   "metadata": {
    "colab": {
     "base_uri": "https://localhost:8080/"
    },
    "id": "899c715b",
    "outputId": "3d38024c-7a46-45f1-8a57-406f5d69252a"
   },
   "outputs": [
    {
     "name": "stdout",
     "output_type": "stream",
     "text": [
      "BiLSTM_Network(\n",
      "  (embedding): Embedding(20002, 300, padding_idx=20001)\n",
      "  (biLSTM): LSTM(300, 100, batch_first=True, bidirectional=True)\n",
      "  (linear): Linear(in_features=400, out_features=2, bias=True)\n",
      ")\n"
     ]
    }
   ],
   "source": [
    "# Setup Model\n",
    "tok2vec = compress_fasttext.models.CompressedFastTextKeyedVectors.load(\"../resources/fasttext-fi-mini\")\n",
    "pretrained_embeddings, pad_id, OOV_id = prepare_embedding_matrix(tok2vec.get_normed_vectors())\n",
    "\n",
    "model = BiLSTM_Network(pretrained_embeddings)\n",
    "model.to(device)\n",
    "\n",
    "print(model)"
   ]
  },
  {
   "cell_type": "code",
   "execution_count": null,
   "id": "bd778bb9",
   "metadata": {
    "colab": {
     "base_uri": "https://localhost:8080/"
    },
    "id": "bd778bb9",
    "outputId": "05d1d2c3-0e4a-406e-f49b-4f5f1daac7f4"
   },
   "outputs": [
    {
     "name": "stderr",
     "output_type": "stream",
     "text": [
      "epoch=1/10 | loss=0.58, accuracy=0.40: 100%|██████████| 215/215 [00:07<00:00, 26.90it/s]\n"
     ]
    },
    {
     "name": "stdout",
     "output_type": "stream",
     "text": [
      "epoch=1/10 | loss=0.57, train_accuracy=0.68, test_accuracy=0.73\n"
     ]
    },
    {
     "name": "stderr",
     "output_type": "stream",
     "text": [
      "epoch=2/10 | loss=0.28, accuracy=1.00: 100%|██████████| 215/215 [00:07<00:00, 27.31it/s]\n"
     ]
    },
    {
     "name": "stdout",
     "output_type": "stream",
     "text": [
      "epoch=2/10 | loss=0.49, train_accuracy=0.76, test_accuracy=0.75\n"
     ]
    },
    {
     "name": "stderr",
     "output_type": "stream",
     "text": [
      "epoch=3/10 | loss=0.14, accuracy=1.00: 100%|██████████| 215/215 [00:07<00:00, 27.19it/s]\n"
     ]
    },
    {
     "name": "stdout",
     "output_type": "stream",
     "text": [
      "epoch=3/10 | loss=0.45, train_accuracy=0.78, test_accuracy=0.76\n"
     ]
    },
    {
     "name": "stderr",
     "output_type": "stream",
     "text": [
      "epoch=4/10 | loss=0.15, accuracy=1.00: 100%|██████████| 215/215 [00:07<00:00, 27.14it/s]\n"
     ]
    },
    {
     "name": "stdout",
     "output_type": "stream",
     "text": [
      "epoch=4/10 | loss=0.44, train_accuracy=0.79, test_accuracy=0.77\n"
     ]
    },
    {
     "name": "stderr",
     "output_type": "stream",
     "text": [
      "epoch=5/10 | loss=0.25, accuracy=0.80: 100%|██████████| 215/215 [00:07<00:00, 27.42it/s]\n"
     ]
    },
    {
     "name": "stdout",
     "output_type": "stream",
     "text": [
      "epoch=5/10 | loss=0.43, train_accuracy=0.79, test_accuracy=0.78\n"
     ]
    },
    {
     "name": "stderr",
     "output_type": "stream",
     "text": [
      "epoch=6/10 | loss=0.35, accuracy=0.80: 100%|██████████| 215/215 [00:07<00:00, 27.64it/s]\n"
     ]
    },
    {
     "name": "stdout",
     "output_type": "stream",
     "text": [
      "epoch=6/10 | loss=0.41, train_accuracy=0.81, test_accuracy=0.77\n"
     ]
    },
    {
     "name": "stderr",
     "output_type": "stream",
     "text": [
      "epoch=7/10 | loss=0.11, accuracy=1.00: 100%|██████████| 215/215 [00:07<00:00, 27.39it/s]\n"
     ]
    },
    {
     "name": "stdout",
     "output_type": "stream",
     "text": [
      "epoch=7/10 | loss=0.40, train_accuracy=0.82, test_accuracy=0.77\n"
     ]
    },
    {
     "name": "stderr",
     "output_type": "stream",
     "text": [
      "epoch=8/10 | loss=0.91, accuracy=0.40: 100%|██████████| 215/215 [00:07<00:00, 27.38it/s]\n"
     ]
    },
    {
     "name": "stdout",
     "output_type": "stream",
     "text": [
      "epoch=8/10 | loss=0.39, train_accuracy=0.82, test_accuracy=0.78\n"
     ]
    },
    {
     "name": "stderr",
     "output_type": "stream",
     "text": [
      "epoch=9/10 | loss=0.08, accuracy=1.00: 100%|██████████| 215/215 [00:08<00:00, 26.84it/s]\n"
     ]
    },
    {
     "name": "stdout",
     "output_type": "stream",
     "text": [
      "epoch=9/10 | loss=0.38, train_accuracy=0.83, test_accuracy=0.77\n"
     ]
    },
    {
     "name": "stderr",
     "output_type": "stream",
     "text": [
      "epoch=10/10 | loss=0.20, accuracy=1.00: 100%|██████████| 215/215 [00:08<00:00, 24.34it/s]\n"
     ]
    },
    {
     "name": "stdout",
     "output_type": "stream",
     "text": [
      "epoch=10/10 | loss=0.35, train_accuracy=0.84, test_accuracy=0.76\n",
      "Finished training.\n"
     ]
    }
   ],
   "source": [
    "train_result_fi = train(model, tok2vec, train_fi, validation_fi)"
   ]
  },
  {
   "cell_type": "code",
   "execution_count": null,
   "id": "648b50cc",
   "metadata": {
    "colab": {
     "base_uri": "https://localhost:8080/",
     "height": 404
    },
    "id": "648b50cc",
    "outputId": "386bd977-ea73-4e69-d382-aaa8480f87ef"
   },
   "outputs": [
    {
     "data": {
      "image/png": "[encoded data removed]",
      "text/plain": [
       "<Figure size 432x432 with 2 Axes>"
      ]
     },
     "metadata": {},
     "output_type": "display_data"
    }
   ],
   "source": [
    "train_losses, train_accuracies, test_accuracies = train_result_fi\n",
    "plot_network_learning(\"biLSTM model\", train_accuracies, test_accuracies, train_losses)"
   ]
  },
  {
   "cell_type": "markdown",
   "id": "b04011d8",
   "metadata": {
    "id": "b04011d8"
   },
   "source": [
    "## Japanese"
   ]
  },
  {
   "cell_type": "code",
   "execution_count": null,
   "id": "d14b7e7a",
   "metadata": {
    "colab": {
     "base_uri": "https://localhost:8080/"
    },
    "id": "d14b7e7a",
    "outputId": "ffe68cc0-eaba-424d-a711-1155428c04aa"
   },
   "outputs": [
    {
     "name": "stdout",
     "output_type": "stream",
     "text": [
      "BiLSTM_Network(\n",
      "  (embedding): Embedding(20002, 300, padding_idx=20001)\n",
      "  (biLSTM): LSTM(300, 100, batch_first=True, bidirectional=True)\n",
      "  (linear): Linear(in_features=400, out_features=2, bias=True)\n",
      ")\n"
     ]
    }
   ],
   "source": [
    "# Setup Model\n",
    "tok2vec = compress_fasttext.models.CompressedFastTextKeyedVectors.load(\"../resources/fasttext-ja-mini\")\n",
    "pretrained_embeddings, pad_id, OOV_id = prepare_embedding_matrix(tok2vec.get_normed_vectors())\n",
    "\n",
    "model = BiLSTM_Network(pretrained_embeddings)\n",
    "model.to(device)\n",
    "\n",
    "print(model)"
   ]
  },
  {
   "cell_type": "code",
   "execution_count": null,
   "id": "a6892c39",
   "metadata": {
    "colab": {
     "base_uri": "https://localhost:8080/"
    },
    "id": "a6892c39",
    "outputId": "d0f40e6b-31bd-46e5-8bb4-486dbbd26910",
    "scrolled": true
   },
   "outputs": [
    {
     "name": "stderr",
     "output_type": "stream",
     "text": [
      "epoch=1/10 | loss=0.67, accuracy=0.60: 100%|██████████| 138/138 [00:11<00:00, 12.12it/s]\n"
     ]
    },
    {
     "name": "stdout",
     "output_type": "stream",
     "text": [
      "epoch=1/10 | loss=0.65, train_accuracy=0.61, test_accuracy=0.60\n"
     ]
    },
    {
     "name": "stderr",
     "output_type": "stream",
     "text": [
      "epoch=2/10 | loss=0.81, accuracy=0.50: 100%|██████████| 138/138 [00:11<00:00, 12.15it/s]\n"
     ]
    },
    {
     "name": "stdout",
     "output_type": "stream",
     "text": [
      "epoch=2/10 | loss=0.59, train_accuracy=0.68, test_accuracy=0.67\n"
     ]
    },
    {
     "name": "stderr",
     "output_type": "stream",
     "text": [
      "epoch=3/10 | loss=0.48, accuracy=0.90: 100%|██████████| 138/138 [00:12<00:00, 11.46it/s]\n"
     ]
    },
    {
     "name": "stdout",
     "output_type": "stream",
     "text": [
      "epoch=3/10 | loss=0.54, train_accuracy=0.72, test_accuracy=0.71\n"
     ]
    },
    {
     "name": "stderr",
     "output_type": "stream",
     "text": [
      "epoch=4/10 | loss=0.66, accuracy=0.70: 100%|██████████| 138/138 [00:11<00:00, 12.12it/s]\n"
     ]
    },
    {
     "name": "stdout",
     "output_type": "stream",
     "text": [
      "epoch=4/10 | loss=0.51, train_accuracy=0.75, test_accuracy=0.73\n"
     ]
    },
    {
     "name": "stderr",
     "output_type": "stream",
     "text": [
      "epoch=5/10 | loss=0.37, accuracy=0.80: 100%|██████████| 138/138 [00:11<00:00, 12.17it/s]\n"
     ]
    },
    {
     "name": "stdout",
     "output_type": "stream",
     "text": [
      "epoch=5/10 | loss=0.48, train_accuracy=0.77, test_accuracy=0.72\n"
     ]
    },
    {
     "name": "stderr",
     "output_type": "stream",
     "text": [
      "epoch=6/10 | loss=0.23, accuracy=0.90: 100%|██████████| 138/138 [00:11<00:00, 12.10it/s]\n"
     ]
    },
    {
     "name": "stdout",
     "output_type": "stream",
     "text": [
      "epoch=6/10 | loss=0.47, train_accuracy=0.78, test_accuracy=0.74\n"
     ]
    },
    {
     "name": "stderr",
     "output_type": "stream",
     "text": [
      "epoch=7/10 | loss=0.41, accuracy=0.70: 100%|██████████| 138/138 [00:11<00:00, 12.05it/s]\n"
     ]
    },
    {
     "name": "stdout",
     "output_type": "stream",
     "text": [
      "epoch=7/10 | loss=0.45, train_accuracy=0.79, test_accuracy=0.72\n"
     ]
    },
    {
     "name": "stderr",
     "output_type": "stream",
     "text": [
      "epoch=8/10 | loss=0.60, accuracy=0.80: 100%|██████████| 138/138 [00:11<00:00, 12.10it/s]\n"
     ]
    },
    {
     "name": "stdout",
     "output_type": "stream",
     "text": [
      "epoch=8/10 | loss=0.44, train_accuracy=0.80, test_accuracy=0.75\n"
     ]
    },
    {
     "name": "stderr",
     "output_type": "stream",
     "text": [
      "epoch=9/10 | loss=0.56, accuracy=0.80: 100%|██████████| 138/138 [00:11<00:00, 12.19it/s]\n"
     ]
    },
    {
     "name": "stdout",
     "output_type": "stream",
     "text": [
      "epoch=9/10 | loss=0.42, train_accuracy=0.81, test_accuracy=0.75\n"
     ]
    },
    {
     "name": "stderr",
     "output_type": "stream",
     "text": [
      "epoch=10/10 | loss=0.40, accuracy=0.90: 100%|██████████| 138/138 [00:11<00:00, 12.17it/s]\n"
     ]
    },
    {
     "name": "stdout",
     "output_type": "stream",
     "text": [
      "epoch=10/10 | loss=0.40, train_accuracy=0.82, test_accuracy=0.76\n",
      "Finished training.\n"
     ]
    }
   ],
   "source": [
    "train_result_ja = train(model, tok2vec, train_ja, validation_ja)"
   ]
  },
  {
   "cell_type": "code",
   "execution_count": null,
   "id": "a1f23b3f",
   "metadata": {
    "colab": {
     "base_uri": "https://localhost:8080/",
     "height": 404
    },
    "id": "a1f23b3f",
    "outputId": "0b30d554-5c0b-42b0-c9cf-d4118e0b428f",
    "scrolled": true
   },
   "outputs": [
    {
     "data": {
      "image/png": "[encoded data removed]",
      "text/plain": [
       "<Figure size 432x432 with 2 Axes>"
      ]
     },
     "metadata": {},
     "output_type": "display_data"
    }
   ],
   "source": [
    "train_losses, train_accuracies, test_accuracies = train_result_ja\n",
    "plot_network_learning(\"LSTM model\", train_accuracies, test_accuracies, train_losses)"
   ]
  },
  {
   "cell_type": "code",
   "execution_count": null,
   "id": "04ee73aa",
   "metadata": {},
   "outputs": [],
   "source": []
  },
  {
   "cell_type": "markdown",
   "id": "c5510fc1",
   "metadata": {},
   "source": [
    "## Q2A"
   ]
  },
  {
   "cell_type": "code",
   "execution_count": null,
   "id": "0d89fe58",
   "metadata": {},
   "outputs": [],
   "source": []
  }
 ],
 "metadata": {
  "colab": {
   "collapsed_sections": [],
   "provenance": []
  },
  "kernelspec": {
   "display_name": "Python 3 (ipykernel)",
   "language": "python",
   "name": "python3"
  },
  "language_info": {
   "codemirror_mode": {
    "name": "ipython",
    "version": 3
   },
   "file_extension": ".py",
   "mimetype": "text/x-python",
   "name": "python",
   "nbconvert_exporter": "python",
   "pygments_lexer": "ipython3",
   "version": "3.7.12"
  }
 },
 "nbformat": 4,
 "nbformat_minor": 5
}
