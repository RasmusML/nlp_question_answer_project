{
  "cells": [
    {
      "cell_type": "code",
      "execution_count": 4,
      "id": "1619bc01",
      "metadata": {
        "colab": {
          "base_uri": "https://localhost:8080/"
        },
        "id": "1619bc01",
        "outputId": "2ec16e28-47cc-4d5a-93b8-90741c98e79c"
      },
      "outputs": [
        {
          "output_type": "stream",
          "name": "stdout",
          "text": [
            "Drive already mounted at /content/drive; to attempt to forcibly remount, call drive.mount(\"/content/drive\", force_remount=True).\n",
            "/content/drive/MyDrive/nlp_question_answer_project/notebooks\n"
          ]
        }
      ],
      "source": [
        "import sys\n",
        "sys.path.append(\"..\")\n",
        "\n",
        "is_in_colab = 'google.colab' in sys.modules\n",
        "\n",
        "if is_in_colab:\n",
        "    from google.colab import drive\n",
        "    drive.mount('/content/drive')\n",
        "    sys.path.insert(0,'/content/drive/MyDrive/nlp_question_answer_project')\n",
        "\n",
        "    %cd /content/drive/MyDrive/nlp_question_answer_project/notebooks"
      ]
    },
    {
      "cell_type": "code",
      "execution_count": 5,
      "id": "eaa2c166",
      "metadata": {
        "id": "eaa2c166"
      },
      "outputs": [],
      "source": [
        "%%capture\n",
        "!pip install -r ../requirements.txt"
      ]
    },
    {
      "cell_type": "markdown",
      "id": "1dce2009",
      "metadata": {
        "id": "1dce2009"
      },
      "source": [
        "# 1.2 Binary Question Classification"
      ]
    },
    {
      "cell_type": "code",
      "execution_count": 6,
      "id": "e0b782b7",
      "metadata": {
        "id": "e0b782b7"
      },
      "outputs": [],
      "source": [
        "import pandas as pd\n",
        "import numpy as np\n",
        "\n",
        "import matplotlib.pyplot as plt\n",
        "import seaborn as sns\n",
        "\n",
        "from sklearn.metrics import classification_report, confusion_matrix, ConfusionMatrixDisplay\n",
        "from sklearn.ensemble import RandomForestClassifier\n",
        "from sklearn.feature_extraction.text import TfidfTransformer\n",
        "\n",
        "from enum import Enum\n",
        "\n",
        "import fasttext\n",
        "import fasttext.util\n",
        "\n",
        "import torch\n",
        "from torch import nn\n",
        "import torch.optim as optim\n",
        "\n",
        "import torchnlp\n",
        "import torchnlp.nn\n",
        "\n",
        "from sklearn.metrics import accuracy_score\n",
        "import compress_fasttext\n",
        "from torch.utils.data import Dataset, DataLoader\n",
        "from tqdm import tqdm"
      ]
    },
    {
      "cell_type": "code",
      "execution_count": 7,
      "id": "f276ced5",
      "metadata": {
        "id": "f276ced5"
      },
      "outputs": [],
      "source": [
        "class Annotation_error(Enum):\n",
        "    UNANSWERED = -1\n",
        "    BAD_TOKENIZATION_OR_DATA = -2\n",
        "    IGNORED = -3\n",
        "    # Or the span e.g. (4,9)"
      ]
    },
    {
      "cell_type": "code",
      "execution_count": 8,
      "id": "plfSLd1PcWFx",
      "metadata": {
        "id": "plfSLd1PcWFx"
      },
      "outputs": [],
      "source": [
        "languages = [\"en\", \"fi\", \"ja\"] # Languages which will actually be used."
      ]
    },
    {
      "cell_type": "code",
      "execution_count": 9,
      "id": "RxgJmqTwX1Ec",
      "metadata": {
        "id": "RxgJmqTwX1Ec"
      },
      "outputs": [],
      "source": [
        "lang_names = { \"en\": \"english\", \"fi\": \"finnish\", \"ja\": \"japanese\" }\n",
        "lang_models = { \"en\": {}, \"fi\": {}, \"ja\": {} } # here we store all the models for each of the 3 languages"
      ]
    },
    {
      "cell_type": "code",
      "execution_count": 10,
      "id": "b3cfdc51",
      "metadata": {
        "id": "b3cfdc51"
      },
      "outputs": [],
      "source": [
        "%reload_ext autoreload\n",
        "%autoreload 2\n",
        "%matplotlib inline"
      ]
    },
    {
      "cell_type": "markdown",
      "id": "f6e6c9ae",
      "metadata": {
        "id": "f6e6c9ae"
      },
      "source": [
        "Load pre-processed data from memory."
      ]
    },
    {
      "cell_type": "code",
      "execution_count": 11,
      "id": "iaIjcyT5V9Vl",
      "metadata": {
        "id": "iaIjcyT5V9Vl"
      },
      "outputs": [],
      "source": [
        "def get_language_dataset():\n",
        "    path_train_set = \"../data/train_set_stanza.pkl\"\n",
        "    path_validation_set = \"../data/validation_set_stanza.pkl\"\n",
        "\n",
        "    train_set = pd.read_pickle(path_train_set)\n",
        "    validation_set = pd.read_pickle(path_validation_set)\n",
        "\n",
        "    def extract_language(dataset, language):\n",
        "        return dataset[dataset[\"language\"] == language]\n",
        "\n",
        "    train_en = extract_language(train_set, \"english\")\n",
        "    train_fi = extract_language(train_set, \"finnish\")\n",
        "    train_ja = extract_language(train_set, \"japanese\")\n",
        "\n",
        "    validation_en = extract_language(validation_set, \"english\")\n",
        "    validation_fi = extract_language(validation_set, \"finnish\")\n",
        "    validation_ja = extract_language(validation_set, \"japanese\")\n",
        "\n",
        "    language_datasets = {\n",
        "        \"en\": {\"train_set\": train_en, \"validation_set\": validation_en},\n",
        "        \"fi\": {\"train_set\": train_fi, \"validation_set\": validation_fi},\n",
        "        \"ja\": {\"train_set\": train_ja, \"validation_set\": validation_ja},   \n",
        "    }\n",
        "\n",
        "    return language_datasets\n"
      ]
    },
    {
      "cell_type": "code",
      "execution_count": 12,
      "id": "UgM50lGaVM6d",
      "metadata": {
        "id": "UgM50lGaVM6d"
      },
      "outputs": [],
      "source": [
        "lang_datasets = get_language_dataset()"
      ]
    },
    {
      "cell_type": "code",
      "execution_count": 13,
      "id": "baa4d93e",
      "metadata": {
        "id": "baa4d93e"
      },
      "outputs": [],
      "source": [
        "OOV_token = \"[OOV]\""
      ]
    },
    {
      "cell_type": "code",
      "execution_count": 14,
      "id": "ead86122",
      "metadata": {
        "id": "ead86122"
      },
      "outputs": [],
      "source": [
        "def get_token_to_id_vocab(token_lists):\n",
        "    token_to_id_vocab = {}\n",
        "    \n",
        "    for tokens in token_lists:\n",
        "        for token in tokens:\n",
        "            if token not in token_to_id_vocab:\n",
        "                token_to_id_vocab[token] = len(token_to_id_vocab)\n",
        "    \n",
        "    if OOV_token not in token_to_id_vocab:\n",
        "        token_to_id_vocab[OOV_token] = len(token_to_id_vocab)\n",
        "    \n",
        "    return token_to_id_vocab"
      ]
    },
    {
      "cell_type": "code",
      "execution_count": 15,
      "id": "0f576b6c",
      "metadata": {
        "id": "0f576b6c"
      },
      "outputs": [],
      "source": [
        "def get_bag_of_words(tokens, token_to_id_vocab):\n",
        "    bow = np.zeros(len(token_to_id_vocab))\n",
        "    \n",
        "    for token in tokens:\n",
        "        if token in token_to_id_vocab:\n",
        "            bow[token_to_id_vocab[token]] += 1\n",
        "        else:\n",
        "            bow[token_to_id_vocab[OOV_token]] += 1\n",
        "            \n",
        "    return bow"
      ]
    },
    {
      "cell_type": "code",
      "execution_count": 16,
      "id": "eba1e9ba",
      "metadata": {
        "id": "eba1e9ba"
      },
      "outputs": [],
      "source": [
        "def get_bag_of_words_per_obs(dataset_feature_column, token_to_id_vocab):\n",
        "    bow_per_obs = np.empty((len(dataset_feature_column), len(token_to_id_vocab)))\n",
        "    \n",
        "    for i, _ in enumerate(dataset_feature_column):\n",
        "        obs = dataset_feature_column.iloc[i]\n",
        "        bow_per_obs[i] = get_bag_of_words(obs, token_to_id_vocab)\n",
        "        \n",
        "    return bow_per_obs"
      ]
    },
    {
      "cell_type": "code",
      "execution_count": 17,
      "id": "5d677ed3",
      "metadata": {
        "id": "5d677ed3"
      },
      "outputs": [],
      "source": [
        "def count_tokens_per_obs(dataset_token_list_column):\n",
        "    return np.array([len(tokens) for tokens in dataset_token_list_column])"
      ]
    },
    {
      "cell_type": "code",
      "execution_count": 18,
      "id": "813fdef7",
      "metadata": {
        "id": "813fdef7"
      },
      "outputs": [],
      "source": [
        "def count_token_overlap_per_obs(dataset_feature_column, reference_dataset_feature_column, normalize: bool = True): \n",
        "    assert(dataset_feature_column.shape[0] == reference_dataset_feature_column.shape[0])\n",
        "    \n",
        "    token_overlap_per_obs = np.empty(dataset_feature_column.shape[0])\n",
        "    for i in range(dataset_feature_column.shape[0]):\n",
        "        obs = dataset_feature_column.iloc[i]\n",
        "        reference_obs = reference_dataset_feature_column.iloc[i]\n",
        "        \n",
        "        token_to_ids_vocab = get_token_to_id_vocab([reference_obs])\n",
        "        token_overlap_per_obs[i] = np.sum([token in token_to_ids_vocab for token in obs])\n",
        "        \n",
        "        if normalize:\n",
        "            token_overlap_per_obs[i] /= len(obs)\n",
        "        \n",
        "    return token_overlap_per_obs"
      ]
    },
    {
      "cell_type": "markdown",
      "id": "8d630b38",
      "metadata": {
        "id": "8d630b38"
      },
      "source": [
        "## Feature Exploration\n",
        "### Distributions over the number of words"
      ]
    },
    {
      "cell_type": "code",
      "execution_count": 19,
      "id": "f6b2864f",
      "metadata": {
        "id": "f6b2864f"
      },
      "outputs": [],
      "source": [
        "def plot_document_token_count_dist(dataset, title):\n",
        "    lengths = count_tokens_per_obs(dataset['document'])\n",
        "\n",
        "    fig, ax = plt.subplots(figsize=(15,6))\n",
        "    ax.grid(linestyle=\"--\")\n",
        "    ax.set_title(title)\n",
        "    ax.set_ylabel(\"Percentage (%)\")\n",
        "    ax.set_xlabel(\"Number of tokens\")\n",
        "\n",
        "    ax.hist(lengths, bins=300, density=True) # let's use an histogram instead with fixed bins, since there is much variability.\n",
        "    \n",
        "    #ticks = np.linspace(min(uniques), max(uniques)+1, 10)\n",
        "    #ax.set_xticks(ticks)"
      ]
    },
    {
      "cell_type": "code",
      "execution_count": 20,
      "id": "26928e05",
      "metadata": {
        "id": "26928e05"
      },
      "outputs": [],
      "source": [
        "def plot_question_token_count_dist(dataset, title):\n",
        "    question_lengths = count_tokens_per_obs(dataset['question'])\n",
        "\n",
        "    uniques, uniques_counts = np.unique(question_lengths, return_counts=True)\n",
        "    index_sorted = np.argsort(uniques, axis=None)\n",
        "\n",
        "    uniques_counts_percentage = uniques_counts / np.sum(uniques_counts) * 100\n",
        "\n",
        "    fig, ax = plt.subplots(figsize=(15,6))\n",
        "    ax.grid(linestyle=\"--\")\n",
        "    ax.set_title(title)\n",
        "    ax.set_ylabel(\"Percentage (%)\")\n",
        "    ax.set_xlabel(\"Number of tokens\")\n",
        "\n",
        "    x = uniques[index_sorted]\n",
        "    ax.bar(x, uniques_counts_percentage[index_sorted])\n",
        "    ticks = np.arange(min(uniques), max(uniques)+1, 1)\n",
        "    ax.set_xticks(ticks)"
      ]
    },
    {
      "cell_type": "code",
      "execution_count": 21,
      "id": "TZ6a5iDnXGJx",
      "metadata": {
        "colab": {
          "base_uri": "https://localhost:8080/",
          "height": 1000
        },
        "id": "TZ6a5iDnXGJx",
        "outputId": "1836c574-1073-43f2-9a1b-7e687c5ffedb"
      },
      "outputs": [
        {
          "output_type": "error",
          "ename": "ImportError",
          "evalue": "ignored",
          "traceback": [
            "\u001b[0;31m---------------------------------------------------------------------------\u001b[0m",
            "\u001b[0;31mImportError\u001b[0m                               Traceback (most recent call last)",
            "\u001b[0;32m/usr/local/lib/python3.7/dist-packages/IPython/core/formatters.py\u001b[0m in \u001b[0;36m__call__\u001b[0;34m(self, obj)\u001b[0m\n\u001b[1;32m    339\u001b[0m                 \u001b[0;32mpass\u001b[0m\u001b[0;34m\u001b[0m\u001b[0;34m\u001b[0m\u001b[0m\n\u001b[1;32m    340\u001b[0m             \u001b[0;32melse\u001b[0m\u001b[0;34m:\u001b[0m\u001b[0;34m\u001b[0m\u001b[0;34m\u001b[0m\u001b[0m\n\u001b[0;32m--> 341\u001b[0;31m                 \u001b[0;32mreturn\u001b[0m \u001b[0mprinter\u001b[0m\u001b[0;34m(\u001b[0m\u001b[0mobj\u001b[0m\u001b[0;34m)\u001b[0m\u001b[0;34m\u001b[0m\u001b[0;34m\u001b[0m\u001b[0m\n\u001b[0m\u001b[1;32m    342\u001b[0m             \u001b[0;31m# Finally look for special method names\u001b[0m\u001b[0;34m\u001b[0m\u001b[0;34m\u001b[0m\u001b[0;34m\u001b[0m\u001b[0m\n\u001b[1;32m    343\u001b[0m             \u001b[0mmethod\u001b[0m \u001b[0;34m=\u001b[0m \u001b[0mget_real_method\u001b[0m\u001b[0;34m(\u001b[0m\u001b[0mobj\u001b[0m\u001b[0;34m,\u001b[0m \u001b[0mself\u001b[0m\u001b[0;34m.\u001b[0m\u001b[0mprint_method\u001b[0m\u001b[0;34m)\u001b[0m\u001b[0;34m\u001b[0m\u001b[0;34m\u001b[0m\u001b[0m\n",
            "\u001b[0;32m/usr/local/lib/python3.7/dist-packages/IPython/core/pylabtools.py\u001b[0m in \u001b[0;36m<lambda>\u001b[0;34m(fig)\u001b[0m\n\u001b[1;32m    242\u001b[0m \u001b[0;34m\u001b[0m\u001b[0m\n\u001b[1;32m    243\u001b[0m     \u001b[0;32mif\u001b[0m \u001b[0;34m'png'\u001b[0m \u001b[0;32min\u001b[0m \u001b[0mformats\u001b[0m\u001b[0;34m:\u001b[0m\u001b[0;34m\u001b[0m\u001b[0;34m\u001b[0m\u001b[0m\n\u001b[0;32m--> 244\u001b[0;31m         \u001b[0mpng_formatter\u001b[0m\u001b[0;34m.\u001b[0m\u001b[0mfor_type\u001b[0m\u001b[0;34m(\u001b[0m\u001b[0mFigure\u001b[0m\u001b[0;34m,\u001b[0m \u001b[0;32mlambda\u001b[0m \u001b[0mfig\u001b[0m\u001b[0;34m:\u001b[0m \u001b[0mprint_figure\u001b[0m\u001b[0;34m(\u001b[0m\u001b[0mfig\u001b[0m\u001b[0;34m,\u001b[0m \u001b[0;34m'png'\u001b[0m\u001b[0;34m,\u001b[0m \u001b[0;34m**\u001b[0m\u001b[0mkwargs\u001b[0m\u001b[0;34m)\u001b[0m\u001b[0;34m)\u001b[0m\u001b[0;34m\u001b[0m\u001b[0;34m\u001b[0m\u001b[0m\n\u001b[0m\u001b[1;32m    245\u001b[0m     \u001b[0;32mif\u001b[0m \u001b[0;34m'retina'\u001b[0m \u001b[0;32min\u001b[0m \u001b[0mformats\u001b[0m \u001b[0;32mor\u001b[0m \u001b[0;34m'png2x'\u001b[0m \u001b[0;32min\u001b[0m \u001b[0mformats\u001b[0m\u001b[0;34m:\u001b[0m\u001b[0;34m\u001b[0m\u001b[0;34m\u001b[0m\u001b[0m\n\u001b[1;32m    246\u001b[0m         \u001b[0mpng_formatter\u001b[0m\u001b[0;34m.\u001b[0m\u001b[0mfor_type\u001b[0m\u001b[0;34m(\u001b[0m\u001b[0mFigure\u001b[0m\u001b[0;34m,\u001b[0m \u001b[0;32mlambda\u001b[0m \u001b[0mfig\u001b[0m\u001b[0;34m:\u001b[0m \u001b[0mretina_figure\u001b[0m\u001b[0;34m(\u001b[0m\u001b[0mfig\u001b[0m\u001b[0;34m,\u001b[0m \u001b[0;34m**\u001b[0m\u001b[0mkwargs\u001b[0m\u001b[0;34m)\u001b[0m\u001b[0;34m)\u001b[0m\u001b[0;34m\u001b[0m\u001b[0;34m\u001b[0m\u001b[0m\n",
            "\u001b[0;32m/usr/local/lib/python3.7/dist-packages/IPython/core/pylabtools.py\u001b[0m in \u001b[0;36mprint_figure\u001b[0;34m(fig, fmt, bbox_inches, **kwargs)\u001b[0m\n\u001b[1;32m    126\u001b[0m \u001b[0;34m\u001b[0m\u001b[0m\n\u001b[1;32m    127\u001b[0m     \u001b[0mbytes_io\u001b[0m \u001b[0;34m=\u001b[0m \u001b[0mBytesIO\u001b[0m\u001b[0;34m(\u001b[0m\u001b[0;34m)\u001b[0m\u001b[0;34m\u001b[0m\u001b[0;34m\u001b[0m\u001b[0m\n\u001b[0;32m--> 128\u001b[0;31m     \u001b[0mfig\u001b[0m\u001b[0;34m.\u001b[0m\u001b[0mcanvas\u001b[0m\u001b[0;34m.\u001b[0m\u001b[0mprint_figure\u001b[0m\u001b[0;34m(\u001b[0m\u001b[0mbytes_io\u001b[0m\u001b[0;34m,\u001b[0m \u001b[0;34m**\u001b[0m\u001b[0mkw\u001b[0m\u001b[0;34m)\u001b[0m\u001b[0;34m\u001b[0m\u001b[0;34m\u001b[0m\u001b[0m\n\u001b[0m\u001b[1;32m    129\u001b[0m     \u001b[0mdata\u001b[0m \u001b[0;34m=\u001b[0m \u001b[0mbytes_io\u001b[0m\u001b[0;34m.\u001b[0m\u001b[0mgetvalue\u001b[0m\u001b[0;34m(\u001b[0m\u001b[0;34m)\u001b[0m\u001b[0;34m\u001b[0m\u001b[0;34m\u001b[0m\u001b[0m\n\u001b[1;32m    130\u001b[0m     \u001b[0;32mif\u001b[0m \u001b[0mfmt\u001b[0m \u001b[0;34m==\u001b[0m \u001b[0;34m'svg'\u001b[0m\u001b[0;34m:\u001b[0m\u001b[0;34m\u001b[0m\u001b[0;34m\u001b[0m\u001b[0m\n",
            "\u001b[0;32m/usr/local/lib/python3.7/dist-packages/matplotlib/backend_bases.py\u001b[0m in \u001b[0;36mprint_figure\u001b[0;34m(self, filename, dpi, facecolor, edgecolor, orientation, format, bbox_inches, **kwargs)\u001b[0m\n\u001b[1;32m   2092\u001b[0m         \u001b[0mratio\u001b[0m \u001b[0;34m:\u001b[0m \u001b[0mfloat\u001b[0m\u001b[0;34m\u001b[0m\u001b[0;34m\u001b[0m\u001b[0m\n\u001b[1;32m   2093\u001b[0m             \u001b[0mThe\u001b[0m \u001b[0mratio\u001b[0m \u001b[0mof\u001b[0m \u001b[0mlogical\u001b[0m \u001b[0mto\u001b[0m \u001b[0mphysical\u001b[0m \u001b[0mpixels\u001b[0m \u001b[0mused\u001b[0m \u001b[0;32mfor\u001b[0m \u001b[0mthe\u001b[0m \u001b[0mcanvas\u001b[0m\u001b[0;34m.\u001b[0m\u001b[0;34m\u001b[0m\u001b[0;34m\u001b[0m\u001b[0m\n\u001b[0;32m-> 2094\u001b[0;31m \u001b[0;34m\u001b[0m\u001b[0m\n\u001b[0m\u001b[1;32m   2095\u001b[0m         \u001b[0mReturns\u001b[0m\u001b[0;34m\u001b[0m\u001b[0;34m\u001b[0m\u001b[0m\n\u001b[1;32m   2096\u001b[0m         \u001b[0;34m-\u001b[0m\u001b[0;34m-\u001b[0m\u001b[0;34m-\u001b[0m\u001b[0;34m-\u001b[0m\u001b[0;34m-\u001b[0m\u001b[0;34m-\u001b[0m\u001b[0;34m-\u001b[0m\u001b[0;34m\u001b[0m\u001b[0;34m\u001b[0m\u001b[0m\n",
            "\u001b[0;32m/usr/local/lib/python3.7/dist-packages/matplotlib/backend_bases.py\u001b[0m in \u001b[0;36m_get_renderer\u001b[0;34m(figure, print_method)\u001b[0m\n\u001b[1;32m   1558\u001b[0m     \u001b[0mfigure\u001b[0m\u001b[0;34m.\u001b[0m\u001b[0mdraw_without_rendering\u001b[0m\u001b[0;34m(\u001b[0m\u001b[0;34m)\u001b[0m\u001b[0;34m\u001b[0m\u001b[0;34m\u001b[0m\u001b[0m\n\u001b[1;32m   1559\u001b[0m \u001b[0;34m\u001b[0m\u001b[0m\n\u001b[0;32m-> 1560\u001b[0;31m \u001b[0;34m\u001b[0m\u001b[0m\n\u001b[0m\u001b[1;32m   1561\u001b[0m \u001b[0;32mdef\u001b[0m \u001b[0m_is_non_interactive_terminal_ipython\u001b[0m\u001b[0;34m(\u001b[0m\u001b[0mip\u001b[0m\u001b[0;34m)\u001b[0m\u001b[0;34m:\u001b[0m\u001b[0;34m\u001b[0m\u001b[0;34m\u001b[0m\u001b[0m\n\u001b[1;32m   1562\u001b[0m     \"\"\"\n",
            "\u001b[0;32m/usr/local/lib/python3.7/dist-packages/matplotlib/backends/backend_agg.py\u001b[0m in \u001b[0;36mprint_png\u001b[0;34m(self, filename_or_obj, metadata, pil_kwargs, *args, **kwargs)\u001b[0m\n\u001b[1;32m    503\u001b[0m             \u001b[0mMetadata\u001b[0m \u001b[0;32min\u001b[0m \u001b[0mthe\u001b[0m \u001b[0mPNG\u001b[0m \u001b[0mfile\u001b[0m \u001b[0;32mas\u001b[0m \u001b[0mkey\u001b[0m\u001b[0;34m-\u001b[0m\u001b[0mvalue\u001b[0m \u001b[0mpairs\u001b[0m \u001b[0mof\u001b[0m \u001b[0mbytes\u001b[0m \u001b[0;32mor\u001b[0m \u001b[0mlatin\u001b[0m\u001b[0;34m-\u001b[0m\u001b[0;36m1\u001b[0m\u001b[0;34m\u001b[0m\u001b[0;34m\u001b[0m\u001b[0m\n\u001b[1;32m    504\u001b[0m             \u001b[0mencodable\u001b[0m \u001b[0mstrings\u001b[0m\u001b[0;34m.\u001b[0m\u001b[0;34m\u001b[0m\u001b[0;34m\u001b[0m\u001b[0m\n\u001b[0;32m--> 505\u001b[0;31m             \u001b[0mAccording\u001b[0m \u001b[0mto\u001b[0m \u001b[0mthe\u001b[0m \u001b[0mPNG\u001b[0m \u001b[0mspecification\u001b[0m\u001b[0;34m,\u001b[0m \u001b[0mkeys\u001b[0m \u001b[0mmust\u001b[0m \u001b[0mbe\u001b[0m \u001b[0mshorter\u001b[0m \u001b[0mthan\u001b[0m \u001b[0;36m79\u001b[0m\u001b[0;34m\u001b[0m\u001b[0;34m\u001b[0m\u001b[0m\n\u001b[0m\u001b[1;32m    506\u001b[0m             \u001b[0mchars\u001b[0m\u001b[0;34m.\u001b[0m\u001b[0;34m\u001b[0m\u001b[0;34m\u001b[0m\u001b[0m\n\u001b[1;32m    507\u001b[0m \u001b[0;34m\u001b[0m\u001b[0m\n",
            "\u001b[0;31mImportError\u001b[0m: cannot import name '_png' from 'matplotlib' (/usr/local/lib/python3.7/dist-packages/matplotlib/__init__.py)"
          ]
        },
        {
          "output_type": "display_data",
          "data": {
            "text/plain": [
              "<Figure size 1080x432 with 1 Axes>"
            ]
          },
          "metadata": {
            "needs_background": "light"
          }
        },
        {
          "output_type": "error",
          "ename": "ImportError",
          "evalue": "ignored",
          "traceback": [
            "\u001b[0;31m---------------------------------------------------------------------------\u001b[0m",
            "\u001b[0;31mImportError\u001b[0m                               Traceback (most recent call last)",
            "\u001b[0;32m/usr/local/lib/python3.7/dist-packages/IPython/core/formatters.py\u001b[0m in \u001b[0;36m__call__\u001b[0;34m(self, obj)\u001b[0m\n\u001b[1;32m    339\u001b[0m                 \u001b[0;32mpass\u001b[0m\u001b[0;34m\u001b[0m\u001b[0;34m\u001b[0m\u001b[0m\n\u001b[1;32m    340\u001b[0m             \u001b[0;32melse\u001b[0m\u001b[0;34m:\u001b[0m\u001b[0;34m\u001b[0m\u001b[0;34m\u001b[0m\u001b[0m\n\u001b[0;32m--> 341\u001b[0;31m                 \u001b[0;32mreturn\u001b[0m \u001b[0mprinter\u001b[0m\u001b[0;34m(\u001b[0m\u001b[0mobj\u001b[0m\u001b[0;34m)\u001b[0m\u001b[0;34m\u001b[0m\u001b[0;34m\u001b[0m\u001b[0m\n\u001b[0m\u001b[1;32m    342\u001b[0m             \u001b[0;31m# Finally look for special method names\u001b[0m\u001b[0;34m\u001b[0m\u001b[0;34m\u001b[0m\u001b[0;34m\u001b[0m\u001b[0m\n\u001b[1;32m    343\u001b[0m             \u001b[0mmethod\u001b[0m \u001b[0;34m=\u001b[0m \u001b[0mget_real_method\u001b[0m\u001b[0;34m(\u001b[0m\u001b[0mobj\u001b[0m\u001b[0;34m,\u001b[0m \u001b[0mself\u001b[0m\u001b[0;34m.\u001b[0m\u001b[0mprint_method\u001b[0m\u001b[0;34m)\u001b[0m\u001b[0;34m\u001b[0m\u001b[0;34m\u001b[0m\u001b[0m\n",
            "\u001b[0;32m/usr/local/lib/python3.7/dist-packages/IPython/core/pylabtools.py\u001b[0m in \u001b[0;36m<lambda>\u001b[0;34m(fig)\u001b[0m\n\u001b[1;32m    242\u001b[0m \u001b[0;34m\u001b[0m\u001b[0m\n\u001b[1;32m    243\u001b[0m     \u001b[0;32mif\u001b[0m \u001b[0;34m'png'\u001b[0m \u001b[0;32min\u001b[0m \u001b[0mformats\u001b[0m\u001b[0;34m:\u001b[0m\u001b[0;34m\u001b[0m\u001b[0;34m\u001b[0m\u001b[0m\n\u001b[0;32m--> 244\u001b[0;31m         \u001b[0mpng_formatter\u001b[0m\u001b[0;34m.\u001b[0m\u001b[0mfor_type\u001b[0m\u001b[0;34m(\u001b[0m\u001b[0mFigure\u001b[0m\u001b[0;34m,\u001b[0m \u001b[0;32mlambda\u001b[0m \u001b[0mfig\u001b[0m\u001b[0;34m:\u001b[0m \u001b[0mprint_figure\u001b[0m\u001b[0;34m(\u001b[0m\u001b[0mfig\u001b[0m\u001b[0;34m,\u001b[0m \u001b[0;34m'png'\u001b[0m\u001b[0;34m,\u001b[0m \u001b[0;34m**\u001b[0m\u001b[0mkwargs\u001b[0m\u001b[0;34m)\u001b[0m\u001b[0;34m)\u001b[0m\u001b[0;34m\u001b[0m\u001b[0;34m\u001b[0m\u001b[0m\n\u001b[0m\u001b[1;32m    245\u001b[0m     \u001b[0;32mif\u001b[0m \u001b[0;34m'retina'\u001b[0m \u001b[0;32min\u001b[0m \u001b[0mformats\u001b[0m \u001b[0;32mor\u001b[0m \u001b[0;34m'png2x'\u001b[0m \u001b[0;32min\u001b[0m \u001b[0mformats\u001b[0m\u001b[0;34m:\u001b[0m\u001b[0;34m\u001b[0m\u001b[0;34m\u001b[0m\u001b[0m\n\u001b[1;32m    246\u001b[0m         \u001b[0mpng_formatter\u001b[0m\u001b[0;34m.\u001b[0m\u001b[0mfor_type\u001b[0m\u001b[0;34m(\u001b[0m\u001b[0mFigure\u001b[0m\u001b[0;34m,\u001b[0m \u001b[0;32mlambda\u001b[0m \u001b[0mfig\u001b[0m\u001b[0;34m:\u001b[0m \u001b[0mretina_figure\u001b[0m\u001b[0;34m(\u001b[0m\u001b[0mfig\u001b[0m\u001b[0;34m,\u001b[0m \u001b[0;34m**\u001b[0m\u001b[0mkwargs\u001b[0m\u001b[0;34m)\u001b[0m\u001b[0;34m)\u001b[0m\u001b[0;34m\u001b[0m\u001b[0;34m\u001b[0m\u001b[0m\n",
            "\u001b[0;32m/usr/local/lib/python3.7/dist-packages/IPython/core/pylabtools.py\u001b[0m in \u001b[0;36mprint_figure\u001b[0;34m(fig, fmt, bbox_inches, **kwargs)\u001b[0m\n\u001b[1;32m    126\u001b[0m \u001b[0;34m\u001b[0m\u001b[0m\n\u001b[1;32m    127\u001b[0m     \u001b[0mbytes_io\u001b[0m \u001b[0;34m=\u001b[0m \u001b[0mBytesIO\u001b[0m\u001b[0;34m(\u001b[0m\u001b[0;34m)\u001b[0m\u001b[0;34m\u001b[0m\u001b[0;34m\u001b[0m\u001b[0m\n\u001b[0;32m--> 128\u001b[0;31m     \u001b[0mfig\u001b[0m\u001b[0;34m.\u001b[0m\u001b[0mcanvas\u001b[0m\u001b[0;34m.\u001b[0m\u001b[0mprint_figure\u001b[0m\u001b[0;34m(\u001b[0m\u001b[0mbytes_io\u001b[0m\u001b[0;34m,\u001b[0m \u001b[0;34m**\u001b[0m\u001b[0mkw\u001b[0m\u001b[0;34m)\u001b[0m\u001b[0;34m\u001b[0m\u001b[0;34m\u001b[0m\u001b[0m\n\u001b[0m\u001b[1;32m    129\u001b[0m     \u001b[0mdata\u001b[0m \u001b[0;34m=\u001b[0m \u001b[0mbytes_io\u001b[0m\u001b[0;34m.\u001b[0m\u001b[0mgetvalue\u001b[0m\u001b[0;34m(\u001b[0m\u001b[0;34m)\u001b[0m\u001b[0;34m\u001b[0m\u001b[0;34m\u001b[0m\u001b[0m\n\u001b[1;32m    130\u001b[0m     \u001b[0;32mif\u001b[0m \u001b[0mfmt\u001b[0m \u001b[0;34m==\u001b[0m \u001b[0;34m'svg'\u001b[0m\u001b[0;34m:\u001b[0m\u001b[0;34m\u001b[0m\u001b[0;34m\u001b[0m\u001b[0m\n",
            "\u001b[0;32m/usr/local/lib/python3.7/dist-packages/matplotlib/backend_bases.py\u001b[0m in \u001b[0;36mprint_figure\u001b[0;34m(self, filename, dpi, facecolor, edgecolor, orientation, format, bbox_inches, **kwargs)\u001b[0m\n\u001b[1;32m   2092\u001b[0m         \u001b[0mratio\u001b[0m \u001b[0;34m:\u001b[0m \u001b[0mfloat\u001b[0m\u001b[0;34m\u001b[0m\u001b[0;34m\u001b[0m\u001b[0m\n\u001b[1;32m   2093\u001b[0m             \u001b[0mThe\u001b[0m \u001b[0mratio\u001b[0m \u001b[0mof\u001b[0m \u001b[0mlogical\u001b[0m \u001b[0mto\u001b[0m \u001b[0mphysical\u001b[0m \u001b[0mpixels\u001b[0m \u001b[0mused\u001b[0m \u001b[0;32mfor\u001b[0m \u001b[0mthe\u001b[0m \u001b[0mcanvas\u001b[0m\u001b[0;34m.\u001b[0m\u001b[0;34m\u001b[0m\u001b[0;34m\u001b[0m\u001b[0m\n\u001b[0;32m-> 2094\u001b[0;31m \u001b[0;34m\u001b[0m\u001b[0m\n\u001b[0m\u001b[1;32m   2095\u001b[0m         \u001b[0mReturns\u001b[0m\u001b[0;34m\u001b[0m\u001b[0;34m\u001b[0m\u001b[0m\n\u001b[1;32m   2096\u001b[0m         \u001b[0;34m-\u001b[0m\u001b[0;34m-\u001b[0m\u001b[0;34m-\u001b[0m\u001b[0;34m-\u001b[0m\u001b[0;34m-\u001b[0m\u001b[0;34m-\u001b[0m\u001b[0;34m-\u001b[0m\u001b[0;34m\u001b[0m\u001b[0;34m\u001b[0m\u001b[0m\n",
            "\u001b[0;32m/usr/local/lib/python3.7/dist-packages/matplotlib/backend_bases.py\u001b[0m in \u001b[0;36m_get_renderer\u001b[0;34m(figure, print_method)\u001b[0m\n\u001b[1;32m   1558\u001b[0m     \u001b[0mfigure\u001b[0m\u001b[0;34m.\u001b[0m\u001b[0mdraw_without_rendering\u001b[0m\u001b[0;34m(\u001b[0m\u001b[0;34m)\u001b[0m\u001b[0;34m\u001b[0m\u001b[0;34m\u001b[0m\u001b[0m\n\u001b[1;32m   1559\u001b[0m \u001b[0;34m\u001b[0m\u001b[0m\n\u001b[0;32m-> 1560\u001b[0;31m \u001b[0;34m\u001b[0m\u001b[0m\n\u001b[0m\u001b[1;32m   1561\u001b[0m \u001b[0;32mdef\u001b[0m \u001b[0m_is_non_interactive_terminal_ipython\u001b[0m\u001b[0;34m(\u001b[0m\u001b[0mip\u001b[0m\u001b[0;34m)\u001b[0m\u001b[0;34m:\u001b[0m\u001b[0;34m\u001b[0m\u001b[0;34m\u001b[0m\u001b[0m\n\u001b[1;32m   1562\u001b[0m     \"\"\"\n",
            "\u001b[0;32m/usr/local/lib/python3.7/dist-packages/matplotlib/backends/backend_agg.py\u001b[0m in \u001b[0;36mprint_png\u001b[0;34m(self, filename_or_obj, metadata, pil_kwargs, *args, **kwargs)\u001b[0m\n\u001b[1;32m    503\u001b[0m             \u001b[0mMetadata\u001b[0m \u001b[0;32min\u001b[0m \u001b[0mthe\u001b[0m \u001b[0mPNG\u001b[0m \u001b[0mfile\u001b[0m \u001b[0;32mas\u001b[0m \u001b[0mkey\u001b[0m\u001b[0;34m-\u001b[0m\u001b[0mvalue\u001b[0m \u001b[0mpairs\u001b[0m \u001b[0mof\u001b[0m \u001b[0mbytes\u001b[0m \u001b[0;32mor\u001b[0m \u001b[0mlatin\u001b[0m\u001b[0;34m-\u001b[0m\u001b[0;36m1\u001b[0m\u001b[0;34m\u001b[0m\u001b[0;34m\u001b[0m\u001b[0m\n\u001b[1;32m    504\u001b[0m             \u001b[0mencodable\u001b[0m \u001b[0mstrings\u001b[0m\u001b[0;34m.\u001b[0m\u001b[0;34m\u001b[0m\u001b[0;34m\u001b[0m\u001b[0m\n\u001b[0;32m--> 505\u001b[0;31m             \u001b[0mAccording\u001b[0m \u001b[0mto\u001b[0m \u001b[0mthe\u001b[0m \u001b[0mPNG\u001b[0m \u001b[0mspecification\u001b[0m\u001b[0;34m,\u001b[0m \u001b[0mkeys\u001b[0m \u001b[0mmust\u001b[0m \u001b[0mbe\u001b[0m \u001b[0mshorter\u001b[0m \u001b[0mthan\u001b[0m \u001b[0;36m79\u001b[0m\u001b[0;34m\u001b[0m\u001b[0;34m\u001b[0m\u001b[0m\n\u001b[0m\u001b[1;32m    506\u001b[0m             \u001b[0mchars\u001b[0m\u001b[0;34m.\u001b[0m\u001b[0;34m\u001b[0m\u001b[0;34m\u001b[0m\u001b[0m\n\u001b[1;32m    507\u001b[0m \u001b[0;34m\u001b[0m\u001b[0m\n",
            "\u001b[0;31mImportError\u001b[0m: cannot import name '_png' from 'matplotlib' (/usr/local/lib/python3.7/dist-packages/matplotlib/__init__.py)"
          ]
        },
        {
          "output_type": "display_data",
          "data": {
            "text/plain": [
              "<Figure size 1080x432 with 1 Axes>"
            ]
          },
          "metadata": {
            "needs_background": "light"
          }
        },
        {
          "output_type": "error",
          "ename": "ImportError",
          "evalue": "ignored",
          "traceback": [
            "\u001b[0;31m---------------------------------------------------------------------------\u001b[0m",
            "\u001b[0;31mImportError\u001b[0m                               Traceback (most recent call last)",
            "\u001b[0;32m/usr/local/lib/python3.7/dist-packages/IPython/core/formatters.py\u001b[0m in \u001b[0;36m__call__\u001b[0;34m(self, obj)\u001b[0m\n\u001b[1;32m    339\u001b[0m                 \u001b[0;32mpass\u001b[0m\u001b[0;34m\u001b[0m\u001b[0;34m\u001b[0m\u001b[0m\n\u001b[1;32m    340\u001b[0m             \u001b[0;32melse\u001b[0m\u001b[0;34m:\u001b[0m\u001b[0;34m\u001b[0m\u001b[0;34m\u001b[0m\u001b[0m\n\u001b[0;32m--> 341\u001b[0;31m                 \u001b[0;32mreturn\u001b[0m \u001b[0mprinter\u001b[0m\u001b[0;34m(\u001b[0m\u001b[0mobj\u001b[0m\u001b[0;34m)\u001b[0m\u001b[0;34m\u001b[0m\u001b[0;34m\u001b[0m\u001b[0m\n\u001b[0m\u001b[1;32m    342\u001b[0m             \u001b[0;31m# Finally look for special method names\u001b[0m\u001b[0;34m\u001b[0m\u001b[0;34m\u001b[0m\u001b[0;34m\u001b[0m\u001b[0m\n\u001b[1;32m    343\u001b[0m             \u001b[0mmethod\u001b[0m \u001b[0;34m=\u001b[0m \u001b[0mget_real_method\u001b[0m\u001b[0;34m(\u001b[0m\u001b[0mobj\u001b[0m\u001b[0;34m,\u001b[0m \u001b[0mself\u001b[0m\u001b[0;34m.\u001b[0m\u001b[0mprint_method\u001b[0m\u001b[0;34m)\u001b[0m\u001b[0;34m\u001b[0m\u001b[0;34m\u001b[0m\u001b[0m\n",
            "\u001b[0;32m/usr/local/lib/python3.7/dist-packages/IPython/core/pylabtools.py\u001b[0m in \u001b[0;36m<lambda>\u001b[0;34m(fig)\u001b[0m\n\u001b[1;32m    242\u001b[0m \u001b[0;34m\u001b[0m\u001b[0m\n\u001b[1;32m    243\u001b[0m     \u001b[0;32mif\u001b[0m \u001b[0;34m'png'\u001b[0m \u001b[0;32min\u001b[0m \u001b[0mformats\u001b[0m\u001b[0;34m:\u001b[0m\u001b[0;34m\u001b[0m\u001b[0;34m\u001b[0m\u001b[0m\n\u001b[0;32m--> 244\u001b[0;31m         \u001b[0mpng_formatter\u001b[0m\u001b[0;34m.\u001b[0m\u001b[0mfor_type\u001b[0m\u001b[0;34m(\u001b[0m\u001b[0mFigure\u001b[0m\u001b[0;34m,\u001b[0m \u001b[0;32mlambda\u001b[0m \u001b[0mfig\u001b[0m\u001b[0;34m:\u001b[0m \u001b[0mprint_figure\u001b[0m\u001b[0;34m(\u001b[0m\u001b[0mfig\u001b[0m\u001b[0;34m,\u001b[0m \u001b[0;34m'png'\u001b[0m\u001b[0;34m,\u001b[0m \u001b[0;34m**\u001b[0m\u001b[0mkwargs\u001b[0m\u001b[0;34m)\u001b[0m\u001b[0;34m)\u001b[0m\u001b[0;34m\u001b[0m\u001b[0;34m\u001b[0m\u001b[0m\n\u001b[0m\u001b[1;32m    245\u001b[0m     \u001b[0;32mif\u001b[0m \u001b[0;34m'retina'\u001b[0m \u001b[0;32min\u001b[0m \u001b[0mformats\u001b[0m \u001b[0;32mor\u001b[0m \u001b[0;34m'png2x'\u001b[0m \u001b[0;32min\u001b[0m \u001b[0mformats\u001b[0m\u001b[0;34m:\u001b[0m\u001b[0;34m\u001b[0m\u001b[0;34m\u001b[0m\u001b[0m\n\u001b[1;32m    246\u001b[0m         \u001b[0mpng_formatter\u001b[0m\u001b[0;34m.\u001b[0m\u001b[0mfor_type\u001b[0m\u001b[0;34m(\u001b[0m\u001b[0mFigure\u001b[0m\u001b[0;34m,\u001b[0m \u001b[0;32mlambda\u001b[0m \u001b[0mfig\u001b[0m\u001b[0;34m:\u001b[0m \u001b[0mretina_figure\u001b[0m\u001b[0;34m(\u001b[0m\u001b[0mfig\u001b[0m\u001b[0;34m,\u001b[0m \u001b[0;34m**\u001b[0m\u001b[0mkwargs\u001b[0m\u001b[0;34m)\u001b[0m\u001b[0;34m)\u001b[0m\u001b[0;34m\u001b[0m\u001b[0;34m\u001b[0m\u001b[0m\n",
            "\u001b[0;32m/usr/local/lib/python3.7/dist-packages/IPython/core/pylabtools.py\u001b[0m in \u001b[0;36mprint_figure\u001b[0;34m(fig, fmt, bbox_inches, **kwargs)\u001b[0m\n\u001b[1;32m    126\u001b[0m \u001b[0;34m\u001b[0m\u001b[0m\n\u001b[1;32m    127\u001b[0m     \u001b[0mbytes_io\u001b[0m \u001b[0;34m=\u001b[0m \u001b[0mBytesIO\u001b[0m\u001b[0;34m(\u001b[0m\u001b[0;34m)\u001b[0m\u001b[0;34m\u001b[0m\u001b[0;34m\u001b[0m\u001b[0m\n\u001b[0;32m--> 128\u001b[0;31m     \u001b[0mfig\u001b[0m\u001b[0;34m.\u001b[0m\u001b[0mcanvas\u001b[0m\u001b[0;34m.\u001b[0m\u001b[0mprint_figure\u001b[0m\u001b[0;34m(\u001b[0m\u001b[0mbytes_io\u001b[0m\u001b[0;34m,\u001b[0m \u001b[0;34m**\u001b[0m\u001b[0mkw\u001b[0m\u001b[0;34m)\u001b[0m\u001b[0;34m\u001b[0m\u001b[0;34m\u001b[0m\u001b[0m\n\u001b[0m\u001b[1;32m    129\u001b[0m     \u001b[0mdata\u001b[0m \u001b[0;34m=\u001b[0m \u001b[0mbytes_io\u001b[0m\u001b[0;34m.\u001b[0m\u001b[0mgetvalue\u001b[0m\u001b[0;34m(\u001b[0m\u001b[0;34m)\u001b[0m\u001b[0;34m\u001b[0m\u001b[0;34m\u001b[0m\u001b[0m\n\u001b[1;32m    130\u001b[0m     \u001b[0;32mif\u001b[0m \u001b[0mfmt\u001b[0m \u001b[0;34m==\u001b[0m \u001b[0;34m'svg'\u001b[0m\u001b[0;34m:\u001b[0m\u001b[0;34m\u001b[0m\u001b[0;34m\u001b[0m\u001b[0m\n",
            "\u001b[0;32m/usr/local/lib/python3.7/dist-packages/matplotlib/backend_bases.py\u001b[0m in \u001b[0;36mprint_figure\u001b[0;34m(self, filename, dpi, facecolor, edgecolor, orientation, format, bbox_inches, **kwargs)\u001b[0m\n\u001b[1;32m   2092\u001b[0m         \u001b[0mratio\u001b[0m \u001b[0;34m:\u001b[0m \u001b[0mfloat\u001b[0m\u001b[0;34m\u001b[0m\u001b[0;34m\u001b[0m\u001b[0m\n\u001b[1;32m   2093\u001b[0m             \u001b[0mThe\u001b[0m \u001b[0mratio\u001b[0m \u001b[0mof\u001b[0m \u001b[0mlogical\u001b[0m \u001b[0mto\u001b[0m \u001b[0mphysical\u001b[0m \u001b[0mpixels\u001b[0m \u001b[0mused\u001b[0m \u001b[0;32mfor\u001b[0m \u001b[0mthe\u001b[0m \u001b[0mcanvas\u001b[0m\u001b[0;34m.\u001b[0m\u001b[0;34m\u001b[0m\u001b[0;34m\u001b[0m\u001b[0m\n\u001b[0;32m-> 2094\u001b[0;31m \u001b[0;34m\u001b[0m\u001b[0m\n\u001b[0m\u001b[1;32m   2095\u001b[0m         \u001b[0mReturns\u001b[0m\u001b[0;34m\u001b[0m\u001b[0;34m\u001b[0m\u001b[0m\n\u001b[1;32m   2096\u001b[0m         \u001b[0;34m-\u001b[0m\u001b[0;34m-\u001b[0m\u001b[0;34m-\u001b[0m\u001b[0;34m-\u001b[0m\u001b[0;34m-\u001b[0m\u001b[0;34m-\u001b[0m\u001b[0;34m-\u001b[0m\u001b[0;34m\u001b[0m\u001b[0;34m\u001b[0m\u001b[0m\n",
            "\u001b[0;32m/usr/local/lib/python3.7/dist-packages/matplotlib/backend_bases.py\u001b[0m in \u001b[0;36m_get_renderer\u001b[0;34m(figure, print_method)\u001b[0m\n\u001b[1;32m   1558\u001b[0m     \u001b[0mfigure\u001b[0m\u001b[0;34m.\u001b[0m\u001b[0mdraw_without_rendering\u001b[0m\u001b[0;34m(\u001b[0m\u001b[0;34m)\u001b[0m\u001b[0;34m\u001b[0m\u001b[0;34m\u001b[0m\u001b[0m\n\u001b[1;32m   1559\u001b[0m \u001b[0;34m\u001b[0m\u001b[0m\n\u001b[0;32m-> 1560\u001b[0;31m \u001b[0;34m\u001b[0m\u001b[0m\n\u001b[0m\u001b[1;32m   1561\u001b[0m \u001b[0;32mdef\u001b[0m \u001b[0m_is_non_interactive_terminal_ipython\u001b[0m\u001b[0;34m(\u001b[0m\u001b[0mip\u001b[0m\u001b[0;34m)\u001b[0m\u001b[0;34m:\u001b[0m\u001b[0;34m\u001b[0m\u001b[0;34m\u001b[0m\u001b[0m\n\u001b[1;32m   1562\u001b[0m     \"\"\"\n",
            "\u001b[0;32m/usr/local/lib/python3.7/dist-packages/matplotlib/backends/backend_agg.py\u001b[0m in \u001b[0;36mprint_png\u001b[0;34m(self, filename_or_obj, metadata, pil_kwargs, *args, **kwargs)\u001b[0m\n\u001b[1;32m    503\u001b[0m             \u001b[0mMetadata\u001b[0m \u001b[0;32min\u001b[0m \u001b[0mthe\u001b[0m \u001b[0mPNG\u001b[0m \u001b[0mfile\u001b[0m \u001b[0;32mas\u001b[0m \u001b[0mkey\u001b[0m\u001b[0;34m-\u001b[0m\u001b[0mvalue\u001b[0m \u001b[0mpairs\u001b[0m \u001b[0mof\u001b[0m \u001b[0mbytes\u001b[0m \u001b[0;32mor\u001b[0m \u001b[0mlatin\u001b[0m\u001b[0;34m-\u001b[0m\u001b[0;36m1\u001b[0m\u001b[0;34m\u001b[0m\u001b[0;34m\u001b[0m\u001b[0m\n\u001b[1;32m    504\u001b[0m             \u001b[0mencodable\u001b[0m \u001b[0mstrings\u001b[0m\u001b[0;34m.\u001b[0m\u001b[0;34m\u001b[0m\u001b[0;34m\u001b[0m\u001b[0m\n\u001b[0;32m--> 505\u001b[0;31m             \u001b[0mAccording\u001b[0m \u001b[0mto\u001b[0m \u001b[0mthe\u001b[0m \u001b[0mPNG\u001b[0m \u001b[0mspecification\u001b[0m\u001b[0;34m,\u001b[0m \u001b[0mkeys\u001b[0m \u001b[0mmust\u001b[0m \u001b[0mbe\u001b[0m \u001b[0mshorter\u001b[0m \u001b[0mthan\u001b[0m \u001b[0;36m79\u001b[0m\u001b[0;34m\u001b[0m\u001b[0;34m\u001b[0m\u001b[0m\n\u001b[0m\u001b[1;32m    506\u001b[0m             \u001b[0mchars\u001b[0m\u001b[0;34m.\u001b[0m\u001b[0;34m\u001b[0m\u001b[0;34m\u001b[0m\u001b[0m\n\u001b[1;32m    507\u001b[0m \u001b[0;34m\u001b[0m\u001b[0m\n",
            "\u001b[0;31mImportError\u001b[0m: cannot import name '_png' from 'matplotlib' (/usr/local/lib/python3.7/dist-packages/matplotlib/__init__.py)"
          ]
        },
        {
          "output_type": "display_data",
          "data": {
            "text/plain": [
              "<Figure size 1080x432 with 1 Axes>"
            ]
          },
          "metadata": {
            "needs_background": "light"
          }
        },
        {
          "output_type": "error",
          "ename": "ImportError",
          "evalue": "ignored",
          "traceback": [
            "\u001b[0;31m---------------------------------------------------------------------------\u001b[0m",
            "\u001b[0;31mImportError\u001b[0m                               Traceback (most recent call last)",
            "\u001b[0;32m/usr/local/lib/python3.7/dist-packages/IPython/core/formatters.py\u001b[0m in \u001b[0;36m__call__\u001b[0;34m(self, obj)\u001b[0m\n\u001b[1;32m    339\u001b[0m                 \u001b[0;32mpass\u001b[0m\u001b[0;34m\u001b[0m\u001b[0;34m\u001b[0m\u001b[0m\n\u001b[1;32m    340\u001b[0m             \u001b[0;32melse\u001b[0m\u001b[0;34m:\u001b[0m\u001b[0;34m\u001b[0m\u001b[0;34m\u001b[0m\u001b[0m\n\u001b[0;32m--> 341\u001b[0;31m                 \u001b[0;32mreturn\u001b[0m \u001b[0mprinter\u001b[0m\u001b[0;34m(\u001b[0m\u001b[0mobj\u001b[0m\u001b[0;34m)\u001b[0m\u001b[0;34m\u001b[0m\u001b[0;34m\u001b[0m\u001b[0m\n\u001b[0m\u001b[1;32m    342\u001b[0m             \u001b[0;31m# Finally look for special method names\u001b[0m\u001b[0;34m\u001b[0m\u001b[0;34m\u001b[0m\u001b[0;34m\u001b[0m\u001b[0m\n\u001b[1;32m    343\u001b[0m             \u001b[0mmethod\u001b[0m \u001b[0;34m=\u001b[0m \u001b[0mget_real_method\u001b[0m\u001b[0;34m(\u001b[0m\u001b[0mobj\u001b[0m\u001b[0;34m,\u001b[0m \u001b[0mself\u001b[0m\u001b[0;34m.\u001b[0m\u001b[0mprint_method\u001b[0m\u001b[0;34m)\u001b[0m\u001b[0;34m\u001b[0m\u001b[0;34m\u001b[0m\u001b[0m\n",
            "\u001b[0;32m/usr/local/lib/python3.7/dist-packages/IPython/core/pylabtools.py\u001b[0m in \u001b[0;36m<lambda>\u001b[0;34m(fig)\u001b[0m\n\u001b[1;32m    242\u001b[0m \u001b[0;34m\u001b[0m\u001b[0m\n\u001b[1;32m    243\u001b[0m     \u001b[0;32mif\u001b[0m \u001b[0;34m'png'\u001b[0m \u001b[0;32min\u001b[0m \u001b[0mformats\u001b[0m\u001b[0;34m:\u001b[0m\u001b[0;34m\u001b[0m\u001b[0;34m\u001b[0m\u001b[0m\n\u001b[0;32m--> 244\u001b[0;31m         \u001b[0mpng_formatter\u001b[0m\u001b[0;34m.\u001b[0m\u001b[0mfor_type\u001b[0m\u001b[0;34m(\u001b[0m\u001b[0mFigure\u001b[0m\u001b[0;34m,\u001b[0m \u001b[0;32mlambda\u001b[0m \u001b[0mfig\u001b[0m\u001b[0;34m:\u001b[0m \u001b[0mprint_figure\u001b[0m\u001b[0;34m(\u001b[0m\u001b[0mfig\u001b[0m\u001b[0;34m,\u001b[0m \u001b[0;34m'png'\u001b[0m\u001b[0;34m,\u001b[0m \u001b[0;34m**\u001b[0m\u001b[0mkwargs\u001b[0m\u001b[0;34m)\u001b[0m\u001b[0;34m)\u001b[0m\u001b[0;34m\u001b[0m\u001b[0;34m\u001b[0m\u001b[0m\n\u001b[0m\u001b[1;32m    245\u001b[0m     \u001b[0;32mif\u001b[0m \u001b[0;34m'retina'\u001b[0m \u001b[0;32min\u001b[0m \u001b[0mformats\u001b[0m \u001b[0;32mor\u001b[0m \u001b[0;34m'png2x'\u001b[0m \u001b[0;32min\u001b[0m \u001b[0mformats\u001b[0m\u001b[0;34m:\u001b[0m\u001b[0;34m\u001b[0m\u001b[0;34m\u001b[0m\u001b[0m\n\u001b[1;32m    246\u001b[0m         \u001b[0mpng_formatter\u001b[0m\u001b[0;34m.\u001b[0m\u001b[0mfor_type\u001b[0m\u001b[0;34m(\u001b[0m\u001b[0mFigure\u001b[0m\u001b[0;34m,\u001b[0m \u001b[0;32mlambda\u001b[0m \u001b[0mfig\u001b[0m\u001b[0;34m:\u001b[0m \u001b[0mretina_figure\u001b[0m\u001b[0;34m(\u001b[0m\u001b[0mfig\u001b[0m\u001b[0;34m,\u001b[0m \u001b[0;34m**\u001b[0m\u001b[0mkwargs\u001b[0m\u001b[0;34m)\u001b[0m\u001b[0;34m)\u001b[0m\u001b[0;34m\u001b[0m\u001b[0;34m\u001b[0m\u001b[0m\n",
            "\u001b[0;32m/usr/local/lib/python3.7/dist-packages/IPython/core/pylabtools.py\u001b[0m in \u001b[0;36mprint_figure\u001b[0;34m(fig, fmt, bbox_inches, **kwargs)\u001b[0m\n\u001b[1;32m    126\u001b[0m \u001b[0;34m\u001b[0m\u001b[0m\n\u001b[1;32m    127\u001b[0m     \u001b[0mbytes_io\u001b[0m \u001b[0;34m=\u001b[0m \u001b[0mBytesIO\u001b[0m\u001b[0;34m(\u001b[0m\u001b[0;34m)\u001b[0m\u001b[0;34m\u001b[0m\u001b[0;34m\u001b[0m\u001b[0m\n\u001b[0;32m--> 128\u001b[0;31m     \u001b[0mfig\u001b[0m\u001b[0;34m.\u001b[0m\u001b[0mcanvas\u001b[0m\u001b[0;34m.\u001b[0m\u001b[0mprint_figure\u001b[0m\u001b[0;34m(\u001b[0m\u001b[0mbytes_io\u001b[0m\u001b[0;34m,\u001b[0m \u001b[0;34m**\u001b[0m\u001b[0mkw\u001b[0m\u001b[0;34m)\u001b[0m\u001b[0;34m\u001b[0m\u001b[0;34m\u001b[0m\u001b[0m\n\u001b[0m\u001b[1;32m    129\u001b[0m     \u001b[0mdata\u001b[0m \u001b[0;34m=\u001b[0m \u001b[0mbytes_io\u001b[0m\u001b[0;34m.\u001b[0m\u001b[0mgetvalue\u001b[0m\u001b[0;34m(\u001b[0m\u001b[0;34m)\u001b[0m\u001b[0;34m\u001b[0m\u001b[0;34m\u001b[0m\u001b[0m\n\u001b[1;32m    130\u001b[0m     \u001b[0;32mif\u001b[0m \u001b[0mfmt\u001b[0m \u001b[0;34m==\u001b[0m \u001b[0;34m'svg'\u001b[0m\u001b[0;34m:\u001b[0m\u001b[0;34m\u001b[0m\u001b[0;34m\u001b[0m\u001b[0m\n",
            "\u001b[0;32m/usr/local/lib/python3.7/dist-packages/matplotlib/backend_bases.py\u001b[0m in \u001b[0;36mprint_figure\u001b[0;34m(self, filename, dpi, facecolor, edgecolor, orientation, format, bbox_inches, **kwargs)\u001b[0m\n\u001b[1;32m   2092\u001b[0m         \u001b[0mratio\u001b[0m \u001b[0;34m:\u001b[0m \u001b[0mfloat\u001b[0m\u001b[0;34m\u001b[0m\u001b[0;34m\u001b[0m\u001b[0m\n\u001b[1;32m   2093\u001b[0m             \u001b[0mThe\u001b[0m \u001b[0mratio\u001b[0m \u001b[0mof\u001b[0m \u001b[0mlogical\u001b[0m \u001b[0mto\u001b[0m \u001b[0mphysical\u001b[0m \u001b[0mpixels\u001b[0m \u001b[0mused\u001b[0m \u001b[0;32mfor\u001b[0m \u001b[0mthe\u001b[0m \u001b[0mcanvas\u001b[0m\u001b[0;34m.\u001b[0m\u001b[0;34m\u001b[0m\u001b[0;34m\u001b[0m\u001b[0m\n\u001b[0;32m-> 2094\u001b[0;31m \u001b[0;34m\u001b[0m\u001b[0m\n\u001b[0m\u001b[1;32m   2095\u001b[0m         \u001b[0mReturns\u001b[0m\u001b[0;34m\u001b[0m\u001b[0;34m\u001b[0m\u001b[0m\n\u001b[1;32m   2096\u001b[0m         \u001b[0;34m-\u001b[0m\u001b[0;34m-\u001b[0m\u001b[0;34m-\u001b[0m\u001b[0;34m-\u001b[0m\u001b[0;34m-\u001b[0m\u001b[0;34m-\u001b[0m\u001b[0;34m-\u001b[0m\u001b[0;34m\u001b[0m\u001b[0;34m\u001b[0m\u001b[0m\n",
            "\u001b[0;32m/usr/local/lib/python3.7/dist-packages/matplotlib/backend_bases.py\u001b[0m in \u001b[0;36m_get_renderer\u001b[0;34m(figure, print_method)\u001b[0m\n\u001b[1;32m   1558\u001b[0m     \u001b[0mfigure\u001b[0m\u001b[0;34m.\u001b[0m\u001b[0mdraw_without_rendering\u001b[0m\u001b[0;34m(\u001b[0m\u001b[0;34m)\u001b[0m\u001b[0;34m\u001b[0m\u001b[0;34m\u001b[0m\u001b[0m\n\u001b[1;32m   1559\u001b[0m \u001b[0;34m\u001b[0m\u001b[0m\n\u001b[0;32m-> 1560\u001b[0;31m \u001b[0;34m\u001b[0m\u001b[0m\n\u001b[0m\u001b[1;32m   1561\u001b[0m \u001b[0;32mdef\u001b[0m \u001b[0m_is_non_interactive_terminal_ipython\u001b[0m\u001b[0;34m(\u001b[0m\u001b[0mip\u001b[0m\u001b[0;34m)\u001b[0m\u001b[0;34m:\u001b[0m\u001b[0;34m\u001b[0m\u001b[0;34m\u001b[0m\u001b[0m\n\u001b[1;32m   1562\u001b[0m     \"\"\"\n",
            "\u001b[0;32m/usr/local/lib/python3.7/dist-packages/matplotlib/backends/backend_agg.py\u001b[0m in \u001b[0;36mprint_png\u001b[0;34m(self, filename_or_obj, metadata, pil_kwargs, *args, **kwargs)\u001b[0m\n\u001b[1;32m    503\u001b[0m             \u001b[0mMetadata\u001b[0m \u001b[0;32min\u001b[0m \u001b[0mthe\u001b[0m \u001b[0mPNG\u001b[0m \u001b[0mfile\u001b[0m \u001b[0;32mas\u001b[0m \u001b[0mkey\u001b[0m\u001b[0;34m-\u001b[0m\u001b[0mvalue\u001b[0m \u001b[0mpairs\u001b[0m \u001b[0mof\u001b[0m \u001b[0mbytes\u001b[0m \u001b[0;32mor\u001b[0m \u001b[0mlatin\u001b[0m\u001b[0;34m-\u001b[0m\u001b[0;36m1\u001b[0m\u001b[0;34m\u001b[0m\u001b[0;34m\u001b[0m\u001b[0m\n\u001b[1;32m    504\u001b[0m             \u001b[0mencodable\u001b[0m \u001b[0mstrings\u001b[0m\u001b[0;34m.\u001b[0m\u001b[0;34m\u001b[0m\u001b[0;34m\u001b[0m\u001b[0m\n\u001b[0;32m--> 505\u001b[0;31m             \u001b[0mAccording\u001b[0m \u001b[0mto\u001b[0m \u001b[0mthe\u001b[0m \u001b[0mPNG\u001b[0m \u001b[0mspecification\u001b[0m\u001b[0;34m,\u001b[0m \u001b[0mkeys\u001b[0m \u001b[0mmust\u001b[0m \u001b[0mbe\u001b[0m \u001b[0mshorter\u001b[0m \u001b[0mthan\u001b[0m \u001b[0;36m79\u001b[0m\u001b[0;34m\u001b[0m\u001b[0;34m\u001b[0m\u001b[0m\n\u001b[0m\u001b[1;32m    506\u001b[0m             \u001b[0mchars\u001b[0m\u001b[0;34m.\u001b[0m\u001b[0;34m\u001b[0m\u001b[0;34m\u001b[0m\u001b[0m\n\u001b[1;32m    507\u001b[0m \u001b[0;34m\u001b[0m\u001b[0m\n",
            "\u001b[0;31mImportError\u001b[0m: cannot import name '_png' from 'matplotlib' (/usr/local/lib/python3.7/dist-packages/matplotlib/__init__.py)"
          ]
        },
        {
          "output_type": "display_data",
          "data": {
            "text/plain": [
              "<Figure size 1080x432 with 1 Axes>"
            ]
          },
          "metadata": {
            "needs_background": "light"
          }
        },
        {
          "output_type": "error",
          "ename": "ImportError",
          "evalue": "ignored",
          "traceback": [
            "\u001b[0;31m---------------------------------------------------------------------------\u001b[0m",
            "\u001b[0;31mImportError\u001b[0m                               Traceback (most recent call last)",
            "\u001b[0;32m/usr/local/lib/python3.7/dist-packages/IPython/core/formatters.py\u001b[0m in \u001b[0;36m__call__\u001b[0;34m(self, obj)\u001b[0m\n\u001b[1;32m    339\u001b[0m                 \u001b[0;32mpass\u001b[0m\u001b[0;34m\u001b[0m\u001b[0;34m\u001b[0m\u001b[0m\n\u001b[1;32m    340\u001b[0m             \u001b[0;32melse\u001b[0m\u001b[0;34m:\u001b[0m\u001b[0;34m\u001b[0m\u001b[0;34m\u001b[0m\u001b[0m\n\u001b[0;32m--> 341\u001b[0;31m                 \u001b[0;32mreturn\u001b[0m \u001b[0mprinter\u001b[0m\u001b[0;34m(\u001b[0m\u001b[0mobj\u001b[0m\u001b[0;34m)\u001b[0m\u001b[0;34m\u001b[0m\u001b[0;34m\u001b[0m\u001b[0m\n\u001b[0m\u001b[1;32m    342\u001b[0m             \u001b[0;31m# Finally look for special method names\u001b[0m\u001b[0;34m\u001b[0m\u001b[0;34m\u001b[0m\u001b[0;34m\u001b[0m\u001b[0m\n\u001b[1;32m    343\u001b[0m             \u001b[0mmethod\u001b[0m \u001b[0;34m=\u001b[0m \u001b[0mget_real_method\u001b[0m\u001b[0;34m(\u001b[0m\u001b[0mobj\u001b[0m\u001b[0;34m,\u001b[0m \u001b[0mself\u001b[0m\u001b[0;34m.\u001b[0m\u001b[0mprint_method\u001b[0m\u001b[0;34m)\u001b[0m\u001b[0;34m\u001b[0m\u001b[0;34m\u001b[0m\u001b[0m\n",
            "\u001b[0;32m/usr/local/lib/python3.7/dist-packages/IPython/core/pylabtools.py\u001b[0m in \u001b[0;36m<lambda>\u001b[0;34m(fig)\u001b[0m\n\u001b[1;32m    242\u001b[0m \u001b[0;34m\u001b[0m\u001b[0m\n\u001b[1;32m    243\u001b[0m     \u001b[0;32mif\u001b[0m \u001b[0;34m'png'\u001b[0m \u001b[0;32min\u001b[0m \u001b[0mformats\u001b[0m\u001b[0;34m:\u001b[0m\u001b[0;34m\u001b[0m\u001b[0;34m\u001b[0m\u001b[0m\n\u001b[0;32m--> 244\u001b[0;31m         \u001b[0mpng_formatter\u001b[0m\u001b[0;34m.\u001b[0m\u001b[0mfor_type\u001b[0m\u001b[0;34m(\u001b[0m\u001b[0mFigure\u001b[0m\u001b[0;34m,\u001b[0m \u001b[0;32mlambda\u001b[0m \u001b[0mfig\u001b[0m\u001b[0;34m:\u001b[0m \u001b[0mprint_figure\u001b[0m\u001b[0;34m(\u001b[0m\u001b[0mfig\u001b[0m\u001b[0;34m,\u001b[0m \u001b[0;34m'png'\u001b[0m\u001b[0;34m,\u001b[0m \u001b[0;34m**\u001b[0m\u001b[0mkwargs\u001b[0m\u001b[0;34m)\u001b[0m\u001b[0;34m)\u001b[0m\u001b[0;34m\u001b[0m\u001b[0;34m\u001b[0m\u001b[0m\n\u001b[0m\u001b[1;32m    245\u001b[0m     \u001b[0;32mif\u001b[0m \u001b[0;34m'retina'\u001b[0m \u001b[0;32min\u001b[0m \u001b[0mformats\u001b[0m \u001b[0;32mor\u001b[0m \u001b[0;34m'png2x'\u001b[0m \u001b[0;32min\u001b[0m \u001b[0mformats\u001b[0m\u001b[0;34m:\u001b[0m\u001b[0;34m\u001b[0m\u001b[0;34m\u001b[0m\u001b[0m\n\u001b[1;32m    246\u001b[0m         \u001b[0mpng_formatter\u001b[0m\u001b[0;34m.\u001b[0m\u001b[0mfor_type\u001b[0m\u001b[0;34m(\u001b[0m\u001b[0mFigure\u001b[0m\u001b[0;34m,\u001b[0m \u001b[0;32mlambda\u001b[0m \u001b[0mfig\u001b[0m\u001b[0;34m:\u001b[0m \u001b[0mretina_figure\u001b[0m\u001b[0;34m(\u001b[0m\u001b[0mfig\u001b[0m\u001b[0;34m,\u001b[0m \u001b[0;34m**\u001b[0m\u001b[0mkwargs\u001b[0m\u001b[0;34m)\u001b[0m\u001b[0;34m)\u001b[0m\u001b[0;34m\u001b[0m\u001b[0;34m\u001b[0m\u001b[0m\n",
            "\u001b[0;32m/usr/local/lib/python3.7/dist-packages/IPython/core/pylabtools.py\u001b[0m in \u001b[0;36mprint_figure\u001b[0;34m(fig, fmt, bbox_inches, **kwargs)\u001b[0m\n\u001b[1;32m    126\u001b[0m \u001b[0;34m\u001b[0m\u001b[0m\n\u001b[1;32m    127\u001b[0m     \u001b[0mbytes_io\u001b[0m \u001b[0;34m=\u001b[0m \u001b[0mBytesIO\u001b[0m\u001b[0;34m(\u001b[0m\u001b[0;34m)\u001b[0m\u001b[0;34m\u001b[0m\u001b[0;34m\u001b[0m\u001b[0m\n\u001b[0;32m--> 128\u001b[0;31m     \u001b[0mfig\u001b[0m\u001b[0;34m.\u001b[0m\u001b[0mcanvas\u001b[0m\u001b[0;34m.\u001b[0m\u001b[0mprint_figure\u001b[0m\u001b[0;34m(\u001b[0m\u001b[0mbytes_io\u001b[0m\u001b[0;34m,\u001b[0m \u001b[0;34m**\u001b[0m\u001b[0mkw\u001b[0m\u001b[0;34m)\u001b[0m\u001b[0;34m\u001b[0m\u001b[0;34m\u001b[0m\u001b[0m\n\u001b[0m\u001b[1;32m    129\u001b[0m     \u001b[0mdata\u001b[0m \u001b[0;34m=\u001b[0m \u001b[0mbytes_io\u001b[0m\u001b[0;34m.\u001b[0m\u001b[0mgetvalue\u001b[0m\u001b[0;34m(\u001b[0m\u001b[0;34m)\u001b[0m\u001b[0;34m\u001b[0m\u001b[0;34m\u001b[0m\u001b[0m\n\u001b[1;32m    130\u001b[0m     \u001b[0;32mif\u001b[0m \u001b[0mfmt\u001b[0m \u001b[0;34m==\u001b[0m \u001b[0;34m'svg'\u001b[0m\u001b[0;34m:\u001b[0m\u001b[0;34m\u001b[0m\u001b[0;34m\u001b[0m\u001b[0m\n",
            "\u001b[0;32m/usr/local/lib/python3.7/dist-packages/matplotlib/backend_bases.py\u001b[0m in \u001b[0;36mprint_figure\u001b[0;34m(self, filename, dpi, facecolor, edgecolor, orientation, format, bbox_inches, **kwargs)\u001b[0m\n\u001b[1;32m   2092\u001b[0m         \u001b[0mratio\u001b[0m \u001b[0;34m:\u001b[0m \u001b[0mfloat\u001b[0m\u001b[0;34m\u001b[0m\u001b[0;34m\u001b[0m\u001b[0m\n\u001b[1;32m   2093\u001b[0m             \u001b[0mThe\u001b[0m \u001b[0mratio\u001b[0m \u001b[0mof\u001b[0m \u001b[0mlogical\u001b[0m \u001b[0mto\u001b[0m \u001b[0mphysical\u001b[0m \u001b[0mpixels\u001b[0m \u001b[0mused\u001b[0m \u001b[0;32mfor\u001b[0m \u001b[0mthe\u001b[0m \u001b[0mcanvas\u001b[0m\u001b[0;34m.\u001b[0m\u001b[0;34m\u001b[0m\u001b[0;34m\u001b[0m\u001b[0m\n\u001b[0;32m-> 2094\u001b[0;31m \u001b[0;34m\u001b[0m\u001b[0m\n\u001b[0m\u001b[1;32m   2095\u001b[0m         \u001b[0mReturns\u001b[0m\u001b[0;34m\u001b[0m\u001b[0;34m\u001b[0m\u001b[0m\n\u001b[1;32m   2096\u001b[0m         \u001b[0;34m-\u001b[0m\u001b[0;34m-\u001b[0m\u001b[0;34m-\u001b[0m\u001b[0;34m-\u001b[0m\u001b[0;34m-\u001b[0m\u001b[0;34m-\u001b[0m\u001b[0;34m-\u001b[0m\u001b[0;34m\u001b[0m\u001b[0;34m\u001b[0m\u001b[0m\n",
            "\u001b[0;32m/usr/local/lib/python3.7/dist-packages/matplotlib/backend_bases.py\u001b[0m in \u001b[0;36m_get_renderer\u001b[0;34m(figure, print_method)\u001b[0m\n\u001b[1;32m   1558\u001b[0m     \u001b[0mfigure\u001b[0m\u001b[0;34m.\u001b[0m\u001b[0mdraw_without_rendering\u001b[0m\u001b[0;34m(\u001b[0m\u001b[0;34m)\u001b[0m\u001b[0;34m\u001b[0m\u001b[0;34m\u001b[0m\u001b[0m\n\u001b[1;32m   1559\u001b[0m \u001b[0;34m\u001b[0m\u001b[0m\n\u001b[0;32m-> 1560\u001b[0;31m \u001b[0;34m\u001b[0m\u001b[0m\n\u001b[0m\u001b[1;32m   1561\u001b[0m \u001b[0;32mdef\u001b[0m \u001b[0m_is_non_interactive_terminal_ipython\u001b[0m\u001b[0;34m(\u001b[0m\u001b[0mip\u001b[0m\u001b[0;34m)\u001b[0m\u001b[0;34m:\u001b[0m\u001b[0;34m\u001b[0m\u001b[0;34m\u001b[0m\u001b[0m\n\u001b[1;32m   1562\u001b[0m     \"\"\"\n",
            "\u001b[0;32m/usr/local/lib/python3.7/dist-packages/matplotlib/backends/backend_agg.py\u001b[0m in \u001b[0;36mprint_png\u001b[0;34m(self, filename_or_obj, metadata, pil_kwargs, *args, **kwargs)\u001b[0m\n\u001b[1;32m    503\u001b[0m             \u001b[0mMetadata\u001b[0m \u001b[0;32min\u001b[0m \u001b[0mthe\u001b[0m \u001b[0mPNG\u001b[0m \u001b[0mfile\u001b[0m \u001b[0;32mas\u001b[0m \u001b[0mkey\u001b[0m\u001b[0;34m-\u001b[0m\u001b[0mvalue\u001b[0m \u001b[0mpairs\u001b[0m \u001b[0mof\u001b[0m \u001b[0mbytes\u001b[0m \u001b[0;32mor\u001b[0m \u001b[0mlatin\u001b[0m\u001b[0;34m-\u001b[0m\u001b[0;36m1\u001b[0m\u001b[0;34m\u001b[0m\u001b[0;34m\u001b[0m\u001b[0m\n\u001b[1;32m    504\u001b[0m             \u001b[0mencodable\u001b[0m \u001b[0mstrings\u001b[0m\u001b[0;34m.\u001b[0m\u001b[0;34m\u001b[0m\u001b[0;34m\u001b[0m\u001b[0m\n\u001b[0;32m--> 505\u001b[0;31m             \u001b[0mAccording\u001b[0m \u001b[0mto\u001b[0m \u001b[0mthe\u001b[0m \u001b[0mPNG\u001b[0m \u001b[0mspecification\u001b[0m\u001b[0;34m,\u001b[0m \u001b[0mkeys\u001b[0m \u001b[0mmust\u001b[0m \u001b[0mbe\u001b[0m \u001b[0mshorter\u001b[0m \u001b[0mthan\u001b[0m \u001b[0;36m79\u001b[0m\u001b[0;34m\u001b[0m\u001b[0;34m\u001b[0m\u001b[0m\n\u001b[0m\u001b[1;32m    506\u001b[0m             \u001b[0mchars\u001b[0m\u001b[0;34m.\u001b[0m\u001b[0;34m\u001b[0m\u001b[0;34m\u001b[0m\u001b[0m\n\u001b[1;32m    507\u001b[0m \u001b[0;34m\u001b[0m\u001b[0m\n",
            "\u001b[0;31mImportError\u001b[0m: cannot import name '_png' from 'matplotlib' (/usr/local/lib/python3.7/dist-packages/matplotlib/__init__.py)"
          ]
        },
        {
          "output_type": "display_data",
          "data": {
            "text/plain": [
              "<Figure size 1080x432 with 1 Axes>"
            ]
          },
          "metadata": {
            "needs_background": "light"
          }
        },
        {
          "output_type": "error",
          "ename": "ImportError",
          "evalue": "ignored",
          "traceback": [
            "\u001b[0;31m---------------------------------------------------------------------------\u001b[0m",
            "\u001b[0;31mImportError\u001b[0m                               Traceback (most recent call last)",
            "\u001b[0;32m/usr/local/lib/python3.7/dist-packages/IPython/core/formatters.py\u001b[0m in \u001b[0;36m__call__\u001b[0;34m(self, obj)\u001b[0m\n\u001b[1;32m    339\u001b[0m                 \u001b[0;32mpass\u001b[0m\u001b[0;34m\u001b[0m\u001b[0;34m\u001b[0m\u001b[0m\n\u001b[1;32m    340\u001b[0m             \u001b[0;32melse\u001b[0m\u001b[0;34m:\u001b[0m\u001b[0;34m\u001b[0m\u001b[0;34m\u001b[0m\u001b[0m\n\u001b[0;32m--> 341\u001b[0;31m                 \u001b[0;32mreturn\u001b[0m \u001b[0mprinter\u001b[0m\u001b[0;34m(\u001b[0m\u001b[0mobj\u001b[0m\u001b[0;34m)\u001b[0m\u001b[0;34m\u001b[0m\u001b[0;34m\u001b[0m\u001b[0m\n\u001b[0m\u001b[1;32m    342\u001b[0m             \u001b[0;31m# Finally look for special method names\u001b[0m\u001b[0;34m\u001b[0m\u001b[0;34m\u001b[0m\u001b[0;34m\u001b[0m\u001b[0m\n\u001b[1;32m    343\u001b[0m             \u001b[0mmethod\u001b[0m \u001b[0;34m=\u001b[0m \u001b[0mget_real_method\u001b[0m\u001b[0;34m(\u001b[0m\u001b[0mobj\u001b[0m\u001b[0;34m,\u001b[0m \u001b[0mself\u001b[0m\u001b[0;34m.\u001b[0m\u001b[0mprint_method\u001b[0m\u001b[0;34m)\u001b[0m\u001b[0;34m\u001b[0m\u001b[0;34m\u001b[0m\u001b[0m\n",
            "\u001b[0;32m/usr/local/lib/python3.7/dist-packages/IPython/core/pylabtools.py\u001b[0m in \u001b[0;36m<lambda>\u001b[0;34m(fig)\u001b[0m\n\u001b[1;32m    242\u001b[0m \u001b[0;34m\u001b[0m\u001b[0m\n\u001b[1;32m    243\u001b[0m     \u001b[0;32mif\u001b[0m \u001b[0;34m'png'\u001b[0m \u001b[0;32min\u001b[0m \u001b[0mformats\u001b[0m\u001b[0;34m:\u001b[0m\u001b[0;34m\u001b[0m\u001b[0;34m\u001b[0m\u001b[0m\n\u001b[0;32m--> 244\u001b[0;31m         \u001b[0mpng_formatter\u001b[0m\u001b[0;34m.\u001b[0m\u001b[0mfor_type\u001b[0m\u001b[0;34m(\u001b[0m\u001b[0mFigure\u001b[0m\u001b[0;34m,\u001b[0m \u001b[0;32mlambda\u001b[0m \u001b[0mfig\u001b[0m\u001b[0;34m:\u001b[0m \u001b[0mprint_figure\u001b[0m\u001b[0;34m(\u001b[0m\u001b[0mfig\u001b[0m\u001b[0;34m,\u001b[0m \u001b[0;34m'png'\u001b[0m\u001b[0;34m,\u001b[0m \u001b[0;34m**\u001b[0m\u001b[0mkwargs\u001b[0m\u001b[0;34m)\u001b[0m\u001b[0;34m)\u001b[0m\u001b[0;34m\u001b[0m\u001b[0;34m\u001b[0m\u001b[0m\n\u001b[0m\u001b[1;32m    245\u001b[0m     \u001b[0;32mif\u001b[0m \u001b[0;34m'retina'\u001b[0m \u001b[0;32min\u001b[0m \u001b[0mformats\u001b[0m \u001b[0;32mor\u001b[0m \u001b[0;34m'png2x'\u001b[0m \u001b[0;32min\u001b[0m \u001b[0mformats\u001b[0m\u001b[0;34m:\u001b[0m\u001b[0;34m\u001b[0m\u001b[0;34m\u001b[0m\u001b[0m\n\u001b[1;32m    246\u001b[0m         \u001b[0mpng_formatter\u001b[0m\u001b[0;34m.\u001b[0m\u001b[0mfor_type\u001b[0m\u001b[0;34m(\u001b[0m\u001b[0mFigure\u001b[0m\u001b[0;34m,\u001b[0m \u001b[0;32mlambda\u001b[0m \u001b[0mfig\u001b[0m\u001b[0;34m:\u001b[0m \u001b[0mretina_figure\u001b[0m\u001b[0;34m(\u001b[0m\u001b[0mfig\u001b[0m\u001b[0;34m,\u001b[0m \u001b[0;34m**\u001b[0m\u001b[0mkwargs\u001b[0m\u001b[0;34m)\u001b[0m\u001b[0;34m)\u001b[0m\u001b[0;34m\u001b[0m\u001b[0;34m\u001b[0m\u001b[0m\n",
            "\u001b[0;32m/usr/local/lib/python3.7/dist-packages/IPython/core/pylabtools.py\u001b[0m in \u001b[0;36mprint_figure\u001b[0;34m(fig, fmt, bbox_inches, **kwargs)\u001b[0m\n\u001b[1;32m    126\u001b[0m \u001b[0;34m\u001b[0m\u001b[0m\n\u001b[1;32m    127\u001b[0m     \u001b[0mbytes_io\u001b[0m \u001b[0;34m=\u001b[0m \u001b[0mBytesIO\u001b[0m\u001b[0;34m(\u001b[0m\u001b[0;34m)\u001b[0m\u001b[0;34m\u001b[0m\u001b[0;34m\u001b[0m\u001b[0m\n\u001b[0;32m--> 128\u001b[0;31m     \u001b[0mfig\u001b[0m\u001b[0;34m.\u001b[0m\u001b[0mcanvas\u001b[0m\u001b[0;34m.\u001b[0m\u001b[0mprint_figure\u001b[0m\u001b[0;34m(\u001b[0m\u001b[0mbytes_io\u001b[0m\u001b[0;34m,\u001b[0m \u001b[0;34m**\u001b[0m\u001b[0mkw\u001b[0m\u001b[0;34m)\u001b[0m\u001b[0;34m\u001b[0m\u001b[0;34m\u001b[0m\u001b[0m\n\u001b[0m\u001b[1;32m    129\u001b[0m     \u001b[0mdata\u001b[0m \u001b[0;34m=\u001b[0m \u001b[0mbytes_io\u001b[0m\u001b[0;34m.\u001b[0m\u001b[0mgetvalue\u001b[0m\u001b[0;34m(\u001b[0m\u001b[0;34m)\u001b[0m\u001b[0;34m\u001b[0m\u001b[0;34m\u001b[0m\u001b[0m\n\u001b[1;32m    130\u001b[0m     \u001b[0;32mif\u001b[0m \u001b[0mfmt\u001b[0m \u001b[0;34m==\u001b[0m \u001b[0;34m'svg'\u001b[0m\u001b[0;34m:\u001b[0m\u001b[0;34m\u001b[0m\u001b[0;34m\u001b[0m\u001b[0m\n",
            "\u001b[0;32m/usr/local/lib/python3.7/dist-packages/matplotlib/backend_bases.py\u001b[0m in \u001b[0;36mprint_figure\u001b[0;34m(self, filename, dpi, facecolor, edgecolor, orientation, format, bbox_inches, **kwargs)\u001b[0m\n\u001b[1;32m   2092\u001b[0m         \u001b[0mratio\u001b[0m \u001b[0;34m:\u001b[0m \u001b[0mfloat\u001b[0m\u001b[0;34m\u001b[0m\u001b[0;34m\u001b[0m\u001b[0m\n\u001b[1;32m   2093\u001b[0m             \u001b[0mThe\u001b[0m \u001b[0mratio\u001b[0m \u001b[0mof\u001b[0m \u001b[0mlogical\u001b[0m \u001b[0mto\u001b[0m \u001b[0mphysical\u001b[0m \u001b[0mpixels\u001b[0m \u001b[0mused\u001b[0m \u001b[0;32mfor\u001b[0m \u001b[0mthe\u001b[0m \u001b[0mcanvas\u001b[0m\u001b[0;34m.\u001b[0m\u001b[0;34m\u001b[0m\u001b[0;34m\u001b[0m\u001b[0m\n\u001b[0;32m-> 2094\u001b[0;31m \u001b[0;34m\u001b[0m\u001b[0m\n\u001b[0m\u001b[1;32m   2095\u001b[0m         \u001b[0mReturns\u001b[0m\u001b[0;34m\u001b[0m\u001b[0;34m\u001b[0m\u001b[0m\n\u001b[1;32m   2096\u001b[0m         \u001b[0;34m-\u001b[0m\u001b[0;34m-\u001b[0m\u001b[0;34m-\u001b[0m\u001b[0;34m-\u001b[0m\u001b[0;34m-\u001b[0m\u001b[0;34m-\u001b[0m\u001b[0;34m-\u001b[0m\u001b[0;34m\u001b[0m\u001b[0;34m\u001b[0m\u001b[0m\n",
            "\u001b[0;32m/usr/local/lib/python3.7/dist-packages/matplotlib/backend_bases.py\u001b[0m in \u001b[0;36m_get_renderer\u001b[0;34m(figure, print_method)\u001b[0m\n\u001b[1;32m   1558\u001b[0m     \u001b[0mfigure\u001b[0m\u001b[0;34m.\u001b[0m\u001b[0mdraw_without_rendering\u001b[0m\u001b[0;34m(\u001b[0m\u001b[0;34m)\u001b[0m\u001b[0;34m\u001b[0m\u001b[0;34m\u001b[0m\u001b[0m\n\u001b[1;32m   1559\u001b[0m \u001b[0;34m\u001b[0m\u001b[0m\n\u001b[0;32m-> 1560\u001b[0;31m \u001b[0;34m\u001b[0m\u001b[0m\n\u001b[0m\u001b[1;32m   1561\u001b[0m \u001b[0;32mdef\u001b[0m \u001b[0m_is_non_interactive_terminal_ipython\u001b[0m\u001b[0;34m(\u001b[0m\u001b[0mip\u001b[0m\u001b[0;34m)\u001b[0m\u001b[0;34m:\u001b[0m\u001b[0;34m\u001b[0m\u001b[0;34m\u001b[0m\u001b[0m\n\u001b[1;32m   1562\u001b[0m     \"\"\"\n",
            "\u001b[0;32m/usr/local/lib/python3.7/dist-packages/matplotlib/backends/backend_agg.py\u001b[0m in \u001b[0;36mprint_png\u001b[0;34m(self, filename_or_obj, metadata, pil_kwargs, *args, **kwargs)\u001b[0m\n\u001b[1;32m    503\u001b[0m             \u001b[0mMetadata\u001b[0m \u001b[0;32min\u001b[0m \u001b[0mthe\u001b[0m \u001b[0mPNG\u001b[0m \u001b[0mfile\u001b[0m \u001b[0;32mas\u001b[0m \u001b[0mkey\u001b[0m\u001b[0;34m-\u001b[0m\u001b[0mvalue\u001b[0m \u001b[0mpairs\u001b[0m \u001b[0mof\u001b[0m \u001b[0mbytes\u001b[0m \u001b[0;32mor\u001b[0m \u001b[0mlatin\u001b[0m\u001b[0;34m-\u001b[0m\u001b[0;36m1\u001b[0m\u001b[0;34m\u001b[0m\u001b[0;34m\u001b[0m\u001b[0m\n\u001b[1;32m    504\u001b[0m             \u001b[0mencodable\u001b[0m \u001b[0mstrings\u001b[0m\u001b[0;34m.\u001b[0m\u001b[0;34m\u001b[0m\u001b[0;34m\u001b[0m\u001b[0m\n\u001b[0;32m--> 505\u001b[0;31m             \u001b[0mAccording\u001b[0m \u001b[0mto\u001b[0m \u001b[0mthe\u001b[0m \u001b[0mPNG\u001b[0m \u001b[0mspecification\u001b[0m\u001b[0;34m,\u001b[0m \u001b[0mkeys\u001b[0m \u001b[0mmust\u001b[0m \u001b[0mbe\u001b[0m \u001b[0mshorter\u001b[0m \u001b[0mthan\u001b[0m \u001b[0;36m79\u001b[0m\u001b[0;34m\u001b[0m\u001b[0;34m\u001b[0m\u001b[0m\n\u001b[0m\u001b[1;32m    506\u001b[0m             \u001b[0mchars\u001b[0m\u001b[0;34m.\u001b[0m\u001b[0;34m\u001b[0m\u001b[0;34m\u001b[0m\u001b[0m\n\u001b[1;32m    507\u001b[0m \u001b[0;34m\u001b[0m\u001b[0m\n",
            "\u001b[0;31mImportError\u001b[0m: cannot import name '_png' from 'matplotlib' (/usr/local/lib/python3.7/dist-packages/matplotlib/__init__.py)"
          ]
        },
        {
          "output_type": "display_data",
          "data": {
            "text/plain": [
              "<Figure size 1080x432 with 1 Axes>"
            ]
          },
          "metadata": {
            "needs_background": "light"
          }
        }
      ],
      "source": [
        "for language in languages:\n",
        "    dataset = lang_datasets[language]\n",
        "    train_set = dataset[\"train_set\"]\n",
        "    validation_set = dataset[\"validation_set\"]\n",
        "    language_full = lang_names[language]\n",
        "\n",
        "    plot_question_token_count_dist(train_set, \"Question Lengths - {}\".format(language_full))\n",
        "    plot_document_token_count_dist(train_set, \"Document Lengths - {}\".format(language_full))"
      ]
    },
    {
      "cell_type": "markdown",
      "id": "be2640d4",
      "metadata": {
        "id": "be2640d4"
      },
      "source": [
        "### Features \n",
        "\n",
        "@TODO: plot distribution of whether question are answered based on the start word, \"How, when, Why\" etc\n",
        "\n",
        "#### Feature Used\n",
        "- Bag of Words for Question tokens (some words are easier to answer, e.g. When vs How) (also with TF-IDF extension. however, no noticeable change! Actually a bit worse accuracy)\n",
        "- Number of tokens in document (A longer document is more likely to have the correct answer than a short document)\n",
        "- Number of tokens in question (A longer answer looks for a very specific answer)\n",
        "- Answer overlap between document and text\n",
        "\n",
        "#### Features Ignored\n",
        "- BoW for the document was not included as part of the features as 1. the memory was on exhausted both on a local machine and cloud machine. 2. BoW is likely a poor feature for question-answer classifiction problems, since this problem needs sentence context, in order to determine whether the question has been answered or not."
      ]
    },
    {
      "cell_type": "markdown",
      "id": "6ecb7cfc",
      "metadata": {
        "id": "6ecb7cfc"
      },
      "source": [
        "## Q1.2a"
      ]
    },
    {
      "cell_type": "code",
      "execution_count": 22,
      "id": "582704ab",
      "metadata": {
        "id": "582704ab"
      },
      "outputs": [],
      "source": [
        "def get_lexical_features_from_dataset(dataset, token_to_id_vocab):\n",
        "    question_BoW_per_obs         = get_bag_of_words_per_obs(dataset['question'], token_to_id_vocab)\n",
        "    question_token_count_per_obs = count_tokens_per_obs(dataset['question'])\n",
        "    document_token_count_per_obs = count_tokens_per_obs(dataset['document'])\n",
        "    token_overlap_per_obs        = count_token_overlap_per_obs(dataset['question'], dataset['document'])\n",
        "    \n",
        "    tf_idf_transform = TfidfTransformer()\n",
        "    question_tf_idf_per_obs = tf_idf_transform.fit_transform(question_BoW_per_obs).toarray() # BoW -> TF-IDF\n",
        "\n",
        "    features = np.concatenate(\n",
        "        (question_tf_idf_per_obs, \n",
        "         question_token_count_per_obs.reshape((-1,1)), \n",
        "         document_token_count_per_obs.reshape((-1,1)), \n",
        "         token_overlap_per_obs.reshape((-1,1))), \n",
        "        axis=1)\n",
        "\n",
        "    return features"
      ]
    },
    {
      "cell_type": "code",
      "execution_count": 23,
      "id": "b536c321",
      "metadata": {
        "id": "b536c321"
      },
      "outputs": [],
      "source": [
        "def get_labels_from_dataset(dataset):\n",
        "    answer_region_column = dataset['document_answer_region']\n",
        "    \n",
        "    labels = np.empty(answer_region_column.shape[0], dtype=np.int32)\n",
        "    for i, answer in enumerate(answer_region_column):\n",
        "        labels[i] = 0 if answer == Annotation_error.UNANSWERED else 1\n",
        "        \n",
        "    return labels"
      ]
    },
    {
      "cell_type": "code",
      "execution_count": 24,
      "id": "b93d4046",
      "metadata": {
        "id": "b93d4046"
      },
      "outputs": [],
      "source": [
        "def str_label_summary(y):\n",
        "    num_answered = np.sum(y == 1)\n",
        "    num_unanswered = np.sum(y == 0)\n",
        "    return \"Answered questions: {}, unanswered questions: {}.\".format(num_answered, num_unanswered)"
      ]
    },
    {
      "cell_type": "markdown",
      "id": "3a58263f",
      "metadata": {
        "id": "3a58263f"
      },
      "source": [
        "## Q1.2b+c"
      ]
    },
    {
      "cell_type": "code",
      "execution_count": 25,
      "id": "a9a48f5e",
      "metadata": {
        "id": "a9a48f5e"
      },
      "outputs": [],
      "source": [
        "def evaluate(label_pred, label_true):\n",
        "    report = classification_report(label_true, label_pred)\n",
        "    print(report)\n",
        "    \n",
        "    cm = confusion_matrix(label_true, label_pred) / len(label_pred) # normalize the confusion matrix\n",
        "    disp = ConfusionMatrixDisplay(confusion_matrix=cm)\n",
        "    disp.plot()\n",
        "    plt.title(\"Confusion Matrix\")\n",
        "    plt.show()"
      ]
    },
    {
      "cell_type": "code",
      "execution_count": 26,
      "id": "a1b7c094",
      "metadata": {
        "id": "a1b7c094"
      },
      "outputs": [],
      "source": [
        "def run_model(train_set, validation_set):\n",
        "    token_to_id_vocab = get_token_to_id_vocab(train_set['question'])\n",
        "    print(\"{} unique tokens\".format(len(token_to_id_vocab)))\n",
        "    \n",
        "    X_train = get_lexical_features_from_dataset(train_set, token_to_id_vocab)\n",
        "    y_train = get_labels_from_dataset(train_set)\n",
        "\n",
        "    X_validation = get_lexical_features_from_dataset(validation_set, token_to_id_vocab)\n",
        "    y_validation = get_labels_from_dataset(validation_set)\n",
        "\n",
        "    print(\"Train set | \" + str_label_summary(y_train))\n",
        "    print(\"Validation set | \" + str_label_summary(y_validation))\n",
        "\n",
        "    model = RandomForestClassifier()\n",
        "    model.fit(X_train, y_train)\n",
        "    \n",
        "    y_preds = model.predict(X_validation)\n",
        "    evaluate(y_preds, y_validation)\n",
        "    \n",
        "    return model"
      ]
    },
    {
      "cell_type": "markdown",
      "id": "TekCiB2Aauab",
      "metadata": {
        "id": "TekCiB2Aauab"
      },
      "source": [
        "Let's do prediction on the validation set for each language and compute the accuracy."
      ]
    },
    {
      "cell_type": "code",
      "execution_count": null,
      "id": "WsGsksAzZqum",
      "metadata": {
        "colab": {
          "base_uri": "https://localhost:8080/",
          "height": 1000
        },
        "id": "WsGsksAzZqum",
        "outputId": "7230477f-5538-4f5f-d908-5c00f4d5e5c0"
      },
      "outputs": [
        {
          "name": "stdout",
          "output_type": "stream",
          "text": [
            "5046 unique tokens\n",
            "Train set | Answered questions: 3696, unanswered questions: 3693.\n",
            "Validation set | Answered questions: 495, unanswered questions: 495.\n",
            "              precision    recall  f1-score   support\n",
            "\n",
            "           0       0.74      0.70      0.72       495\n",
            "           1       0.72      0.76      0.74       495\n",
            "\n",
            "    accuracy                           0.73       990\n",
            "   macro avg       0.73      0.73      0.73       990\n",
            "weighted avg       0.73      0.73      0.73       990\n",
            "\n"
          ]
        },
        {
          "data": {
            "image/png": "[encoded data removed]",
            "text/plain": [
              "<Figure size 432x288 with 2 Axes>"
            ]
          },
          "metadata": {
            "needs_background": "light"
          },
          "output_type": "display_data"
        },
        {
          "name": "stdout",
          "output_type": "stream",
          "text": [
            "9941 unique tokens\n",
            "Train set | Answered questions: 6855, unanswered questions: 6846.\n",
            "Validation set | Answered questions: 843, unanswered questions: 843.\n",
            "              precision    recall  f1-score   support\n",
            "\n",
            "           0       0.71      0.80      0.75       843\n",
            "           1       0.77      0.67      0.71       843\n",
            "\n",
            "    accuracy                           0.73      1686\n",
            "   macro avg       0.74      0.73      0.73      1686\n",
            "weighted avg       0.74      0.73      0.73      1686\n",
            "\n"
          ]
        },
        {
          "data": {
            "image/png": "[encoded data removed]",
            "text/plain": [
              "<Figure size 432x288 with 2 Axes>"
            ]
          },
          "metadata": {
            "needs_background": "light"
          },
          "output_type": "display_data"
        },
        {
          "name": "stdout",
          "output_type": "stream",
          "text": [
            "6100 unique tokens\n",
            "Train set | Answered questions: 4389, unanswered questions: 4389.\n",
            "Validation set | Answered questions: 518, unanswered questions: 518.\n",
            "              precision    recall  f1-score   support\n",
            "\n",
            "           0       0.67      0.66      0.67       518\n",
            "           1       0.67      0.68      0.67       518\n",
            "\n",
            "    accuracy                           0.67      1036\n",
            "   macro avg       0.67      0.67      0.67      1036\n",
            "weighted avg       0.67      0.67      0.67      1036\n",
            "\n"
          ]
        },
        {
          "data": {
            "image/png": "[encoded data removed]",
            "text/plain": [
              "<Figure size 432x288 with 2 Axes>"
            ]
          },
          "metadata": {
            "needs_background": "light"
          },
          "output_type": "display_data"
        }
      ],
      "source": [
        "for language in languages:\n",
        "    dataset = lang_datasets[language]\n",
        "    train_set = dataset[\"train_set\"]\n",
        "    validation_set = dataset[\"validation_set\"]\n",
        "    language_full = lang_names[language]\n",
        "\n",
        "    lexical_model = run_model(train_set, validation_set)\n",
        "    lang_models[language][\"lexical_model\"] = lexical_model"
      ]
    },
    {
      "cell_type": "markdown",
      "id": "974f3929",
      "metadata": {
        "id": "974f3929"
      },
      "source": [
        "# 2. Representation Learning"
      ]
    },
    {
      "cell_type": "code",
      "execution_count": 27,
      "id": "9d2e6336",
      "metadata": {
        "id": "9d2e6336"
      },
      "outputs": [],
      "source": [
        "def token_to_embedding_id(token, tok2vec):\n",
        "    assert OOV_id != None\n",
        "\n",
        "    try:\n",
        "        id = tok2vec.get_index(token)\n",
        "    except:\n",
        "        id = OOV_id\n",
        "        \n",
        "    return id"
      ]
    },
    {
      "cell_type": "code",
      "execution_count": 28,
      "id": "89aed440",
      "metadata": {
        "id": "89aed440"
      },
      "outputs": [],
      "source": [
        "def convert_token_to_word_embedding_id(tokens, tok2vec, max_length=-1):\n",
        "    return [token_to_embedding_id(token, tok2vec) for token in tokens[:max_length]]"
      ]
    },
    {
      "cell_type": "code",
      "execution_count": 29,
      "id": "51160c6a",
      "metadata": {
        "id": "51160c6a"
      },
      "outputs": [],
      "source": [
        "def pad_token_ids(token_ids_per_obs, token_count_per_obs):\n",
        "    assert pad_id != None\n",
        "    \n",
        "    max_token_count = max(token_count_per_obs)\n",
        "    padded_ids_per_obs = [(token_ids_in_obs + [pad_id] * (max_token_count - len(token_ids_in_obs))) for token_ids_in_obs in token_ids_per_obs]\n",
        "    \n",
        "    assert (all(len(padded_ids_in_obs) == max_token_count for padded_ids_in_obs in padded_ids_per_obs))\n",
        "    \n",
        "    return padded_ids_per_obs"
      ]
    },
    {
      "cell_type": "code",
      "execution_count": 30,
      "id": "2e9e5ea8",
      "metadata": {
        "id": "2e9e5ea8"
      },
      "outputs": [],
      "source": [
        "def collate_into_batch(raw_batch):\n",
        "    \"\"\"\n",
        "    Collates a set of observations, where each observation is a list, into a 2d tensor\n",
        "    \"\"\"\n",
        "    question_ids_per_obs        = [obs[0] for obs in raw_batch]\n",
        "    question_ids_count_per_obs  = [obs[1] for obs in raw_batch]\n",
        "    question_padded_ids_per_obs = pad_token_ids(question_ids_per_obs, question_ids_count_per_obs)\n",
        "    \n",
        "    document_ids_per_obs        = [obs[2] for obs in raw_batch]\n",
        "    document_ids_count_per_obs  = [obs[3] for obs in raw_batch]\n",
        "    document_padded_ids_per_obs = pad_token_ids(document_ids_per_obs, document_ids_count_per_obs)\n",
        "    \n",
        "    labels = [obs[4] for obs in raw_batch]\n",
        "\n",
        "    # to tensors\n",
        "    question_padded_ids_per_obs = torch.tensor(question_padded_ids_per_obs)\n",
        "    question_ids_count_per_obs = torch.tensor(question_ids_count_per_obs, dtype=torch.long)\n",
        "    document_padded_ids_per_obs = torch.tensor(document_padded_ids_per_obs)\n",
        "    document_ids_count_per_obs = torch.tensor(document_ids_count_per_obs, dtype=torch.long)\n",
        "    labels = torch.tensor(labels, dtype=torch.long)\n",
        "    \n",
        "    return question_padded_ids_per_obs, question_ids_count_per_obs, document_padded_ids_per_obs, document_ids_count_per_obs, labels"
      ]
    },
    {
      "cell_type": "markdown",
      "id": "67a5eafa",
      "metadata": {
        "id": "67a5eafa"
      },
      "source": [
        "## Q2A\n",
        "This question is answered after Q2B actually."
      ]
    },
    {
      "cell_type": "markdown",
      "id": "7c89d624",
      "metadata": {
        "id": "7c89d624"
      },
      "source": [
        "## Q2b"
      ]
    },
    {
      "cell_type": "code",
      "execution_count": 31,
      "id": "10bbee8c",
      "metadata": {
        "id": "10bbee8c"
      },
      "outputs": [],
      "source": [
        "class IsQuestionAnsweredDataset(Dataset):\n",
        "    \n",
        "    def __init__(self, dataset, tok2vec):\n",
        "        self.dataset = dataset\n",
        "        self.tok2vec = tok2vec\n",
        "        self.labels = get_labels_from_dataset(dataset)\n",
        "        \n",
        "    def __len__(self):\n",
        "        return len(self.dataset)\n",
        "\n",
        "    def __getitem__(self, idx):\n",
        "        row = self.dataset.values[idx]\n",
        "\n",
        "        question_tokens = row[1]\n",
        "        document_tokens = row[3]\n",
        "        \n",
        "        question_ids = convert_token_to_word_embedding_id(question_tokens, tok2vec, 128)\n",
        "        document_ids = convert_token_to_word_embedding_id(document_tokens, tok2vec, 1024)\n",
        "        \n",
        "        labels = self.labels[idx]\n",
        "        \n",
        "        return question_ids, len(question_ids), document_ids, len(document_ids), labels"
      ]
    },
    {
      "cell_type": "code",
      "execution_count": 32,
      "id": "cd3473b6",
      "metadata": {
        "id": "cd3473b6"
      },
      "outputs": [],
      "source": [
        "class FF_Network(nn.Module):\n",
        "\n",
        "    def __init__(self, pretrained_embeddings: torch.tensor, n_classes: int = 2):\n",
        "        super(FF_Network, self).__init__()\n",
        "        \n",
        "        self.net = nn.Sequential(\n",
        "            nn.Embedding.from_pretrained(pretrained_embeddings),\n",
        "            nn.Flatten(start_dim=-2),\n",
        "            nn.Linear(pretrained_embeddings.shape[1]*2, 72),\n",
        "            nn.ReLU(),\n",
        "            nn.Linear(72, n_classes)\n",
        "        )\n",
        "        \n",
        "    def forward(self, q_ids, q_lengths, d_ids, d_lengths):\n",
        "        return self.net(q_ids)\n"
      ]
    },
    {
      "cell_type": "code",
      "execution_count": 33,
      "id": "ef5df6d1",
      "metadata": {
        "id": "ef5df6d1"
      },
      "outputs": [],
      "source": [
        "class LSTM_Network(nn.Module):\n",
        "\n",
        "    def __init__(self, pretrained_embeddings: torch.tensor, lstm_dim: int = 100, n_classes: int = 2):\n",
        "        super(LSTM_Network, self).__init__()\n",
        "        \n",
        "        self.word_embeddings = nn.Embedding.from_pretrained(pretrained_embeddings)\n",
        "        self.lstm = nn.LSTM(pretrained_embeddings.shape[1], lstm_dim, batch_first=True)\n",
        "        self.linear = nn.Linear(2*lstm_dim, 72)\n",
        "        self.relu = nn.ReLU()\n",
        "        self.linear_out = nn.Linear(72, n_classes)\n",
        "\n",
        "    def forward(self, q_ids, q_lengths, d_ids, d_lengths):\n",
        "        q_embeds = self.word_embeddings(q_ids)\n",
        "        lstm_out, _ = self.lstm(q_embeds)\n",
        "        #q_ff_in = torch.max(lstm_out, 1)[0]\n",
        "        q_ff_in = lstm_out[range(lstm_out.shape[0]), (q_lengths-1).long(), :] # last unit\n",
        "        \n",
        "        d_embeds = self.word_embeddings(d_ids)\n",
        "        lstm_out, _ = self.lstm(d_embeds)\n",
        "        d_ff_in = torch.max(lstm_out, 1)[0]\n",
        "        \n",
        "        ff_in = torch.cat((q_ff_in, d_ff_in), dim=-1)\n",
        "        \n",
        "        x = self.linear(ff_in)\n",
        "        x = self.relu(x)\n",
        "        logits = self.linear_out(x)\n",
        "\n",
        "        return logits\n"
      ]
    },
    {
      "cell_type": "code",
      "execution_count": 57,
      "id": "7888de0e",
      "metadata": {
        "id": "7888de0e"
      },
      "outputs": [],
      "source": [
        "class BiLSTM_Network(nn.Module):\n",
        "\n",
        "    def __init__(self, pretrained_embeddings: torch.tensor, lstm_dim: int = 100, n_classes: int = 2):\n",
        "        super(BiLSTM_Network, self).__init__()\n",
        "\n",
        "        self.lstm_dim = lstm_dim\n",
        "        self.n_classes = n_classes\n",
        "        \n",
        "        self.embedding = nn.Embedding.from_pretrained(pretrained_embeddings, padding_idx=pretrained_embeddings.shape[0] - 1)\n",
        "        self.biLSTM = nn.LSTM(pretrained_embeddings.shape[1], lstm_dim, 1, batch_first=True, bidirectional=True)\n",
        "        self.linear = nn.Linear(2*2*lstm_dim, n_classes)\n",
        "        self.relu = nn.ReLU()\n",
        "        \n",
        "    def forward(self, q_ids, q_lengths, d_ids, d_lengths):\n",
        "        q_embeds = self.embedding(q_ids)\n",
        "        lstm_in = nn.utils.rnn.pack_padded_sequence(q_embeds, q_lengths.cpu(), batch_first=True, enforce_sorted=False)\n",
        "        lstm_out, _hidden = self.biLSTM(lstm_in)\n",
        "        lstm_out, _ = nn.utils.rnn.pad_packed_sequence(lstm_out, batch_first=True)\n",
        "        #q_ff_in = torch.max(lstm_out, 1)[0]\n",
        "        q_ff_in = lstm_out[range(lstm_out.shape[0]), (q_lengths-1).long(), :] # last unit\n",
        "\n",
        "        d_embeds = self.embedding(d_ids)\n",
        "        lstm_in = nn.utils.rnn.pack_padded_sequence(d_embeds, d_lengths.cpu(), batch_first=True, enforce_sorted=False)\n",
        "        lstm_out, _hidden = self.biLSTM(lstm_in)\n",
        "        lstm_out, _ = nn.utils.rnn.pad_packed_sequence(lstm_out, batch_first=True)\n",
        "        d_ff_in = torch.max(lstm_out, 1)[0]\n",
        "\n",
        "        ff_in = torch.cat((q_ff_in, d_ff_in), dim=-1)\n",
        "        ff_in = self.relu(ff_in)\n",
        "        logits = self.linear(ff_in)\n",
        "        \n",
        "        return logits"
      ]
    },
    {
      "cell_type": "code",
      "execution_count": 58,
      "id": "aJwVfo2FPjfi",
      "metadata": {
        "id": "aJwVfo2FPjfi"
      },
      "outputs": [],
      "source": [
        "class Attentive_LSTM_Network(nn.Module):\n",
        "\n",
        "    # @TODO Bi!\n",
        "    def __init__(self, pretrained_embeddings: torch.tensor, n_classes: int = 2):\n",
        "        super(Attentive_LSTM_Network, self).__init__()\n",
        "\n",
        "        self.lstm_and_attention_dim = pretrained_embeddings.shape[1]\n",
        "        self.n_classes = n_classes\n",
        "\n",
        "        self.embedding = nn.Embedding.from_pretrained(pretrained_embeddings, padding_idx=pretrained_embeddings.shape[0] - 1)\n",
        "        self.q_biLSTM = nn.LSTM(pretrained_embeddings.shape[1], self.lstm_and_attention_dim, 1, batch_first=True, bidirectional=False)\n",
        "        self.doc_biLSTM = nn.LSTM(pretrained_embeddings.shape[1], self.lstm_and_attention_dim, 1, batch_first=True, bidirectional=False)\n",
        "        self.doc_attention = torchnlp.nn.Attention(self.lstm_and_attention_dim)\n",
        "        self.linear = nn.Linear(2*self.lstm_and_attention_dim, n_classes)\n",
        "        \n",
        "    def forward(self, q_ids, q_lengths, d_ids, d_lengths):\n",
        "        q_embeds = self.embedding(q_ids)\n",
        "        lstm_in = nn.utils.rnn.pack_padded_sequence(q_embeds, q_lengths.cpu(), batch_first=True, enforce_sorted=False)\n",
        "        lstm_out, _hidden = self.q_biLSTM(lstm_in)\n",
        "        lstm_out, _ = nn.utils.rnn.pad_packed_sequence(lstm_out, batch_first=True)\n",
        "        #q_ff_in = torch.max(lstm_out, 1)[0] # hidden unit with max value\n",
        "        q_ff_in = lstm_out[range(lstm_out.shape[0]), (q_lengths-1).long(), :] # last unit\n",
        "\n",
        "        d_embeds = self.embedding(d_ids)\n",
        "        lstm_in = nn.utils.rnn.pack_padded_sequence(d_embeds, d_lengths.cpu(), batch_first=True, enforce_sorted=False)\n",
        "        lstm_out, _hidden = self.doc_biLSTM(lstm_in)\n",
        "        lstm_out, _ = nn.utils.rnn.pad_packed_sequence(lstm_out, batch_first=True)\n",
        "\n",
        "        d_ff_in, weights = self.doc_attention(q_ff_in[:, None, :], lstm_out)\n",
        "        d_ff_in = d_ff_in[:,0,:] # only 1 query so extract that\n",
        "\n",
        "        ff_in = torch.cat((q_ff_in, d_ff_in), dim=-1)\n",
        "        logits = self.linear(ff_in)\n",
        "        \n",
        "        return logits"
      ]
    },
    {
      "cell_type": "code",
      "execution_count": 59,
      "id": "985c1223",
      "metadata": {
        "id": "985c1223"
      },
      "outputs": [],
      "source": [
        "def prepare_embedding_matrix(embed_matrix):\n",
        "    embed_dim = embed_matrix.shape[1]\n",
        "    \n",
        "    pad_embedding = torch.zeros(embed_dim, dtype=torch.float32)\n",
        "    OOV_embedding = torch.zeros(embed_dim, dtype=torch.float32)\n",
        "    \n",
        "    embed_pre = torch.tensor(embed_matrix, dtype=torch.float32)\n",
        "    \n",
        "    OOV_id = embed_pre.shape[0]           \n",
        "    pad_id = embed_pre.shape[0] + 1\n",
        "                 \n",
        "    return torch.vstack((embed_pre, pad_embedding, OOV_embedding)), pad_id, OOV_id"
      ]
    },
    {
      "cell_type": "code",
      "execution_count": 60,
      "id": "04081f93",
      "metadata": {
        "id": "04081f93"
      },
      "outputs": [],
      "source": [
        "def test_forward_pass(model: nn.Module):\n",
        "    \"\"\"\n",
        "    A simple function to quickly debug the net\n",
        "    \"\"\"\n",
        "    # Test the forward pass with dummy data\n",
        "    q = torch.tensor([[42, 1, 8, 0]], dtype=torch.int).to(device)\n",
        "    q_lengths = torch.tensor([3], dtype=torch.int).to(device)\n",
        "    d = torch.tensor([[42, 1, 8, 0]], dtype=torch.int).to(device)\n",
        "    d_lengths = torch.tensor([3], dtype=torch.int).to(device)\n",
        "\n",
        "    out = model.forward(q, q_lengths, d, d_lengths)\n",
        "\n",
        "    print(\"Output shape:\", out.size())\n",
        "    print(f\"Output logits:\\n{out.cpu().detach().numpy()}\")"
      ]
    },
    {
      "cell_type": "code",
      "execution_count": 61,
      "id": "f939ab75",
      "metadata": {
        "id": "f939ab75"
      },
      "outputs": [],
      "source": [
        "def summarize_batch(q_ids, q_lengths, d_ids, d_lengths):\n",
        "    assert pad_id != None\n",
        "\n",
        "    ### question\n",
        "    actual_length = torch.sum(q_lengths)\n",
        "    total_length = np.sum([len(question) for question in q_ids])\n",
        "    \n",
        "    print(\"### Question ###\")\n",
        "\n",
        "    OOV_count = np.sum([torch.sum(question == OOV_id) for question in q_ids])\n",
        "    print(\"OOV: {}/{} {:.2f}%\".format(OOV_count, total_length, OOV_count / total_length * 100.))\n",
        "    \n",
        "    pad_count = np.sum([torch.sum(question == pad_id) for question in q_ids])\n",
        "    print(\"PAD: {}/{} {:.2f}%\".format(pad_count, total_length, pad_count / total_length * 100.))\n",
        "\n",
        "    ## document\n",
        "    actual_length = torch.sum(d_lengths)\n",
        "    total_length = np.sum([len(question) for question in d_ids])\n",
        "    \n",
        "    print(\"\\n### Document ###\")\n",
        "\n",
        "    OOV_count = np.sum([torch.sum(ids == OOV_id) for ids in d_ids])\n",
        "    print(\"OOV: {}/{} {:.2f}%\".format(OOV_count, total_length, OOV_count / total_length * 100.))\n",
        "    \n",
        "    pad_count = np.sum([torch.sum(ids == pad_id) for ids in d_ids])\n",
        "    print(\"PAD: {}/{} {:.2f}%\".format(pad_count, total_length, pad_count / total_length * 100.))   \n",
        "    "
      ]
    },
    {
      "cell_type": "code",
      "execution_count": 62,
      "id": "46Mk3W-gRKaz",
      "metadata": {
        "id": "46Mk3W-gRKaz"
      },
      "outputs": [],
      "source": [
        "tok2vec = compress_fasttext.models.CompressedFastTextKeyedVectors.load(\"../resources/fasttext-en-mini\")\n",
        "pretrained_embeddings, pad_id, OOV_id = prepare_embedding_matrix(tok2vec.get_normed_vectors())\n",
        "train_dataset = IsQuestionAnsweredDataset(lang_datasets[\"en\"][\"train_set\"], tok2vec)"
      ]
    },
    {
      "cell_type": "code",
      "execution_count": 63,
      "id": "51Mg0x3tVAyO",
      "metadata": {
        "id": "51Mg0x3tVAyO"
      },
      "outputs": [],
      "source": [
        "def batchify(dataset):\n",
        "    \"\"\"Turns a list of samples into a tensor of samples\"\"\"\n",
        "    return collate_into_batch([sample for sample in dataset])"
      ]
    },
    {
      "cell_type": "code",
      "execution_count": 64,
      "id": "d461b7c0",
      "metadata": {
        "id": "d461b7c0"
      },
      "outputs": [],
      "source": [
        "collated = batchify(train_dataset)\n",
        "q_ids, q_lengths, d_ids, d_lengths, _ = collated"
      ]
    },
    {
      "cell_type": "code",
      "execution_count": 65,
      "id": "RckVTHTESVY7",
      "metadata": {
        "colab": {
          "base_uri": "https://localhost:8080/"
        },
        "id": "RckVTHTESVY7",
        "outputId": "a900fcf6-0c23-4ab9-9e99-c93f1eaac261"
      },
      "outputs": [
        {
          "output_type": "stream",
          "name": "stdout",
          "text": [
            "### Question ###\n",
            "OOV: 5015/169947 2.95%\n",
            "PAD: 109954/169947 64.70%\n",
            "\n",
            "### Document ###\n",
            "OOV: 84749/7566336 1.12%\n",
            "PAD: 6718604/7566336 88.80%\n"
          ]
        }
      ],
      "source": [
        "summarize_batch(q_ids, q_lengths, d_ids, d_lengths)"
      ]
    },
    {
      "cell_type": "code",
      "execution_count": 66,
      "id": "aFZbJkbSON6L",
      "metadata": {
        "id": "aFZbJkbSON6L"
      },
      "outputs": [],
      "source": [
        "def transfer_batch(q_ids, q_lengths, d_ids, d_lengths, targets, device):\n",
        "    q_ids     = q_ids.to(device)\n",
        "    q_lengths = q_lengths.to(device)\n",
        "    d_ids     = d_ids.to(device)\n",
        "    d_lengths = d_lengths.to(device)\n",
        "    targets   = targets.to(device)\n",
        "    return q_ids, q_lengths, d_ids, d_lengths, targets     "
      ]
    },
    {
      "cell_type": "code",
      "execution_count": 67,
      "id": "43eea9e6",
      "metadata": {
        "id": "43eea9e6"
      },
      "outputs": [],
      "source": [
        "def train(model: nn.Module, tok2vec, train_data, validation_data, n_epochs = 15, batch_size = 64, weight_decay=1e-6):\n",
        "    loss_fn = nn.CrossEntropyLoss()\n",
        "    optimizer = optim.Adam(model.parameters(), lr=0.01, weight_decay=weight_decay)\n",
        "\n",
        "    # Load dataset\n",
        "    # train_data.iloc[3690:3700]\n",
        "    train_dataset = IsQuestionAnsweredDataset(train_data, tok2vec)\n",
        "    train_dataloader = DataLoader(train_dataset, batch_size=batch_size, shuffle=True, collate_fn=collate_into_batch)\n",
        "\n",
        "    val_dataset = IsQuestionAnsweredDataset(validation_data, tok2vec)\n",
        "    val_dataloader = DataLoader(val_dataset, batch_size=batch_size, shuffle=False, collate_fn=collate_into_batch)\n",
        "\n",
        "    # store improvement per epoch\n",
        "    train_losses = []\n",
        "    train_accuracies = []\n",
        "    test_accuracies = []\n",
        "\n",
        "    for epoch in range(n_epochs):\n",
        "\n",
        "        ### Training\n",
        "        model.train()\n",
        "\n",
        "        # Store batch loss and accuracy\n",
        "        loss_epoch = []\n",
        "        accuracy_epoch = []\n",
        "\n",
        "        batch_pbar = tqdm(train_dataloader)\n",
        "        for batch in batch_pbar:\n",
        "            q_ids, q_lengths, d_ids, d_lengths, targets = transfer_batch(*batch, device)\n",
        "            \n",
        "            optimizer.zero_grad()\n",
        "            \n",
        "            # training\n",
        "            outputs = model(q_ids, q_lengths, d_ids, d_lengths)\n",
        "            loss = loss_fn(outputs, targets)\n",
        "\n",
        "            loss.backward()\n",
        "            #torch.nn.utils.clip_grad_norm_(model.parameters(), 1.)\n",
        "            optimizer.step()\n",
        "\n",
        "            # prediction\n",
        "            predictions = outputs.detach().cpu().max(1)[1]\n",
        "            accuracy = accuracy_score(targets.detach().cpu(), predictions)\n",
        "\n",
        "            loss_epoch.append(loss.detach().cpu().item())\n",
        "            accuracy_epoch.append(accuracy)\n",
        "\n",
        "            batch_pbar.set_description(f\"epoch={epoch+1}/{n_epochs} | loss={loss.item():.2f}, accuracy={accuracy:.2f}\")\n",
        "\n",
        "        train_loss = np.mean(loss_epoch)\n",
        "        train_losses.append(train_loss)\n",
        "\n",
        "        train_acc = np.mean(accuracy_epoch)\n",
        "        train_accuracies.append(train_acc)\n",
        "\n",
        "        ### Evaluation\n",
        "        test_acc = evaluate_inplace(model, val_dataloader)\n",
        "        test_accuracies.append(test_acc)\n",
        "\n",
        "        print(f\"epoch={epoch+1}/{n_epochs} | loss={train_loss:.2f}, train_accuracy={train_acc:.2f}, test_accuracy={test_acc:.2f}\")\n",
        "\n",
        "    print(\"Finished training.\")\n",
        "    \n",
        "    return train_losses, train_accuracies, test_accuracies"
      ]
    },
    {
      "cell_type": "code",
      "execution_count": 68,
      "id": "1e3c8881",
      "metadata": {
        "id": "1e3c8881"
      },
      "outputs": [],
      "source": [
        "def evaluate_inplace(model: nn.Module, valid_dl: DataLoader):\n",
        "    model.eval()\n",
        "\n",
        "    logits_all = []\n",
        "    targets_all = []\n",
        "\n",
        "    with torch.no_grad():\n",
        "        for batch in valid_dl:\n",
        "            q_ids, q_lengths, d_ids, d_lengths, targets = transfer_batch(*batch, device)\n",
        "\n",
        "            logits = model(q_ids, q_lengths, d_ids, d_lengths)\n",
        "\n",
        "            targets_all.extend(targets.detach().cpu().numpy())\n",
        "\n",
        "            predictions = logits.max(1)[1].cpu()\n",
        "            logits_all.extend(predictions)\n",
        "            \n",
        "        acc = accuracy_score(logits_all, targets_all)\n",
        "\n",
        "    return acc"
      ]
    },
    {
      "cell_type": "code",
      "execution_count": 69,
      "id": "f0278d8a",
      "metadata": {
        "id": "f0278d8a"
      },
      "outputs": [],
      "source": [
        "def plot_network_learning(model_name, train_accuracies, test_accuracies, train_losses=None):\n",
        "    fig, ax = plt.subplots(figsize=(6,6))\n",
        "    \n",
        "    ax.grid(linestyle=\"--\")\n",
        "    ax.set_title(model_name)\n",
        "    ax.set_ylabel(\"Accuracy\")\n",
        "    ax.set_xlabel(\"Epoch\")\n",
        "\n",
        "    epoch_range = np.arange(len(train_accuracies), step=1)\n",
        "    ax.plot(epoch_range, train_accuracies)\n",
        "    ax.plot(epoch_range, test_accuracies)\n",
        "    ax.legend([\"Train Accuracy\", \"Validation Accuracy\"], loc=\"upper left\")\n",
        "    \n",
        "    ax.set_yticks(np.linspace(0.5, 1, 11))\n",
        "    ax.set_xticks(epoch_range)\n",
        "    \n",
        "    if train_losses != None:\n",
        "        ax2 = ax.twinx()\n",
        "        ax2.plot(epoch_range, train_losses, c=\"g\")\n",
        "        ax2.set_yticks(np.linspace(0, 1, 11))\n",
        "        ax2.set_ylabel(\"Loss\")\n",
        "        ax2.legend([\"Train Loss\"], loc=\"upper right\")"
      ]
    },
    {
      "cell_type": "code",
      "execution_count": 70,
      "id": "721fe0cd",
      "metadata": {
        "id": "721fe0cd"
      },
      "outputs": [],
      "source": [
        "device = torch.device(\"cuda\") if torch.cuda.is_available() else torch.device(\"cpu\")"
      ]
    },
    {
      "cell_type": "code",
      "execution_count": 71,
      "id": "cd5d9bd9",
      "metadata": {
        "colab": {
          "base_uri": "https://localhost:8080/"
        },
        "id": "cd5d9bd9",
        "outputId": "e1a916d7-9221-4a69-8ded-c75792a0b17b"
      },
      "outputs": [
        {
          "output_type": "execute_result",
          "data": {
            "text/plain": [
              "device(type='cuda')"
            ]
          },
          "metadata": {},
          "execution_count": 71
        }
      ],
      "source": [
        "device"
      ]
    },
    {
      "cell_type": "code",
      "execution_count": 72,
      "id": "Xo3DqYt9hMXj",
      "metadata": {
        "id": "Xo3DqYt9hMXj"
      },
      "outputs": [],
      "source": [
        "def get_tok2vec(path):\n",
        "    return compress_fasttext.models.CompressedFastTextKeyedVectors.load(path)"
      ]
    },
    {
      "cell_type": "code",
      "execution_count": 73,
      "id": "OSwGZFotg1Hj",
      "metadata": {
        "id": "OSwGZFotg1Hj"
      },
      "outputs": [],
      "source": [
        "def train_embedding_model(lang, weight_decay=1e-6):\n",
        "    # Setup Model\n",
        "    tok2vec = get_tok2vec(\"../resources/fasttext-{}-mini\".format(lang))\n",
        "    pretrained_embeddings, pad_id, OOV_id = prepare_embedding_matrix(tok2vec.get_normed_vectors())\n",
        "\n",
        "    embedding_model = BiLSTM_Network(pretrained_embeddings)\n",
        "    embedding_model.to(device)\n",
        "\n",
        "    print(embedding_model)\n",
        "\n",
        "    #test_forward_pass(embedding_model)\n",
        "\n",
        "    lang_models[lang][\"embedding_model\"] = embedding_model\n",
        "\n",
        "    train_result = train(embedding_model, tok2vec, lang_datasets[lang][\"train_set\"], lang_datasets[lang][\"validation_set\"], weight_decay=weight_decay, n_epochs=1000)\n",
        "\n",
        "    return train_result"
      ]
    },
    {
      "cell_type": "markdown",
      "id": "5f68638f",
      "metadata": {
        "id": "5f68638f"
      },
      "source": [
        "## English"
      ]
    },
    {
      "cell_type": "code",
      "execution_count": 74,
      "id": "15UMJl8AhjnW",
      "metadata": {
        "colab": {
          "base_uri": "https://localhost:8080/",
          "height": 667
        },
        "id": "15UMJl8AhjnW",
        "outputId": "d0db7a4c-71a8-4713-8443-4c215e9a9953"
      },
      "outputs": [
        {
          "output_type": "stream",
          "name": "stdout",
          "text": [
            "BiLSTM_Network(\n",
            "  (embedding): Embedding(20002, 300, padding_idx=20001)\n",
            "  (biLSTM): LSTM(300, 100, batch_first=True, bidirectional=True)\n",
            "  (linear): Linear(in_features=400, out_features=2, bias=True)\n",
            "  (relu): ReLU()\n",
            ")\n"
          ]
        },
        {
          "output_type": "stream",
          "name": "stderr",
          "text": [
            "epoch=1/1000 | loss=0.41, accuracy=0.86: 100%|██████████| 116/116 [00:06<00:00, 16.82it/s]\n"
          ]
        },
        {
          "output_type": "stream",
          "name": "stdout",
          "text": [
            "epoch=1/1000 | loss=0.54, train_accuracy=0.72, test_accuracy=0.77\n"
          ]
        },
        {
          "output_type": "stream",
          "name": "stderr",
          "text": [
            "epoch=2/1000 | loss=0.50, accuracy=0.72: 100%|██████████| 116/116 [00:06<00:00, 17.00it/s]\n"
          ]
        },
        {
          "output_type": "stream",
          "name": "stdout",
          "text": [
            "epoch=2/1000 | loss=0.45, train_accuracy=0.79, test_accuracy=0.80\n"
          ]
        },
        {
          "output_type": "stream",
          "name": "stderr",
          "text": [
            "epoch=3/1000 | loss=0.31, accuracy=0.83: 100%|██████████| 116/116 [00:06<00:00, 17.09it/s]\n"
          ]
        },
        {
          "output_type": "stream",
          "name": "stdout",
          "text": [
            "epoch=3/1000 | loss=0.39, train_accuracy=0.82, test_accuracy=0.78\n"
          ]
        },
        {
          "output_type": "stream",
          "name": "stderr",
          "text": [
            "epoch=4/1000 | loss=0.50, accuracy=0.76: 100%|██████████| 116/116 [00:06<00:00, 16.97it/s]\n"
          ]
        },
        {
          "output_type": "stream",
          "name": "stdout",
          "text": [
            "epoch=4/1000 | loss=0.33, train_accuracy=0.86, test_accuracy=0.79\n"
          ]
        },
        {
          "output_type": "stream",
          "name": "stderr",
          "text": [
            "epoch=5/1000 | loss=0.36, accuracy=0.79: 100%|██████████| 116/116 [00:06<00:00, 16.76it/s]\n"
          ]
        },
        {
          "output_type": "stream",
          "name": "stdout",
          "text": [
            "epoch=5/1000 | loss=0.25, train_accuracy=0.90, test_accuracy=0.79\n"
          ]
        },
        {
          "output_type": "stream",
          "name": "stderr",
          "text": [
            "epoch=6/1000 | loss=0.10, accuracy=0.97: 100%|██████████| 116/116 [00:06<00:00, 16.81it/s]\n"
          ]
        },
        {
          "output_type": "stream",
          "name": "stdout",
          "text": [
            "epoch=6/1000 | loss=0.17, train_accuracy=0.94, test_accuracy=0.80\n"
          ]
        },
        {
          "output_type": "stream",
          "name": "stderr",
          "text": [
            "epoch=7/1000 | loss=0.09, accuracy=0.98:  41%|████      | 47/116 [00:03<00:05, 12.26it/s]\n"
          ]
        },
        {
          "output_type": "error",
          "ename": "KeyboardInterrupt",
          "evalue": "ignored",
          "traceback": [
            "\u001b[0;31m---------------------------------------------------------------------------\u001b[0m",
            "\u001b[0;31mKeyboardInterrupt\u001b[0m                         Traceback (most recent call last)",
            "\u001b[0;32m<ipython-input-74-bf70ed19d8b1>\u001b[0m in \u001b[0;36m<module>\u001b[0;34m\u001b[0m\n\u001b[0;32m----> 1\u001b[0;31m \u001b[0mtrain_result\u001b[0m \u001b[0;34m=\u001b[0m \u001b[0mtrain_embedding_model\u001b[0m\u001b[0;34m(\u001b[0m\u001b[0;34m\"en\"\u001b[0m\u001b[0;34m)\u001b[0m\u001b[0;34m\u001b[0m\u001b[0;34m\u001b[0m\u001b[0m\n\u001b[0m",
            "\u001b[0;32m<ipython-input-73-9306a33ba0c7>\u001b[0m in \u001b[0;36mtrain_embedding_model\u001b[0;34m(lang, weight_decay)\u001b[0m\n\u001b[1;32m     13\u001b[0m     \u001b[0mlang_models\u001b[0m\u001b[0;34m[\u001b[0m\u001b[0mlang\u001b[0m\u001b[0;34m]\u001b[0m\u001b[0;34m[\u001b[0m\u001b[0;34m\"embedding_model\"\u001b[0m\u001b[0;34m]\u001b[0m \u001b[0;34m=\u001b[0m \u001b[0membedding_model\u001b[0m\u001b[0;34m\u001b[0m\u001b[0;34m\u001b[0m\u001b[0m\n\u001b[1;32m     14\u001b[0m \u001b[0;34m\u001b[0m\u001b[0m\n\u001b[0;32m---> 15\u001b[0;31m     \u001b[0mtrain_result\u001b[0m \u001b[0;34m=\u001b[0m \u001b[0mtrain\u001b[0m\u001b[0;34m(\u001b[0m\u001b[0membedding_model\u001b[0m\u001b[0;34m,\u001b[0m \u001b[0mtok2vec\u001b[0m\u001b[0;34m,\u001b[0m \u001b[0mlang_datasets\u001b[0m\u001b[0;34m[\u001b[0m\u001b[0mlang\u001b[0m\u001b[0;34m]\u001b[0m\u001b[0;34m[\u001b[0m\u001b[0;34m\"train_set\"\u001b[0m\u001b[0;34m]\u001b[0m\u001b[0;34m,\u001b[0m \u001b[0mlang_datasets\u001b[0m\u001b[0;34m[\u001b[0m\u001b[0mlang\u001b[0m\u001b[0;34m]\u001b[0m\u001b[0;34m[\u001b[0m\u001b[0;34m\"validation_set\"\u001b[0m\u001b[0;34m]\u001b[0m\u001b[0;34m,\u001b[0m \u001b[0mweight_decay\u001b[0m\u001b[0;34m=\u001b[0m\u001b[0mweight_decay\u001b[0m\u001b[0;34m,\u001b[0m \u001b[0mn_epochs\u001b[0m\u001b[0;34m=\u001b[0m\u001b[0;36m1000\u001b[0m\u001b[0;34m)\u001b[0m\u001b[0;34m\u001b[0m\u001b[0;34m\u001b[0m\u001b[0m\n\u001b[0m\u001b[1;32m     16\u001b[0m \u001b[0;34m\u001b[0m\u001b[0m\n\u001b[1;32m     17\u001b[0m     \u001b[0;32mreturn\u001b[0m \u001b[0mtrain_result\u001b[0m\u001b[0;34m\u001b[0m\u001b[0;34m\u001b[0m\u001b[0m\n",
            "\u001b[0;32m<ipython-input-67-a984362f29c3>\u001b[0m in \u001b[0;36mtrain\u001b[0;34m(model, tok2vec, train_data, validation_data, n_epochs, batch_size, weight_decay)\u001b[0m\n\u001b[1;32m     37\u001b[0m             \u001b[0mloss\u001b[0m \u001b[0;34m=\u001b[0m \u001b[0mloss_fn\u001b[0m\u001b[0;34m(\u001b[0m\u001b[0moutputs\u001b[0m\u001b[0;34m,\u001b[0m \u001b[0mtargets\u001b[0m\u001b[0;34m)\u001b[0m\u001b[0;34m\u001b[0m\u001b[0;34m\u001b[0m\u001b[0m\n\u001b[1;32m     38\u001b[0m \u001b[0;34m\u001b[0m\u001b[0m\n\u001b[0;32m---> 39\u001b[0;31m             \u001b[0mloss\u001b[0m\u001b[0;34m.\u001b[0m\u001b[0mbackward\u001b[0m\u001b[0;34m(\u001b[0m\u001b[0;34m)\u001b[0m\u001b[0;34m\u001b[0m\u001b[0;34m\u001b[0m\u001b[0m\n\u001b[0m\u001b[1;32m     40\u001b[0m             \u001b[0;31m#torch.nn.utils.clip_grad_norm_(model.parameters(), 1.)\u001b[0m\u001b[0;34m\u001b[0m\u001b[0;34m\u001b[0m\u001b[0;34m\u001b[0m\u001b[0m\n\u001b[1;32m     41\u001b[0m             \u001b[0moptimizer\u001b[0m\u001b[0;34m.\u001b[0m\u001b[0mstep\u001b[0m\u001b[0;34m(\u001b[0m\u001b[0;34m)\u001b[0m\u001b[0;34m\u001b[0m\u001b[0;34m\u001b[0m\u001b[0m\n",
            "\u001b[0;32m/usr/local/lib/python3.7/dist-packages/torch/_tensor.py\u001b[0m in \u001b[0;36mbackward\u001b[0;34m(self, gradient, retain_graph, create_graph, inputs)\u001b[0m\n\u001b[1;32m    394\u001b[0m                 \u001b[0mcreate_graph\u001b[0m\u001b[0;34m=\u001b[0m\u001b[0mcreate_graph\u001b[0m\u001b[0;34m,\u001b[0m\u001b[0;34m\u001b[0m\u001b[0;34m\u001b[0m\u001b[0m\n\u001b[1;32m    395\u001b[0m                 inputs=inputs)\n\u001b[0;32m--> 396\u001b[0;31m         \u001b[0mtorch\u001b[0m\u001b[0;34m.\u001b[0m\u001b[0mautograd\u001b[0m\u001b[0;34m.\u001b[0m\u001b[0mbackward\u001b[0m\u001b[0;34m(\u001b[0m\u001b[0mself\u001b[0m\u001b[0;34m,\u001b[0m \u001b[0mgradient\u001b[0m\u001b[0;34m,\u001b[0m \u001b[0mretain_graph\u001b[0m\u001b[0;34m,\u001b[0m \u001b[0mcreate_graph\u001b[0m\u001b[0;34m,\u001b[0m \u001b[0minputs\u001b[0m\u001b[0;34m=\u001b[0m\u001b[0minputs\u001b[0m\u001b[0;34m)\u001b[0m\u001b[0;34m\u001b[0m\u001b[0;34m\u001b[0m\u001b[0m\n\u001b[0m\u001b[1;32m    397\u001b[0m \u001b[0;34m\u001b[0m\u001b[0m\n\u001b[1;32m    398\u001b[0m     \u001b[0;32mdef\u001b[0m \u001b[0mregister_hook\u001b[0m\u001b[0;34m(\u001b[0m\u001b[0mself\u001b[0m\u001b[0;34m,\u001b[0m \u001b[0mhook\u001b[0m\u001b[0;34m)\u001b[0m\u001b[0;34m:\u001b[0m\u001b[0;34m\u001b[0m\u001b[0;34m\u001b[0m\u001b[0m\n",
            "\u001b[0;32m/usr/local/lib/python3.7/dist-packages/torch/autograd/__init__.py\u001b[0m in \u001b[0;36mbackward\u001b[0;34m(tensors, grad_tensors, retain_graph, create_graph, grad_variables, inputs)\u001b[0m\n\u001b[1;32m    173\u001b[0m     Variable._execution_engine.run_backward(  # Calls into the C++ engine to run the backward pass\n\u001b[1;32m    174\u001b[0m         \u001b[0mtensors\u001b[0m\u001b[0;34m,\u001b[0m \u001b[0mgrad_tensors_\u001b[0m\u001b[0;34m,\u001b[0m \u001b[0mretain_graph\u001b[0m\u001b[0;34m,\u001b[0m \u001b[0mcreate_graph\u001b[0m\u001b[0;34m,\u001b[0m \u001b[0minputs\u001b[0m\u001b[0;34m,\u001b[0m\u001b[0;34m\u001b[0m\u001b[0;34m\u001b[0m\u001b[0m\n\u001b[0;32m--> 175\u001b[0;31m         allow_unreachable=True, accumulate_grad=True)  # Calls into the C++ engine to run the backward pass\n\u001b[0m\u001b[1;32m    176\u001b[0m \u001b[0;34m\u001b[0m\u001b[0m\n\u001b[1;32m    177\u001b[0m def grad(\n",
            "\u001b[0;31mKeyboardInterrupt\u001b[0m: "
          ]
        }
      ],
      "source": [
        "train_result = train_embedding_model(\"en\")"
      ]
    },
    {
      "cell_type": "code",
      "execution_count": null,
      "id": "55a0e9d2",
      "metadata": {
        "colab": {
          "base_uri": "https://localhost:8080/",
          "height": 404
        },
        "id": "55a0e9d2",
        "outputId": "25ab35f7-42b7-42a4-b33d-ee62d0297e5d"
      },
      "outputs": [
        {
          "data": {
            "image/png": "[encoded data removed]",
            "text/plain": [
              "<Figure size 600x600 with 2 Axes>"
            ]
          },
          "metadata": {},
          "output_type": "display_data"
        }
      ],
      "source": [
        "train_losses, train_accuracies, test_accuracies = train_result\n",
        "plot_network_learning(\"attentive LSTM model\", train_accuracies, test_accuracies, train_losses)"
      ]
    },
    {
      "cell_type": "markdown",
      "id": "605bbe32",
      "metadata": {
        "id": "605bbe32"
      },
      "source": [
        "## Finnish"
      ]
    },
    {
      "cell_type": "code",
      "execution_count": null,
      "id": "899c715b",
      "metadata": {
        "colab": {
          "base_uri": "https://localhost:8080/",
          "height": 884
        },
        "id": "899c715b",
        "outputId": "d1078d54-dfa7-494b-e26c-de57212a26d4"
      },
      "outputs": [
        {
          "name": "stdout",
          "output_type": "stream",
          "text": [
            "Attentive_LSTM_Network(\n",
            "  (embedding): Embedding(20002, 300, padding_idx=20001)\n",
            "  (q_biLSTM): LSTM(300, 300, batch_first=True)\n",
            "  (doc_biLSTM): LSTM(300, 300, batch_first=True)\n",
            "  (doc_attention): Attention(\n",
            "    (linear_in): Linear(in_features=300, out_features=300, bias=False)\n",
            "    (linear_out): Linear(in_features=600, out_features=300, bias=False)\n",
            "    (softmax): Softmax(dim=-1)\n",
            "    (tanh): Tanh()\n",
            "  )\n",
            "  (linear): Linear(in_features=600, out_features=2, bias=True)\n",
            ")\n"
          ]
        },
        {
          "name": "stderr",
          "output_type": "stream",
          "text": [
            "epoch=1/15 | loss=0.61, accuracy=0.80: 100%|██████████| 215/215 [00:09<00:00, 22.31it/s]\n"
          ]
        },
        {
          "name": "stdout",
          "output_type": "stream",
          "text": [
            "epoch=1/15 | loss=0.68, train_accuracy=0.57, test_accuracy=0.64\n"
          ]
        },
        {
          "name": "stderr",
          "output_type": "stream",
          "text": [
            "epoch=2/15 | loss=0.40, accuracy=1.00: 100%|██████████| 215/215 [00:09<00:00, 22.74it/s]\n"
          ]
        },
        {
          "name": "stdout",
          "output_type": "stream",
          "text": [
            "epoch=2/15 | loss=0.60, train_accuracy=0.67, test_accuracy=0.65\n"
          ]
        },
        {
          "name": "stderr",
          "output_type": "stream",
          "text": [
            "epoch=3/15 | loss=0.73, accuracy=0.60: 100%|██████████| 215/215 [00:09<00:00, 22.43it/s]\n"
          ]
        },
        {
          "name": "stdout",
          "output_type": "stream",
          "text": [
            "epoch=3/15 | loss=0.57, train_accuracy=0.68, test_accuracy=0.66\n"
          ]
        },
        {
          "name": "stderr",
          "output_type": "stream",
          "text": [
            "epoch=4/15 | loss=0.47, accuracy=0.80: 100%|██████████| 215/215 [00:09<00:00, 22.64it/s]\n"
          ]
        },
        {
          "name": "stdout",
          "output_type": "stream",
          "text": [
            "epoch=4/15 | loss=0.56, train_accuracy=0.69, test_accuracy=0.67\n"
          ]
        },
        {
          "name": "stderr",
          "output_type": "stream",
          "text": [
            "epoch=5/15 | loss=0.28, accuracy=1.00: 100%|██████████| 215/215 [00:09<00:00, 22.44it/s]\n"
          ]
        },
        {
          "name": "stdout",
          "output_type": "stream",
          "text": [
            "epoch=5/15 | loss=0.56, train_accuracy=0.69, test_accuracy=0.66\n"
          ]
        },
        {
          "name": "stderr",
          "output_type": "stream",
          "text": [
            "epoch=6/15 | loss=0.56, accuracy=0.60: 100%|██████████| 215/215 [00:09<00:00, 22.61it/s]\n"
          ]
        },
        {
          "name": "stdout",
          "output_type": "stream",
          "text": [
            "epoch=6/15 | loss=0.55, train_accuracy=0.70, test_accuracy=0.68\n"
          ]
        },
        {
          "name": "stderr",
          "output_type": "stream",
          "text": [
            "epoch=7/15 | loss=0.56, accuracy=0.40: 100%|██████████| 215/215 [00:09<00:00, 22.36it/s]\n"
          ]
        },
        {
          "name": "stdout",
          "output_type": "stream",
          "text": [
            "epoch=7/15 | loss=0.55, train_accuracy=0.69, test_accuracy=0.67\n"
          ]
        },
        {
          "name": "stderr",
          "output_type": "stream",
          "text": [
            "epoch=8/15 | loss=0.80, accuracy=0.40: 100%|██████████| 215/215 [00:09<00:00, 22.73it/s]\n"
          ]
        },
        {
          "name": "stdout",
          "output_type": "stream",
          "text": [
            "epoch=8/15 | loss=0.55, train_accuracy=0.69, test_accuracy=0.69\n"
          ]
        },
        {
          "name": "stderr",
          "output_type": "stream",
          "text": [
            "epoch=9/15 | loss=0.93, accuracy=0.60: 100%|██████████| 215/215 [00:09<00:00, 22.65it/s]\n"
          ]
        },
        {
          "name": "stdout",
          "output_type": "stream",
          "text": [
            "epoch=9/15 | loss=0.54, train_accuracy=0.70, test_accuracy=0.69\n"
          ]
        },
        {
          "name": "stderr",
          "output_type": "stream",
          "text": [
            "epoch=10/15 | loss=0.56, accuracy=0.66:   5%|▌         | 11/215 [00:00<00:11, 17.15it/s]\n"
          ]
        },
        {
          "ename": "KeyboardInterrupt",
          "evalue": "ignored",
          "output_type": "error",
          "traceback": [
            "\u001b[0;31m---------------------------------------------------------------------------\u001b[0m",
            "\u001b[0;31mKeyboardInterrupt\u001b[0m                         Traceback (most recent call last)",
            "\u001b[0;32m<ipython-input-63-05fe85c7664f>\u001b[0m in \u001b[0;36m<module>\u001b[0;34m\u001b[0m\n\u001b[0;32m----> 1\u001b[0;31m \u001b[0mtrain_result\u001b[0m \u001b[0;34m=\u001b[0m \u001b[0mtrain_embedding_model\u001b[0m\u001b[0;34m(\u001b[0m\u001b[0;34m\"fi\"\u001b[0m\u001b[0;34m)\u001b[0m\u001b[0;34m\u001b[0m\u001b[0;34m\u001b[0m\u001b[0m\n\u001b[0m",
            "\u001b[0;32m<ipython-input-60-a42daa9b6ab6>\u001b[0m in \u001b[0;36mtrain_embedding_model\u001b[0;34m(lang, weight_decay)\u001b[0m\n\u001b[1;32m     13\u001b[0m     \u001b[0mlang_models\u001b[0m\u001b[0;34m[\u001b[0m\u001b[0mlang\u001b[0m\u001b[0;34m]\u001b[0m\u001b[0;34m[\u001b[0m\u001b[0;34m\"embedding_model\"\u001b[0m\u001b[0;34m]\u001b[0m \u001b[0;34m=\u001b[0m \u001b[0membedding_model\u001b[0m\u001b[0;34m\u001b[0m\u001b[0;34m\u001b[0m\u001b[0m\n\u001b[1;32m     14\u001b[0m \u001b[0;34m\u001b[0m\u001b[0m\n\u001b[0;32m---> 15\u001b[0;31m     \u001b[0mtrain_result\u001b[0m \u001b[0;34m=\u001b[0m \u001b[0mtrain\u001b[0m\u001b[0;34m(\u001b[0m\u001b[0membedding_model\u001b[0m\u001b[0;34m,\u001b[0m \u001b[0mtok2vec\u001b[0m\u001b[0;34m,\u001b[0m \u001b[0mlang_datasets\u001b[0m\u001b[0;34m[\u001b[0m\u001b[0mlang\u001b[0m\u001b[0;34m]\u001b[0m\u001b[0;34m[\u001b[0m\u001b[0;34m\"train_set\"\u001b[0m\u001b[0;34m]\u001b[0m\u001b[0;34m,\u001b[0m \u001b[0mlang_datasets\u001b[0m\u001b[0;34m[\u001b[0m\u001b[0mlang\u001b[0m\u001b[0;34m]\u001b[0m\u001b[0;34m[\u001b[0m\u001b[0;34m\"validation_set\"\u001b[0m\u001b[0;34m]\u001b[0m\u001b[0;34m,\u001b[0m \u001b[0mweight_decay\u001b[0m\u001b[0;34m=\u001b[0m\u001b[0mweight_decay\u001b[0m\u001b[0;34m)\u001b[0m\u001b[0;34m\u001b[0m\u001b[0;34m\u001b[0m\u001b[0m\n\u001b[0m\u001b[1;32m     16\u001b[0m \u001b[0;34m\u001b[0m\u001b[0m\n\u001b[1;32m     17\u001b[0m     \u001b[0;32mreturn\u001b[0m \u001b[0mtrain_result\u001b[0m\u001b[0;34m\u001b[0m\u001b[0;34m\u001b[0m\u001b[0m\n",
            "\u001b[0;32m<ipython-input-41-de889c9a7a06>\u001b[0m in \u001b[0;36mtrain\u001b[0;34m(model, tok2vec, train_data, validation_data, n_epochs, batch_size, weight_decay)\u001b[0m\n\u001b[1;32m     38\u001b[0m             \u001b[0;31m# prediction\u001b[0m\u001b[0;34m\u001b[0m\u001b[0;34m\u001b[0m\u001b[0;34m\u001b[0m\u001b[0m\n\u001b[1;32m     39\u001b[0m             \u001b[0mpredictions\u001b[0m \u001b[0;34m=\u001b[0m \u001b[0moutputs\u001b[0m\u001b[0;34m.\u001b[0m\u001b[0mmax\u001b[0m\u001b[0;34m(\u001b[0m\u001b[0;36m1\u001b[0m\u001b[0;34m)\u001b[0m\u001b[0;34m[\u001b[0m\u001b[0;36m1\u001b[0m\u001b[0;34m]\u001b[0m\u001b[0;34m\u001b[0m\u001b[0;34m\u001b[0m\u001b[0m\n\u001b[0;32m---> 40\u001b[0;31m             \u001b[0maccuracy\u001b[0m \u001b[0;34m=\u001b[0m \u001b[0maccuracy_score\u001b[0m\u001b[0;34m(\u001b[0m\u001b[0mtargets\u001b[0m\u001b[0;34m.\u001b[0m\u001b[0mcpu\u001b[0m\u001b[0;34m(\u001b[0m\u001b[0;34m)\u001b[0m\u001b[0;34m,\u001b[0m \u001b[0mpredictions\u001b[0m\u001b[0;34m.\u001b[0m\u001b[0mcpu\u001b[0m\u001b[0;34m(\u001b[0m\u001b[0;34m)\u001b[0m\u001b[0;34m)\u001b[0m\u001b[0;34m\u001b[0m\u001b[0;34m\u001b[0m\u001b[0m\n\u001b[0m\u001b[1;32m     41\u001b[0m \u001b[0;34m\u001b[0m\u001b[0m\n\u001b[1;32m     42\u001b[0m             \u001b[0mloss_epoch\u001b[0m\u001b[0;34m.\u001b[0m\u001b[0mappend\u001b[0m\u001b[0;34m(\u001b[0m\u001b[0mloss\u001b[0m\u001b[0;34m.\u001b[0m\u001b[0mdetach\u001b[0m\u001b[0;34m(\u001b[0m\u001b[0;34m)\u001b[0m\u001b[0;34m.\u001b[0m\u001b[0mcpu\u001b[0m\u001b[0;34m(\u001b[0m\u001b[0;34m)\u001b[0m\u001b[0;34m.\u001b[0m\u001b[0mitem\u001b[0m\u001b[0;34m(\u001b[0m\u001b[0;34m)\u001b[0m\u001b[0;34m)\u001b[0m\u001b[0;34m\u001b[0m\u001b[0;34m\u001b[0m\u001b[0m\n",
            "\u001b[0;31mKeyboardInterrupt\u001b[0m: "
          ]
        }
      ],
      "source": [
        "train_result = train_embedding_model(\"fi\")"
      ]
    },
    {
      "cell_type": "code",
      "execution_count": null,
      "id": "648b50cc",
      "metadata": {
        "id": "648b50cc"
      },
      "outputs": [],
      "source": [
        "train_losses, train_accuracies, test_accuracies = train_result\n",
        "plot_network_learning(\"biLSTM model\", train_accuracies, test_accuracies, train_losses)"
      ]
    },
    {
      "cell_type": "markdown",
      "id": "b04011d8",
      "metadata": {
        "id": "b04011d8"
      },
      "source": [
        "## Japanese"
      ]
    },
    {
      "cell_type": "code",
      "execution_count": null,
      "id": "d14b7e7a",
      "metadata": {
        "id": "d14b7e7a"
      },
      "outputs": [],
      "source": [
        "train_result = train_embedding_model(\"ja\")"
      ]
    },
    {
      "cell_type": "code",
      "execution_count": null,
      "id": "a1f23b3f",
      "metadata": {
        "id": "a1f23b3f",
        "scrolled": true
      },
      "outputs": [],
      "source": [
        "train_losses, train_accuracies, test_accuracies = train_result\n",
        "plot_network_learning(\"LSTM model\", train_accuracies, test_accuracies, train_losses)"
      ]
    },
    {
      "cell_type": "markdown",
      "id": "e05f4481",
      "metadata": {
        "id": "e05f4481"
      },
      "source": [
        "## Q2A"
      ]
    },
    {
      "cell_type": "code",
      "execution_count": null,
      "id": "42f5189a",
      "metadata": {
        "id": "42f5189a"
      },
      "outputs": [],
      "source": [
        "def predict_with_combined_model(lexical_model, embedding_model: nn.Module, token_to_id_vocab, dataset, tok2vec):\n",
        "    \n",
        "    # Prepare datasets\n",
        "    X_lexical = get_lexical_features_from_dataset(dataset, token_to_id_vocab)\n",
        "\n",
        "    embedding_dataset = IsQuestionAnsweredDataset(dataset, tok2vec)\n",
        "    X_embedding = batchify(embedding_dataset)\n",
        "    \n",
        "    # Prediction for each\n",
        "    y_lexical = lexical_model.predict_proba(X_lexical)\n",
        "    \n",
        "    embedding_model.eval()\n",
        "    with torch.no_grad():\n",
        "        q_ids, q_lengths, d_ids, d_lengths, _ = transfer_batch(*X_embedding, device)\n",
        "        logits = embedding_model(q_ids, q_lengths, d_ids, d_lengths)\n",
        "        y_embedding = nn.functional.softmax(logits, dim=1).cpu().numpy()\n",
        "    \n",
        "    # Combined prediction\n",
        "    y_combined = y_lexical * y_embedding\n",
        "    combined_predictions = y_combined.argmax(axis=1)\n",
        "\n",
        "    return combined_predictions"
      ]
    },
    {
      "cell_type": "code",
      "execution_count": null,
      "id": "5egG-D7YMpuk",
      "metadata": {
        "colab": {
          "base_uri": "https://localhost:8080/",
          "height": 1000
        },
        "id": "5egG-D7YMpuk",
        "outputId": "1703c342-1137-4129-8b99-0ecb48f88e37"
      },
      "outputs": [
        {
          "name": "stdout",
          "output_type": "stream",
          "text": [
            "\n",
            "\n",
            "\n",
            "### Evaluation for en ###\n",
            "              precision    recall  f1-score   support\n",
            "\n",
            "           0       0.75      0.84      0.79       495\n",
            "           1       0.82      0.73      0.77       495\n",
            "\n",
            "    accuracy                           0.78       990\n",
            "   macro avg       0.79      0.78      0.78       990\n",
            "weighted avg       0.79      0.78      0.78       990\n",
            "\n"
          ]
        },
        {
          "data": {
            "image/png": "[encoded data removed]",
            "text/plain": [
              "<Figure size 432x288 with 2 Axes>"
            ]
          },
          "metadata": {
            "needs_background": "light"
          },
          "output_type": "display_data"
        },
        {
          "name": "stdout",
          "output_type": "stream",
          "text": [
            "\n",
            "\n",
            "\n",
            "### Evaluation for fi ###\n",
            "              precision    recall  f1-score   support\n",
            "\n",
            "           0       0.58      0.86      0.69       843\n",
            "           1       0.72      0.38      0.50       843\n",
            "\n",
            "    accuracy                           0.62      1686\n",
            "   macro avg       0.65      0.62      0.59      1686\n",
            "weighted avg       0.65      0.62      0.59      1686\n",
            "\n"
          ]
        },
        {
          "data": {
            "image/png": "[encoded data removed]",
            "text/plain": [
              "<Figure size 432x288 with 2 Axes>"
            ]
          },
          "metadata": {
            "needs_background": "light"
          },
          "output_type": "display_data"
        },
        {
          "name": "stdout",
          "output_type": "stream",
          "text": [
            "\n",
            "\n",
            "\n",
            "### Evaluation for ja ###\n",
            "              precision    recall  f1-score   support\n",
            "\n",
            "           0       0.51      0.92      0.65       518\n",
            "           1       0.58      0.11      0.18       518\n",
            "\n",
            "    accuracy                           0.51      1036\n",
            "   macro avg       0.54      0.51      0.42      1036\n",
            "weighted avg       0.54      0.51      0.42      1036\n",
            "\n"
          ]
        },
        {
          "data": {
            "image/png": "[encoded data removed]",
            "text/plain": [
              "<Figure size 432x288 with 2 Axes>"
            ]
          },
          "metadata": {
            "needs_background": "light"
          },
          "output_type": "display_data"
        }
      ],
      "source": [
        "for language in languages:\n",
        "    train_set = lang_datasets[language][\"train_set\"]\n",
        "    validation_set = lang_datasets[language][\"validation_set\"]\n",
        "    token_to_id_vocab = get_token_to_id_vocab(train_set[\"question\"])\n",
        "    lexical_model = lang_models[language][\"lexical_model\"]\n",
        "    embedding_model = lang_models[language][\"embedding_model\"]\n",
        "    tok2vec = get_tok2vec(\"../resources/fasttext-{}-mini\".format(language))\n",
        "    \n",
        "    y_pred = predict_with_combined_model(lexical_model, embedding_model, token_to_id_vocab, validation_set, tok2vec)\n",
        "    y_true = get_labels_from_dataset(validation_set)\n",
        "\n",
        "    print(\"\\n\\n\\n### Evaluation for {} ###\".format(language))\n",
        "    evaluate(y_pred, y_true)"
      ]
    },
    {
      "cell_type": "code",
      "execution_count": null,
      "id": "4ub5UWEWnM8p",
      "metadata": {
        "colab": {
          "base_uri": "https://localhost:8080/",
          "height": 424
        },
        "id": "4ub5UWEWnM8p",
        "outputId": "a5ee3225-6c3c-4b9b-d16e-bd2ea8ff9727"
      },
      "outputs": [
        {
          "data": {
            "text/html": [
              "\n",
              "  <div id=\"df-4777185f-5eae-4a72-8e7f-3e7200df4c92\">\n",
              "    <div class=\"colab-df-container\">\n",
              "      <div>\n",
              "<style scoped>\n",
              "    .dataframe tbody tr th:only-of-type {\n",
              "        vertical-align: middle;\n",
              "    }\n",
              "\n",
              "    .dataframe tbody tr th {\n",
              "        vertical-align: top;\n",
              "    }\n",
              "\n",
              "    .dataframe thead th {\n",
              "        text-align: right;\n",
              "    }\n",
              "</style>\n",
              "<table border=\"1\" class=\"dataframe\">\n",
              "  <thead>\n",
              "    <tr style=\"text-align: right;\">\n",
              "      <th></th>\n",
              "      <th>language</th>\n",
              "      <th>question</th>\n",
              "      <th>document_title</th>\n",
              "      <th>document</th>\n",
              "      <th>document_answer_region</th>\n",
              "    </tr>\n",
              "  </thead>\n",
              "  <tbody>\n",
              "    <tr>\n",
              "      <th>0</th>\n",
              "      <td>english</td>\n",
              "      <td>[When, was, quantum, field, theory, developed, ?]</td>\n",
              "      <td>[Quantum, field, theory]</td>\n",
              "      <td>[Quantum, field, theory, naturally, began, wit...</td>\n",
              "      <td>(26, 26)</td>\n",
              "    </tr>\n",
              "    <tr>\n",
              "      <th>1</th>\n",
              "      <td>english</td>\n",
              "      <td>[Who, was, the, first, Nobel, prize, winner, f...</td>\n",
              "      <td>[List, of, Nobel, laureates, in, Literature]</td>\n",
              "      <td>[The, Nobel, Prize, in, Literature, (, Swedish...</td>\n",
              "      <td>(12, 13)</td>\n",
              "    </tr>\n",
              "    <tr>\n",
              "      <th>2</th>\n",
              "      <td>english</td>\n",
              "      <td>[When, is, the, dialectical, method, used, ?]</td>\n",
              "      <td>[Dialectic]</td>\n",
              "      <td>[Dialectic, or, dialectics, (, Greek, :, διαλε...</td>\n",
              "      <td>(27, 49)</td>\n",
              "    </tr>\n",
              "    <tr>\n",
              "      <th>3</th>\n",
              "      <td>english</td>\n",
              "      <td>[Who, invented, Hangul, ?]</td>\n",
              "      <td>[Origin, of, Hangul]</td>\n",
              "      <td>[Hangul, was, personally, created, and, promul...</td>\n",
              "      <td>(16, 18)</td>\n",
              "    </tr>\n",
              "    <tr>\n",
              "      <th>4</th>\n",
              "      <td>english</td>\n",
              "      <td>[What, do, Grasshoppers, eat, ?]</td>\n",
              "      <td>[Grasshopper]</td>\n",
              "      <td>[Grasshoppers, are, plant, -, eaters, ,, with,...</td>\n",
              "      <td>(1, 37)</td>\n",
              "    </tr>\n",
              "    <tr>\n",
              "      <th>...</th>\n",
              "      <td>...</td>\n",
              "      <td>...</td>\n",
              "      <td>...</td>\n",
              "      <td>...</td>\n",
              "      <td>...</td>\n",
              "    </tr>\n",
              "    <tr>\n",
              "      <th>7384</th>\n",
              "      <td>english</td>\n",
              "      <td>[What, was, Neil, Brooks, ', fastest, recorded...</td>\n",
              "      <td>[Swimming, at, the, 1980, Summer, Olympics, –,...</td>\n",
              "      <td>[The, medley, relay, was, scheduled, in, the, ...</td>\n",
              "      <td>Annotation_error.UNANSWERED</td>\n",
              "    </tr>\n",
              "    <tr>\n",
              "      <th>7385</th>\n",
              "      <td>english</td>\n",
              "      <td>[Who, are, the, three, most, important, easter...</td>\n",
              "      <td>[Eastern, philosophy]</td>\n",
              "      <td>[Sāmkhya, is, a, dualist, philosophical, tradi...</td>\n",
              "      <td>Annotation_error.UNANSWERED</td>\n",
              "    </tr>\n",
              "    <tr>\n",
              "      <th>7386</th>\n",
              "      <td>english</td>\n",
              "      <td>[Who, was, costume, designer, for, the, first,...</td>\n",
              "      <td>[John, Mollo]</td>\n",
              "      <td>[Mollo, was, surprised, by, the, success, of, ...</td>\n",
              "      <td>Annotation_error.UNANSWERED</td>\n",
              "    </tr>\n",
              "    <tr>\n",
              "      <th>7387</th>\n",
              "      <td>english</td>\n",
              "      <td>[Who, developed, the, first, thermonuclear, we...</td>\n",
              "      <td>[History, of, nuclear, weapons]</td>\n",
              "      <td>[In, the, end, ,, President, Truman, made, the...</td>\n",
              "      <td>Annotation_error.UNANSWERED</td>\n",
              "    </tr>\n",
              "    <tr>\n",
              "      <th>7388</th>\n",
              "      <td>english</td>\n",
              "      <td>[What, is, the, population, of, Mahwah, ,, NJ, ?]</td>\n",
              "      <td>[Mahwah, ,, New, Jersey]</td>\n",
              "      <td>[The, previous, mayor, ,, Bill, Laforet, faced...</td>\n",
              "      <td>Annotation_error.UNANSWERED</td>\n",
              "    </tr>\n",
              "  </tbody>\n",
              "</table>\n",
              "<p>7389 rows × 5 columns</p>\n",
              "</div>\n",
              "      <button class=\"colab-df-convert\" onclick=\"convertToInteractive('df-4777185f-5eae-4a72-8e7f-3e7200df4c92')\"\n",
              "              title=\"Convert this dataframe to an interactive table.\"\n",
              "              style=\"display:none;\">\n",
              "        \n",
              "  <svg xmlns=\"http://www.w3.org/2000/svg\" height=\"24px\"viewBox=\"0 0 24 24\"\n",
              "       width=\"24px\">\n",
              "    <path d=\"M0 0h24v24H0V0z\" fill=\"none\"/>\n",
              "    <path d=\"M18.56 5.44l.94 2.06.94-2.06 2.06-.94-2.06-.94-.94-2.06-.94 2.06-2.06.94zm-11 1L8.5 8.5l.94-2.06 2.06-.94-2.06-.94L8.5 2.5l-.94 2.06-2.06.94zm10 10l.94 2.06.94-2.06 2.06-.94-2.06-.94-.94-2.06-.94 2.06-2.06.94z\"/><path d=\"M17.41 7.96l-1.37-1.37c-.4-.4-.92-.59-1.43-.59-.52 0-1.04.2-1.43.59L10.3 9.45l-7.72 7.72c-.78.78-.78 2.05 0 2.83L4 21.41c.39.39.9.59 1.41.59.51 0 1.02-.2 1.41-.59l7.78-7.78 2.81-2.81c.8-.78.8-2.07 0-2.86zM5.41 20L4 18.59l7.72-7.72 1.47 1.35L5.41 20z\"/>\n",
              "  </svg>\n",
              "      </button>\n",
              "      \n",
              "  <style>\n",
              "    .colab-df-container {\n",
              "      display:flex;\n",
              "      flex-wrap:wrap;\n",
              "      gap: 12px;\n",
              "    }\n",
              "\n",
              "    .colab-df-convert {\n",
              "      background-color: #E8F0FE;\n",
              "      border: none;\n",
              "      border-radius: 50%;\n",
              "      cursor: pointer;\n",
              "      display: none;\n",
              "      fill: #1967D2;\n",
              "      height: 32px;\n",
              "      padding: 0 0 0 0;\n",
              "      width: 32px;\n",
              "    }\n",
              "\n",
              "    .colab-df-convert:hover {\n",
              "      background-color: #E2EBFA;\n",
              "      box-shadow: 0px 1px 2px rgba(60, 64, 67, 0.3), 0px 1px 3px 1px rgba(60, 64, 67, 0.15);\n",
              "      fill: #174EA6;\n",
              "    }\n",
              "\n",
              "    [theme=dark] .colab-df-convert {\n",
              "      background-color: #3B4455;\n",
              "      fill: #D2E3FC;\n",
              "    }\n",
              "\n",
              "    [theme=dark] .colab-df-convert:hover {\n",
              "      background-color: #434B5C;\n",
              "      box-shadow: 0px 1px 3px 1px rgba(0, 0, 0, 0.15);\n",
              "      filter: drop-shadow(0px 1px 2px rgba(0, 0, 0, 0.3));\n",
              "      fill: #FFFFFF;\n",
              "    }\n",
              "  </style>\n",
              "\n",
              "      <script>\n",
              "        const buttonEl =\n",
              "          document.querySelector('#df-4777185f-5eae-4a72-8e7f-3e7200df4c92 button.colab-df-convert');\n",
              "        buttonEl.style.display =\n",
              "          google.colab.kernel.accessAllowed ? 'block' : 'none';\n",
              "\n",
              "        async function convertToInteractive(key) {\n",
              "          const element = document.querySelector('#df-4777185f-5eae-4a72-8e7f-3e7200df4c92');\n",
              "          const dataTable =\n",
              "            await google.colab.kernel.invokeFunction('convertToInteractive',\n",
              "                                                     [key], {});\n",
              "          if (!dataTable) return;\n",
              "\n",
              "          const docLinkHtml = 'Like what you see? Visit the ' +\n",
              "            '<a target=\"_blank\" href=https://colab.research.google.com/notebooks/data_table.ipynb>data table notebook</a>'\n",
              "            + ' to learn more about interactive tables.';\n",
              "          element.innerHTML = '';\n",
              "          dataTable['output_type'] = 'display_data';\n",
              "          await google.colab.output.renderOutput(dataTable, element);\n",
              "          const docLink = document.createElement('div');\n",
              "          docLink.innerHTML = docLinkHtml;\n",
              "          element.appendChild(docLink);\n",
              "        }\n",
              "      </script>\n",
              "    </div>\n",
              "  </div>\n",
              "  "
            ],
            "text/plain": [
              "     language                                           question  \\\n",
              "0     english  [When, was, quantum, field, theory, developed, ?]   \n",
              "1     english  [Who, was, the, first, Nobel, prize, winner, f...   \n",
              "2     english      [When, is, the, dialectical, method, used, ?]   \n",
              "3     english                         [Who, invented, Hangul, ?]   \n",
              "4     english                   [What, do, Grasshoppers, eat, ?]   \n",
              "...       ...                                                ...   \n",
              "7384  english  [What, was, Neil, Brooks, ', fastest, recorded...   \n",
              "7385  english  [Who, are, the, three, most, important, easter...   \n",
              "7386  english  [Who, was, costume, designer, for, the, first,...   \n",
              "7387  english  [Who, developed, the, first, thermonuclear, we...   \n",
              "7388  english  [What, is, the, population, of, Mahwah, ,, NJ, ?]   \n",
              "\n",
              "                                         document_title  \\\n",
              "0                              [Quantum, field, theory]   \n",
              "1          [List, of, Nobel, laureates, in, Literature]   \n",
              "2                                           [Dialectic]   \n",
              "3                                  [Origin, of, Hangul]   \n",
              "4                                         [Grasshopper]   \n",
              "...                                                 ...   \n",
              "7384  [Swimming, at, the, 1980, Summer, Olympics, –,...   \n",
              "7385                              [Eastern, philosophy]   \n",
              "7386                                      [John, Mollo]   \n",
              "7387                    [History, of, nuclear, weapons]   \n",
              "7388                           [Mahwah, ,, New, Jersey]   \n",
              "\n",
              "                                               document  \\\n",
              "0     [Quantum, field, theory, naturally, began, wit...   \n",
              "1     [The, Nobel, Prize, in, Literature, (, Swedish...   \n",
              "2     [Dialectic, or, dialectics, (, Greek, :, διαλε...   \n",
              "3     [Hangul, was, personally, created, and, promul...   \n",
              "4     [Grasshoppers, are, plant, -, eaters, ,, with,...   \n",
              "...                                                 ...   \n",
              "7384  [The, medley, relay, was, scheduled, in, the, ...   \n",
              "7385  [Sāmkhya, is, a, dualist, philosophical, tradi...   \n",
              "7386  [Mollo, was, surprised, by, the, success, of, ...   \n",
              "7387  [In, the, end, ,, President, Truman, made, the...   \n",
              "7388  [The, previous, mayor, ,, Bill, Laforet, faced...   \n",
              "\n",
              "           document_answer_region  \n",
              "0                        (26, 26)  \n",
              "1                        (12, 13)  \n",
              "2                        (27, 49)  \n",
              "3                        (16, 18)  \n",
              "4                         (1, 37)  \n",
              "...                           ...  \n",
              "7384  Annotation_error.UNANSWERED  \n",
              "7385  Annotation_error.UNANSWERED  \n",
              "7386  Annotation_error.UNANSWERED  \n",
              "7387  Annotation_error.UNANSWERED  \n",
              "7388  Annotation_error.UNANSWERED  \n",
              "\n",
              "[7389 rows x 5 columns]"
            ]
          },
          "execution_count": 57,
          "metadata": {},
          "output_type": "execute_result"
        }
      ],
      "source": [
        "lang_datasets[\"en\"][\"train_set\"]"
      ]
    },
    {
      "cell_type": "markdown",
      "id": "q7L9ZNDDmQin",
      "metadata": {
        "id": "q7L9ZNDDmQin"
      },
      "source": [
        "## 3. Language Modelling"
      ]
    },
    {
      "cell_type": "markdown",
      "id": "e80cd4a1",
      "metadata": {
        "id": "e80cd4a1"
      },
      "source": [
        "ja: https://huggingface.co/cl-tohoku/bert-base-japanese-whole-word-masking"
      ]
    },
    {
      "cell_type": "markdown",
      "id": "158f7665",
      "metadata": {
        "id": "158f7665"
      },
      "source": [
        "## A"
      ]
    },
    {
      "cell_type": "code",
      "execution_count": null,
      "id": "5fbcea5c",
      "metadata": {
        "id": "5fbcea5c"
      },
      "outputs": [],
      "source": []
    },
    {
      "cell_type": "markdown",
      "id": "1490cb60",
      "metadata": {
        "id": "1490cb60"
      },
      "source": [
        "## B"
      ]
    },
    {
      "cell_type": "markdown",
      "id": "1cf8acbd",
      "metadata": {
        "id": "1cf8acbd"
      },
      "source": [
        "## (C)"
      ]
    },
    {
      "cell_type": "markdown",
      "id": "c7870922",
      "metadata": {
        "id": "c7870922"
      },
      "source": [
        "## D"
      ]
    },
    {
      "cell_type": "code",
      "execution_count": null,
      "id": "7eb7e462",
      "metadata": {
        "id": "7eb7e462"
      },
      "outputs": [],
      "source": [
        "# Perplexity"
      ]
    }
  ],
  "metadata": {
    "colab": {
      "collapsed_sections": [],
      "provenance": []
    },
    "kernelspec": {
      "display_name": "Python 3 (ipykernel)",
      "language": "python",
      "name": "python3"
    },
    "language_info": {
      "codemirror_mode": {
        "name": "ipython",
        "version": 3
      },
      "file_extension": ".py",
      "mimetype": "text/x-python",
      "name": "python",
      "nbconvert_exporter": "python",
      "pygments_lexer": "ipython3",
      "version": "3.7.12"
    },
    "accelerator": "GPU"
  },
  "nbformat": 4,
  "nbformat_minor": 5
}