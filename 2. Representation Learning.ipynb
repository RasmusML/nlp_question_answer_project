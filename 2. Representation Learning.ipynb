{
 "cells": [
  {
   "cell_type": "code",
   "execution_count": 1,
   "id": "424ef2a7",
   "metadata": {},
   "outputs": [],
   "source": [
    "%%capture\n",
    "import sys\n",
    "\n",
    "is_in_colab = 'google.colab' in sys.modules\n",
    "\n",
    "if is_in_colab:\n",
    "  from google.colab import drive\n",
    "  drive.mount('/content/drive')\n",
    "\n",
    "  %cd /content/drive/MyDrive/KU_NLP\n",
    "  !pip install -r requirements.txt"
   ]
  },
  {
   "cell_type": "markdown",
   "id": "4c2be9eb",
   "metadata": {},
   "source": [
    "# 2. Representation Learning"
   ]
  },
  {
   "cell_type": "code",
   "execution_count": 85,
   "id": "c4d4ec83",
   "metadata": {},
   "outputs": [],
   "source": [
    "import pandas as pd\n",
    "import numpy as np\n",
    "\n",
    "import matplotlib.pyplot as plt\n",
    "import seaborn as sns\n",
    "\n",
    "from sklearn.metrics import classification_report, confusion_matrix, ConfusionMatrixDisplay\n",
    "\n",
    "from enum import Enum\n",
    "\n",
    "import fasttext\n",
    "import fasttext.util\n",
    "\n",
    "import torch\n",
    "from torch import nn\n",
    "import torch.optim as optim\n",
    "from sklearn.metrics import accuracy_score\n",
    "import compress_fasttext\n",
    "from torch.utils.data import Dataset, DataLoader\n",
    "from tqdm import tqdm"
   ]
  },
  {
   "cell_type": "code",
   "execution_count": 287,
   "id": "b5e2735b",
   "metadata": {},
   "outputs": [],
   "source": [
    "%reload_ext autoreload\n",
    "%autoreload 2\n",
    "%matplotlib inline"
   ]
  },
  {
   "cell_type": "code",
   "execution_count": 5,
   "id": "c299d6fa",
   "metadata": {},
   "outputs": [],
   "source": [
    "class Annotation_error(Enum):\n",
    "    UNANSWERED = -1\n",
    "    BAD_TOKENIZATION_OR_DATA = -2\n",
    "    IGNORED = -3"
   ]
  },
  {
   "cell_type": "code",
   "execution_count": 6,
   "id": "7704b5a9",
   "metadata": {},
   "outputs": [],
   "source": [
    "path_train_set = \"data/train_set_stanza.pkl\"\n",
    "path_validation_set = \"data/validation_set_stanza.pkl\""
   ]
  },
  {
   "cell_type": "code",
   "execution_count": 7,
   "id": "b72f723c",
   "metadata": {},
   "outputs": [],
   "source": [
    "train_set = pd.read_pickle(path_train_set)\n",
    "validation_set = pd.read_pickle(path_validation_set)"
   ]
  },
  {
   "cell_type": "code",
   "execution_count": 8,
   "id": "837acc88",
   "metadata": {},
   "outputs": [],
   "source": [
    "train_en = train_set[train_set[\"language\"] == \"english\"]\n",
    "train_fi = train_set[train_set[\"language\"] == \"finnish\"]\n",
    "train_ja = train_set[train_set[\"language\"] == \"japanese\"]\n",
    "\n",
    "validation_en = validation_set[validation_set[\"language\"] == \"english\"]\n",
    "validation_fi = validation_set[validation_set[\"language\"] == \"finnish\"]\n",
    "validation_ja = validation_set[validation_set[\"language\"] == \"japanese\"]"
   ]
  },
  {
   "cell_type": "markdown",
   "id": "20c83495",
   "metadata": {},
   "source": [
    "# 2a."
   ]
  },
  {
   "cell_type": "markdown",
   "id": "f570ee9a",
   "metadata": {},
   "source": [
    "# 2b."
   ]
  },
  {
   "cell_type": "code",
   "execution_count": 9,
   "id": "15ea285e",
   "metadata": {},
   "outputs": [
    {
     "data": {
      "text/html": [
       "<div>\n",
       "<style scoped>\n",
       "    .dataframe tbody tr th:only-of-type {\n",
       "        vertical-align: middle;\n",
       "    }\n",
       "\n",
       "    .dataframe tbody tr th {\n",
       "        vertical-align: top;\n",
       "    }\n",
       "\n",
       "    .dataframe thead th {\n",
       "        text-align: right;\n",
       "    }\n",
       "</style>\n",
       "<table border=\"1\" class=\"dataframe\">\n",
       "  <thead>\n",
       "    <tr style=\"text-align: right;\">\n",
       "      <th></th>\n",
       "      <th>language</th>\n",
       "      <th>question</th>\n",
       "      <th>document_title</th>\n",
       "      <th>document</th>\n",
       "      <th>document_answer_region</th>\n",
       "    </tr>\n",
       "  </thead>\n",
       "  <tbody>\n",
       "    <tr>\n",
       "      <th>0</th>\n",
       "      <td>english</td>\n",
       "      <td>[When, was, quantum, field, theory, developed, ?]</td>\n",
       "      <td>[Quantum, field, theory]</td>\n",
       "      <td>[Quantum, field, theory, naturally, began, wit...</td>\n",
       "      <td>(26, 26)</td>\n",
       "    </tr>\n",
       "    <tr>\n",
       "      <th>1</th>\n",
       "      <td>english</td>\n",
       "      <td>[Who, was, the, first, Nobel, prize, winner, f...</td>\n",
       "      <td>[List, of, Nobel, laureates, in, Literature]</td>\n",
       "      <td>[The, Nobel, Prize, in, Literature, (, Swedish...</td>\n",
       "      <td>(12, 13)</td>\n",
       "    </tr>\n",
       "    <tr>\n",
       "      <th>2</th>\n",
       "      <td>english</td>\n",
       "      <td>[When, is, the, dialectical, method, used, ?]</td>\n",
       "      <td>[Dialectic]</td>\n",
       "      <td>[Dialectic, or, dialectics, (, Greek, :, διαλε...</td>\n",
       "      <td>(27, 49)</td>\n",
       "    </tr>\n",
       "    <tr>\n",
       "      <th>3</th>\n",
       "      <td>english</td>\n",
       "      <td>[Who, invented, Hangul, ?]</td>\n",
       "      <td>[Origin, of, Hangul]</td>\n",
       "      <td>[Hangul, was, personally, created, and, promul...</td>\n",
       "      <td>(16, 18)</td>\n",
       "    </tr>\n",
       "    <tr>\n",
       "      <th>4</th>\n",
       "      <td>english</td>\n",
       "      <td>[What, do, Grasshoppers, eat, ?]</td>\n",
       "      <td>[Grasshopper]</td>\n",
       "      <td>[Grasshoppers, are, plant, -, eaters, ,, with,...</td>\n",
       "      <td>(1, 37)</td>\n",
       "    </tr>\n",
       "    <tr>\n",
       "      <th>...</th>\n",
       "      <td>...</td>\n",
       "      <td>...</td>\n",
       "      <td>...</td>\n",
       "      <td>...</td>\n",
       "      <td>...</td>\n",
       "    </tr>\n",
       "    <tr>\n",
       "      <th>7384</th>\n",
       "      <td>english</td>\n",
       "      <td>[What, was, Neil, Brooks, ', fastest, recorded...</td>\n",
       "      <td>[Swimming, at, the, 1980, Summer, Olympics, –,...</td>\n",
       "      <td>[The, medley, relay, was, scheduled, in, the, ...</td>\n",
       "      <td>Annotation_error.UNANSWERED</td>\n",
       "    </tr>\n",
       "    <tr>\n",
       "      <th>7385</th>\n",
       "      <td>english</td>\n",
       "      <td>[Who, are, the, three, most, important, easter...</td>\n",
       "      <td>[Eastern, philosophy]</td>\n",
       "      <td>[Sāmkhya, is, a, dualist, philosophical, tradi...</td>\n",
       "      <td>Annotation_error.UNANSWERED</td>\n",
       "    </tr>\n",
       "    <tr>\n",
       "      <th>7386</th>\n",
       "      <td>english</td>\n",
       "      <td>[Who, was, costume, designer, for, the, first,...</td>\n",
       "      <td>[John, Mollo]</td>\n",
       "      <td>[Mollo, was, surprised, by, the, success, of, ...</td>\n",
       "      <td>Annotation_error.UNANSWERED</td>\n",
       "    </tr>\n",
       "    <tr>\n",
       "      <th>7387</th>\n",
       "      <td>english</td>\n",
       "      <td>[Who, developed, the, first, thermonuclear, we...</td>\n",
       "      <td>[History, of, nuclear, weapons]</td>\n",
       "      <td>[In, the, end, ,, President, Truman, made, the...</td>\n",
       "      <td>Annotation_error.UNANSWERED</td>\n",
       "    </tr>\n",
       "    <tr>\n",
       "      <th>7388</th>\n",
       "      <td>english</td>\n",
       "      <td>[What, is, the, population, of, Mahwah, ,, NJ, ?]</td>\n",
       "      <td>[Mahwah, ,, New, Jersey]</td>\n",
       "      <td>[The, previous, mayor, ,, Bill, Laforet, faced...</td>\n",
       "      <td>Annotation_error.UNANSWERED</td>\n",
       "    </tr>\n",
       "  </tbody>\n",
       "</table>\n",
       "<p>7389 rows × 5 columns</p>\n",
       "</div>"
      ],
      "text/plain": [
       "     language                                           question  \\\n",
       "0     english  [When, was, quantum, field, theory, developed, ?]   \n",
       "1     english  [Who, was, the, first, Nobel, prize, winner, f...   \n",
       "2     english      [When, is, the, dialectical, method, used, ?]   \n",
       "3     english                         [Who, invented, Hangul, ?]   \n",
       "4     english                   [What, do, Grasshoppers, eat, ?]   \n",
       "...       ...                                                ...   \n",
       "7384  english  [What, was, Neil, Brooks, ', fastest, recorded...   \n",
       "7385  english  [Who, are, the, three, most, important, easter...   \n",
       "7386  english  [Who, was, costume, designer, for, the, first,...   \n",
       "7387  english  [Who, developed, the, first, thermonuclear, we...   \n",
       "7388  english  [What, is, the, population, of, Mahwah, ,, NJ, ?]   \n",
       "\n",
       "                                         document_title  \\\n",
       "0                              [Quantum, field, theory]   \n",
       "1          [List, of, Nobel, laureates, in, Literature]   \n",
       "2                                           [Dialectic]   \n",
       "3                                  [Origin, of, Hangul]   \n",
       "4                                         [Grasshopper]   \n",
       "...                                                 ...   \n",
       "7384  [Swimming, at, the, 1980, Summer, Olympics, –,...   \n",
       "7385                              [Eastern, philosophy]   \n",
       "7386                                      [John, Mollo]   \n",
       "7387                    [History, of, nuclear, weapons]   \n",
       "7388                           [Mahwah, ,, New, Jersey]   \n",
       "\n",
       "                                               document  \\\n",
       "0     [Quantum, field, theory, naturally, began, wit...   \n",
       "1     [The, Nobel, Prize, in, Literature, (, Swedish...   \n",
       "2     [Dialectic, or, dialectics, (, Greek, :, διαλε...   \n",
       "3     [Hangul, was, personally, created, and, promul...   \n",
       "4     [Grasshoppers, are, plant, -, eaters, ,, with,...   \n",
       "...                                                 ...   \n",
       "7384  [The, medley, relay, was, scheduled, in, the, ...   \n",
       "7385  [Sāmkhya, is, a, dualist, philosophical, tradi...   \n",
       "7386  [Mollo, was, surprised, by, the, success, of, ...   \n",
       "7387  [In, the, end, ,, President, Truman, made, the...   \n",
       "7388  [The, previous, mayor, ,, Bill, Laforet, faced...   \n",
       "\n",
       "           document_answer_region  \n",
       "0                        (26, 26)  \n",
       "1                        (12, 13)  \n",
       "2                        (27, 49)  \n",
       "3                        (16, 18)  \n",
       "4                         (1, 37)  \n",
       "...                           ...  \n",
       "7384  Annotation_error.UNANSWERED  \n",
       "7385  Annotation_error.UNANSWERED  \n",
       "7386  Annotation_error.UNANSWERED  \n",
       "7387  Annotation_error.UNANSWERED  \n",
       "7388  Annotation_error.UNANSWERED  \n",
       "\n",
       "[7389 rows x 5 columns]"
      ]
     },
     "execution_count": 9,
     "metadata": {},
     "output_type": "execute_result"
    }
   ],
   "source": [
    "train_en"
   ]
  },
  {
   "cell_type": "code",
   "execution_count": 10,
   "id": "0921e760",
   "metadata": {},
   "outputs": [],
   "source": [
    "# If the question is answered, then predict \"1\". Otherwise predict \"0\".\n",
    "def get_target(data):\n",
    "    answer_set = data['document_answer_region']\n",
    "    y = np.empty(answer_set.shape[0], dtype=np.int32)\n",
    "\n",
    "    for i, answer in enumerate(answer_set):\n",
    "        if type(answer) == Annotation_error and answer == Annotation_error.UNANSWERED: # @TODO: if we don't do the annotation stuff, then we can check for -1 here\n",
    "            y[i] = 0\n",
    "        else:\n",
    "            y[i] = 1\n",
    "    return y"
   ]
  },
  {
   "cell_type": "code",
   "execution_count": 186,
   "id": "9d2e6336",
   "metadata": {},
   "outputs": [],
   "source": [
    "def token_to_id(token, tok2vec):\n",
    "    assert OOV_id != None\n",
    "\n",
    "    try:\n",
    "        id = tok2vec.get_index(token)\n",
    "    except:\n",
    "        id = OOV_id # OOV\n",
    "    return id"
   ]
  },
  {
   "cell_type": "code",
   "execution_count": 187,
   "id": "4153ddf2",
   "metadata": {},
   "outputs": [],
   "source": [
    "def prepare_sample(question_tokens, document_tokens, tok2vec, question_max_length=512, document_max_length=1024):\n",
    "    question_ids = [token_to_id(token, tok2vec) for token in question_tokens[:question_max_length]]\n",
    "    document_ids = [token_to_id(token, tok2vec) for token in document_tokens[:document_max_length]]\n",
    "    return question_ids, len(question_ids), document_ids, len(document_ids)"
   ]
  },
  {
   "cell_type": "code",
   "execution_count": 312,
   "id": "51160c6a",
   "metadata": {},
   "outputs": [],
   "source": [
    "def pad_tokens(token_ids, token_lengths): # in a batch\n",
    "    assert pad_id != None\n",
    "    \n",
    "    max_length = max(token_lengths)\n",
    "    padded_ids = [(ids + [pad_id] * (max_length - len(ids))) for ids in token_ids]\n",
    "    \n",
    "    assert (all(len(padded) == max_length for padded in padded_ids))\n",
    "    \n",
    "    return padded_ids\n",
    "\n",
    "def collate_into_batch(raw_batch):\n",
    "    question_tokens = [sample[0] for sample in raw_batch]\n",
    "    question_lengths = [sample[1] for sample in raw_batch]\n",
    "    question_ids = pad_tokens(question_tokens, question_lengths)\n",
    "    \n",
    "    document_tokens = [sample[2] for sample in raw_batch]\n",
    "    document_lengths = [sample[3] for sample in raw_batch]\n",
    "    document_ids = pad_tokens(document_tokens, document_lengths)\n",
    "    \n",
    "    targets = [sample[4] for sample in raw_batch]\n",
    "\n",
    "    return torch.tensor(question_ids), torch.tensor(question_lengths), torch.tensor(document_ids), torch.tensor(document_lengths), torch.tensor(targets, dtype=torch.long)"
   ]
  },
  {
   "cell_type": "code",
   "execution_count": 313,
   "id": "10bbee8c",
   "metadata": {},
   "outputs": [],
   "source": [
    "class QuestionAnsweredDatasetReader(Dataset):\n",
    "    \n",
    "    def __init__(self, df, tok2vec):\n",
    "        self.df = df\n",
    "        self.tok2vec = tok2vec\n",
    "        self.targets = get_target(df)\n",
    "        \n",
    "    def __len__(self):\n",
    "        return len(self.df)\n",
    "\n",
    "    def __getitem__(self, idx):\n",
    "        row = self.df.values[idx]\n",
    "        question_tokens = row[1]\n",
    "        document_tokens = row[3]\n",
    "        target = self.targets[idx]\n",
    "        \n",
    "        question_ids, question_lengths, document_ids, document_lengths = prepare_sample(question_tokens, document_tokens, self.tok2vec)\n",
    "        \n",
    "        return question_ids, question_lengths, document_ids, document_lengths, target"
   ]
  },
  {
   "cell_type": "code",
   "execution_count": 314,
   "id": "ef5df6d1",
   "metadata": {},
   "outputs": [],
   "source": [
    "class LSTM_Network(nn.Module):\n",
    "\n",
    "    def __init__(self, pretrained_embeddings: torch.tensor, lstm_dim: int = 100, n_classes: int = 2):\n",
    "        super(LSTM_Network, self).__init__()\n",
    "        \n",
    "        self.word_embeddings = nn.Embedding.from_pretrained(pretrained_embeddings)\n",
    "        self.lstm = nn.LSTM(pretrained_embeddings.shape[1], lstm_dim, batch_first=True)\n",
    "        self.linear = nn.Linear(2*lstm_dim, n_classes)\n",
    "\n",
    "    def forward(self, q_ids, q_lengths, d_ids, d_lengths):\n",
    "        q_embeds = self.word_embeddings(q_ids)\n",
    "        lstm_out, _ = self.lstm(q_embeds)\n",
    "        q_ff_in = torch.max(lstm_out, 1)[0]\n",
    "        \n",
    "        d_embeds = self.word_embeddings(d_ids)\n",
    "        lstm_out, _ = self.lstm(d_embeds)\n",
    "        d_ff_in = torch.max(lstm_out, 1)[0]\n",
    "        \n",
    "        ff_in = torch.cat((q_ff_in, d_ff_in), dim=-1)\n",
    "        \n",
    "        logits = self.linear(ff_in)\n",
    "        return logits\n"
   ]
  },
  {
   "cell_type": "code",
   "execution_count": 404,
   "id": "7888de0e",
   "metadata": {},
   "outputs": [],
   "source": [
    "class BiLSTM_Network(nn.Module):\n",
    "\n",
    "    def __init__(self, pretrained_embeddings: torch.tensor, lstm_dim: int = 100, n_classes: int = 2):\n",
    "        super(BiLSTM_Network, self).__init__()\n",
    "\n",
    "        self.lstm_dim = lstm_dim\n",
    "        self.n_classes = n_classes\n",
    "        \n",
    "        self.embedding = nn.Embedding.from_pretrained(pretrained_embeddings, padding_idx=pretrained_embeddings.shape[0] - 1)\n",
    "        self.biLSTM = nn.LSTM(pretrained_embeddings.shape[1], lstm_dim, 1, batch_first=True, bidirectional=True)\n",
    "        self.linear = nn.Linear(2*2*lstm_dim, n_classes)\n",
    "        \n",
    "    def forward(self, q_ids, q_lengths, d_ids, d_lengths):\n",
    "        q_embeds = self.embedding(q_ids)\n",
    "        lstm_in = nn.utils.rnn.pack_padded_sequence(q_embeds, q_lengths, batch_first=True, enforce_sorted=False)\n",
    "        lstm_out, _hidden = self.biLSTM(lstm_in)\n",
    "        lstm_out, _ = nn.utils.rnn.pad_packed_sequence(lstm_out, batch_first=True)\n",
    "        q_ff_in = torch.max(lstm_out, 1)[0]\n",
    "\n",
    "        d_embeds = self.embedding(d_ids)\n",
    "        lstm_in = nn.utils.rnn.pack_padded_sequence(d_embeds, d_lengths, batch_first=True, enforce_sorted=False)\n",
    "        lstm_out, _hidden = self.biLSTM(lstm_in)\n",
    "        lstm_out, _ = nn.utils.rnn.pad_packed_sequence(lstm_out, batch_first=True)\n",
    "        d_ff_in = torch.max(lstm_out, 1)[0]\n",
    "\n",
    "        ff_in = torch.cat((q_ff_in, d_ff_in), dim=-1)\n",
    "        \n",
    "        logits = self.linear(ff_in)\n",
    "        \n",
    "        return logits"
   ]
  },
  {
   "cell_type": "code",
   "execution_count": 405,
   "id": "985c1223",
   "metadata": {},
   "outputs": [],
   "source": [
    "def prepare_embedding_matrix(embed_matrix):\n",
    "    embed_dim = embed_matrix.shape[1]\n",
    "    pad = torch.zeros(embed_dim, dtype=torch.float32)\n",
    "    OOV = torch.zeros(embed_dim, dtype=torch.float32)\n",
    "    embed_pre = torch.tensor(embed_matrix, dtype=torch.float32)\n",
    "    \n",
    "    OOV_id = embed_pre.shape[0]           \n",
    "    pad_id = embed_pre.shape[0] + 1\n",
    "                 \n",
    "    return torch.vstack((embed_pre, pad, OOV)), pad_id, OOV_id"
   ]
  },
  {
   "cell_type": "code",
   "execution_count": null,
   "id": "04081f93",
   "metadata": {},
   "outputs": [],
   "source": [
    "def test_forward_pass(model: nn.Module):\n",
    "    \"\"\"\n",
    "    A simple function to quickly debug the net\n",
    "    \"\"\"\n",
    "    # Test the forward pass with dummy data\n",
    "    q = torch.tensor([[42, 1, 8, 0]], dtype=torch.int)\n",
    "    q_lengths = torch.tensor([3], dtype=torch.int)\n",
    "    d = torch.tensor([[42, 1, 8, 0]], dtype=torch.int)\n",
    "    d_lengths = torch.tensor([3], dtype=torch.int)\n",
    "\n",
    "    out = model.forward(q, q_lengths, d, d_lengths)\n",
    "\n",
    "    print(\"Output shape:\", out.size())\n",
    "    print(f\"Output logits:\\n{out.detach().numpy()}\")"
   ]
  },
  {
   "cell_type": "code",
   "execution_count": null,
   "id": "f939ab75",
   "metadata": {},
   "outputs": [],
   "source": [
    "def summarize_batch(token_ids, sequence_lengths):\n",
    "    actual_length = torch.sum(sequence_lengths)\n",
    "    total_length = np.sum([len(question) for question in token_ids])\n",
    "    \n",
    "    OOV_count = np.sum([torch.sum(question == OOV_id) for question in token_ids])\n",
    "    print(\"OOV: {}/{}\".format(OOV_count, total_length))\n",
    "    \n",
    "    pad_count = np.sum([torch.sum(question == pad_id) for question in token_ids])\n",
    "    print(\"PAD: {}/{}\".format(pad_count, total_length))   "
   ]
  },
  {
   "cell_type": "code",
   "execution_count": null,
   "id": "43eea9e6",
   "metadata": {},
   "outputs": [],
   "source": [
    "def train(model: nn.Module, train_data, validation_data, n_epochs = 5, batch_size = 64):\n",
    "    loss_fn = nn.CrossEntropyLoss()\n",
    "    optimizer = optim.Adam(model.parameters()) #, weight_decay=1e-6\n",
    "\n",
    "    # Load dataset\n",
    "    train_dataset = QuestionAnsweredDatasetReader(train_data, tok2vec)\n",
    "    train_dataloader = DataLoader(train_dataset, batch_size=batch_size, shuffle=True, collate_fn=collate_into_batch)\n",
    "\n",
    "    val_dataset = QuestionAnsweredDatasetReader(validation_data, tok2vec)\n",
    "    val_dataloader = DataLoader(val_dataset, batch_size=batch_size, shuffle=False, collate_fn=collate_into_batch)\n",
    "\n",
    "    # store improvement per epoch\n",
    "    train_losses = []\n",
    "    train_accuracies = []\n",
    "    test_accuracies = []\n",
    "\n",
    "    for epoch in range(n_epochs):\n",
    "\n",
    "        ### Training\n",
    "        model.train()\n",
    "\n",
    "        # Store batch loss and accuracy\n",
    "        loss_epoch = []\n",
    "        accuracy_epoch = []\n",
    "\n",
    "        batch_pbar = tqdm(train_dataloader)\n",
    "        for q_ids, q_lengths, d_ids, d_lengths, targets in batch_pbar:\n",
    "\n",
    "            # training\n",
    "            outputs = model(q_ids, q_lengths, d_ids, d_lengths)\n",
    "            loss = loss_fn(outputs, targets)\n",
    "\n",
    "            optimizer.zero_grad()\n",
    "            loss.backward()\n",
    "            optimizer.step()\n",
    "\n",
    "            # prediction\n",
    "            predictions = outputs.max(1)[1]\n",
    "            accuracy = accuracy_score(targets, predictions)\n",
    "\n",
    "            loss_epoch.append(loss.item())\n",
    "            accuracy_epoch.append(accuracy)\n",
    "\n",
    "            batch_pbar.set_description(f\"epoch={epoch+1}/{n_epochs} | loss={loss.item():.2f}, accuracy={accuracy:.2f}\")\n",
    "\n",
    "        train_loss = np.mean(loss_epoch)\n",
    "        train_losses.append(train_loss)\n",
    "\n",
    "        train_acc = np.mean(accuracy_epoch)\n",
    "        train_accuracies.append(train_acc)\n",
    "\n",
    "        ### Evaluation\n",
    "        test_acc = evaluate(model, val_dataloader)\n",
    "        test_accuracies.append(test_acc)\n",
    "\n",
    "        print(f\"epoch={epoch+1}/{n_epochs} | loss={train_loss:.2f}, train_accuracy={train_acc:.2f}, test_accuracy={test_acc:.2f}\")\n",
    "\n",
    "    print(\"Finished training.\")\n",
    "    \n",
    "    return train_loss, train_accuracies, train_loss"
   ]
  },
  {
   "cell_type": "code",
   "execution_count": null,
   "id": "1e3c8881",
   "metadata": {},
   "outputs": [],
   "source": [
    "def evaluate(model: nn.Module, valid_dl: DataLoader):\n",
    "    model.eval()\n",
    "\n",
    "    logits_all = []\n",
    "    targets_all = []\n",
    "    \n",
    "    with torch.no_grad():\n",
    "        for q_ids, q_lengths, d_ids, d_lengths, targets in valid_dl:\n",
    "            logits = model(q_ids, q_lengths, d_ids, d_lengths)\n",
    "            targets_all.extend(list(targets.detach().cpu().numpy()))\n",
    "            \n",
    "            predictions = logits.max(1)[1]\n",
    "            logits_all.extend(predictions)\n",
    "            \n",
    "        acc = accuracy_score(logits_all, targets_all)\n",
    "\n",
    "    return acc"
   ]
  },
  {
   "cell_type": "code",
   "execution_count": null,
   "id": "f0278d8a",
   "metadata": {},
   "outputs": [],
   "source": [
    "def plot_network_learning(model_name, train_accuracies, test_accuracies, train_losses=None):\n",
    "    fig, ax = plt.subplots(figsize=(6,6))\n",
    "    \n",
    "    ax.grid(linestyle=\"--\")\n",
    "    ax.set_title(model_name)\n",
    "    ax.set_ylabel(\"Accuracy\")\n",
    "    ax.set_xlabel(\"Epoch\")\n",
    "\n",
    "    epoch_range = np.arange(len(train_accuracies), step=1)\n",
    "    ax.plot(epoch_range, train_accuracies)\n",
    "    ax.plot(epoch_range, test_accuracies)\n",
    "    ax.legend([\"Train Accuracy\", \"Validation Accuracy\"], loc=\"upper left\")\n",
    "    \n",
    "    ax.set_yticks(np.linspace(0.5, 1, 11))\n",
    "    ax.set_xticks(epoch_range)\n",
    "    \n",
    "    if train_losses != None:\n",
    "        ax2 = ax.twinx()\n",
    "        ax2.plot(epoch_range, train_losses, c=\"g\")\n",
    "        ax2.set_yticks(np.linspace(0, 1, 11))\n",
    "        ax2.set_ylabel(\"Loss\")\n",
    "        ax2.legend([\"Train Loss\"], loc=\"upper right\")"
   ]
  },
  {
   "cell_type": "code",
   "execution_count": null,
   "id": "721fe0cd",
   "metadata": {},
   "outputs": [],
   "source": [
    "device = torch.device(\"cuda\") if torch.cuda.is_available() else torch.device(\"cpu\")"
   ]
  },
  {
   "cell_type": "code",
   "execution_count": 464,
   "id": "cd5d9bd9",
   "metadata": {},
   "outputs": [
    {
     "data": {
      "text/plain": [
       "device(type='cpu')"
      ]
     },
     "execution_count": 464,
     "metadata": {},
     "output_type": "execute_result"
    }
   ],
   "source": [
    "device"
   ]
  },
  {
   "cell_type": "markdown",
   "id": "5f68638f",
   "metadata": {},
   "source": [
    "## English"
   ]
  },
  {
   "cell_type": "code",
   "execution_count": 465,
   "id": "fcfbc72b",
   "metadata": {},
   "outputs": [
    {
     "name": "stdout",
     "output_type": "stream",
     "text": [
      "BiLSTM_Network(\n",
      "  (embedding): Embedding(20002, 300, padding_idx=20001)\n",
      "  (biLSTM): LSTM(300, 100, batch_first=True, bidirectional=True)\n",
      "  (linear): Linear(in_features=400, out_features=2, bias=True)\n",
      ")\n"
     ]
    }
   ],
   "source": [
    "# Setup Model\n",
    "tok2vec = compress_fasttext.models.CompressedFastTextKeyedVectors.load(\"fasttext-en-mini\")\n",
    "pretrained_embeddings, pad_id, OOV_id = prepare_embedding_matrix(tok2vec.get_normed_vectors())\n",
    "\n",
    "model = BiLSTM_Network(pretrained_embeddings)\n",
    "model.to(device)\n",
    "\n",
    "print(model)"
   ]
  },
  {
   "cell_type": "code",
   "execution_count": 466,
   "id": "433ccaff",
   "metadata": {},
   "outputs": [
    {
     "name": "stdout",
     "output_type": "stream",
     "text": [
      "Output shape: torch.Size([1, 2])\n",
      "Output logits:\n",
      "[[-0.02834911 -0.03392097]]\n"
     ]
    }
   ],
   "source": [
    "test_forward_pass(model)"
   ]
  },
  {
   "cell_type": "code",
   "execution_count": 467,
   "id": "397e2d2d",
   "metadata": {},
   "outputs": [
    {
     "name": "stderr",
     "output_type": "stream",
     "text": [
      "epoch=1/5 | loss=0.67, accuracy=0.66: 100%|██████████████████████████████████████████| 116/116 [22:25<00:00, 11.60s/it]\n"
     ]
    },
    {
     "name": "stdout",
     "output_type": "stream",
     "text": [
      "epoch=1/5 | loss=0.65, train_accuracy=0.61, test_accuracy=0.61\n"
     ]
    },
    {
     "name": "stderr",
     "output_type": "stream",
     "text": [
      "epoch=2/5 | loss=0.69, accuracy=0.62: 100%|██████████████████████████████████████████| 116/116 [20:33<00:00, 10.63s/it]\n"
     ]
    },
    {
     "name": "stdout",
     "output_type": "stream",
     "text": [
      "epoch=2/5 | loss=0.58, train_accuracy=0.69, test_accuracy=0.75\n"
     ]
    },
    {
     "name": "stderr",
     "output_type": "stream",
     "text": [
      "epoch=3/5 | loss=0.54, accuracy=0.66: 100%|██████████████████████████████████████████| 116/116 [21:56<00:00, 11.35s/it]\n"
     ]
    },
    {
     "name": "stdout",
     "output_type": "stream",
     "text": [
      "epoch=3/5 | loss=0.51, train_accuracy=0.76, test_accuracy=0.78\n"
     ]
    },
    {
     "name": "stderr",
     "output_type": "stream",
     "text": [
      "epoch=4/5 | loss=0.43, accuracy=0.83: 100%|██████████████████████████████████████████| 116/116 [23:48<00:00, 12.31s/it]\n"
     ]
    },
    {
     "name": "stdout",
     "output_type": "stream",
     "text": [
      "epoch=4/5 | loss=0.47, train_accuracy=0.78, test_accuracy=0.80\n"
     ]
    },
    {
     "name": "stderr",
     "output_type": "stream",
     "text": [
      "epoch=5/5 | loss=0.34, accuracy=0.86: 100%|██████████████████████████████████████████| 116/116 [23:17<00:00, 12.05s/it]\n"
     ]
    },
    {
     "name": "stdout",
     "output_type": "stream",
     "text": [
      "epoch=5/5 | loss=0.46, train_accuracy=0.79, test_accuracy=0.80\n",
      "Finished training.\n"
     ]
    },
    {
     "data": {
      "text/plain": [
       "(0.45500549776800747,\n",
       " [0.609904503567182,\n",
       "  0.6933895659928656,\n",
       "  0.7571297190844234,\n",
       "  0.7777432000594531,\n",
       "  0.7892204221165279],\n",
       " 0.45500549776800747)"
      ]
     },
     "execution_count": 467,
     "metadata": {},
     "output_type": "execute_result"
    }
   ],
   "source": [
    "train(model, train_en, validation_en)"
   ]
  },
  {
   "cell_type": "code",
   "execution_count": 468,
   "id": "55a0e9d2",
   "metadata": {},
   "outputs": [
    {
     "data": {
      "image/png": "[encoded data removed]",
      "text/plain": [
       "<Figure size 600x600 with 2 Axes>"
      ]
     },
     "metadata": {},
     "output_type": "display_data"
    }
   ],
   "source": [
    "plot_network_learning(\"biLSTM model\", train_accuracies, test_accuracies, train_losses)"
   ]
  },
  {
   "cell_type": "code",
   "execution_count": 393,
   "id": "bc63f003",
   "metadata": {},
   "outputs": [
    {
     "data": {
      "image/png": "[encoded data removed]",
      "text/plain": [
       "<Figure size 600x600 with 1 Axes>"
      ]
     },
     "metadata": {},
     "output_type": "display_data"
    }
   ],
   "source": [
    "plot_network_learning(\"LSTM model\", train_accuracies, test_accuracies, train_losses)"
   ]
  },
  {
   "cell_type": "markdown",
   "id": "605bbe32",
   "metadata": {},
   "source": [
    "## Finnish"
   ]
  },
  {
   "cell_type": "code",
   "execution_count": null,
   "id": "899c715b",
   "metadata": {},
   "outputs": [],
   "source": [
    "# Setup Model\n",
    "tok2vec = compress_fasttext.models.CompressedFastTextKeyedVectors.load(\"fasttext-fi-mini\")\n",
    "pretrained_embeddings, pad_id, OOV_id = prepare_embedding_matrix(tok2vec.get_normed_vectors())\n",
    "\n",
    "model = BiLSTM_Network(pretrained_embeddings)\n",
    "model.to(device)\n",
    "\n",
    "print(model)"
   ]
  },
  {
   "cell_type": "code",
   "execution_count": null,
   "id": "bd778bb9",
   "metadata": {},
   "outputs": [],
   "source": [
    "train_result_fi = train(model, train_fi, validation_fi)"
   ]
  },
  {
   "cell_type": "code",
   "execution_count": null,
   "id": "648b50cc",
   "metadata": {},
   "outputs": [],
   "source": [
    "train_losses, train_accuracies, test_accuracies = train_result_ja\n",
    "plot_network_learning(\"LSTM model\", train_accuracies, test_accuracies, train_losses)"
   ]
  },
  {
   "cell_type": "markdown",
   "id": "b04011d8",
   "metadata": {},
   "source": [
    "## Japanese"
   ]
  },
  {
   "cell_type": "code",
   "execution_count": 461,
   "id": "d14b7e7a",
   "metadata": {},
   "outputs": [
    {
     "name": "stdout",
     "output_type": "stream",
     "text": [
      "BiLSTM_Network(\n",
      "  (embedding): Embedding(20002, 300, padding_idx=20001)\n",
      "  (biLSTM): LSTM(300, 100, batch_first=True, bidirectional=True)\n",
      "  (linear): Linear(in_features=400, out_features=2, bias=True)\n",
      ")\n"
     ]
    }
   ],
   "source": [
    "# Setup Model\n",
    "tok2vec = compress_fasttext.models.CompressedFastTextKeyedVectors.load(\"fasttext-ja-mini\")\n",
    "pretrained_embeddings, pad_id, OOV_id = prepare_embedding_matrix(tok2vec.get_normed_vectors())\n",
    "\n",
    "model = BiLSTM_Network(pretrained_embeddings)\n",
    "model.to(device)\n",
    "\n",
    "print(model)"
   ]
  },
  {
   "cell_type": "code",
   "execution_count": 463,
   "id": "a6892c39",
   "metadata": {},
   "outputs": [
    {
     "name": "stderr",
     "output_type": "stream",
     "text": [
      "epoch=1/5 | loss=0.80, accuracy=0.40: 100%|██████████████████████████████████████████| 138/138 [49:19<00:00, 21.45s/it]\n"
     ]
    },
    {
     "name": "stdout",
     "output_type": "stream",
     "text": [
      "epoch=1/5 | loss=0.65, train_accuracy=0.61, test_accuracy=0.65\n"
     ]
    },
    {
     "name": "stderr",
     "output_type": "stream",
     "text": [
      "epoch=2/5 | loss=0.67, accuracy=0.60: 100%|██████████████████████████████████████████| 138/138 [47:54<00:00, 20.83s/it]\n"
     ]
    },
    {
     "name": "stdout",
     "output_type": "stream",
     "text": [
      "epoch=2/5 | loss=0.59, train_accuracy=0.67, test_accuracy=0.69\n"
     ]
    },
    {
     "name": "stderr",
     "output_type": "stream",
     "text": [
      "epoch=3/5 | loss=0.67, accuracy=0.50: 100%|██████████████████████████████████████████| 138/138 [48:47<00:00, 21.22s/it]\n"
     ]
    },
    {
     "name": "stdout",
     "output_type": "stream",
     "text": [
      "epoch=3/5 | loss=0.54, train_accuracy=0.73, test_accuracy=0.76\n"
     ]
    },
    {
     "name": "stderr",
     "output_type": "stream",
     "text": [
      "epoch=4/5 | loss=0.54, accuracy=0.73:  10%|████▎                                      | 14/138 [04:42<41:42, 20.18s/it]\n"
     ]
    },
    {
     "ename": "KeyboardInterrupt",
     "evalue": "",
     "output_type": "error",
     "traceback": [
      "\u001b[1;31m---------------------------------------------------------------------------\u001b[0m",
      "\u001b[1;31mKeyboardInterrupt\u001b[0m                         Traceback (most recent call last)",
      "Cell \u001b[1;32mIn [463], line 1\u001b[0m\n\u001b[1;32m----> 1\u001b[0m train_result_ja \u001b[38;5;241m=\u001b[39m \u001b[43mtrain\u001b[49m\u001b[43m(\u001b[49m\u001b[43mmodel\u001b[49m\u001b[43m,\u001b[49m\u001b[43m \u001b[49m\u001b[43mtrain_ja\u001b[49m\u001b[43m,\u001b[49m\u001b[43m \u001b[49m\u001b[43mvalidation_ja\u001b[49m\u001b[43m)\u001b[49m\n",
      "Cell \u001b[1;32mIn [462], line 34\u001b[0m, in \u001b[0;36mtrain\u001b[1;34m(model, train_data, validation_data, n_epochs, batch_size)\u001b[0m\n\u001b[0;32m     31\u001b[0m loss \u001b[38;5;241m=\u001b[39m loss_fn(outputs, targets)\n\u001b[0;32m     33\u001b[0m optimizer\u001b[38;5;241m.\u001b[39mzero_grad()\n\u001b[1;32m---> 34\u001b[0m \u001b[43mloss\u001b[49m\u001b[38;5;241;43m.\u001b[39;49m\u001b[43mbackward\u001b[49m\u001b[43m(\u001b[49m\u001b[43m)\u001b[49m\n\u001b[0;32m     35\u001b[0m optimizer\u001b[38;5;241m.\u001b[39mstep()\n\u001b[0;32m     37\u001b[0m \u001b[38;5;66;03m# prediction\u001b[39;00m\n",
      "File \u001b[1;32mC:\\ProgramData\\Anaconda3\\envs\\ku_nlp\\lib\\site-packages\\torch\\_tensor.py:396\u001b[0m, in \u001b[0;36mTensor.backward\u001b[1;34m(self, gradient, retain_graph, create_graph, inputs)\u001b[0m\n\u001b[0;32m    387\u001b[0m \u001b[38;5;28;01mif\u001b[39;00m has_torch_function_unary(\u001b[38;5;28mself\u001b[39m):\n\u001b[0;32m    388\u001b[0m     \u001b[38;5;28;01mreturn\u001b[39;00m handle_torch_function(\n\u001b[0;32m    389\u001b[0m         Tensor\u001b[38;5;241m.\u001b[39mbackward,\n\u001b[0;32m    390\u001b[0m         (\u001b[38;5;28mself\u001b[39m,),\n\u001b[1;32m   (...)\u001b[0m\n\u001b[0;32m    394\u001b[0m         create_graph\u001b[38;5;241m=\u001b[39mcreate_graph,\n\u001b[0;32m    395\u001b[0m         inputs\u001b[38;5;241m=\u001b[39minputs)\n\u001b[1;32m--> 396\u001b[0m \u001b[43mtorch\u001b[49m\u001b[38;5;241;43m.\u001b[39;49m\u001b[43mautograd\u001b[49m\u001b[38;5;241;43m.\u001b[39;49m\u001b[43mbackward\u001b[49m\u001b[43m(\u001b[49m\u001b[38;5;28;43mself\u001b[39;49m\u001b[43m,\u001b[49m\u001b[43m \u001b[49m\u001b[43mgradient\u001b[49m\u001b[43m,\u001b[49m\u001b[43m \u001b[49m\u001b[43mretain_graph\u001b[49m\u001b[43m,\u001b[49m\u001b[43m \u001b[49m\u001b[43mcreate_graph\u001b[49m\u001b[43m,\u001b[49m\u001b[43m \u001b[49m\u001b[43minputs\u001b[49m\u001b[38;5;241;43m=\u001b[39;49m\u001b[43minputs\u001b[49m\u001b[43m)\u001b[49m\n",
      "File \u001b[1;32mC:\\ProgramData\\Anaconda3\\envs\\ku_nlp\\lib\\site-packages\\torch\\autograd\\__init__.py:173\u001b[0m, in \u001b[0;36mbackward\u001b[1;34m(tensors, grad_tensors, retain_graph, create_graph, grad_variables, inputs)\u001b[0m\n\u001b[0;32m    168\u001b[0m     retain_graph \u001b[38;5;241m=\u001b[39m create_graph\n\u001b[0;32m    170\u001b[0m \u001b[38;5;66;03m# The reason we repeat same the comment below is that\u001b[39;00m\n\u001b[0;32m    171\u001b[0m \u001b[38;5;66;03m# some Python versions print out the first line of a multi-line function\u001b[39;00m\n\u001b[0;32m    172\u001b[0m \u001b[38;5;66;03m# calls in the traceback and some print out the last line\u001b[39;00m\n\u001b[1;32m--> 173\u001b[0m \u001b[43mVariable\u001b[49m\u001b[38;5;241;43m.\u001b[39;49m\u001b[43m_execution_engine\u001b[49m\u001b[38;5;241;43m.\u001b[39;49m\u001b[43mrun_backward\u001b[49m\u001b[43m(\u001b[49m\u001b[43m  \u001b[49m\u001b[38;5;66;43;03m# Calls into the C++ engine to run the backward pass\u001b[39;49;00m\n\u001b[0;32m    174\u001b[0m \u001b[43m    \u001b[49m\u001b[43mtensors\u001b[49m\u001b[43m,\u001b[49m\u001b[43m \u001b[49m\u001b[43mgrad_tensors_\u001b[49m\u001b[43m,\u001b[49m\u001b[43m \u001b[49m\u001b[43mretain_graph\u001b[49m\u001b[43m,\u001b[49m\u001b[43m \u001b[49m\u001b[43mcreate_graph\u001b[49m\u001b[43m,\u001b[49m\u001b[43m \u001b[49m\u001b[43minputs\u001b[49m\u001b[43m,\u001b[49m\n\u001b[0;32m    175\u001b[0m \u001b[43m    \u001b[49m\u001b[43mallow_unreachable\u001b[49m\u001b[38;5;241;43m=\u001b[39;49m\u001b[38;5;28;43;01mTrue\u001b[39;49;00m\u001b[43m,\u001b[49m\u001b[43m \u001b[49m\u001b[43maccumulate_grad\u001b[49m\u001b[38;5;241;43m=\u001b[39;49m\u001b[38;5;28;43;01mTrue\u001b[39;49;00m\u001b[43m)\u001b[49m\n",
      "\u001b[1;31mKeyboardInterrupt\u001b[0m: "
     ]
    }
   ],
   "source": [
    "train_result_ja = train(model, train_ja, validation_ja)"
   ]
  },
  {
   "cell_type": "code",
   "execution_count": null,
   "id": "a1f23b3f",
   "metadata": {},
   "outputs": [],
   "source": [
    "train_losses, train_accuracies, test_accuracies = train_result_ja\n",
    "plot_network_learning(\"LSTM model\", train_accuracies, test_accuracies, train_losses)"
   ]
  },
  {
   "cell_type": "markdown",
   "id": "497fb67f",
   "metadata": {},
   "source": [
    "## Misc"
   ]
  },
  {
   "cell_type": "code",
   "execution_count": 36,
   "id": "ffc59626",
   "metadata": {},
   "outputs": [
    {
     "name": "stderr",
     "output_type": "stream",
     "text": [
      "Warning : `load_model` does not return WordVectorModel or SupervisedModel any more, but a `FastText` object which is very similar.\n"
     ]
    }
   ],
   "source": [
    "ft = fasttext.load_model('cc.en.300.bin')"
   ]
  },
  {
   "cell_type": "code",
   "execution_count": 37,
   "id": "1e8b22c1",
   "metadata": {},
   "outputs": [
    {
     "data": {
      "text/plain": [
       "[(0.8153295516967773, 'cupcake'),\n",
       " (0.7879170179367065, 'cookie-'),\n",
       " (0.7691606879234314, 'cookies'),\n",
       " (0.760718047618866, 'cake'),\n",
       " (0.7547473907470703, 'popover'),\n",
       " (0.7430337071418762, 'non-cookie'),\n",
       " (0.7359125018119812, 'cakepop'),\n",
       " (0.7353752255439758, 'muffin'),\n",
       " (0.7349858283996582, 'cookie.'),\n",
       " (0.7314939498901367, 'cookie.The')]"
      ]
     },
     "execution_count": 37,
     "metadata": {},
     "output_type": "execute_result"
    }
   ],
   "source": [
    "ft.get_dimension()\n",
    "ft.get_word_vector('king').shape\n",
    "\n",
    "fasttext.util.reduce_model(ft, 80)\n",
    "ft.get_dimension()\n",
    "\n",
    "\"asdasdsad\" in ft.words\n",
    "ft.get_nearest_neighbors('cookie')"
   ]
  },
  {
   "cell_type": "code",
   "execution_count": 38,
   "id": "627a27f2",
   "metadata": {},
   "outputs": [],
   "source": [
    "import spacy"
   ]
  },
  {
   "cell_type": "code",
   "execution_count": 39,
   "id": "1cfb2ecf",
   "metadata": {},
   "outputs": [],
   "source": [
    "nlp = spacy.load('en_core_web_md')"
   ]
  },
  {
   "cell_type": "code",
   "execution_count": 40,
   "id": "3196d0d2",
   "metadata": {},
   "outputs": [
    {
     "data": {
      "text/plain": [
       "(300,)"
      ]
     },
     "execution_count": 40,
     "metadata": {},
     "output_type": "execute_result"
    }
   ],
   "source": [
    "nlp.vocab[\"old\"].vector.shape"
   ]
  },
  {
   "cell_type": "markdown",
   "id": "2c4a6ba4",
   "metadata": {},
   "source": [
    "https://github.com/pytorch/text/issues/1350\n",
    "https://christopher5106.github.io/deep/learning/2020/04/02/fasttext_pretrained_embeddings_subword_word_representations.html"
   ]
  },
  {
   "cell_type": "code",
   "execution_count": 46,
   "id": "b3356762",
   "metadata": {},
   "outputs": [
    {
     "data": {
      "text/plain": [
       "[('Quantum', 0.5923356945161),\n",
       " ('physics', 0.4987263608889812),\n",
       " ('computational', 0.4833229306372649),\n",
       " ('cosmic', 0.46287664812730667),\n",
       " ('atomic', 0.4555259364535978),\n",
       " ('atoms', 0.4543258391303013),\n",
       " ('electron', 0.4415847215404407),\n",
       " ('electromagnetic', 0.4342020722504953),\n",
       " ('optical', 0.4341506741975586),\n",
       " ('physicist', 0.43388256332181196)]"
      ]
     },
     "execution_count": 46,
     "metadata": {},
     "output_type": "execute_result"
    }
   ],
   "source": [
    "small_model.most_similar(\"quantum\")"
   ]
  },
  {
   "cell_type": "code",
   "execution_count": null,
   "id": "1f00265f",
   "metadata": {},
   "outputs": [],
   "source": []
  }
 ],
 "metadata": {
  "kernelspec": {
   "display_name": "Python 3 (ipykernel)",
   "language": "python",
   "name": "python3"
  },
  "language_info": {
   "codemirror_mode": {
    "name": "ipython",
    "version": 3
   },
   "file_extension": ".py",
   "mimetype": "text/x-python",
   "name": "python",
   "nbconvert_exporter": "python",
   "pygments_lexer": "ipython3",
   "version": "3.8.13"
  }
 },
 "nbformat": 4,
 "nbformat_minor": 5
}
