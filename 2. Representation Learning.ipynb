{
  "cells": [
    {
      "cell_type": "code",
      "execution_count": 1,
      "id": "424ef2a7",
      "metadata": {
        "id": "424ef2a7",
        "colab": {
          "base_uri": "https://localhost:8080/"
        },
        "collapsed": true,
        "outputId": "1522441c-00f6-41cc-fb9e-7ea243705415"
      },
      "outputs": [
        {
          "output_type": "stream",
          "name": "stdout",
          "text": [
            "Mounted at /content/drive\n",
            "/content/drive/MyDrive/KU_NLP\n",
            "Looking in indexes: https://pypi.org/simple, https://us-python.pkg.dev/colab-wheels/public/simple/\n",
            "Collecting datasets==2.4.0\n",
            "  Downloading datasets-2.4.0-py3-none-any.whl (365 kB)\n",
            "\u001b[K     |████████████████████████████████| 365 kB 29.7 MB/s \n",
            "\u001b[?25hRequirement already satisfied: spacy==3.4.1 in /usr/local/lib/python3.7/dist-packages (from -r requirements.txt (line 2)) (3.4.1)\n",
            "Requirement already satisfied: torch==1.12.1 in /usr/local/lib/python3.7/dist-packages (from -r requirements.txt (line 3)) (1.12.1+cu113)\n",
            "Requirement already satisfied: torchaudio==0.12.1 in /usr/local/lib/python3.7/dist-packages (from -r requirements.txt (line 4)) (0.12.1+cu113)\n",
            "Requirement already satisfied: torchvision==0.13.1 in /usr/local/lib/python3.7/dist-packages (from -r requirements.txt (line 5)) (0.13.1+cu113)\n",
            "Requirement already satisfied: nltk==3.7.0 in /usr/local/lib/python3.7/dist-packages (from -r requirements.txt (line 6)) (3.7)\n",
            "Requirement already satisfied: matplotlib in /usr/local/lib/python3.7/dist-packages (from -r requirements.txt (line 7)) (3.2.2)\n",
            "Collecting seaborn==0.12.0\n",
            "  Downloading seaborn-0.12.0-py3-none-any.whl (285 kB)\n",
            "\u001b[K     |████████████████████████████████| 285 kB 71.2 MB/s \n",
            "\u001b[?25hRequirement already satisfied: scikit-learn in /usr/local/lib/python3.7/dist-packages (from -r requirements.txt (line 9)) (1.0.2)\n",
            "Collecting stanza==1.4.2\n",
            "  Downloading stanza-1.4.2-py3-none-any.whl (691 kB)\n",
            "\u001b[K     |████████████████████████████████| 691 kB 65.7 MB/s \n",
            "\u001b[?25hCollecting fasttext==0.9.2\n",
            "  Downloading fasttext-0.9.2.tar.gz (68 kB)\n",
            "\u001b[K     |████████████████████████████████| 68 kB 7.3 MB/s \n",
            "\u001b[?25hCollecting compress-fasttext==0.1.3\n",
            "  Downloading compress-fasttext-0.1.3.tar.gz (14 kB)\n",
            "Requirement already satisfied: pyarrow>=6.0.0 in /usr/local/lib/python3.7/dist-packages (from datasets==2.4.0->-r requirements.txt (line 1)) (6.0.1)\n",
            "Requirement already satisfied: fsspec[http]>=2021.11.1 in /usr/local/lib/python3.7/dist-packages (from datasets==2.4.0->-r requirements.txt (line 1)) (2022.8.2)\n",
            "Requirement already satisfied: tqdm>=4.62.1 in /usr/local/lib/python3.7/dist-packages (from datasets==2.4.0->-r requirements.txt (line 1)) (4.64.1)\n",
            "Collecting multiprocess\n",
            "  Downloading multiprocess-0.70.13-py37-none-any.whl (115 kB)\n",
            "\u001b[K     |████████████████████████████████| 115 kB 70.2 MB/s \n",
            "\u001b[?25hCollecting xxhash\n",
            "  Downloading xxhash-3.0.0-cp37-cp37m-manylinux_2_17_x86_64.manylinux2014_x86_64.whl (212 kB)\n",
            "\u001b[K     |████████████████████████████████| 212 kB 72.9 MB/s \n",
            "\u001b[?25hRequirement already satisfied: importlib-metadata in /usr/local/lib/python3.7/dist-packages (from datasets==2.4.0->-r requirements.txt (line 1)) (4.12.0)\n",
            "Requirement already satisfied: numpy>=1.17 in /usr/local/lib/python3.7/dist-packages (from datasets==2.4.0->-r requirements.txt (line 1)) (1.21.6)\n",
            "Requirement already satisfied: packaging in /usr/local/lib/python3.7/dist-packages (from datasets==2.4.0->-r requirements.txt (line 1)) (21.3)\n",
            "Requirement already satisfied: requests>=2.19.0 in /usr/local/lib/python3.7/dist-packages (from datasets==2.4.0->-r requirements.txt (line 1)) (2.23.0)\n",
            "Collecting huggingface-hub<1.0.0,>=0.1.0\n",
            "  Downloading huggingface_hub-0.10.0-py3-none-any.whl (163 kB)\n",
            "\u001b[K     |████████████████████████████████| 163 kB 72.9 MB/s \n",
            "\u001b[?25hRequirement already satisfied: dill<0.3.6 in /usr/local/lib/python3.7/dist-packages (from datasets==2.4.0->-r requirements.txt (line 1)) (0.3.5.1)\n",
            "Requirement already satisfied: aiohttp in /usr/local/lib/python3.7/dist-packages (from datasets==2.4.0->-r requirements.txt (line 1)) (3.8.1)\n",
            "Collecting responses<0.19\n",
            "  Downloading responses-0.18.0-py3-none-any.whl (38 kB)\n",
            "Requirement already satisfied: pandas in /usr/local/lib/python3.7/dist-packages (from datasets==2.4.0->-r requirements.txt (line 1)) (1.3.5)\n",
            "Requirement already satisfied: preshed<3.1.0,>=3.0.2 in /usr/local/lib/python3.7/dist-packages (from spacy==3.4.1->-r requirements.txt (line 2)) (3.0.7)\n",
            "Requirement already satisfied: murmurhash<1.1.0,>=0.28.0 in /usr/local/lib/python3.7/dist-packages (from spacy==3.4.1->-r requirements.txt (line 2)) (1.0.8)\n",
            "Requirement already satisfied: catalogue<2.1.0,>=2.0.6 in /usr/local/lib/python3.7/dist-packages (from spacy==3.4.1->-r requirements.txt (line 2)) (2.0.8)\n",
            "Requirement already satisfied: jinja2 in /usr/local/lib/python3.7/dist-packages (from spacy==3.4.1->-r requirements.txt (line 2)) (2.11.3)\n",
            "Requirement already satisfied: langcodes<4.0.0,>=3.2.0 in /usr/local/lib/python3.7/dist-packages (from spacy==3.4.1->-r requirements.txt (line 2)) (3.3.0)\n",
            "Requirement already satisfied: setuptools in /usr/local/lib/python3.7/dist-packages (from spacy==3.4.1->-r requirements.txt (line 2)) (57.4.0)\n",
            "Requirement already satisfied: typing-extensions<4.2.0,>=3.7.4 in /usr/local/lib/python3.7/dist-packages (from spacy==3.4.1->-r requirements.txt (line 2)) (4.1.1)\n",
            "Requirement already satisfied: pathy>=0.3.5 in /usr/local/lib/python3.7/dist-packages (from spacy==3.4.1->-r requirements.txt (line 2)) (0.6.2)\n",
            "Requirement already satisfied: srsly<3.0.0,>=2.4.3 in /usr/local/lib/python3.7/dist-packages (from spacy==3.4.1->-r requirements.txt (line 2)) (2.4.4)\n",
            "Requirement already satisfied: thinc<8.2.0,>=8.1.0 in /usr/local/lib/python3.7/dist-packages (from spacy==3.4.1->-r requirements.txt (line 2)) (8.1.0)\n",
            "Requirement already satisfied: spacy-legacy<3.1.0,>=3.0.9 in /usr/local/lib/python3.7/dist-packages (from spacy==3.4.1->-r requirements.txt (line 2)) (3.0.10)\n",
            "Requirement already satisfied: wasabi<1.1.0,>=0.9.1 in /usr/local/lib/python3.7/dist-packages (from spacy==3.4.1->-r requirements.txt (line 2)) (0.10.1)\n",
            "Requirement already satisfied: spacy-loggers<2.0.0,>=1.0.0 in /usr/local/lib/python3.7/dist-packages (from spacy==3.4.1->-r requirements.txt (line 2)) (1.0.3)\n",
            "Requirement already satisfied: cymem<2.1.0,>=2.0.2 in /usr/local/lib/python3.7/dist-packages (from spacy==3.4.1->-r requirements.txt (line 2)) (2.0.6)\n",
            "Requirement already satisfied: pydantic!=1.8,!=1.8.1,<1.10.0,>=1.7.4 in /usr/local/lib/python3.7/dist-packages (from spacy==3.4.1->-r requirements.txt (line 2)) (1.9.2)\n",
            "Requirement already satisfied: typer<0.5.0,>=0.3.0 in /usr/local/lib/python3.7/dist-packages (from spacy==3.4.1->-r requirements.txt (line 2)) (0.4.2)\n",
            "Requirement already satisfied: pillow!=8.3.*,>=5.3.0 in /usr/local/lib/python3.7/dist-packages (from torchvision==0.13.1->-r requirements.txt (line 5)) (7.1.2)\n",
            "Requirement already satisfied: regex>=2021.8.3 in /usr/local/lib/python3.7/dist-packages (from nltk==3.7.0->-r requirements.txt (line 6)) (2022.6.2)\n",
            "Requirement already satisfied: click in /usr/local/lib/python3.7/dist-packages (from nltk==3.7.0->-r requirements.txt (line 6)) (7.1.2)\n",
            "Requirement already satisfied: joblib in /usr/local/lib/python3.7/dist-packages (from nltk==3.7.0->-r requirements.txt (line 6)) (1.1.0)\n",
            "Requirement already satisfied: six in /usr/local/lib/python3.7/dist-packages (from stanza==1.4.2->-r requirements.txt (line 10)) (1.15.0)\n",
            "Requirement already satisfied: protobuf in /usr/local/lib/python3.7/dist-packages (from stanza==1.4.2->-r requirements.txt (line 10)) (3.17.3)\n",
            "Collecting emoji\n",
            "  Downloading emoji-2.1.0.tar.gz (216 kB)\n",
            "\u001b[K     |████████████████████████████████| 216 kB 73.3 MB/s \n",
            "\u001b[?25hCollecting pybind11>=2.2\n",
            "  Using cached pybind11-2.10.0-py3-none-any.whl (213 kB)\n",
            "Collecting gensim>=4.0.0\n",
            "  Downloading gensim-4.2.0-cp37-cp37m-manylinux_2_12_x86_64.manylinux2010_x86_64.whl (24.1 MB)\n",
            "\u001b[K     |████████████████████████████████| 24.1 MB 1.5 MB/s \n",
            "\u001b[?25hRequirement already satisfied: python-dateutil>=2.1 in /usr/local/lib/python3.7/dist-packages (from matplotlib->-r requirements.txt (line 7)) (2.8.2)\n",
            "Requirement already satisfied: cycler>=0.10 in /usr/local/lib/python3.7/dist-packages (from matplotlib->-r requirements.txt (line 7)) (0.11.0)\n",
            "Requirement already satisfied: pyparsing!=2.0.4,!=2.1.2,!=2.1.6,>=2.0.1 in /usr/local/lib/python3.7/dist-packages (from matplotlib->-r requirements.txt (line 7)) (3.0.9)\n",
            "Requirement already satisfied: kiwisolver>=1.0.1 in /usr/local/lib/python3.7/dist-packages (from matplotlib->-r requirements.txt (line 7)) (1.4.4)\n",
            "Requirement already satisfied: zipp>=0.5 in /usr/local/lib/python3.7/dist-packages (from catalogue<2.1.0,>=2.0.6->spacy==3.4.1->-r requirements.txt (line 2)) (3.8.1)\n",
            "Requirement already satisfied: yarl<2.0,>=1.0 in /usr/local/lib/python3.7/dist-packages (from aiohttp->datasets==2.4.0->-r requirements.txt (line 1)) (1.8.1)\n",
            "Requirement already satisfied: attrs>=17.3.0 in /usr/local/lib/python3.7/dist-packages (from aiohttp->datasets==2.4.0->-r requirements.txt (line 1)) (22.1.0)\n",
            "Requirement already satisfied: async-timeout<5.0,>=4.0.0a3 in /usr/local/lib/python3.7/dist-packages (from aiohttp->datasets==2.4.0->-r requirements.txt (line 1)) (4.0.2)\n",
            "Requirement already satisfied: frozenlist>=1.1.1 in /usr/local/lib/python3.7/dist-packages (from aiohttp->datasets==2.4.0->-r requirements.txt (line 1)) (1.3.1)\n",
            "Requirement already satisfied: multidict<7.0,>=4.5 in /usr/local/lib/python3.7/dist-packages (from aiohttp->datasets==2.4.0->-r requirements.txt (line 1)) (6.0.2)\n",
            "Requirement already satisfied: aiosignal>=1.1.2 in /usr/local/lib/python3.7/dist-packages (from aiohttp->datasets==2.4.0->-r requirements.txt (line 1)) (1.2.0)\n",
            "Requirement already satisfied: asynctest==0.13.0 in /usr/local/lib/python3.7/dist-packages (from aiohttp->datasets==2.4.0->-r requirements.txt (line 1)) (0.13.0)\n",
            "Requirement already satisfied: charset-normalizer<3.0,>=2.0 in /usr/local/lib/python3.7/dist-packages (from aiohttp->datasets==2.4.0->-r requirements.txt (line 1)) (2.1.1)\n",
            "Requirement already satisfied: scipy>=0.18.1 in /usr/local/lib/python3.7/dist-packages (from gensim>=4.0.0->compress-fasttext==0.1.3->-r requirements.txt (line 12)) (1.7.3)\n",
            "Requirement already satisfied: smart-open>=1.8.1 in /usr/local/lib/python3.7/dist-packages (from gensim>=4.0.0->compress-fasttext==0.1.3->-r requirements.txt (line 12)) (5.2.1)\n",
            "Requirement already satisfied: filelock in /usr/local/lib/python3.7/dist-packages (from huggingface-hub<1.0.0,>=0.1.0->datasets==2.4.0->-r requirements.txt (line 1)) (3.8.0)\n",
            "Requirement already satisfied: pyyaml>=5.1 in /usr/local/lib/python3.7/dist-packages (from huggingface-hub<1.0.0,>=0.1.0->datasets==2.4.0->-r requirements.txt (line 1)) (6.0)\n",
            "Requirement already satisfied: pytz>=2017.3 in /usr/local/lib/python3.7/dist-packages (from pandas->datasets==2.4.0->-r requirements.txt (line 1)) (2022.2.1)\n",
            "Requirement already satisfied: chardet<4,>=3.0.2 in /usr/local/lib/python3.7/dist-packages (from requests>=2.19.0->datasets==2.4.0->-r requirements.txt (line 1)) (3.0.4)\n",
            "Requirement already satisfied: idna<3,>=2.5 in /usr/local/lib/python3.7/dist-packages (from requests>=2.19.0->datasets==2.4.0->-r requirements.txt (line 1)) (2.10)\n",
            "Requirement already satisfied: urllib3!=1.25.0,!=1.25.1,<1.26,>=1.21.1 in /usr/local/lib/python3.7/dist-packages (from requests>=2.19.0->datasets==2.4.0->-r requirements.txt (line 1)) (1.24.3)\n",
            "Requirement already satisfied: certifi>=2017.4.17 in /usr/local/lib/python3.7/dist-packages (from requests>=2.19.0->datasets==2.4.0->-r requirements.txt (line 1)) (2022.6.15)\n",
            "Collecting urllib3!=1.25.0,!=1.25.1,<1.26,>=1.21.1\n",
            "  Downloading urllib3-1.25.11-py2.py3-none-any.whl (127 kB)\n",
            "\u001b[K     |████████████████████████████████| 127 kB 74.0 MB/s \n",
            "\u001b[?25hRequirement already satisfied: blis<0.8.0,>=0.7.8 in /usr/local/lib/python3.7/dist-packages (from thinc<8.2.0,>=8.1.0->spacy==3.4.1->-r requirements.txt (line 2)) (0.7.8)\n",
            "Requirement already satisfied: threadpoolctl>=2.0.0 in /usr/local/lib/python3.7/dist-packages (from scikit-learn->-r requirements.txt (line 9)) (3.1.0)\n",
            "Requirement already satisfied: MarkupSafe>=0.23 in /usr/local/lib/python3.7/dist-packages (from jinja2->spacy==3.4.1->-r requirements.txt (line 2)) (2.0.1)\n",
            "Building wheels for collected packages: fasttext, compress-fasttext, emoji\n",
            "  Building wheel for fasttext (setup.py) ... \u001b[?25l\u001b[?25hdone\n",
            "  Created wheel for fasttext: filename=fasttext-0.9.2-cp37-cp37m-linux_x86_64.whl size=3162979 sha256=2d8400db578bf2771902475eaa6b249f883ad1bfff8575f014892c5b07740455\n",
            "  Stored in directory: /root/.cache/pip/wheels/4e/ca/bf/b020d2be95f7641801a6597a29c8f4f19e38f9c02a345bab9b\n",
            "  Building wheel for compress-fasttext (setup.py) ... \u001b[?25l\u001b[?25hdone\n",
            "  Created wheel for compress-fasttext: filename=compress_fasttext-0.1.3-py3-none-any.whl size=14601 sha256=6d2339a36e04c6b2a8f89e7e1d663c4e741b62ef5c3479c6814abb0ac5c17ba2\n",
            "  Stored in directory: /root/.cache/pip/wheels/3d/66/01/f3c7b1586e216ba9eaee878aaf55bc6725d2b171ce975d3199\n",
            "  Building wheel for emoji (setup.py) ... \u001b[?25l\u001b[?25hdone\n",
            "  Created wheel for emoji: filename=emoji-2.1.0-py3-none-any.whl size=212392 sha256=ef317ebf80e8232ecf4f219968089ae094b0958f967257bfa2fd8deedc91e707\n",
            "  Stored in directory: /root/.cache/pip/wheels/77/75/99/51c2a119f4cfd3af7b49cc57e4f737bed7e40b348a85d82804\n",
            "Successfully built fasttext compress-fasttext emoji\n",
            "Installing collected packages: urllib3, xxhash, responses, pybind11, multiprocess, huggingface-hub, gensim, emoji, stanza, seaborn, fasttext, datasets, compress-fasttext\n",
            "  Attempting uninstall: urllib3\n",
            "    Found existing installation: urllib3 1.24.3\n",
            "    Uninstalling urllib3-1.24.3:\n",
            "      Successfully uninstalled urllib3-1.24.3\n",
            "  Attempting uninstall: gensim\n",
            "    Found existing installation: gensim 3.6.0\n",
            "    Uninstalling gensim-3.6.0:\n",
            "      Successfully uninstalled gensim-3.6.0\n",
            "  Attempting uninstall: seaborn\n",
            "    Found existing installation: seaborn 0.11.2\n",
            "    Uninstalling seaborn-0.11.2:\n",
            "      Successfully uninstalled seaborn-0.11.2\n",
            "Successfully installed compress-fasttext-0.1.3 datasets-2.4.0 emoji-2.1.0 fasttext-0.9.2 gensim-4.2.0 huggingface-hub-0.10.0 multiprocess-0.70.13 pybind11-2.10.0 responses-0.18.0 seaborn-0.12.0 stanza-1.4.2 urllib3-1.25.11 xxhash-3.0.0\n"
          ]
        }
      ],
      "source": [
        "import sys\n",
        "\n",
        "is_in_colab = 'google.colab' in sys.modules\n",
        "\n",
        "if is_in_colab:\n",
        "  from google.colab import drive\n",
        "  drive.mount('/content/drive')\n",
        "\n",
        "  %cd /content/drive/MyDrive/KU_NLP\n",
        "  !pip install -r requirements.txt"
      ]
    },
    {
      "cell_type": "markdown",
      "id": "4c2be9eb",
      "metadata": {
        "id": "4c2be9eb"
      },
      "source": [
        "# 2. Representation Learning"
      ]
    },
    {
      "cell_type": "code",
      "execution_count": 2,
      "id": "c4d4ec83",
      "metadata": {
        "id": "c4d4ec83"
      },
      "outputs": [],
      "source": [
        "import pandas as pd\n",
        "import numpy as np\n",
        "\n",
        "import matplotlib.pyplot as plt\n",
        "import seaborn as sns\n",
        "\n",
        "from sklearn.metrics import classification_report, confusion_matrix, ConfusionMatrixDisplay\n",
        "\n",
        "from enum import Enum\n",
        "\n",
        "import fasttext\n",
        "import fasttext.util\n",
        "\n",
        "import torch\n",
        "from torch import nn\n",
        "import torch.optim as optim\n",
        "from sklearn.metrics import accuracy_score\n",
        "import compress_fasttext\n",
        "from torch.utils.data import Dataset, DataLoader\n",
        "from tqdm import tqdm"
      ]
    },
    {
      "cell_type": "code",
      "execution_count": 3,
      "id": "b5e2735b",
      "metadata": {
        "id": "b5e2735b"
      },
      "outputs": [],
      "source": [
        "%reload_ext autoreload\n",
        "%autoreload 2\n",
        "%matplotlib inline"
      ]
    },
    {
      "cell_type": "code",
      "execution_count": 4,
      "id": "c299d6fa",
      "metadata": {
        "id": "c299d6fa"
      },
      "outputs": [],
      "source": [
        "class Annotation_error(Enum):\n",
        "    UNANSWERED = -1\n",
        "    BAD_TOKENIZATION_OR_DATA = -2\n",
        "    IGNORED = -3"
      ]
    },
    {
      "cell_type": "code",
      "execution_count": 5,
      "id": "7704b5a9",
      "metadata": {
        "id": "7704b5a9"
      },
      "outputs": [],
      "source": [
        "path_train_set = \"data/train_set_stanza_compat.pkl\"\n",
        "path_validation_set = \"data/validation_set_stanza_compat.pkl\""
      ]
    },
    {
      "cell_type": "code",
      "execution_count": 6,
      "id": "b72f723c",
      "metadata": {
        "id": "b72f723c"
      },
      "outputs": [],
      "source": [
        "train_set = pd.read_pickle(path_train_set)\n",
        "validation_set = pd.read_pickle(path_validation_set)"
      ]
    },
    {
      "cell_type": "code",
      "execution_count": 7,
      "id": "837acc88",
      "metadata": {
        "id": "837acc88"
      },
      "outputs": [],
      "source": [
        "train_en = train_set[train_set[\"language\"] == \"english\"]\n",
        "train_fi = train_set[train_set[\"language\"] == \"finnish\"]\n",
        "train_ja = train_set[train_set[\"language\"] == \"japanese\"]\n",
        "\n",
        "validation_en = validation_set[validation_set[\"language\"] == \"english\"]\n",
        "validation_fi = validation_set[validation_set[\"language\"] == \"finnish\"]\n",
        "validation_ja = validation_set[validation_set[\"language\"] == \"japanese\"]"
      ]
    },
    {
      "cell_type": "markdown",
      "id": "20c83495",
      "metadata": {
        "id": "20c83495"
      },
      "source": [
        "# 2a."
      ]
    },
    {
      "cell_type": "markdown",
      "id": "f570ee9a",
      "metadata": {
        "id": "f570ee9a"
      },
      "source": [
        "# 2b."
      ]
    },
    {
      "cell_type": "code",
      "execution_count": 8,
      "id": "15ea285e",
      "metadata": {
        "id": "15ea285e",
        "colab": {
          "base_uri": "https://localhost:8080/",
          "height": 424
        },
        "outputId": "596876d7-300e-45db-cee2-8c491cab8645"
      },
      "outputs": [
        {
          "output_type": "execute_result",
          "data": {
            "text/plain": [
              "     language                                           question  \\\n",
              "0     english  [When, was, quantum, field, theory, developed, ?]   \n",
              "1     english  [Who, was, the, first, Nobel, prize, winner, f...   \n",
              "2     english      [When, is, the, dialectical, method, used, ?]   \n",
              "3     english                         [Who, invented, Hangul, ?]   \n",
              "4     english                   [What, do, Grasshoppers, eat, ?]   \n",
              "...       ...                                                ...   \n",
              "7384  english  [What, was, Neil, Brooks, ', fastest, recorded...   \n",
              "7385  english  [Who, are, the, three, most, important, easter...   \n",
              "7386  english  [Who, was, costume, designer, for, the, first,...   \n",
              "7387  english  [Who, developed, the, first, thermonuclear, we...   \n",
              "7388  english  [What, is, the, population, of, Mahwah, ,, NJ, ?]   \n",
              "\n",
              "                                         document_title  \\\n",
              "0                              [Quantum, field, theory]   \n",
              "1          [List, of, Nobel, laureates, in, Literature]   \n",
              "2                                           [Dialectic]   \n",
              "3                                  [Origin, of, Hangul]   \n",
              "4                                         [Grasshopper]   \n",
              "...                                                 ...   \n",
              "7384  [Swimming, at, the, 1980, Summer, Olympics, –,...   \n",
              "7385                              [Eastern, philosophy]   \n",
              "7386                                      [John, Mollo]   \n",
              "7387                    [History, of, nuclear, weapons]   \n",
              "7388                           [Mahwah, ,, New, Jersey]   \n",
              "\n",
              "                                               document  \\\n",
              "0     [Quantum, field, theory, naturally, began, wit...   \n",
              "1     [The, Nobel, Prize, in, Literature, (, Swedish...   \n",
              "2     [Dialectic, or, dialectics, (, Greek, :, διαλε...   \n",
              "3     [Hangul, was, personally, created, and, promul...   \n",
              "4     [Grasshoppers, are, plant, -, eaters, ,, with,...   \n",
              "...                                                 ...   \n",
              "7384  [The, medley, relay, was, scheduled, in, the, ...   \n",
              "7385  [Sāmkhya, is, a, dualist, philosophical, tradi...   \n",
              "7386  [Mollo, was, surprised, by, the, success, of, ...   \n",
              "7387  [In, the, end, ,, President, Truman, made, the...   \n",
              "7388  [The, previous, mayor, ,, Bill, Laforet, faced...   \n",
              "\n",
              "           document_answer_region  \n",
              "0                        (26, 26)  \n",
              "1                        (12, 13)  \n",
              "2                        (27, 49)  \n",
              "3                        (16, 18)  \n",
              "4                         (1, 37)  \n",
              "...                           ...  \n",
              "7384  Annotation_error.UNANSWERED  \n",
              "7385  Annotation_error.UNANSWERED  \n",
              "7386  Annotation_error.UNANSWERED  \n",
              "7387  Annotation_error.UNANSWERED  \n",
              "7388  Annotation_error.UNANSWERED  \n",
              "\n",
              "[7389 rows x 5 columns]"
            ],
            "text/html": [
              "\n",
              "  <div id=\"df-4e79a0b5-40b1-4e4a-9b0f-154330439e61\">\n",
              "    <div class=\"colab-df-container\">\n",
              "      <div>\n",
              "<style scoped>\n",
              "    .dataframe tbody tr th:only-of-type {\n",
              "        vertical-align: middle;\n",
              "    }\n",
              "\n",
              "    .dataframe tbody tr th {\n",
              "        vertical-align: top;\n",
              "    }\n",
              "\n",
              "    .dataframe thead th {\n",
              "        text-align: right;\n",
              "    }\n",
              "</style>\n",
              "<table border=\"1\" class=\"dataframe\">\n",
              "  <thead>\n",
              "    <tr style=\"text-align: right;\">\n",
              "      <th></th>\n",
              "      <th>language</th>\n",
              "      <th>question</th>\n",
              "      <th>document_title</th>\n",
              "      <th>document</th>\n",
              "      <th>document_answer_region</th>\n",
              "    </tr>\n",
              "  </thead>\n",
              "  <tbody>\n",
              "    <tr>\n",
              "      <th>0</th>\n",
              "      <td>english</td>\n",
              "      <td>[When, was, quantum, field, theory, developed, ?]</td>\n",
              "      <td>[Quantum, field, theory]</td>\n",
              "      <td>[Quantum, field, theory, naturally, began, wit...</td>\n",
              "      <td>(26, 26)</td>\n",
              "    </tr>\n",
              "    <tr>\n",
              "      <th>1</th>\n",
              "      <td>english</td>\n",
              "      <td>[Who, was, the, first, Nobel, prize, winner, f...</td>\n",
              "      <td>[List, of, Nobel, laureates, in, Literature]</td>\n",
              "      <td>[The, Nobel, Prize, in, Literature, (, Swedish...</td>\n",
              "      <td>(12, 13)</td>\n",
              "    </tr>\n",
              "    <tr>\n",
              "      <th>2</th>\n",
              "      <td>english</td>\n",
              "      <td>[When, is, the, dialectical, method, used, ?]</td>\n",
              "      <td>[Dialectic]</td>\n",
              "      <td>[Dialectic, or, dialectics, (, Greek, :, διαλε...</td>\n",
              "      <td>(27, 49)</td>\n",
              "    </tr>\n",
              "    <tr>\n",
              "      <th>3</th>\n",
              "      <td>english</td>\n",
              "      <td>[Who, invented, Hangul, ?]</td>\n",
              "      <td>[Origin, of, Hangul]</td>\n",
              "      <td>[Hangul, was, personally, created, and, promul...</td>\n",
              "      <td>(16, 18)</td>\n",
              "    </tr>\n",
              "    <tr>\n",
              "      <th>4</th>\n",
              "      <td>english</td>\n",
              "      <td>[What, do, Grasshoppers, eat, ?]</td>\n",
              "      <td>[Grasshopper]</td>\n",
              "      <td>[Grasshoppers, are, plant, -, eaters, ,, with,...</td>\n",
              "      <td>(1, 37)</td>\n",
              "    </tr>\n",
              "    <tr>\n",
              "      <th>...</th>\n",
              "      <td>...</td>\n",
              "      <td>...</td>\n",
              "      <td>...</td>\n",
              "      <td>...</td>\n",
              "      <td>...</td>\n",
              "    </tr>\n",
              "    <tr>\n",
              "      <th>7384</th>\n",
              "      <td>english</td>\n",
              "      <td>[What, was, Neil, Brooks, ', fastest, recorded...</td>\n",
              "      <td>[Swimming, at, the, 1980, Summer, Olympics, –,...</td>\n",
              "      <td>[The, medley, relay, was, scheduled, in, the, ...</td>\n",
              "      <td>Annotation_error.UNANSWERED</td>\n",
              "    </tr>\n",
              "    <tr>\n",
              "      <th>7385</th>\n",
              "      <td>english</td>\n",
              "      <td>[Who, are, the, three, most, important, easter...</td>\n",
              "      <td>[Eastern, philosophy]</td>\n",
              "      <td>[Sāmkhya, is, a, dualist, philosophical, tradi...</td>\n",
              "      <td>Annotation_error.UNANSWERED</td>\n",
              "    </tr>\n",
              "    <tr>\n",
              "      <th>7386</th>\n",
              "      <td>english</td>\n",
              "      <td>[Who, was, costume, designer, for, the, first,...</td>\n",
              "      <td>[John, Mollo]</td>\n",
              "      <td>[Mollo, was, surprised, by, the, success, of, ...</td>\n",
              "      <td>Annotation_error.UNANSWERED</td>\n",
              "    </tr>\n",
              "    <tr>\n",
              "      <th>7387</th>\n",
              "      <td>english</td>\n",
              "      <td>[Who, developed, the, first, thermonuclear, we...</td>\n",
              "      <td>[History, of, nuclear, weapons]</td>\n",
              "      <td>[In, the, end, ,, President, Truman, made, the...</td>\n",
              "      <td>Annotation_error.UNANSWERED</td>\n",
              "    </tr>\n",
              "    <tr>\n",
              "      <th>7388</th>\n",
              "      <td>english</td>\n",
              "      <td>[What, is, the, population, of, Mahwah, ,, NJ, ?]</td>\n",
              "      <td>[Mahwah, ,, New, Jersey]</td>\n",
              "      <td>[The, previous, mayor, ,, Bill, Laforet, faced...</td>\n",
              "      <td>Annotation_error.UNANSWERED</td>\n",
              "    </tr>\n",
              "  </tbody>\n",
              "</table>\n",
              "<p>7389 rows × 5 columns</p>\n",
              "</div>\n",
              "      <button class=\"colab-df-convert\" onclick=\"convertToInteractive('df-4e79a0b5-40b1-4e4a-9b0f-154330439e61')\"\n",
              "              title=\"Convert this dataframe to an interactive table.\"\n",
              "              style=\"display:none;\">\n",
              "        \n",
              "  <svg xmlns=\"http://www.w3.org/2000/svg\" height=\"24px\"viewBox=\"0 0 24 24\"\n",
              "       width=\"24px\">\n",
              "    <path d=\"M0 0h24v24H0V0z\" fill=\"none\"/>\n",
              "    <path d=\"M18.56 5.44l.94 2.06.94-2.06 2.06-.94-2.06-.94-.94-2.06-.94 2.06-2.06.94zm-11 1L8.5 8.5l.94-2.06 2.06-.94-2.06-.94L8.5 2.5l-.94 2.06-2.06.94zm10 10l.94 2.06.94-2.06 2.06-.94-2.06-.94-.94-2.06-.94 2.06-2.06.94z\"/><path d=\"M17.41 7.96l-1.37-1.37c-.4-.4-.92-.59-1.43-.59-.52 0-1.04.2-1.43.59L10.3 9.45l-7.72 7.72c-.78.78-.78 2.05 0 2.83L4 21.41c.39.39.9.59 1.41.59.51 0 1.02-.2 1.41-.59l7.78-7.78 2.81-2.81c.8-.78.8-2.07 0-2.86zM5.41 20L4 18.59l7.72-7.72 1.47 1.35L5.41 20z\"/>\n",
              "  </svg>\n",
              "      </button>\n",
              "      \n",
              "  <style>\n",
              "    .colab-df-container {\n",
              "      display:flex;\n",
              "      flex-wrap:wrap;\n",
              "      gap: 12px;\n",
              "    }\n",
              "\n",
              "    .colab-df-convert {\n",
              "      background-color: #E8F0FE;\n",
              "      border: none;\n",
              "      border-radius: 50%;\n",
              "      cursor: pointer;\n",
              "      display: none;\n",
              "      fill: #1967D2;\n",
              "      height: 32px;\n",
              "      padding: 0 0 0 0;\n",
              "      width: 32px;\n",
              "    }\n",
              "\n",
              "    .colab-df-convert:hover {\n",
              "      background-color: #E2EBFA;\n",
              "      box-shadow: 0px 1px 2px rgba(60, 64, 67, 0.3), 0px 1px 3px 1px rgba(60, 64, 67, 0.15);\n",
              "      fill: #174EA6;\n",
              "    }\n",
              "\n",
              "    [theme=dark] .colab-df-convert {\n",
              "      background-color: #3B4455;\n",
              "      fill: #D2E3FC;\n",
              "    }\n",
              "\n",
              "    [theme=dark] .colab-df-convert:hover {\n",
              "      background-color: #434B5C;\n",
              "      box-shadow: 0px 1px 3px 1px rgba(0, 0, 0, 0.15);\n",
              "      filter: drop-shadow(0px 1px 2px rgba(0, 0, 0, 0.3));\n",
              "      fill: #FFFFFF;\n",
              "    }\n",
              "  </style>\n",
              "\n",
              "      <script>\n",
              "        const buttonEl =\n",
              "          document.querySelector('#df-4e79a0b5-40b1-4e4a-9b0f-154330439e61 button.colab-df-convert');\n",
              "        buttonEl.style.display =\n",
              "          google.colab.kernel.accessAllowed ? 'block' : 'none';\n",
              "\n",
              "        async function convertToInteractive(key) {\n",
              "          const element = document.querySelector('#df-4e79a0b5-40b1-4e4a-9b0f-154330439e61');\n",
              "          const dataTable =\n",
              "            await google.colab.kernel.invokeFunction('convertToInteractive',\n",
              "                                                     [key], {});\n",
              "          if (!dataTable) return;\n",
              "\n",
              "          const docLinkHtml = 'Like what you see? Visit the ' +\n",
              "            '<a target=\"_blank\" href=https://colab.research.google.com/notebooks/data_table.ipynb>data table notebook</a>'\n",
              "            + ' to learn more about interactive tables.';\n",
              "          element.innerHTML = '';\n",
              "          dataTable['output_type'] = 'display_data';\n",
              "          await google.colab.output.renderOutput(dataTable, element);\n",
              "          const docLink = document.createElement('div');\n",
              "          docLink.innerHTML = docLinkHtml;\n",
              "          element.appendChild(docLink);\n",
              "        }\n",
              "      </script>\n",
              "    </div>\n",
              "  </div>\n",
              "  "
            ]
          },
          "metadata": {},
          "execution_count": 8
        }
      ],
      "source": [
        "train_en"
      ]
    },
    {
      "cell_type": "code",
      "execution_count": 9,
      "id": "0921e760",
      "metadata": {
        "id": "0921e760"
      },
      "outputs": [],
      "source": [
        "# If the question is answered, then predict \"1\". Otherwise predict \"0\".\n",
        "def get_target(data):\n",
        "    answer_set = data['document_answer_region']\n",
        "    y = np.empty(answer_set.shape[0], dtype=np.int32)\n",
        "\n",
        "    for i, answer in enumerate(answer_set):\n",
        "        if type(answer) == Annotation_error and answer == Annotation_error.UNANSWERED: # @TODO: if we don't do the annotation stuff, then we can check for -1 here\n",
        "            y[i] = 0\n",
        "        else:\n",
        "            y[i] = 1\n",
        "    return y"
      ]
    },
    {
      "cell_type": "code",
      "execution_count": 10,
      "id": "9d2e6336",
      "metadata": {
        "id": "9d2e6336"
      },
      "outputs": [],
      "source": [
        "def token_to_id(token, tok2vec):\n",
        "    assert OOV_id != None\n",
        "\n",
        "    try:\n",
        "        id = tok2vec.get_index(token)\n",
        "    except:\n",
        "        id = OOV_id # OOV\n",
        "    return id"
      ]
    },
    {
      "cell_type": "code",
      "execution_count": 11,
      "id": "4153ddf2",
      "metadata": {
        "id": "4153ddf2"
      },
      "outputs": [],
      "source": [
        "def prepare_sample(question_tokens, document_tokens, tok2vec, question_max_length=512, document_max_length=1024):\n",
        "    question_ids = [token_to_id(token, tok2vec) for token in question_tokens[:question_max_length]]\n",
        "    document_ids = [token_to_id(token, tok2vec) for token in document_tokens[:document_max_length]]\n",
        "    return question_ids, len(question_ids), document_ids, len(document_ids)"
      ]
    },
    {
      "cell_type": "code",
      "execution_count": 12,
      "id": "51160c6a",
      "metadata": {
        "id": "51160c6a"
      },
      "outputs": [],
      "source": [
        "def pad_tokens(token_ids, token_lengths): # in a batch\n",
        "    assert pad_id != None\n",
        "    \n",
        "    max_length = max(token_lengths)\n",
        "    padded_ids = [(ids + [pad_id] * (max_length - len(ids))) for ids in token_ids]\n",
        "    \n",
        "    assert (all(len(padded) == max_length for padded in padded_ids))\n",
        "    \n",
        "    return padded_ids\n",
        "\n",
        "def collate_into_batch(raw_batch):\n",
        "    question_tokens = [sample[0] for sample in raw_batch]\n",
        "    question_lengths = [sample[1] for sample in raw_batch]\n",
        "    question_ids = pad_tokens(question_tokens, question_lengths)\n",
        "    \n",
        "    document_tokens = [sample[2] for sample in raw_batch]\n",
        "    document_lengths = [sample[3] for sample in raw_batch]\n",
        "    document_ids = pad_tokens(document_tokens, document_lengths)\n",
        "    \n",
        "    targets = [sample[4] for sample in raw_batch]\n",
        "\n",
        "    return torch.tensor(question_ids), torch.tensor(question_lengths), torch.tensor(document_ids), torch.tensor(document_lengths), torch.tensor(targets, dtype=torch.long)"
      ]
    },
    {
      "cell_type": "code",
      "execution_count": 13,
      "id": "10bbee8c",
      "metadata": {
        "id": "10bbee8c"
      },
      "outputs": [],
      "source": [
        "class QuestionAnsweredDatasetReader(Dataset):\n",
        "    \n",
        "    def __init__(self, df, tok2vec):\n",
        "        self.df = df\n",
        "        self.tok2vec = tok2vec\n",
        "        self.targets = get_target(df)\n",
        "        \n",
        "    def __len__(self):\n",
        "        return len(self.df)\n",
        "\n",
        "    def __getitem__(self, idx):\n",
        "        row = self.df.values[idx]\n",
        "        question_tokens = row[1]\n",
        "        document_tokens = row[3]\n",
        "        target = self.targets[idx]\n",
        "        \n",
        "        question_ids, question_lengths, document_ids, document_lengths = prepare_sample(question_tokens, document_tokens, self.tok2vec)\n",
        "        \n",
        "        return question_ids, question_lengths, document_ids, document_lengths, target"
      ]
    },
    {
      "cell_type": "code",
      "execution_count": 14,
      "id": "ef5df6d1",
      "metadata": {
        "id": "ef5df6d1"
      },
      "outputs": [],
      "source": [
        "class LSTM_Network(nn.Module):\n",
        "\n",
        "    def __init__(self, pretrained_embeddings: torch.tensor, lstm_dim: int = 100, n_classes: int = 2):\n",
        "        super(LSTM_Network, self).__init__()\n",
        "        \n",
        "        self.word_embeddings = nn.Embedding.from_pretrained(pretrained_embeddings)\n",
        "        self.lstm = nn.LSTM(pretrained_embeddings.shape[1], lstm_dim, batch_first=True)\n",
        "        self.linear = nn.Linear(2*lstm_dim, n_classes)\n",
        "\n",
        "    def forward(self, q_ids, q_lengths, d_ids, d_lengths):\n",
        "        q_embeds = self.word_embeddings(q_ids)\n",
        "        lstm_out, _ = self.lstm(q_embeds)\n",
        "        q_ff_in = torch.max(lstm_out, 1)[0]\n",
        "        \n",
        "        d_embeds = self.word_embeddings(d_ids)\n",
        "        lstm_out, _ = self.lstm(d_embeds)\n",
        "        d_ff_in = torch.max(lstm_out, 1)[0]\n",
        "        \n",
        "        ff_in = torch.cat((q_ff_in, d_ff_in), dim=-1)\n",
        "        \n",
        "        logits = self.linear(ff_in)\n",
        "        return logits\n"
      ]
    },
    {
      "cell_type": "code",
      "execution_count": 68,
      "id": "7888de0e",
      "metadata": {
        "id": "7888de0e"
      },
      "outputs": [],
      "source": [
        "class BiLSTM_Network(nn.Module):\n",
        "\n",
        "    def __init__(self, pretrained_embeddings: torch.tensor, lstm_dim: int = 100, n_classes: int = 2):\n",
        "        super(BiLSTM_Network, self).__init__()\n",
        "\n",
        "        self.lstm_dim = lstm_dim\n",
        "        self.n_classes = n_classes\n",
        "        \n",
        "        self.embedding = nn.Embedding.from_pretrained(pretrained_embeddings, padding_idx=pretrained_embeddings.shape[0] - 1)\n",
        "        self.biLSTM = nn.LSTM(pretrained_embeddings.shape[1], lstm_dim, 1, batch_first=True, bidirectional=True)\n",
        "        self.linear = nn.Linear(2*2*lstm_dim, n_classes)\n",
        "        \n",
        "    def forward(self, q_ids, q_lengths, d_ids, d_lengths):\n",
        "        q_embeds = self.embedding(q_ids)\n",
        "        lstm_in = nn.utils.rnn.pack_padded_sequence(q_embeds, q_lengths.cpu(), batch_first=True, enforce_sorted=False)\n",
        "        lstm_out, _hidden = self.biLSTM(lstm_in)\n",
        "        lstm_out, _ = nn.utils.rnn.pad_packed_sequence(lstm_out, batch_first=True)\n",
        "        q_ff_in = torch.max(lstm_out, 1)[0]\n",
        "\n",
        "        d_embeds = self.embedding(d_ids)\n",
        "        lstm_in = nn.utils.rnn.pack_padded_sequence(d_embeds, d_lengths.cpu(), batch_first=True, enforce_sorted=False)\n",
        "        lstm_out, _hidden = self.biLSTM(lstm_in)\n",
        "        lstm_out, _ = nn.utils.rnn.pad_packed_sequence(lstm_out, batch_first=True)\n",
        "        d_ff_in = torch.max(lstm_out, 1)[0]\n",
        "\n",
        "        ff_in = torch.cat((q_ff_in, d_ff_in), dim=-1)\n",
        "        \n",
        "        logits = self.linear(ff_in)\n",
        "        \n",
        "        return logits"
      ]
    },
    {
      "cell_type": "code",
      "execution_count": 69,
      "id": "985c1223",
      "metadata": {
        "id": "985c1223"
      },
      "outputs": [],
      "source": [
        "def prepare_embedding_matrix(embed_matrix):\n",
        "    embed_dim = embed_matrix.shape[1]\n",
        "    pad = torch.zeros(embed_dim, dtype=torch.float32)\n",
        "    OOV = torch.zeros(embed_dim, dtype=torch.float32)\n",
        "    embed_pre = torch.tensor(embed_matrix, dtype=torch.float32)\n",
        "    \n",
        "    OOV_id = embed_pre.shape[0]           \n",
        "    pad_id = embed_pre.shape[0] + 1\n",
        "                 \n",
        "    return torch.vstack((embed_pre, pad, OOV)), pad_id, OOV_id"
      ]
    },
    {
      "cell_type": "code",
      "execution_count": 79,
      "id": "04081f93",
      "metadata": {
        "id": "04081f93"
      },
      "outputs": [],
      "source": [
        "def test_forward_pass(model: nn.Module):\n",
        "    \"\"\"\n",
        "    A simple function to quickly debug the net\n",
        "    \"\"\"\n",
        "    # Test the forward pass with dummy data\n",
        "    q = torch.tensor([[42, 1, 8, 0]], dtype=torch.int).to(device)\n",
        "    q_lengths = torch.tensor([3], dtype=torch.int).to(device)\n",
        "    d = torch.tensor([[42, 1, 8, 0]], dtype=torch.int).to(device)\n",
        "    d_lengths = torch.tensor([3], dtype=torch.int).to(device)\n",
        "\n",
        "    out = model.forward(q, q_lengths, d, d_lengths)\n",
        "\n",
        "    print(\"Output shape:\", out.size())\n",
        "    print(f\"Output logits:\\n{out.cpu().detach().numpy()}\")"
      ]
    },
    {
      "cell_type": "code",
      "execution_count": 80,
      "id": "f939ab75",
      "metadata": {
        "id": "f939ab75"
      },
      "outputs": [],
      "source": [
        "def summarize_batch(token_ids, sequence_lengths):\n",
        "    actual_length = torch.sum(sequence_lengths)\n",
        "    total_length = np.sum([len(question) for question in token_ids])\n",
        "    \n",
        "    OOV_count = np.sum([torch.sum(question == OOV_id) for question in token_ids])\n",
        "    print(\"OOV: {}/{}\".format(OOV_count, total_length))\n",
        "    \n",
        "    pad_count = np.sum([torch.sum(question == pad_id) for question in token_ids])\n",
        "    print(\"PAD: {}/{}\".format(pad_count, total_length))   "
      ]
    },
    {
      "cell_type": "code",
      "source": [
        "def transfer_batch(q_ids, q_lengths, d_ids, d_lengths, targets):\n",
        "  q_ids = q_ids.to(device)\n",
        "  q_lengths = q_lengths.to(device)\n",
        "  d_ids = d_ids.to(device)\n",
        "  d_lengths = d_lengths.to(device)\n",
        "  targets = targets.to(device)\n",
        "  return q_ids, q_lengths, d_ids, d_lengths, targets     "
      ],
      "metadata": {
        "id": "aFZbJkbSON6L"
      },
      "id": "aFZbJkbSON6L",
      "execution_count": 171,
      "outputs": []
    },
    {
      "cell_type": "code",
      "execution_count": 208,
      "id": "43eea9e6",
      "metadata": {
        "id": "43eea9e6"
      },
      "outputs": [],
      "source": [
        "def train(model: nn.Module, train_data, validation_data, n_epochs = 10, batch_size = 64):\n",
        "    loss_fn = nn.CrossEntropyLoss()\n",
        "    optimizer = optim.Adam(model.parameters()) #, weight_decay=1e-6\n",
        "\n",
        "    # Load dataset\n",
        "    train_dataset = QuestionAnsweredDatasetReader(train_data, tok2vec)\n",
        "    train_dataloader = DataLoader(train_dataset, batch_size=batch_size, shuffle=True, collate_fn=collate_into_batch)\n",
        "\n",
        "    val_dataset = QuestionAnsweredDatasetReader(validation_data, tok2vec)\n",
        "    val_dataloader = DataLoader(val_dataset, batch_size=batch_size, shuffle=False, collate_fn=collate_into_batch)\n",
        "\n",
        "    # store improvement per epoch\n",
        "    train_losses = []\n",
        "    train_accuracies = []\n",
        "    test_accuracies = []\n",
        "\n",
        "    for epoch in range(n_epochs):\n",
        "\n",
        "        ### Training\n",
        "        model.train()\n",
        "\n",
        "        # Store batch loss and accuracy\n",
        "        loss_epoch = []\n",
        "        accuracy_epoch = []\n",
        "\n",
        "        batch_pbar = tqdm(train_dataloader)\n",
        "        for q_ids, q_lengths, d_ids, d_lengths, targets in batch_pbar:\n",
        "            q_ids, q_lengths, d_ids, d_lengths, targets = transfer_batch(q_ids, q_lengths, d_ids, d_lengths, targets)\n",
        "            \n",
        "            # training\n",
        "            outputs = model(q_ids, q_lengths, d_ids, d_lengths)\n",
        "            loss = loss_fn(outputs, targets)\n",
        "\n",
        "            optimizer.zero_grad()\n",
        "            loss.backward()\n",
        "            optimizer.step()\n",
        "\n",
        "            # prediction\n",
        "            predictions = outputs.max(1)[1]\n",
        "            accuracy = accuracy_score(targets.cpu(), predictions.cpu())\n",
        "\n",
        "            loss_epoch.append(loss.detach().cpu().item())\n",
        "            accuracy_epoch.append(accuracy)\n",
        "\n",
        "            batch_pbar.set_description(f\"epoch={epoch+1}/{n_epochs} | loss={loss.item():.2f}, accuracy={accuracy:.2f}\")\n",
        "\n",
        "        train_loss = np.mean(loss_epoch)\n",
        "        train_losses.append(train_loss)\n",
        "\n",
        "        train_acc = np.mean(accuracy_epoch)\n",
        "        train_accuracies.append(train_acc)\n",
        "\n",
        "        ### Evaluation\n",
        "        test_acc = evaluate(model, val_dataloader)\n",
        "        test_accuracies.append(test_acc)\n",
        "\n",
        "        print(f\"epoch={epoch+1}/{n_epochs} | loss={train_loss:.2f}, train_accuracy={train_acc:.2f}, test_accuracy={test_acc:.2f}\")\n",
        "\n",
        "    print(\"Finished training.\")\n",
        "    \n",
        "    return train_losses, train_accuracies, test_accuracies"
      ]
    },
    {
      "cell_type": "code",
      "execution_count": 209,
      "id": "1e3c8881",
      "metadata": {
        "id": "1e3c8881"
      },
      "outputs": [],
      "source": [
        "def evaluate(model: nn.Module, valid_dl: DataLoader):\n",
        "    model.eval()\n",
        "\n",
        "    logits_all = []\n",
        "    targets_all = []\n",
        "\n",
        "    with torch.no_grad():\n",
        "        for q_ids, q_lengths, d_ids, d_lengths, targets in valid_dl:\n",
        "            q_ids, q_lengths, d_ids, d_lengths, targets = transfer_batch(q_ids, q_lengths, d_ids, d_lengths, targets)\n",
        "\n",
        "            logits = model(q_ids, q_lengths, d_ids, d_lengths)\n",
        "\n",
        "            targets_all.extend(targets.detach().cpu().numpy())\n",
        "\n",
        "            predictions = logits.max(1)[1].cpu()\n",
        "            logits_all.extend(predictions)\n",
        "            \n",
        "        acc = accuracy_score(logits_all, targets_all)\n",
        "\n",
        "    return acc"
      ]
    },
    {
      "cell_type": "code",
      "execution_count": 210,
      "id": "f0278d8a",
      "metadata": {
        "id": "f0278d8a"
      },
      "outputs": [],
      "source": [
        "def plot_network_learning(model_name, train_accuracies, test_accuracies, train_losses=None):\n",
        "    fig, ax = plt.subplots(figsize=(6,6))\n",
        "    \n",
        "    ax.grid(linestyle=\"--\")\n",
        "    ax.set_title(model_name)\n",
        "    ax.set_ylabel(\"Accuracy\")\n",
        "    ax.set_xlabel(\"Epoch\")\n",
        "\n",
        "    epoch_range = np.arange(len(train_accuracies), step=1)\n",
        "    ax.plot(epoch_range, train_accuracies)\n",
        "    ax.plot(epoch_range, test_accuracies)\n",
        "    ax.legend([\"Train Accuracy\", \"Validation Accuracy\"], loc=\"upper left\")\n",
        "    \n",
        "    ax.set_yticks(np.linspace(0.5, 1, 11))\n",
        "    ax.set_xticks(epoch_range)\n",
        "    \n",
        "    if train_losses != None:\n",
        "        ax2 = ax.twinx()\n",
        "        ax2.plot(epoch_range, train_losses, c=\"g\")\n",
        "        ax2.set_yticks(np.linspace(0, 1, 11))\n",
        "        ax2.set_ylabel(\"Loss\")\n",
        "        ax2.legend([\"Train Loss\"], loc=\"upper right\")"
      ]
    },
    {
      "cell_type": "code",
      "execution_count": 211,
      "id": "721fe0cd",
      "metadata": {
        "id": "721fe0cd"
      },
      "outputs": [],
      "source": [
        "device = torch.device(\"cuda\") if torch.cuda.is_available() else torch.device(\"cpu\")"
      ]
    },
    {
      "cell_type": "code",
      "execution_count": 212,
      "id": "cd5d9bd9",
      "metadata": {
        "id": "cd5d9bd9",
        "colab": {
          "base_uri": "https://localhost:8080/"
        },
        "outputId": "fdba90c1-a7fc-4dbb-f2cb-9743b01948a7"
      },
      "outputs": [
        {
          "output_type": "execute_result",
          "data": {
            "text/plain": [
              "device(type='cuda')"
            ]
          },
          "metadata": {},
          "execution_count": 212
        }
      ],
      "source": [
        "device"
      ]
    },
    {
      "cell_type": "markdown",
      "id": "5f68638f",
      "metadata": {
        "id": "5f68638f"
      },
      "source": [
        "## English"
      ]
    },
    {
      "cell_type": "code",
      "execution_count": 219,
      "id": "fcfbc72b",
      "metadata": {
        "id": "fcfbc72b",
        "colab": {
          "base_uri": "https://localhost:8080/"
        },
        "outputId": "68b426ce-14bc-4de7-a619-467d7c212f60"
      },
      "outputs": [
        {
          "output_type": "stream",
          "name": "stdout",
          "text": [
            "BiLSTM_Network(\n",
            "  (embedding): Embedding(20002, 300, padding_idx=20001)\n",
            "  (biLSTM): LSTM(300, 100, batch_first=True, bidirectional=True)\n",
            "  (linear): Linear(in_features=400, out_features=2, bias=True)\n",
            ")\n"
          ]
        }
      ],
      "source": [
        "# Setup Model\n",
        "tok2vec = compress_fasttext.models.CompressedFastTextKeyedVectors.load(\"fasttext-en-mini\")\n",
        "pretrained_embeddings, pad_id, OOV_id = prepare_embedding_matrix(tok2vec.get_normed_vectors())\n",
        "\n",
        "model = BiLSTM_Network(pretrained_embeddings)\n",
        "model.to(device)\n",
        "\n",
        "print(model)"
      ]
    },
    {
      "cell_type": "code",
      "execution_count": 214,
      "id": "433ccaff",
      "metadata": {
        "id": "433ccaff",
        "colab": {
          "base_uri": "https://localhost:8080/"
        },
        "outputId": "44d4a6c7-d672-44ee-c4b6-6234aed9d3cb"
      },
      "outputs": [
        {
          "output_type": "stream",
          "name": "stdout",
          "text": [
            "Output shape: torch.Size([1, 2])\n",
            "Output logits:\n",
            "[[ 0.05235444 -0.01755815]]\n"
          ]
        }
      ],
      "source": [
        "test_forward_pass(model)"
      ]
    },
    {
      "cell_type": "code",
      "execution_count": 220,
      "id": "397e2d2d",
      "metadata": {
        "id": "397e2d2d",
        "colab": {
          "base_uri": "https://localhost:8080/"
        },
        "outputId": "af052338-cde2-4fc4-f9a8-89b4b6737b92"
      },
      "outputs": [
        {
          "output_type": "stream",
          "name": "stderr",
          "text": [
            "epoch=1/10 | loss=0.64, accuracy=0.66: 100%|██████████| 116/116 [00:07<00:00, 15.78it/s]\n"
          ]
        },
        {
          "output_type": "stream",
          "name": "stdout",
          "text": [
            "epoch=1/10 | loss=0.66, train_accuracy=0.61, test_accuracy=0.53\n"
          ]
        },
        {
          "output_type": "stream",
          "name": "stderr",
          "text": [
            "epoch=2/10 | loss=0.59, accuracy=0.72: 100%|██████████| 116/116 [00:07<00:00, 15.78it/s]\n"
          ]
        },
        {
          "output_type": "stream",
          "name": "stdout",
          "text": [
            "epoch=2/10 | loss=0.57, train_accuracy=0.71, test_accuracy=0.72\n"
          ]
        },
        {
          "output_type": "stream",
          "name": "stderr",
          "text": [
            "epoch=3/10 | loss=0.50, accuracy=0.76: 100%|██████████| 116/116 [00:06<00:00, 17.47it/s]\n"
          ]
        },
        {
          "output_type": "stream",
          "name": "stdout",
          "text": [
            "epoch=3/10 | loss=0.52, train_accuracy=0.75, test_accuracy=0.77\n"
          ]
        },
        {
          "output_type": "stream",
          "name": "stderr",
          "text": [
            "epoch=4/10 | loss=0.46, accuracy=0.83: 100%|██████████| 116/116 [00:06<00:00, 17.50it/s]\n"
          ]
        },
        {
          "output_type": "stream",
          "name": "stdout",
          "text": [
            "epoch=4/10 | loss=0.48, train_accuracy=0.78, test_accuracy=0.78\n"
          ]
        },
        {
          "output_type": "stream",
          "name": "stderr",
          "text": [
            "epoch=5/10 | loss=0.29, accuracy=0.93: 100%|██████████| 116/116 [00:06<00:00, 17.64it/s]\n"
          ]
        },
        {
          "output_type": "stream",
          "name": "stdout",
          "text": [
            "epoch=5/10 | loss=0.46, train_accuracy=0.79, test_accuracy=0.79\n"
          ]
        },
        {
          "output_type": "stream",
          "name": "stderr",
          "text": [
            "epoch=6/10 | loss=0.47, accuracy=0.79: 100%|██████████| 116/116 [00:06<00:00, 17.54it/s]\n"
          ]
        },
        {
          "output_type": "stream",
          "name": "stdout",
          "text": [
            "epoch=6/10 | loss=0.44, train_accuracy=0.80, test_accuracy=0.80\n"
          ]
        },
        {
          "output_type": "stream",
          "name": "stderr",
          "text": [
            "epoch=7/10 | loss=0.40, accuracy=0.83: 100%|██████████| 116/116 [00:07<00:00, 15.32it/s]\n"
          ]
        },
        {
          "output_type": "stream",
          "name": "stdout",
          "text": [
            "epoch=7/10 | loss=0.43, train_accuracy=0.80, test_accuracy=0.79\n"
          ]
        },
        {
          "output_type": "stream",
          "name": "stderr",
          "text": [
            "epoch=8/10 | loss=0.53, accuracy=0.79: 100%|██████████| 116/116 [00:06<00:00, 16.74it/s]\n"
          ]
        },
        {
          "output_type": "stream",
          "name": "stdout",
          "text": [
            "epoch=8/10 | loss=0.42, train_accuracy=0.81, test_accuracy=0.78\n"
          ]
        },
        {
          "output_type": "stream",
          "name": "stderr",
          "text": [
            "epoch=9/10 | loss=0.59, accuracy=0.62: 100%|██████████| 116/116 [00:06<00:00, 17.34it/s]\n"
          ]
        },
        {
          "output_type": "stream",
          "name": "stdout",
          "text": [
            "epoch=9/10 | loss=0.41, train_accuracy=0.82, test_accuracy=0.79\n"
          ]
        },
        {
          "output_type": "stream",
          "name": "stderr",
          "text": [
            "epoch=10/10 | loss=0.31, accuracy=0.86: 100%|██████████| 116/116 [00:06<00:00, 17.55it/s]\n"
          ]
        },
        {
          "output_type": "stream",
          "name": "stdout",
          "text": [
            "epoch=10/10 | loss=0.39, train_accuracy=0.83, test_accuracy=0.81\n",
            "Finished training.\n"
          ]
        }
      ],
      "source": [
        "train_result_en = train(model, train_en, validation_en)"
      ]
    },
    {
      "cell_type": "code",
      "execution_count": 221,
      "id": "55a0e9d2",
      "metadata": {
        "id": "55a0e9d2",
        "colab": {
          "base_uri": "https://localhost:8080/",
          "height": 404
        },
        "outputId": "705b30be-759b-41c5-9f49-0db3967a1cf8"
      },
      "outputs": [
        {
          "output_type": "display_data",
          "data": {
            "text/plain": [
              "<Figure size 432x432 with 2 Axes>"
            ],
            "image/png": "[encoded data removed]"
          },
          "metadata": {
            "needs_background": "light"
          }
        }
      ],
      "source": [
        "train_losses, train_accuracies, test_accuracies = train_result_en\n",
        "plot_network_learning(\"biLSTM model\", train_accuracies, test_accuracies, train_losses)"
      ]
    },
    {
      "cell_type": "markdown",
      "id": "605bbe32",
      "metadata": {
        "id": "605bbe32"
      },
      "source": [
        "## Finnish"
      ]
    },
    {
      "cell_type": "code",
      "execution_count": 222,
      "id": "899c715b",
      "metadata": {
        "id": "899c715b",
        "colab": {
          "base_uri": "https://localhost:8080/"
        },
        "outputId": "3d38024c-7a46-45f1-8a57-406f5d69252a"
      },
      "outputs": [
        {
          "output_type": "stream",
          "name": "stdout",
          "text": [
            "BiLSTM_Network(\n",
            "  (embedding): Embedding(20002, 300, padding_idx=20001)\n",
            "  (biLSTM): LSTM(300, 100, batch_first=True, bidirectional=True)\n",
            "  (linear): Linear(in_features=400, out_features=2, bias=True)\n",
            ")\n"
          ]
        }
      ],
      "source": [
        "# Setup Model\n",
        "tok2vec = compress_fasttext.models.CompressedFastTextKeyedVectors.load(\"fasttext-fi-mini\")\n",
        "pretrained_embeddings, pad_id, OOV_id = prepare_embedding_matrix(tok2vec.get_normed_vectors())\n",
        "\n",
        "model = BiLSTM_Network(pretrained_embeddings)\n",
        "model.to(device)\n",
        "\n",
        "print(model)"
      ]
    },
    {
      "cell_type": "code",
      "execution_count": 223,
      "id": "bd778bb9",
      "metadata": {
        "id": "bd778bb9",
        "colab": {
          "base_uri": "https://localhost:8080/"
        },
        "outputId": "05d1d2c3-0e4a-406e-f49b-4f5f1daac7f4"
      },
      "outputs": [
        {
          "output_type": "stream",
          "name": "stderr",
          "text": [
            "epoch=1/10 | loss=0.58, accuracy=0.40: 100%|██████████| 215/215 [00:07<00:00, 26.90it/s]\n"
          ]
        },
        {
          "output_type": "stream",
          "name": "stdout",
          "text": [
            "epoch=1/10 | loss=0.57, train_accuracy=0.68, test_accuracy=0.73\n"
          ]
        },
        {
          "output_type": "stream",
          "name": "stderr",
          "text": [
            "epoch=2/10 | loss=0.28, accuracy=1.00: 100%|██████████| 215/215 [00:07<00:00, 27.31it/s]\n"
          ]
        },
        {
          "output_type": "stream",
          "name": "stdout",
          "text": [
            "epoch=2/10 | loss=0.49, train_accuracy=0.76, test_accuracy=0.75\n"
          ]
        },
        {
          "output_type": "stream",
          "name": "stderr",
          "text": [
            "epoch=3/10 | loss=0.14, accuracy=1.00: 100%|██████████| 215/215 [00:07<00:00, 27.19it/s]\n"
          ]
        },
        {
          "output_type": "stream",
          "name": "stdout",
          "text": [
            "epoch=3/10 | loss=0.45, train_accuracy=0.78, test_accuracy=0.76\n"
          ]
        },
        {
          "output_type": "stream",
          "name": "stderr",
          "text": [
            "epoch=4/10 | loss=0.15, accuracy=1.00: 100%|██████████| 215/215 [00:07<00:00, 27.14it/s]\n"
          ]
        },
        {
          "output_type": "stream",
          "name": "stdout",
          "text": [
            "epoch=4/10 | loss=0.44, train_accuracy=0.79, test_accuracy=0.77\n"
          ]
        },
        {
          "output_type": "stream",
          "name": "stderr",
          "text": [
            "epoch=5/10 | loss=0.25, accuracy=0.80: 100%|██████████| 215/215 [00:07<00:00, 27.42it/s]\n"
          ]
        },
        {
          "output_type": "stream",
          "name": "stdout",
          "text": [
            "epoch=5/10 | loss=0.43, train_accuracy=0.79, test_accuracy=0.78\n"
          ]
        },
        {
          "output_type": "stream",
          "name": "stderr",
          "text": [
            "epoch=6/10 | loss=0.35, accuracy=0.80: 100%|██████████| 215/215 [00:07<00:00, 27.64it/s]\n"
          ]
        },
        {
          "output_type": "stream",
          "name": "stdout",
          "text": [
            "epoch=6/10 | loss=0.41, train_accuracy=0.81, test_accuracy=0.77\n"
          ]
        },
        {
          "output_type": "stream",
          "name": "stderr",
          "text": [
            "epoch=7/10 | loss=0.11, accuracy=1.00: 100%|██████████| 215/215 [00:07<00:00, 27.39it/s]\n"
          ]
        },
        {
          "output_type": "stream",
          "name": "stdout",
          "text": [
            "epoch=7/10 | loss=0.40, train_accuracy=0.82, test_accuracy=0.77\n"
          ]
        },
        {
          "output_type": "stream",
          "name": "stderr",
          "text": [
            "epoch=8/10 | loss=0.91, accuracy=0.40: 100%|██████████| 215/215 [00:07<00:00, 27.38it/s]\n"
          ]
        },
        {
          "output_type": "stream",
          "name": "stdout",
          "text": [
            "epoch=8/10 | loss=0.39, train_accuracy=0.82, test_accuracy=0.78\n"
          ]
        },
        {
          "output_type": "stream",
          "name": "stderr",
          "text": [
            "epoch=9/10 | loss=0.08, accuracy=1.00: 100%|██████████| 215/215 [00:08<00:00, 26.84it/s]\n"
          ]
        },
        {
          "output_type": "stream",
          "name": "stdout",
          "text": [
            "epoch=9/10 | loss=0.38, train_accuracy=0.83, test_accuracy=0.77\n"
          ]
        },
        {
          "output_type": "stream",
          "name": "stderr",
          "text": [
            "epoch=10/10 | loss=0.20, accuracy=1.00: 100%|██████████| 215/215 [00:08<00:00, 24.34it/s]\n"
          ]
        },
        {
          "output_type": "stream",
          "name": "stdout",
          "text": [
            "epoch=10/10 | loss=0.35, train_accuracy=0.84, test_accuracy=0.76\n",
            "Finished training.\n"
          ]
        }
      ],
      "source": [
        "train_result_fi = train(model, train_fi, validation_fi)"
      ]
    },
    {
      "cell_type": "code",
      "execution_count": 224,
      "id": "648b50cc",
      "metadata": {
        "id": "648b50cc",
        "colab": {
          "base_uri": "https://localhost:8080/",
          "height": 404
        },
        "outputId": "386bd977-ea73-4e69-d382-aaa8480f87ef"
      },
      "outputs": [
        {
          "output_type": "display_data",
          "data": {
            "text/plain": [
              "<Figure size 432x432 with 2 Axes>"
            ],
            "image/png": "[encoded data removed]"
          },
          "metadata": {
            "needs_background": "light"
          }
        }
      ],
      "source": [
        "train_losses, train_accuracies, test_accuracies = train_result_fi\n",
        "plot_network_learning(\"biLSTM model\", train_accuracies, test_accuracies, train_losses)"
      ]
    },
    {
      "cell_type": "markdown",
      "id": "b04011d8",
      "metadata": {
        "id": "b04011d8"
      },
      "source": [
        "## Japanese"
      ]
    },
    {
      "cell_type": "code",
      "execution_count": 225,
      "id": "d14b7e7a",
      "metadata": {
        "id": "d14b7e7a",
        "outputId": "ffe68cc0-eaba-424d-a711-1155428c04aa",
        "colab": {
          "base_uri": "https://localhost:8080/"
        }
      },
      "outputs": [
        {
          "output_type": "stream",
          "name": "stdout",
          "text": [
            "BiLSTM_Network(\n",
            "  (embedding): Embedding(20002, 300, padding_idx=20001)\n",
            "  (biLSTM): LSTM(300, 100, batch_first=True, bidirectional=True)\n",
            "  (linear): Linear(in_features=400, out_features=2, bias=True)\n",
            ")\n"
          ]
        }
      ],
      "source": [
        "# Setup Model\n",
        "tok2vec = compress_fasttext.models.CompressedFastTextKeyedVectors.load(\"fasttext-ja-mini\")\n",
        "pretrained_embeddings, pad_id, OOV_id = prepare_embedding_matrix(tok2vec.get_normed_vectors())\n",
        "\n",
        "model = BiLSTM_Network(pretrained_embeddings)\n",
        "model.to(device)\n",
        "\n",
        "print(model)"
      ]
    },
    {
      "cell_type": "code",
      "execution_count": 226,
      "id": "a6892c39",
      "metadata": {
        "id": "a6892c39",
        "outputId": "d0f40e6b-31bd-46e5-8bb4-486dbbd26910",
        "colab": {
          "base_uri": "https://localhost:8080/"
        }
      },
      "outputs": [
        {
          "output_type": "stream",
          "name": "stderr",
          "text": [
            "epoch=1/10 | loss=0.67, accuracy=0.60: 100%|██████████| 138/138 [00:11<00:00, 12.12it/s]\n"
          ]
        },
        {
          "output_type": "stream",
          "name": "stdout",
          "text": [
            "epoch=1/10 | loss=0.65, train_accuracy=0.61, test_accuracy=0.60\n"
          ]
        },
        {
          "output_type": "stream",
          "name": "stderr",
          "text": [
            "epoch=2/10 | loss=0.81, accuracy=0.50: 100%|██████████| 138/138 [00:11<00:00, 12.15it/s]\n"
          ]
        },
        {
          "output_type": "stream",
          "name": "stdout",
          "text": [
            "epoch=2/10 | loss=0.59, train_accuracy=0.68, test_accuracy=0.67\n"
          ]
        },
        {
          "output_type": "stream",
          "name": "stderr",
          "text": [
            "epoch=3/10 | loss=0.48, accuracy=0.90: 100%|██████████| 138/138 [00:12<00:00, 11.46it/s]\n"
          ]
        },
        {
          "output_type": "stream",
          "name": "stdout",
          "text": [
            "epoch=3/10 | loss=0.54, train_accuracy=0.72, test_accuracy=0.71\n"
          ]
        },
        {
          "output_type": "stream",
          "name": "stderr",
          "text": [
            "epoch=4/10 | loss=0.66, accuracy=0.70: 100%|██████████| 138/138 [00:11<00:00, 12.12it/s]\n"
          ]
        },
        {
          "output_type": "stream",
          "name": "stdout",
          "text": [
            "epoch=4/10 | loss=0.51, train_accuracy=0.75, test_accuracy=0.73\n"
          ]
        },
        {
          "output_type": "stream",
          "name": "stderr",
          "text": [
            "epoch=5/10 | loss=0.37, accuracy=0.80: 100%|██████████| 138/138 [00:11<00:00, 12.17it/s]\n"
          ]
        },
        {
          "output_type": "stream",
          "name": "stdout",
          "text": [
            "epoch=5/10 | loss=0.48, train_accuracy=0.77, test_accuracy=0.72\n"
          ]
        },
        {
          "output_type": "stream",
          "name": "stderr",
          "text": [
            "epoch=6/10 | loss=0.23, accuracy=0.90: 100%|██████████| 138/138 [00:11<00:00, 12.10it/s]\n"
          ]
        },
        {
          "output_type": "stream",
          "name": "stdout",
          "text": [
            "epoch=6/10 | loss=0.47, train_accuracy=0.78, test_accuracy=0.74\n"
          ]
        },
        {
          "output_type": "stream",
          "name": "stderr",
          "text": [
            "epoch=7/10 | loss=0.41, accuracy=0.70: 100%|██████████| 138/138 [00:11<00:00, 12.05it/s]\n"
          ]
        },
        {
          "output_type": "stream",
          "name": "stdout",
          "text": [
            "epoch=7/10 | loss=0.45, train_accuracy=0.79, test_accuracy=0.72\n"
          ]
        },
        {
          "output_type": "stream",
          "name": "stderr",
          "text": [
            "epoch=8/10 | loss=0.60, accuracy=0.80: 100%|██████████| 138/138 [00:11<00:00, 12.10it/s]\n"
          ]
        },
        {
          "output_type": "stream",
          "name": "stdout",
          "text": [
            "epoch=8/10 | loss=0.44, train_accuracy=0.80, test_accuracy=0.75\n"
          ]
        },
        {
          "output_type": "stream",
          "name": "stderr",
          "text": [
            "epoch=9/10 | loss=0.56, accuracy=0.80: 100%|██████████| 138/138 [00:11<00:00, 12.19it/s]\n"
          ]
        },
        {
          "output_type": "stream",
          "name": "stdout",
          "text": [
            "epoch=9/10 | loss=0.42, train_accuracy=0.81, test_accuracy=0.75\n"
          ]
        },
        {
          "output_type": "stream",
          "name": "stderr",
          "text": [
            "epoch=10/10 | loss=0.40, accuracy=0.90: 100%|██████████| 138/138 [00:11<00:00, 12.17it/s]\n"
          ]
        },
        {
          "output_type": "stream",
          "name": "stdout",
          "text": [
            "epoch=10/10 | loss=0.40, train_accuracy=0.82, test_accuracy=0.76\n",
            "Finished training.\n"
          ]
        }
      ],
      "source": [
        "train_result_ja = train(model, train_ja, validation_ja)"
      ]
    },
    {
      "cell_type": "code",
      "execution_count": 227,
      "id": "a1f23b3f",
      "metadata": {
        "id": "a1f23b3f",
        "colab": {
          "base_uri": "https://localhost:8080/",
          "height": 404
        },
        "outputId": "0b30d554-5c0b-42b0-c9cf-d4118e0b428f"
      },
      "outputs": [
        {
          "output_type": "display_data",
          "data": {
            "text/plain": [
              "<Figure size 432x432 with 2 Axes>"
            ],
            "image/png": "[encoded data removed]"
          },
          "metadata": {
            "needs_background": "light"
          }
        }
      ],
      "source": [
        "train_losses, train_accuracies, test_accuracies = train_result_ja\n",
        "plot_network_learning(\"LSTM model\", train_accuracies, test_accuracies, train_losses)"
      ]
    },
    {
      "cell_type": "markdown",
      "id": "497fb67f",
      "metadata": {
        "id": "497fb67f"
      },
      "source": [
        "## Misc"
      ]
    },
    {
      "cell_type": "code",
      "execution_count": null,
      "id": "ffc59626",
      "metadata": {
        "id": "ffc59626",
        "outputId": "c3c463ad-d2cd-42d5-a4b2-a352985723b4"
      },
      "outputs": [
        {
          "name": "stderr",
          "output_type": "stream",
          "text": [
            "Warning : `load_model` does not return WordVectorModel or SupervisedModel any more, but a `FastText` object which is very similar.\n"
          ]
        }
      ],
      "source": [
        "ft = fasttext.load_model('cc.en.300.bin')"
      ]
    },
    {
      "cell_type": "code",
      "execution_count": null,
      "id": "1e8b22c1",
      "metadata": {
        "id": "1e8b22c1",
        "outputId": "a8bfe5b0-0bc5-46c3-b654-baf01caa44f0"
      },
      "outputs": [
        {
          "data": {
            "text/plain": [
              "[(0.8153295516967773, 'cupcake'),\n",
              " (0.7879170179367065, 'cookie-'),\n",
              " (0.7691606879234314, 'cookies'),\n",
              " (0.760718047618866, 'cake'),\n",
              " (0.7547473907470703, 'popover'),\n",
              " (0.7430337071418762, 'non-cookie'),\n",
              " (0.7359125018119812, 'cakepop'),\n",
              " (0.7353752255439758, 'muffin'),\n",
              " (0.7349858283996582, 'cookie.'),\n",
              " (0.7314939498901367, 'cookie.The')]"
            ]
          },
          "execution_count": 37,
          "metadata": {},
          "output_type": "execute_result"
        }
      ],
      "source": [
        "ft.get_dimension()\n",
        "ft.get_word_vector('king').shape\n",
        "\n",
        "fasttext.util.reduce_model(ft, 80)\n",
        "ft.get_dimension()\n",
        "\n",
        "\"asdasdsad\" in ft.words\n",
        "ft.get_nearest_neighbors('cookie')"
      ]
    },
    {
      "cell_type": "code",
      "execution_count": null,
      "id": "627a27f2",
      "metadata": {
        "id": "627a27f2"
      },
      "outputs": [],
      "source": [
        "import spacy"
      ]
    },
    {
      "cell_type": "code",
      "execution_count": null,
      "id": "1cfb2ecf",
      "metadata": {
        "id": "1cfb2ecf"
      },
      "outputs": [],
      "source": [
        "nlp = spacy.load('en_core_web_md')"
      ]
    },
    {
      "cell_type": "code",
      "execution_count": null,
      "id": "3196d0d2",
      "metadata": {
        "id": "3196d0d2",
        "outputId": "2b94c5c7-a116-40b8-ebb7-6269d6d4ce92"
      },
      "outputs": [
        {
          "data": {
            "text/plain": [
              "(300,)"
            ]
          },
          "execution_count": 40,
          "metadata": {},
          "output_type": "execute_result"
        }
      ],
      "source": [
        "nlp.vocab[\"old\"].vector.shape"
      ]
    },
    {
      "cell_type": "markdown",
      "id": "2c4a6ba4",
      "metadata": {
        "id": "2c4a6ba4"
      },
      "source": [
        "https://github.com/pytorch/text/issues/1350\n",
        "https://christopher5106.github.io/deep/learning/2020/04/02/fasttext_pretrained_embeddings_subword_word_representations.html"
      ]
    },
    {
      "cell_type": "code",
      "execution_count": null,
      "id": "b3356762",
      "metadata": {
        "id": "b3356762",
        "outputId": "22a997c8-f88e-49ca-d226-f9ec86517f2d"
      },
      "outputs": [
        {
          "data": {
            "text/plain": [
              "[('Quantum', 0.5923356945161),\n",
              " ('physics', 0.4987263608889812),\n",
              " ('computational', 0.4833229306372649),\n",
              " ('cosmic', 0.46287664812730667),\n",
              " ('atomic', 0.4555259364535978),\n",
              " ('atoms', 0.4543258391303013),\n",
              " ('electron', 0.4415847215404407),\n",
              " ('electromagnetic', 0.4342020722504953),\n",
              " ('optical', 0.4341506741975586),\n",
              " ('physicist', 0.43388256332181196)]"
            ]
          },
          "execution_count": 46,
          "metadata": {},
          "output_type": "execute_result"
        }
      ],
      "source": [
        "small_model.most_similar(\"quantum\")"
      ]
    },
    {
      "cell_type": "code",
      "execution_count": null,
      "id": "1f00265f",
      "metadata": {
        "id": "1f00265f"
      },
      "outputs": [],
      "source": []
    }
  ],
  "metadata": {
    "kernelspec": {
      "display_name": "Python 3 (ipykernel)",
      "language": "python",
      "name": "python3"
    },
    "language_info": {
      "codemirror_mode": {
        "name": "ipython",
        "version": 3
      },
      "file_extension": ".py",
      "mimetype": "text/x-python",
      "name": "python",
      "nbconvert_exporter": "python",
      "pygments_lexer": "ipython3",
      "version": "3.8.13"
    },
    "colab": {
      "provenance": [],
      "collapsed_sections": [
        "497fb67f"
      ]
    },
    "accelerator": "GPU"
  },
  "nbformat": 4,
  "nbformat_minor": 5
}